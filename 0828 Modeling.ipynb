{
 "cells": [
  {
   "cell_type": "markdown",
   "id": "ceee50a2",
   "metadata": {},
   "source": [
    "# 여행 상품 신청 여부 예측 경진대회\n",
    "https://dacon.io/competitions/official/235959/data\n",
    "\n",
    "\n",
    "https://tensorflow.blog/%EC%BC%80%EB%9D%BC%EC%8A%A4-%EB%94%A5%EB%9F%AC%EB%8B%9D/3-4-%EC%98%81%ED%99%94-%EB%A6%AC%EB%B7%B0-%EB%B6%84%EB%A5%98-%EC%9D%B4%EC%A7%84-%EB%B6%84%EB%A5%98-%EC%98%88%EC%A0%9C/"
   ]
  },
  {
   "cell_type": "markdown",
   "id": "8ef13340",
   "metadata": {},
   "source": [
    "### ~8/28\n",
    "- 각자 전처리한 데이터에 대해 모델 공부(3~4개) + 모델 적용까지\n",
    "- 결측치, 이상치 전처리 통일은 다음주 회의에서 진행"
   ]
  },
  {
   "cell_type": "markdown",
   "id": "12db138f",
   "metadata": {},
   "source": [
    "<br>"
   ]
  },
  {
   "cell_type": "code",
   "execution_count": 181,
   "id": "f69c6f21",
   "metadata": {},
   "outputs": [],
   "source": [
    "import pandas as pd\n",
    "import matplotlib.pyplot as plt\n",
    "import numpy as np\n",
    "import seaborn as sns"
   ]
  },
  {
   "cell_type": "markdown",
   "id": "5e79af76",
   "metadata": {},
   "source": [
    "**X**<br>\n",
    "\n",
    "id : 샘플 아이디<br>\n",
    "Age : 나이<br>\n",
    "TypeofContact : 고객의 제품 인지 방법 (회사의 홍보 or 스스로 검색)<br>\n",
    "CityTier : 주거 중인 도시의 등급. (인구, 시설, 생활 수준 기준) (1등급 > 2등급 > 3등급) <br>\n",
    "DurationOfPitch : 영업 사원이 고객에게 제공하는 프레젠테이션 기간<br>\n",
    "Occupation : 직업<br>\n",
    "Gender : 성별<br>\n",
    "NumberOfPersonVisiting : 고객과 함께 여행을 계획 중인 총 인원 **여행인원수**<br>\n",
    "NumberOfFollowups : 영업 사원의 프레젠테이션 후 이루어진 후속 조치 수<br>\n",
    "ProductPitched : 영업 사원이 제시한 상품<br>\n",
    "PreferredPropertyStar : 선호 호텔 숙박업소 등급<br>\n",
    "MaritalStatus : 결혼여부<br>\n",
    "NumberOfTrips : 평균 연간 여행 횟수<br>\n",
    "Passport : 여권 보유 여부 (0: 없음, 1: 있음)<br>\n",
    "PitchSatisfactionScore : 영업 사원의 프레젠테이션 만족도<br>\n",
    "OwnCar : 자동차 보유 여부 (0: 없음, 1: 있음)<br>\n",
    "NumberOfChildrenVisiting : 함께 여행을 계획 중인 5세 미만의 어린이 수<br>\n",
    "Designation : (직업의) 직급<br>\n",
    "MonthlyIncome : 월 급여<br>\n",
    "\n",
    "**y**<br>\n",
    "\n",
    "ProdTaken : 여행 패키지 신청 여부 (0: 신청 안 함, 1: 신청함) → test데이터에는 없음"
   ]
  },
  {
   "cell_type": "code",
   "execution_count": 182,
   "id": "4a6b209a",
   "metadata": {},
   "outputs": [],
   "source": [
    "train = pd.read_csv(\"train.csv\")\n",
    "test = pd.read_csv(\"test.csv\")\n",
    "sample_submission = pd.read_csv(\"sample_submission.csv\")"
   ]
  },
  {
   "cell_type": "markdown",
   "id": "49129716",
   "metadata": {},
   "source": [
    "<br>"
   ]
  },
  {
   "cell_type": "markdown",
   "id": "5e0541ce",
   "metadata": {},
   "source": [
    "### train 전처리"
   ]
  },
  {
   "cell_type": "code",
   "execution_count": 183,
   "id": "40981016",
   "metadata": {},
   "outputs": [],
   "source": [
    "##결측치\n",
    "# 1. Age (평균)\n",
    "train['Age'].fillna(train['Age'].mean(), inplace=True)\n",
    "# 2. TypeofContact (unknown)\n",
    "train['TypeofContact'].fillna('unknown', inplace=True)\n",
    "# 3. DurationOfPitch (최빈값)\n",
    "train['DurationOfPitch'].fillna(9, inplace=True)\n",
    "# 4. NumberOfFollowups (최빈값)\n",
    "train['NumberOfFollowups'].fillna(4, inplace=True)\n",
    "# 5. PreferredPropertyStar (최빈값)\n",
    "train['PreferredPropertyStar'].fillna(3, inplace=True)\n",
    "# 6.NumberOfTrips (평균 내림)\n",
    "train['NumberOfTrips'].fillna(3, inplace=True)\n",
    "# 7. NumberOfChildrenVisiting (최빈값)\n",
    "train['NumberOfChildrenVisiting'].fillna(1, inplace=True)\n",
    "# 8. MonthlyIncome (평균)\n",
    "train['MonthlyIncome'].fillna(train['MonthlyIncome'].mean(), inplace=True)\n",
    "\n",
    "\n",
    "##이상치\n",
    "# 1. NumberOfTrips (제일 큰 이상치 제거)\n",
    "train = train.drop(train[train['NumberOfTrips']>15].index)\n",
    "# 2. MonthlyIncome (제일 크거나 작은 이상치 제거)\n",
    "train = train.drop(train[train['MonthlyIncome']>=80000].index)\n",
    "train = train.drop(train[train['MonthlyIncome']<=13327.75].index)\n",
    "\n",
    "##문자형 변수\n",
    "# 1. Gender\n",
    "train['Gender'].replace('Fe Male', 'Female', inplace = True)\n",
    "# 2. 더미변수화\n",
    "train = pd.get_dummies(train, columns = ['TypeofContact', 'Occupation','Gender',\n",
    "                                         'ProductPitched','MaritalStatus','Designation'])\n",
    "\n",
    "# id 제거\n",
    "train = train.drop(columns=['id'])"
   ]
  },
  {
   "cell_type": "markdown",
   "id": "be4c9918",
   "metadata": {},
   "source": [
    "### test 전처리"
   ]
  },
  {
   "cell_type": "code",
   "execution_count": 184,
   "id": "668174c5",
   "metadata": {},
   "outputs": [],
   "source": [
    "##결측치\n",
    "# 1. Age (평균)\n",
    "test['Age'].fillna(test['Age'].mean(), inplace=True)\n",
    "# 2. TypeofContact (unknown)\n",
    "test['TypeofContact'].fillna('unknown', inplace=True)\n",
    "# 3. DurationOfPitch (최빈값)\n",
    "test['DurationOfPitch'].fillna(9, inplace=True)\n",
    "# 4. NumberOfFollowups (최빈값)\n",
    "test['NumberOfFollowups'].fillna(4, inplace=True)\n",
    "# 5. PreferredPropertyStar (최빈값)\n",
    "test['PreferredPropertyStar'].fillna(3, inplace=True)\n",
    "# 6.NumberOfTrips (평균 내림)\n",
    "test['NumberOfTrips'].fillna(3, inplace=True)\n",
    "# 7. NumberOfChildrenVisiting (최빈값)\n",
    "test['NumberOfChildrenVisiting'].fillna(1, inplace=True)\n",
    "# 8. MonthlyIncome (평균)\n",
    "test['MonthlyIncome'].fillna(test['MonthlyIncome'].mean(), inplace=True)\n",
    "\n",
    "\n",
    "##이상치\n",
    "# 1. NumberOfTrips (제일 큰 이상치 제거)\n",
    "test = test.drop(test[test['NumberOfTrips']>15].index)\n",
    "# 2. MonthlyIncome (제일 크거나 작은 이상치 제거)\n",
    "test = test.drop(test[test['MonthlyIncome']>=80000].index)\n",
    "test = test.drop(test[test['MonthlyIncome']<=13327.75].index)\n",
    "\n",
    "##문자형 변수\n",
    "# 1. Gender\n",
    "test['Gender'].replace('Fe Male', 'Female', inplace = True)\n",
    "# 2. 더미변수화\n",
    "test = pd.get_dummies(test, columns = ['TypeofContact', 'Occupation','Gender',\n",
    "                                         'ProductPitched','MaritalStatus','Designation'])\n",
    "\n",
    "# id 제거\n",
    "test = test.drop(columns=['id'])"
   ]
  },
  {
   "cell_type": "markdown",
   "id": "fbca16a3",
   "metadata": {},
   "source": [
    "<br>\n",
    "<br>"
   ]
  },
  {
   "cell_type": "markdown",
   "id": "17f19189",
   "metadata": {},
   "source": [
    "### <모델 공부>"
   ]
  },
  {
   "cell_type": "code",
   "execution_count": 185,
   "id": "e06d5ca3",
   "metadata": {},
   "outputs": [
    {
     "name": "stdout",
     "output_type": "stream",
     "text": [
      "(1560, 35) (391, 35) (1560, 1) (391, 1)\n"
     ]
    }
   ],
   "source": [
    "## train에서 다시 적합, 검증 모델 분리\n",
    "from sklearn.model_selection import train_test_split\n",
    "\n",
    "X = train.drop(columns=['ProdTaken'])\n",
    "y = train[['ProdTaken']]\n",
    "\n",
    "x_train, x_test, y_train, y_test = train_test_split(X, y, train_size = 0.8, test_size = 0.2, shuffle=True, random_state=42)\n",
    "\n",
    "print(x_train.shape, x_test.shape, y_train.shape, y_test.shape)"
   ]
  },
  {
   "cell_type": "markdown",
   "id": "34a4f279",
   "metadata": {},
   "source": [
    "1. 다중선형회귀\n",
    "\n",
    "> 다중 선형 회귀(Multiple Linear Regression, MLR)는 여러 개의 독립 변수와 하나의 종속 변수의 선형 관계를 모델링하는 것이다. \n",
    "> 독립 변수들을 $x_i$라고 하고, 종속 변수를 $y$라고 하면 다중 선형 회귀 식은 다음과 같다. <br>\n",
    "\n",
    "$y=W_1x_1+W_2x_2+...+W_nx_n+b$\n",
    ">1. 각각의 독립 변수는 종속 변수와의 선형 관계가 존재한다. (y=Wixiy=Wixiy = W_ix_i 그래프를 그렸을 때 직선의 형태)\n",
    ">2. 독립 변수 사이에서는 높은 수준의 상관관계가 존재하지 않아야 한다. 만약 그렇지 않다면 관계를 분석하기가 어렵다. \n",
    ">3. 추정된 종속 변수의 값과 실제 관찰된 종속 변수의 값과의 차이, 즉 잔차(residual)가 정규 분포를 이루어야 한다. "
   ]
  },
  {
   "cell_type": "code",
   "execution_count": 191,
   "id": "54d3d72e",
   "metadata": {},
   "outputs": [],
   "source": [
    "# 다중선형회귀\n",
    "from sklearn.linear_model import LinearRegression\n",
    "\n",
    "mlr = LinearRegression()\n",
    "mlr.fit(x_train, y_train)\n",
    "\n",
    "y_pred = mlr.predict(x_test)"
   ]
  },
  {
   "cell_type": "code",
   "execution_count": 192,
   "id": "5d9ebb29",
   "metadata": {},
   "outputs": [
    {
     "name": "stdout",
     "output_type": "stream",
     "text": [
      "0.22007839314041222\n"
     ]
    }
   ],
   "source": [
    "# 결정계수\n",
    "##최소제곱법을 활용한 선형회귀분석에서 종속변수의 분산 중에서 독립변수로 설명되는 비율\n",
    "print(mlr.score(x_train, y_train))"
   ]
  },
  {
   "cell_type": "code",
   "execution_count": null,
   "id": "8ea9e9ce",
   "metadata": {},
   "outputs": [],
   "source": []
  },
  {
   "cell_type": "markdown",
   "id": "7f96e386",
   "metadata": {},
   "source": [
    "2. 랜덤포레스트 회귀"
   ]
  },
  {
   "cell_type": "code",
   "execution_count": 198,
   "id": "27b664d5",
   "metadata": {},
   "outputs": [
    {
     "name": "stderr",
     "output_type": "stream",
     "text": [
      "C:\\Users\\user\\AppData\\Local\\Temp/ipykernel_9672/1386063702.py:4: DataConversionWarning: A column-vector y was passed when a 1d array was expected. Please change the shape of y to (n_samples,), for example using ravel().\n",
      "  rf_model.fit(x_train, y_train)\n"
     ]
    }
   ],
   "source": [
    "from sklearn.ensemble import RandomForestRegressor\n",
    "\n",
    "rf_model = RandomForestRegressor(random_state = 42)\n",
    "rf_model.fit(x_train, y_train)\n",
    "pred_RF = rf_model.predict(x_test)"
   ]
  },
  {
   "cell_type": "code",
   "execution_count": 201,
   "id": "8f69ac07",
   "metadata": {},
   "outputs": [
    {
     "data": {
      "text/plain": [
       "0.33893808893807187"
      ]
     },
     "execution_count": 201,
     "metadata": {},
     "output_type": "execute_result"
    }
   ],
   "source": [
    "#평균제곱근오차\n",
    "mse = np.sqrt(mean_squared_error(pred_RF, y_test))\n",
    "mse"
   ]
  },
  {
   "cell_type": "code",
   "execution_count": 204,
   "id": "7a99334f",
   "metadata": {},
   "outputs": [
    {
     "name": "stdout",
     "output_type": "stream",
     "text": [
      "Fitting 5 folds for each of 128 candidates, totalling 640 fits\n"
     ]
    },
    {
     "name": "stderr",
     "output_type": "stream",
     "text": [
      "C:\\Users\\user\\anaconda3\\lib\\site-packages\\sklearn\\model_selection\\_search.py:953: UserWarning: One or more of the test scores are non-finite: [nan nan nan nan nan nan nan nan nan nan nan nan nan nan nan nan nan nan\n",
      " nan nan nan nan nan nan nan nan nan nan nan nan nan nan nan nan nan nan\n",
      " nan nan nan nan nan nan nan nan nan nan nan nan nan nan nan nan nan nan\n",
      " nan nan nan nan nan nan nan nan nan nan nan nan nan nan nan nan nan nan\n",
      " nan nan nan nan nan nan nan nan nan nan nan nan nan nan nan nan nan nan\n",
      " nan nan nan nan nan nan nan nan nan nan nan nan nan nan nan nan nan nan\n",
      " nan nan nan nan nan nan nan nan nan nan nan nan nan nan nan nan nan nan\n",
      " nan nan]\n",
      "  warnings.warn(\n",
      "C:\\Users\\user\\anaconda3\\lib\\site-packages\\sklearn\\model_selection\\_search.py:910: DataConversionWarning: A column-vector y was passed when a 1d array was expected. Please change the shape of y to (n_samples,), for example using ravel().\n",
      "  self.best_estimator_.fit(X, y, **fit_params)\n"
     ]
    },
    {
     "name": "stdout",
     "output_type": "stream",
     "text": [
      "최고 평균 정확도 : nan\n",
      "최고의 파라미터 : {'max_depth': 6, 'min_samples_leaf': 3, 'min_samples_split': 2, 'n_estimators': 100}\n"
     ]
    }
   ],
   "source": [
    "from sklearn.model_selection import GridSearchCV\n",
    "\n",
    "grid = {\n",
    "  'n_estimators' : [100,200],\n",
    "  'max_depth' : [6,8,10,12],\n",
    "  'min_samples_leaf' : [3,5,7,10],\n",
    "  'min_samples_split' : [2,3,5,10]\n",
    "}\n",
    "\n",
    "classifier_grid = GridSearchCV(rf_model, param_grid = grid, scoring=\"accuracy\", n_jobs=-1, verbose =1)\n",
    "\n",
    "classifier_grid.fit(x_train, y_train)\n",
    "\n",
    "print(\"최고 평균 정확도 : {}\".format(classifier_grid.best_score_))\n",
    "print(\"최고의 파라미터 :\", classifier_grid.best_params_)"
   ]
  },
  {
   "cell_type": "code",
   "execution_count": null,
   "id": "eba338b3",
   "metadata": {},
   "outputs": [],
   "source": []
  },
  {
   "cell_type": "markdown",
   "id": "df030175",
   "metadata": {},
   "source": [
    "3. XGBoost\n",
    "> 여러 개의 Decision Tree를 조합해서 사용하는 앙상블 알고리즘.<br>\n",
    "> 정확도가 낮은 약한 모델을 여러 개 조합하는 방식"
   ]
  },
  {
   "cell_type": "code",
   "execution_count": 158,
   "id": "d3ed1389",
   "metadata": {},
   "outputs": [
    {
     "data": {
      "text/html": [
       "<style>#sk-container-id-2 {color: black;background-color: white;}#sk-container-id-2 pre{padding: 0;}#sk-container-id-2 div.sk-toggleable {background-color: white;}#sk-container-id-2 label.sk-toggleable__label {cursor: pointer;display: block;width: 100%;margin-bottom: 0;padding: 0.3em;box-sizing: border-box;text-align: center;}#sk-container-id-2 label.sk-toggleable__label-arrow:before {content: \"▸\";float: left;margin-right: 0.25em;color: #696969;}#sk-container-id-2 label.sk-toggleable__label-arrow:hover:before {color: black;}#sk-container-id-2 div.sk-estimator:hover label.sk-toggleable__label-arrow:before {color: black;}#sk-container-id-2 div.sk-toggleable__content {max-height: 0;max-width: 0;overflow: hidden;text-align: left;background-color: #f0f8ff;}#sk-container-id-2 div.sk-toggleable__content pre {margin: 0.2em;color: black;border-radius: 0.25em;background-color: #f0f8ff;}#sk-container-id-2 input.sk-toggleable__control:checked~div.sk-toggleable__content {max-height: 200px;max-width: 100%;overflow: auto;}#sk-container-id-2 input.sk-toggleable__control:checked~label.sk-toggleable__label-arrow:before {content: \"▾\";}#sk-container-id-2 div.sk-estimator input.sk-toggleable__control:checked~label.sk-toggleable__label {background-color: #d4ebff;}#sk-container-id-2 div.sk-label input.sk-toggleable__control:checked~label.sk-toggleable__label {background-color: #d4ebff;}#sk-container-id-2 input.sk-hidden--visually {border: 0;clip: rect(1px 1px 1px 1px);clip: rect(1px, 1px, 1px, 1px);height: 1px;margin: -1px;overflow: hidden;padding: 0;position: absolute;width: 1px;}#sk-container-id-2 div.sk-estimator {font-family: monospace;background-color: #f0f8ff;border: 1px dotted black;border-radius: 0.25em;box-sizing: border-box;margin-bottom: 0.5em;}#sk-container-id-2 div.sk-estimator:hover {background-color: #d4ebff;}#sk-container-id-2 div.sk-parallel-item::after {content: \"\";width: 100%;border-bottom: 1px solid gray;flex-grow: 1;}#sk-container-id-2 div.sk-label:hover label.sk-toggleable__label {background-color: #d4ebff;}#sk-container-id-2 div.sk-serial::before {content: \"\";position: absolute;border-left: 1px solid gray;box-sizing: border-box;top: 0;bottom: 0;left: 50%;z-index: 0;}#sk-container-id-2 div.sk-serial {display: flex;flex-direction: column;align-items: center;background-color: white;padding-right: 0.2em;padding-left: 0.2em;position: relative;}#sk-container-id-2 div.sk-item {position: relative;z-index: 1;}#sk-container-id-2 div.sk-parallel {display: flex;align-items: stretch;justify-content: center;background-color: white;position: relative;}#sk-container-id-2 div.sk-item::before, #sk-container-id-2 div.sk-parallel-item::before {content: \"\";position: absolute;border-left: 1px solid gray;box-sizing: border-box;top: 0;bottom: 0;left: 50%;z-index: -1;}#sk-container-id-2 div.sk-parallel-item {display: flex;flex-direction: column;z-index: 1;position: relative;background-color: white;}#sk-container-id-2 div.sk-parallel-item:first-child::after {align-self: flex-end;width: 50%;}#sk-container-id-2 div.sk-parallel-item:last-child::after {align-self: flex-start;width: 50%;}#sk-container-id-2 div.sk-parallel-item:only-child::after {width: 0;}#sk-container-id-2 div.sk-dashed-wrapped {border: 1px dashed gray;margin: 0 0.4em 0.5em 0.4em;box-sizing: border-box;padding-bottom: 0.4em;background-color: white;}#sk-container-id-2 div.sk-label label {font-family: monospace;font-weight: bold;display: inline-block;line-height: 1.2em;}#sk-container-id-2 div.sk-label-container {text-align: center;}#sk-container-id-2 div.sk-container {/* jupyter's `normalize.less` sets `[hidden] { display: none; }` but bootstrap.min.css set `[hidden] { display: none !important; }` so we also need the `!important` here to be able to override the default hidden behavior on the sphinx rendered scikit-learn.org. See: https://github.com/scikit-learn/scikit-learn/issues/21755 */display: inline-block !important;position: relative;}#sk-container-id-2 div.sk-text-repr-fallback {display: none;}</style><div id=\"sk-container-id-2\" class=\"sk-top-container\"><div class=\"sk-text-repr-fallback\"><pre>XGBRegressor(base_score=0.5, booster=&#x27;gbtree&#x27;, colsample_bylevel=1,\n",
       "             colsample_bynode=1, colsample_bytree=1, enable_categorical=False,\n",
       "             gamma=0, gpu_id=-1, importance_type=None,\n",
       "             interaction_constraints=&#x27;&#x27;, learning_rate=0.300000012,\n",
       "             max_delta_step=0, max_depth=6, min_child_weight=1, missing=nan,\n",
       "             monotone_constraints=&#x27;()&#x27;, n_estimators=100, n_jobs=8,\n",
       "             num_parallel_tree=1, predictor=&#x27;auto&#x27;, random_state=0, reg_alpha=0,\n",
       "             reg_lambda=1, scale_pos_weight=1, subsample=1, tree_method=&#x27;exact&#x27;,\n",
       "             validate_parameters=1, verbosity=None)</pre><b>In a Jupyter environment, please rerun this cell to show the HTML representation or trust the notebook. <br />On GitHub, the HTML representation is unable to render, please try loading this page with nbviewer.org.</b></div><div class=\"sk-container\" hidden><div class=\"sk-item\"><div class=\"sk-estimator sk-toggleable\"><input class=\"sk-toggleable__control sk-hidden--visually\" id=\"sk-estimator-id-2\" type=\"checkbox\" checked><label for=\"sk-estimator-id-2\" class=\"sk-toggleable__label sk-toggleable__label-arrow\">XGBRegressor</label><div class=\"sk-toggleable__content\"><pre>XGBRegressor(base_score=0.5, booster=&#x27;gbtree&#x27;, colsample_bylevel=1,\n",
       "             colsample_bynode=1, colsample_bytree=1, enable_categorical=False,\n",
       "             gamma=0, gpu_id=-1, importance_type=None,\n",
       "             interaction_constraints=&#x27;&#x27;, learning_rate=0.300000012,\n",
       "             max_delta_step=0, max_depth=6, min_child_weight=1, missing=nan,\n",
       "             monotone_constraints=&#x27;()&#x27;, n_estimators=100, n_jobs=8,\n",
       "             num_parallel_tree=1, predictor=&#x27;auto&#x27;, random_state=0, reg_alpha=0,\n",
       "             reg_lambda=1, scale_pos_weight=1, subsample=1, tree_method=&#x27;exact&#x27;,\n",
       "             validate_parameters=1, verbosity=None)</pre></div></div></div></div></div>"
      ],
      "text/plain": [
       "XGBRegressor(base_score=0.5, booster='gbtree', colsample_bylevel=1,\n",
       "             colsample_bynode=1, colsample_bytree=1, enable_categorical=False,\n",
       "             gamma=0, gpu_id=-1, importance_type=None,\n",
       "             interaction_constraints='', learning_rate=0.300000012,\n",
       "             max_delta_step=0, max_depth=6, min_child_weight=1, missing=nan,\n",
       "             monotone_constraints='()', n_estimators=100, n_jobs=8,\n",
       "             num_parallel_tree=1, predictor='auto', random_state=0, reg_alpha=0,\n",
       "             reg_lambda=1, scale_pos_weight=1, subsample=1, tree_method='exact',\n",
       "             validate_parameters=1, verbosity=None)"
      ]
     },
     "execution_count": 158,
     "metadata": {},
     "output_type": "execute_result"
    }
   ],
   "source": [
    "import xgboost\n",
    "\n",
    "xgb_model = xgboost.XGBRegressor()\n",
    "xgb_model.fit(x_train, y_train)"
   ]
  },
  {
   "cell_type": "code",
   "execution_count": 159,
   "id": "bf0e90a5",
   "metadata": {},
   "outputs": [
    {
     "data": {
      "text/plain": [
       "<AxesSubplot:title={'center':'Feature importance'}, xlabel='F score', ylabel='Features'>"
      ]
     },
     "execution_count": 159,
     "metadata": {},
     "output_type": "execute_result"
    },
    {
     "data": {
      "image/png": "[encoded data removed]",
      "text/plain": [
       "<Figure size 432x288 with 1 Axes>"
      ]
     },
     "metadata": {
      "needs_background": "light"
     },
     "output_type": "display_data"
    }
   ],
   "source": [
    "xgboost.plot_importance(xgb_model)"
   ]
  },
  {
   "cell_type": "code",
   "execution_count": 161,
   "id": "13afd9c1",
   "metadata": {},
   "outputs": [],
   "source": [
    "pred_xgby = xgb_model.predict(test)"
   ]
  },
  {
   "cell_type": "code",
   "execution_count": null,
   "id": "96b174c8",
   "metadata": {},
   "outputs": [],
   "source": []
  },
  {
   "cell_type": "code",
   "execution_count": null,
   "id": "86114705",
   "metadata": {},
   "outputs": [],
   "source": []
  },
  {
   "cell_type": "code",
   "execution_count": null,
   "id": "0b2005f8",
   "metadata": {},
   "outputs": [],
   "source": []
  },
  {
   "cell_type": "code",
   "execution_count": null,
   "id": "49031261",
   "metadata": {},
   "outputs": [],
   "source": []
  },
  {
   "cell_type": "code",
   "execution_count": null,
   "id": "7957a790",
   "metadata": {},
   "outputs": [],
   "source": []
  },
  {
   "cell_type": "markdown",
   "id": "21de0979",
   "metadata": {},
   "source": [
    "<br>"
   ]
  }
 ],
 "metadata": {
  "kernelspec": {
   "display_name": "Python 3 (ipykernel)",
   "language": "python",
   "name": "python3"
  },
  "language_info": {
   "codemirror_mode": {
    "name": "ipython",
    "version": 3
   },
   "file_extension": ".py",
   "mimetype": "text/x-python",
   "name": "python",
   "nbconvert_exporter": "python",
   "pygments_lexer": "ipython3",
   "version": "3.9.7"
  },
  "toc": {
   "base_numbering": 1,
   "nav_menu": {},
   "number_sections": false,
   "sideBar": true,
   "skip_h1_title": false,
   "title_cell": "Table of Contents",
   "title_sidebar": "Contents",
   "toc_cell": false,
   "toc_position": {
    "height": "calc(100% - 180px)",
    "left": "10px",
    "top": "150px",
    "width": "303.837px"
   },
   "toc_section_display": true,
   "toc_window_display": false
  }
 },
 "nbformat": 4,
 "nbformat_minor": 5
}
