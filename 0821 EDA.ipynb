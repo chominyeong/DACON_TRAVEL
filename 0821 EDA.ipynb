{
 "cells": [
  {
   "cell_type": "markdown",
   "id": "ceee50a2",
   "metadata": {},
   "source": [
    "# 여행 상품 신청 여부 예측 경진대회\n",
    "https://dacon.io/competitions/official/235959/data"
   ]
  },
  {
   "cell_type": "markdown",
   "id": "8ef13340",
   "metadata": {},
   "source": [
    "### ~8/21\n",
    "EDA (이상치,결측치 처리)"
   ]
  },
  {
   "cell_type": "markdown",
   "id": "12db138f",
   "metadata": {},
   "source": [
    "<br>"
   ]
  },
  {
   "cell_type": "code",
   "execution_count": 1,
   "id": "f69c6f21",
   "metadata": {},
   "outputs": [],
   "source": [
    "import pandas as pd\n",
    "import matplotlib.pyplot as plt\n",
    "import numpy as np\n",
    "import seaborn as sns"
   ]
  },
  {
   "cell_type": "markdown",
   "id": "3e843dde",
   "metadata": {},
   "source": [
    "<br>"
   ]
  },
  {
   "cell_type": "markdown",
   "id": "14f6a4b6",
   "metadata": {},
   "source": [
    "### <컬럼 확인>"
   ]
  },
  {
   "cell_type": "markdown",
   "id": "5e79af76",
   "metadata": {},
   "source": [
    "**train 데이터**<br>\n",
    "\n",
    "id : 샘플 아이디<br>\n",
    "Age : 나이<br>\n",
    "TypeofContact : 고객의 제품 인지 방법 (회사의 홍보 or 스스로 검색)<br>\n",
    "CityTier : 주거 중인 도시의 등급. (인구, 시설, 생활 수준 기준) (1등급 > 2등급 > 3등급) <br>\n",
    "DurationOfPitch : 영업 사원이 고객에게 제공하는 프레젠테이션 기간<br>\n",
    "Occupation : 직업<br>\n",
    "Gender : 성별<br>\n",
    "NumberOfPersonVisiting : 고객과 함께 여행을 계획 중인 총 인원 **여행인원수**<br>\n",
    "NumberOfFollowups : 영업 사원의 프레젠테이션 후 이루어진 후속 조치 수<br>\n",
    "ProductPitched : 영업 사원이 제시한 상품<br>\n",
    "PreferredPropertyStar : 선호 호텔 숙박업소 등급<br>\n",
    "MaritalStatus : 결혼여부<br>\n",
    "NumberOfTrips : 평균 연간 여행 횟수<br>\n",
    "Passport : 여권 보유 여부 (0: 없음, 1: 있음)<br>\n",
    "PitchSatisfactionScore : 영업 사원의 프레젠테이션 만족도<br>\n",
    "OwnCar : 자동차 보유 여부 (0: 없음, 1: 있음)<br>\n",
    "NumberOfChildrenVisiting : 함께 여행을 계획 중인 5세 미만의 어린이 수<br>\n",
    "Designation : (직업의) 직급<br>\n",
    "MonthlyIncome : 월 급여<br>\n",
    "ProdTaken : 여행 패키지 신청 여부 (0: 신청 안 함, 1: 신청함) → test데이터에는 없음\n",
    "\n",
    "\n",
    "\n",
    "\n",
    "**sample_submission.csv : 제출 양식**<br>\n",
    "id : 샘플 아이디<br>\n",
    "ProdTaken : 여행 패키지 신청 여부 (0: 신청 안 함, 1: 신청함)"
   ]
  },
  {
   "cell_type": "code",
   "execution_count": 2,
   "id": "4a6b209a",
   "metadata": {},
   "outputs": [],
   "source": [
    "train = pd.read_csv(\"train.csv\")\n",
    "test = pd.read_csv(\"test.csv\")\n",
    "sample_submission = pd.read_csv(\"sample_submission.csv\")"
   ]
  },
  {
   "cell_type": "code",
   "execution_count": 3,
   "id": "769d85b7",
   "metadata": {},
   "outputs": [
    {
     "data": {
      "text/html": [
       "<div>\n",
       "<style scoped>\n",
       "    .dataframe tbody tr th:only-of-type {\n",
       "        vertical-align: middle;\n",
       "    }\n",
       "\n",
       "    .dataframe tbody tr th {\n",
       "        vertical-align: top;\n",
       "    }\n",
       "\n",
       "    .dataframe thead th {\n",
       "        text-align: right;\n",
       "    }\n",
       "</style>\n",
       "<table border=\"1\" class=\"dataframe\">\n",
       "  <thead>\n",
       "    <tr style=\"text-align: right;\">\n",
       "      <th></th>\n",
       "      <th>id</th>\n",
       "      <th>Age</th>\n",
       "      <th>TypeofContact</th>\n",
       "      <th>CityTier</th>\n",
       "      <th>DurationOfPitch</th>\n",
       "      <th>Occupation</th>\n",
       "      <th>Gender</th>\n",
       "      <th>NumberOfPersonVisiting</th>\n",
       "      <th>NumberOfFollowups</th>\n",
       "      <th>ProductPitched</th>\n",
       "      <th>PreferredPropertyStar</th>\n",
       "      <th>MaritalStatus</th>\n",
       "      <th>NumberOfTrips</th>\n",
       "      <th>Passport</th>\n",
       "      <th>PitchSatisfactionScore</th>\n",
       "      <th>OwnCar</th>\n",
       "      <th>NumberOfChildrenVisiting</th>\n",
       "      <th>Designation</th>\n",
       "      <th>MonthlyIncome</th>\n",
       "      <th>ProdTaken</th>\n",
       "    </tr>\n",
       "  </thead>\n",
       "  <tbody>\n",
       "    <tr>\n",
       "      <th>0</th>\n",
       "      <td>1</td>\n",
       "      <td>28.0</td>\n",
       "      <td>Company Invited</td>\n",
       "      <td>1</td>\n",
       "      <td>10.0</td>\n",
       "      <td>Small Business</td>\n",
       "      <td>Male</td>\n",
       "      <td>3</td>\n",
       "      <td>4.0</td>\n",
       "      <td>Basic</td>\n",
       "      <td>3.0</td>\n",
       "      <td>Married</td>\n",
       "      <td>3.0</td>\n",
       "      <td>0</td>\n",
       "      <td>1</td>\n",
       "      <td>0</td>\n",
       "      <td>1.0</td>\n",
       "      <td>Executive</td>\n",
       "      <td>20384.0</td>\n",
       "      <td>0</td>\n",
       "    </tr>\n",
       "    <tr>\n",
       "      <th>1</th>\n",
       "      <td>2</td>\n",
       "      <td>34.0</td>\n",
       "      <td>Self Enquiry</td>\n",
       "      <td>3</td>\n",
       "      <td>NaN</td>\n",
       "      <td>Small Business</td>\n",
       "      <td>Female</td>\n",
       "      <td>2</td>\n",
       "      <td>4.0</td>\n",
       "      <td>Deluxe</td>\n",
       "      <td>4.0</td>\n",
       "      <td>Single</td>\n",
       "      <td>1.0</td>\n",
       "      <td>1</td>\n",
       "      <td>5</td>\n",
       "      <td>1</td>\n",
       "      <td>0.0</td>\n",
       "      <td>Manager</td>\n",
       "      <td>19599.0</td>\n",
       "      <td>1</td>\n",
       "    </tr>\n",
       "    <tr>\n",
       "      <th>2</th>\n",
       "      <td>3</td>\n",
       "      <td>45.0</td>\n",
       "      <td>Company Invited</td>\n",
       "      <td>1</td>\n",
       "      <td>NaN</td>\n",
       "      <td>Salaried</td>\n",
       "      <td>Male</td>\n",
       "      <td>2</td>\n",
       "      <td>3.0</td>\n",
       "      <td>Deluxe</td>\n",
       "      <td>4.0</td>\n",
       "      <td>Married</td>\n",
       "      <td>2.0</td>\n",
       "      <td>0</td>\n",
       "      <td>4</td>\n",
       "      <td>1</td>\n",
       "      <td>0.0</td>\n",
       "      <td>Manager</td>\n",
       "      <td>NaN</td>\n",
       "      <td>0</td>\n",
       "    </tr>\n",
       "    <tr>\n",
       "      <th>3</th>\n",
       "      <td>4</td>\n",
       "      <td>29.0</td>\n",
       "      <td>Company Invited</td>\n",
       "      <td>1</td>\n",
       "      <td>7.0</td>\n",
       "      <td>Small Business</td>\n",
       "      <td>Male</td>\n",
       "      <td>3</td>\n",
       "      <td>5.0</td>\n",
       "      <td>Basic</td>\n",
       "      <td>4.0</td>\n",
       "      <td>Married</td>\n",
       "      <td>3.0</td>\n",
       "      <td>0</td>\n",
       "      <td>4</td>\n",
       "      <td>0</td>\n",
       "      <td>1.0</td>\n",
       "      <td>Executive</td>\n",
       "      <td>21274.0</td>\n",
       "      <td>1</td>\n",
       "    </tr>\n",
       "    <tr>\n",
       "      <th>4</th>\n",
       "      <td>5</td>\n",
       "      <td>42.0</td>\n",
       "      <td>Self Enquiry</td>\n",
       "      <td>3</td>\n",
       "      <td>6.0</td>\n",
       "      <td>Salaried</td>\n",
       "      <td>Male</td>\n",
       "      <td>2</td>\n",
       "      <td>3.0</td>\n",
       "      <td>Deluxe</td>\n",
       "      <td>3.0</td>\n",
       "      <td>Divorced</td>\n",
       "      <td>2.0</td>\n",
       "      <td>0</td>\n",
       "      <td>3</td>\n",
       "      <td>1</td>\n",
       "      <td>0.0</td>\n",
       "      <td>Manager</td>\n",
       "      <td>19907.0</td>\n",
       "      <td>0</td>\n",
       "    </tr>\n",
       "  </tbody>\n",
       "</table>\n",
       "</div>"
      ],
      "text/plain": [
       "   id   Age    TypeofContact  CityTier  DurationOfPitch      Occupation  \\\n",
       "0   1  28.0  Company Invited         1             10.0  Small Business   \n",
       "1   2  34.0     Self Enquiry         3              NaN  Small Business   \n",
       "2   3  45.0  Company Invited         1              NaN        Salaried   \n",
       "3   4  29.0  Company Invited         1              7.0  Small Business   \n",
       "4   5  42.0     Self Enquiry         3              6.0        Salaried   \n",
       "\n",
       "   Gender  NumberOfPersonVisiting  NumberOfFollowups ProductPitched  \\\n",
       "0    Male                       3                4.0          Basic   \n",
       "1  Female                       2                4.0         Deluxe   \n",
       "2    Male                       2                3.0         Deluxe   \n",
       "3    Male                       3                5.0          Basic   \n",
       "4    Male                       2                3.0         Deluxe   \n",
       "\n",
       "   PreferredPropertyStar MaritalStatus  NumberOfTrips  Passport  \\\n",
       "0                    3.0       Married            3.0         0   \n",
       "1                    4.0        Single            1.0         1   \n",
       "2                    4.0       Married            2.0         0   \n",
       "3                    4.0       Married            3.0         0   \n",
       "4                    3.0      Divorced            2.0         0   \n",
       "\n",
       "   PitchSatisfactionScore  OwnCar  NumberOfChildrenVisiting Designation  \\\n",
       "0                       1       0                       1.0   Executive   \n",
       "1                       5       1                       0.0     Manager   \n",
       "2                       4       1                       0.0     Manager   \n",
       "3                       4       0                       1.0   Executive   \n",
       "4                       3       1                       0.0     Manager   \n",
       "\n",
       "   MonthlyIncome  ProdTaken  \n",
       "0        20384.0          0  \n",
       "1        19599.0          1  \n",
       "2            NaN          0  \n",
       "3        21274.0          1  \n",
       "4        19907.0          0  "
      ]
     },
     "execution_count": 3,
     "metadata": {},
     "output_type": "execute_result"
    }
   ],
   "source": [
    "train.head()"
   ]
  },
  {
   "cell_type": "code",
   "execution_count": 4,
   "id": "96747d41",
   "metadata": {},
   "outputs": [
    {
     "data": {
      "text/html": [
       "<div>\n",
       "<style scoped>\n",
       "    .dataframe tbody tr th:only-of-type {\n",
       "        vertical-align: middle;\n",
       "    }\n",
       "\n",
       "    .dataframe tbody tr th {\n",
       "        vertical-align: top;\n",
       "    }\n",
       "\n",
       "    .dataframe thead th {\n",
       "        text-align: right;\n",
       "    }\n",
       "</style>\n",
       "<table border=\"1\" class=\"dataframe\">\n",
       "  <thead>\n",
       "    <tr style=\"text-align: right;\">\n",
       "      <th></th>\n",
       "      <th>count</th>\n",
       "      <th>mean</th>\n",
       "      <th>std</th>\n",
       "      <th>min</th>\n",
       "      <th>25%</th>\n",
       "      <th>50%</th>\n",
       "      <th>75%</th>\n",
       "      <th>max</th>\n",
       "    </tr>\n",
       "  </thead>\n",
       "  <tbody>\n",
       "    <tr>\n",
       "      <th>id</th>\n",
       "      <td>1955.0</td>\n",
       "      <td>978.000000</td>\n",
       "      <td>564.504207</td>\n",
       "      <td>1.0</td>\n",
       "      <td>489.5</td>\n",
       "      <td>978.0</td>\n",
       "      <td>1466.5</td>\n",
       "      <td>1955.0</td>\n",
       "    </tr>\n",
       "    <tr>\n",
       "      <th>Age</th>\n",
       "      <td>1861.0</td>\n",
       "      <td>37.462117</td>\n",
       "      <td>9.189948</td>\n",
       "      <td>18.0</td>\n",
       "      <td>31.0</td>\n",
       "      <td>36.0</td>\n",
       "      <td>43.0</td>\n",
       "      <td>61.0</td>\n",
       "    </tr>\n",
       "    <tr>\n",
       "      <th>CityTier</th>\n",
       "      <td>1955.0</td>\n",
       "      <td>1.641432</td>\n",
       "      <td>0.908744</td>\n",
       "      <td>1.0</td>\n",
       "      <td>1.0</td>\n",
       "      <td>1.0</td>\n",
       "      <td>3.0</td>\n",
       "      <td>3.0</td>\n",
       "    </tr>\n",
       "    <tr>\n",
       "      <th>DurationOfPitch</th>\n",
       "      <td>1853.0</td>\n",
       "      <td>15.524015</td>\n",
       "      <td>8.150057</td>\n",
       "      <td>5.0</td>\n",
       "      <td>9.0</td>\n",
       "      <td>14.0</td>\n",
       "      <td>20.0</td>\n",
       "      <td>36.0</td>\n",
       "    </tr>\n",
       "    <tr>\n",
       "      <th>NumberOfPersonVisiting</th>\n",
       "      <td>1955.0</td>\n",
       "      <td>2.922762</td>\n",
       "      <td>0.712276</td>\n",
       "      <td>1.0</td>\n",
       "      <td>2.0</td>\n",
       "      <td>3.0</td>\n",
       "      <td>3.0</td>\n",
       "      <td>5.0</td>\n",
       "    </tr>\n",
       "    <tr>\n",
       "      <th>NumberOfFollowups</th>\n",
       "      <td>1942.0</td>\n",
       "      <td>3.718332</td>\n",
       "      <td>1.004095</td>\n",
       "      <td>1.0</td>\n",
       "      <td>3.0</td>\n",
       "      <td>4.0</td>\n",
       "      <td>4.0</td>\n",
       "      <td>6.0</td>\n",
       "    </tr>\n",
       "    <tr>\n",
       "      <th>PreferredPropertyStar</th>\n",
       "      <td>1945.0</td>\n",
       "      <td>3.568638</td>\n",
       "      <td>0.793196</td>\n",
       "      <td>3.0</td>\n",
       "      <td>3.0</td>\n",
       "      <td>3.0</td>\n",
       "      <td>4.0</td>\n",
       "      <td>5.0</td>\n",
       "    </tr>\n",
       "    <tr>\n",
       "      <th>NumberOfTrips</th>\n",
       "      <td>1898.0</td>\n",
       "      <td>3.255532</td>\n",
       "      <td>1.814698</td>\n",
       "      <td>1.0</td>\n",
       "      <td>2.0</td>\n",
       "      <td>3.0</td>\n",
       "      <td>4.0</td>\n",
       "      <td>19.0</td>\n",
       "    </tr>\n",
       "    <tr>\n",
       "      <th>Passport</th>\n",
       "      <td>1955.0</td>\n",
       "      <td>0.291049</td>\n",
       "      <td>0.454362</td>\n",
       "      <td>0.0</td>\n",
       "      <td>0.0</td>\n",
       "      <td>0.0</td>\n",
       "      <td>1.0</td>\n",
       "      <td>1.0</td>\n",
       "    </tr>\n",
       "    <tr>\n",
       "      <th>PitchSatisfactionScore</th>\n",
       "      <td>1955.0</td>\n",
       "      <td>3.067519</td>\n",
       "      <td>1.372915</td>\n",
       "      <td>1.0</td>\n",
       "      <td>2.0</td>\n",
       "      <td>3.0</td>\n",
       "      <td>4.0</td>\n",
       "      <td>5.0</td>\n",
       "    </tr>\n",
       "    <tr>\n",
       "      <th>OwnCar</th>\n",
       "      <td>1955.0</td>\n",
       "      <td>0.619437</td>\n",
       "      <td>0.485649</td>\n",
       "      <td>0.0</td>\n",
       "      <td>0.0</td>\n",
       "      <td>1.0</td>\n",
       "      <td>1.0</td>\n",
       "      <td>1.0</td>\n",
       "    </tr>\n",
       "    <tr>\n",
       "      <th>NumberOfChildrenVisiting</th>\n",
       "      <td>1928.0</td>\n",
       "      <td>1.213174</td>\n",
       "      <td>0.859450</td>\n",
       "      <td>0.0</td>\n",
       "      <td>1.0</td>\n",
       "      <td>1.0</td>\n",
       "      <td>2.0</td>\n",
       "      <td>3.0</td>\n",
       "    </tr>\n",
       "    <tr>\n",
       "      <th>MonthlyIncome</th>\n",
       "      <td>1855.0</td>\n",
       "      <td>23624.108895</td>\n",
       "      <td>5640.482258</td>\n",
       "      <td>1000.0</td>\n",
       "      <td>20390.0</td>\n",
       "      <td>22295.0</td>\n",
       "      <td>25558.0</td>\n",
       "      <td>98678.0</td>\n",
       "    </tr>\n",
       "    <tr>\n",
       "      <th>ProdTaken</th>\n",
       "      <td>1955.0</td>\n",
       "      <td>0.195908</td>\n",
       "      <td>0.397000</td>\n",
       "      <td>0.0</td>\n",
       "      <td>0.0</td>\n",
       "      <td>0.0</td>\n",
       "      <td>0.0</td>\n",
       "      <td>1.0</td>\n",
       "    </tr>\n",
       "  </tbody>\n",
       "</table>\n",
       "</div>"
      ],
      "text/plain": [
       "                           count          mean          std     min      25%  \\\n",
       "id                        1955.0    978.000000   564.504207     1.0    489.5   \n",
       "Age                       1861.0     37.462117     9.189948    18.0     31.0   \n",
       "CityTier                  1955.0      1.641432     0.908744     1.0      1.0   \n",
       "DurationOfPitch           1853.0     15.524015     8.150057     5.0      9.0   \n",
       "NumberOfPersonVisiting    1955.0      2.922762     0.712276     1.0      2.0   \n",
       "NumberOfFollowups         1942.0      3.718332     1.004095     1.0      3.0   \n",
       "PreferredPropertyStar     1945.0      3.568638     0.793196     3.0      3.0   \n",
       "NumberOfTrips             1898.0      3.255532     1.814698     1.0      2.0   \n",
       "Passport                  1955.0      0.291049     0.454362     0.0      0.0   \n",
       "PitchSatisfactionScore    1955.0      3.067519     1.372915     1.0      2.0   \n",
       "OwnCar                    1955.0      0.619437     0.485649     0.0      0.0   \n",
       "NumberOfChildrenVisiting  1928.0      1.213174     0.859450     0.0      1.0   \n",
       "MonthlyIncome             1855.0  23624.108895  5640.482258  1000.0  20390.0   \n",
       "ProdTaken                 1955.0      0.195908     0.397000     0.0      0.0   \n",
       "\n",
       "                              50%      75%      max  \n",
       "id                          978.0   1466.5   1955.0  \n",
       "Age                          36.0     43.0     61.0  \n",
       "CityTier                      1.0      3.0      3.0  \n",
       "DurationOfPitch              14.0     20.0     36.0  \n",
       "NumberOfPersonVisiting        3.0      3.0      5.0  \n",
       "NumberOfFollowups             4.0      4.0      6.0  \n",
       "PreferredPropertyStar         3.0      4.0      5.0  \n",
       "NumberOfTrips                 3.0      4.0     19.0  \n",
       "Passport                      0.0      1.0      1.0  \n",
       "PitchSatisfactionScore        3.0      4.0      5.0  \n",
       "OwnCar                        1.0      1.0      1.0  \n",
       "NumberOfChildrenVisiting      1.0      2.0      3.0  \n",
       "MonthlyIncome             22295.0  25558.0  98678.0  \n",
       "ProdTaken                     0.0      0.0      1.0  "
      ]
     },
     "execution_count": 4,
     "metadata": {},
     "output_type": "execute_result"
    }
   ],
   "source": [
    "train.describe().T"
   ]
  },
  {
   "cell_type": "markdown",
   "id": "36b0d7e5",
   "metadata": {},
   "source": [
    "<br>"
   ]
  },
  {
   "cell_type": "markdown",
   "id": "1a380acd",
   "metadata": {},
   "source": [
    "### <결측치 처리>"
   ]
  },
  {
   "cell_type": "code",
   "execution_count": 5,
   "id": "34b6ceab",
   "metadata": {},
   "outputs": [
    {
     "data": {
      "text/plain": [
       "id                            0\n",
       "Age                          94\n",
       "TypeofContact                10\n",
       "CityTier                      0\n",
       "DurationOfPitch             102\n",
       "Occupation                    0\n",
       "Gender                        0\n",
       "NumberOfPersonVisiting        0\n",
       "NumberOfFollowups            13\n",
       "ProductPitched                0\n",
       "PreferredPropertyStar        10\n",
       "MaritalStatus                 0\n",
       "NumberOfTrips                57\n",
       "Passport                      0\n",
       "PitchSatisfactionScore        0\n",
       "OwnCar                        0\n",
       "NumberOfChildrenVisiting     27\n",
       "Designation                   0\n",
       "MonthlyIncome               100\n",
       "ProdTaken                     0\n",
       "dtype: int64"
      ]
     },
     "execution_count": 5,
     "metadata": {},
     "output_type": "execute_result"
    }
   ],
   "source": [
    "train.isnull().sum()"
   ]
  },
  {
   "cell_type": "markdown",
   "id": "3edc6c32",
   "metadata": {},
   "source": [
    "<br>"
   ]
  },
  {
   "cell_type": "markdown",
   "id": "0fcad265",
   "metadata": {},
   "source": [
    "1. *Age 나이* → **평균**으로 채우기<br>\n",
    "결측치 수 : 94"
   ]
  },
  {
   "cell_type": "code",
   "execution_count": 6,
   "id": "40981016",
   "metadata": {},
   "outputs": [],
   "source": [
    "train['Age'].fillna(train['Age'].mean(), inplace=True)"
   ]
  },
  {
   "cell_type": "markdown",
   "id": "1821619a",
   "metadata": {},
   "source": [
    "<br>"
   ]
  },
  {
   "cell_type": "markdown",
   "id": "6aa68f1f",
   "metadata": {},
   "source": [
    "2. *TypeofContact 고객의 제품인지 방법* → **unknown**으로 채우기<br>\n",
    "결측치 수 : 10<br>\n",
    ">스스로 검색 1379<br>\n",
    ">회사 홍보 566"
   ]
  },
  {
   "cell_type": "code",
   "execution_count": 7,
   "id": "add93f7d",
   "metadata": {},
   "outputs": [
    {
     "data": {
      "text/plain": [
       "Self Enquiry       1379\n",
       "Company Invited     566\n",
       "Name: TypeofContact, dtype: int64"
      ]
     },
     "execution_count": 7,
     "metadata": {},
     "output_type": "execute_result"
    }
   ],
   "source": [
    "train['TypeofContact'].value_counts()"
   ]
  },
  {
   "cell_type": "code",
   "execution_count": 8,
   "id": "c83c885f",
   "metadata": {},
   "outputs": [],
   "source": [
    "train['TypeofContact'].fillna('unknown', inplace=True)"
   ]
  },
  {
   "cell_type": "markdown",
   "id": "eb375487",
   "metadata": {},
   "source": [
    "<br>"
   ]
  },
  {
   "cell_type": "markdown",
   "id": "620f4c23",
   "metadata": {},
   "source": [
    "3. *DurationOfPitch 영업 사원이 고객에게 제공하는 프레젠테이션 기간* → **평균에서 내림**으로 채우기<br>\n",
    "결측치 수 : 102"
   ]
  },
  {
   "cell_type": "code",
   "execution_count": 9,
   "id": "57e6fb4f",
   "metadata": {},
   "outputs": [
    {
     "name": "stdout",
     "output_type": "stream",
     "text": [
      "최빈값 : 0    9.0\n",
      "dtype: float64 \n",
      " 평균 : 15.524015110631408\n"
     ]
    }
   ],
   "source": [
    "print(\"최빈값 :\",train['DurationOfPitch'].mode(),\"\\n\",\"평균 :\", train['DurationOfPitch'].mean())"
   ]
  },
  {
   "cell_type": "code",
   "execution_count": 10,
   "id": "47f7123d",
   "metadata": {},
   "outputs": [],
   "source": [
    "train['DurationOfPitch'].fillna(15, inplace=True)"
   ]
  },
  {
   "cell_type": "markdown",
   "id": "8848abbe",
   "metadata": {},
   "source": [
    "<br>"
   ]
  },
  {
   "cell_type": "markdown",
   "id": "64a6c43e",
   "metadata": {},
   "source": [
    "4. *NumberOfFollowups 영업 사원의 프레젠테이션 후 이루어진 후속 조치 수* → **최빈값**으로 채우기<br>\n",
    "결측치 수 : 13"
   ]
  },
  {
   "cell_type": "code",
   "execution_count": 11,
   "id": "d39abcd2",
   "metadata": {},
   "outputs": [
    {
     "name": "stdout",
     "output_type": "stream",
     "text": [
      "최빈값 : 0    4.0\n",
      "dtype: float64 \n",
      " 평균 : 3.718331616889804\n"
     ]
    }
   ],
   "source": [
    "print(\"최빈값 :\",train['NumberOfFollowups'].mode(),\"\\n\",\"평균 :\", train['NumberOfFollowups'].mean())"
   ]
  },
  {
   "cell_type": "code",
   "execution_count": 12,
   "id": "6af27068",
   "metadata": {},
   "outputs": [],
   "source": [
    "train['NumberOfFollowups'].fillna(4, inplace=True)"
   ]
  },
  {
   "cell_type": "markdown",
   "id": "01cb1186",
   "metadata": {},
   "source": [
    "<br>"
   ]
  },
  {
   "cell_type": "markdown",
   "id": "b2f84ad3",
   "metadata": {},
   "source": [
    "5. *PreferredPropertyStar 선호 호텔 숙박업소 등급* → **최빈값**으로 채우기<br>\n",
    "결측치 수 : 10"
   ]
  },
  {
   "cell_type": "code",
   "execution_count": 13,
   "id": "04bdb86d",
   "metadata": {},
   "outputs": [
    {
     "name": "stdout",
     "output_type": "stream",
     "text": [
      "최빈값 : 0    3.0\n",
      "dtype: float64 \n",
      " 평균 : 3.568637532133676\n"
     ]
    }
   ],
   "source": [
    "print(\"최빈값 :\",train['PreferredPropertyStar'].mode(),\"\\n\",\"평균 :\", train['PreferredPropertyStar'].mean())"
   ]
  },
  {
   "cell_type": "code",
   "execution_count": 14,
   "id": "b54ec6a7",
   "metadata": {},
   "outputs": [],
   "source": [
    "train['PreferredPropertyStar'].fillna(3, inplace=True)"
   ]
  },
  {
   "cell_type": "markdown",
   "id": "70361307",
   "metadata": {},
   "source": [
    "<br>"
   ]
  },
  {
   "cell_type": "markdown",
   "id": "d5aa3cea",
   "metadata": {},
   "source": [
    "6. *NumberOfTrips 평균 연간 여행 횟수* → **평균에서 내림**으로 채우기<br>\n",
    "결측치 수 : 57"
   ]
  },
  {
   "cell_type": "code",
   "execution_count": 15,
   "id": "fecbc081",
   "metadata": {},
   "outputs": [
    {
     "name": "stdout",
     "output_type": "stream",
     "text": [
      "최빈값 : 0    2.0\n",
      "dtype: float64 \n",
      " 평균 : 3.255532139093783\n"
     ]
    }
   ],
   "source": [
    "print(\"최빈값 :\",train['NumberOfTrips'].mode(),\"\\n\",\"평균 :\", train['NumberOfTrips'].mean())"
   ]
  },
  {
   "cell_type": "code",
   "execution_count": 16,
   "id": "27ddf728",
   "metadata": {},
   "outputs": [],
   "source": [
    "train['NumberOfTrips'].fillna(3, inplace=True)"
   ]
  },
  {
   "cell_type": "markdown",
   "id": "d16a3d95",
   "metadata": {},
   "source": [
    "<br>"
   ]
  },
  {
   "cell_type": "markdown",
   "id": "dd38235b",
   "metadata": {},
   "source": [
    "7. *NumberOfChildrenVisiting 함께 여행을 계획 중인 5세 미만의 어린이 수* → **최빈값**으로 채우기<br>\n",
    "결측치 수 : 27"
   ]
  },
  {
   "cell_type": "code",
   "execution_count": 17,
   "id": "f35ad976",
   "metadata": {},
   "outputs": [
    {
     "name": "stdout",
     "output_type": "stream",
     "text": [
      "최빈값 : 0    1.0\n",
      "dtype: float64 \n",
      " 평균 : 1.213174273858921\n"
     ]
    }
   ],
   "source": [
    "print(\"최빈값 :\",train['NumberOfChildrenVisiting'].mode(),\"\\n\",\"평균 :\", train['NumberOfChildrenVisiting'].mean())"
   ]
  },
  {
   "cell_type": "code",
   "execution_count": 18,
   "id": "3ad71c51",
   "metadata": {},
   "outputs": [],
   "source": [
    "train['NumberOfChildrenVisiting'].fillna(1, inplace=True)"
   ]
  },
  {
   "cell_type": "markdown",
   "id": "a14bce2a",
   "metadata": {},
   "source": [
    "<br>"
   ]
  },
  {
   "cell_type": "markdown",
   "id": "2130557f",
   "metadata": {},
   "source": [
    "8. *MonthlyIncome 월 급여* → **평균**으로 채우기<br>\n",
    "결측치 수 : 100"
   ]
  },
  {
   "cell_type": "code",
   "execution_count": 19,
   "id": "eccc9447",
   "metadata": {},
   "outputs": [],
   "source": [
    "train['MonthlyIncome'].fillna(train['MonthlyIncome'].mean(), inplace=True)"
   ]
  },
  {
   "cell_type": "markdown",
   "id": "76438d7c",
   "metadata": {},
   "source": [
    "<br>"
   ]
  },
  {
   "cell_type": "markdown",
   "id": "70bfeff5",
   "metadata": {},
   "source": [
    "<결측치><br>\n",
    ">**평균** : Age, MonthlyIncome<br>\n",
    ">**평균에서 내림(정수)** : DurationOfPitch, NumberOfTrips<br>\n",
    ">**최빈값(정수)** : NumberOfFollowups, PreferredPropertyStar, NumberOfChildrenVisiting<br>\n",
    ">**unknown** : TypeofContact"
   ]
  },
  {
   "cell_type": "code",
   "execution_count": 20,
   "id": "c398c5db",
   "metadata": {},
   "outputs": [
    {
     "name": "stdout",
     "output_type": "stream",
     "text": [
      "<class 'pandas.core.frame.DataFrame'>\n",
      "RangeIndex: 1955 entries, 0 to 1954\n",
      "Data columns (total 20 columns):\n",
      " #   Column                    Non-Null Count  Dtype  \n",
      "---  ------                    --------------  -----  \n",
      " 0   id                        1955 non-null   int64  \n",
      " 1   Age                       1955 non-null   float64\n",
      " 2   TypeofContact             1955 non-null   object \n",
      " 3   CityTier                  1955 non-null   int64  \n",
      " 4   DurationOfPitch           1955 non-null   float64\n",
      " 5   Occupation                1955 non-null   object \n",
      " 6   Gender                    1955 non-null   object \n",
      " 7   NumberOfPersonVisiting    1955 non-null   int64  \n",
      " 8   NumberOfFollowups         1955 non-null   float64\n",
      " 9   ProductPitched            1955 non-null   object \n",
      " 10  PreferredPropertyStar     1955 non-null   float64\n",
      " 11  MaritalStatus             1955 non-null   object \n",
      " 12  NumberOfTrips             1955 non-null   float64\n",
      " 13  Passport                  1955 non-null   int64  \n",
      " 14  PitchSatisfactionScore    1955 non-null   int64  \n",
      " 15  OwnCar                    1955 non-null   int64  \n",
      " 16  NumberOfChildrenVisiting  1955 non-null   float64\n",
      " 17  Designation               1955 non-null   object \n",
      " 18  MonthlyIncome             1955 non-null   float64\n",
      " 19  ProdTaken                 1955 non-null   int64  \n",
      "dtypes: float64(7), int64(7), object(6)\n",
      "memory usage: 305.6+ KB\n"
     ]
    }
   ],
   "source": [
    "train.info()"
   ]
  },
  {
   "cell_type": "code",
   "execution_count": null,
   "id": "c1568e38",
   "metadata": {},
   "outputs": [],
   "source": []
  },
  {
   "cell_type": "markdown",
   "id": "048ba499",
   "metadata": {},
   "source": [
    "<br>\n",
    "<br>"
   ]
  },
  {
   "cell_type": "markdown",
   "id": "261d5f9b",
   "metadata": {},
   "source": [
    "### <이상치 처리>\n",
    "(결측치 처리 후)"
   ]
  },
  {
   "cell_type": "code",
   "execution_count": 21,
   "id": "b1bb8fca",
   "metadata": {
    "scrolled": false
   },
   "outputs": [
    {
     "data": {
      "text/plain": [
       "<AxesSubplot:>"
      ]
     },
     "execution_count": 21,
     "metadata": {},
     "output_type": "execute_result"
    },
    {
     "data": {
      "image/png": "[encoded data removed]",
      "text/plain": [
       "<Figure size 1080x720 with 6 Axes>"
      ]
     },
     "metadata": {
      "needs_background": "light"
     },
     "output_type": "display_data"
    }
   ],
   "source": [
    "fig, axes = plt.subplots(nrows=3, ncols=2, figsize=(15,10))\n",
    "\n",
    "ax = axes.flatten()\n",
    "\n",
    "train[['DurationOfPitch']].boxplot(ax=ax[0])\n",
    "train[['NumberOfPersonVisiting']].boxplot(ax=ax[1])\n",
    "train[['NumberOfFollowups']].boxplot(ax=ax[2])\n",
    "train[['NumberOfTrips']].boxplot(ax=ax[3])\n",
    "train[['MonthlyIncome']].boxplot(ax=ax[4])\n",
    "train[['ProdTaken']].boxplot(ax=ax[5])"
   ]
  },
  {
   "cell_type": "code",
   "execution_count": null,
   "id": "e3823fa3",
   "metadata": {},
   "outputs": [],
   "source": []
  },
  {
   "cell_type": "code",
   "execution_count": 22,
   "id": "40ee2ba1",
   "metadata": {},
   "outputs": [],
   "source": [
    "# 이상치 탐지 함수\n",
    "def outliers(data):\n",
    "    q1, q3 = np.percentile(data, [25,75])\n",
    "    \n",
    "    iqr = q3 - q1\n",
    "    lower_bound = q1 - (iqr * 1.5)\n",
    "    upper_bound = q3 + (iqr * 1.5)\n",
    "    \n",
    "    return (lower_bound, upper_bound, np.where((data>upper_bound)|(data<lower_bound)))"
   ]
  },
  {
   "cell_type": "code",
   "execution_count": null,
   "id": "2e6cedf2",
   "metadata": {},
   "outputs": [],
   "source": []
  },
  {
   "cell_type": "markdown",
   "id": "76c82ff9",
   "metadata": {},
   "source": [
    "1. *DurationOfPitch 영업 사원이 고객에게 제공하는 프레젠테이션 기간* → **처리X**<br>\n",
    "이상치 수 : 44개"
   ]
  },
  {
   "cell_type": "code",
   "execution_count": 23,
   "id": "89ef0798",
   "metadata": {},
   "outputs": [
    {
     "data": {
      "text/plain": [
       "44"
      ]
     },
     "execution_count": 23,
     "metadata": {},
     "output_type": "execute_result"
    }
   ],
   "source": [
    "len(outliers(train['DurationOfPitch'])[2][0])"
   ]
  },
  {
   "cell_type": "markdown",
   "id": "eea18216",
   "metadata": {},
   "source": [
    "<br>"
   ]
  },
  {
   "cell_type": "markdown",
   "id": "b1a37c96",
   "metadata": {},
   "source": [
    "2. *NumberOfPersonVisiting 고객과 함께 여행을 계획 중인 총 인원(여행인원수)* → **처리X**<br>\n",
    "이상치 수 : 1개"
   ]
  },
  {
   "cell_type": "code",
   "execution_count": 24,
   "id": "dc92db05",
   "metadata": {},
   "outputs": [
    {
     "data": {
      "text/plain": [
       "1"
      ]
     },
     "execution_count": 24,
     "metadata": {},
     "output_type": "execute_result"
    }
   ],
   "source": [
    "len(outliers(train['NumberOfPersonVisiting'])[2][0])"
   ]
  },
  {
   "cell_type": "markdown",
   "id": "fb8d8b94",
   "metadata": {},
   "source": [
    "<br>"
   ]
  },
  {
   "cell_type": "markdown",
   "id": "3f6e030d",
   "metadata": {},
   "source": [
    "3. *NumberOfFollowups 영업 사원의 프레젠테이션 후 이루어진 후속 조치 수* → **처리X**<br>\n",
    "이상치 수 : 120개"
   ]
  },
  {
   "cell_type": "code",
   "execution_count": 25,
   "id": "3449a0c4",
   "metadata": {},
   "outputs": [
    {
     "data": {
      "text/plain": [
       "121"
      ]
     },
     "execution_count": 25,
     "metadata": {},
     "output_type": "execute_result"
    }
   ],
   "source": [
    "len(outliers(train['NumberOfFollowups'])[2][0])"
   ]
  },
  {
   "cell_type": "code",
   "execution_count": 26,
   "id": "a42d9c1d",
   "metadata": {},
   "outputs": [
    {
     "data": {
      "text/plain": [
       "47"
      ]
     },
     "execution_count": 26,
     "metadata": {},
     "output_type": "execute_result"
    }
   ],
   "source": [
    "len(train[train['NumberOfFollowups']>=6])"
   ]
  },
  {
   "cell_type": "code",
   "execution_count": 27,
   "id": "a73c4799",
   "metadata": {},
   "outputs": [
    {
     "data": {
      "text/plain": [
       "74"
      ]
     },
     "execution_count": 27,
     "metadata": {},
     "output_type": "execute_result"
    }
   ],
   "source": [
    "len(train[train['NumberOfFollowups']<=1])"
   ]
  },
  {
   "cell_type": "markdown",
   "id": "598bede4",
   "metadata": {},
   "source": [
    "<br>"
   ]
  },
  {
   "cell_type": "markdown",
   "id": "569c909a",
   "metadata": {},
   "source": [
    "4. *NumberOfTrips 평균 연간 여행 횟수* → **제일 큰 이상치 제거**<br>\n",
    "이상치 수 : 38개"
   ]
  },
  {
   "cell_type": "code",
   "execution_count": 28,
   "id": "ad7c8d9b",
   "metadata": {},
   "outputs": [
    {
     "data": {
      "text/plain": [
       "38"
      ]
     },
     "execution_count": 28,
     "metadata": {},
     "output_type": "execute_result"
    }
   ],
   "source": [
    "len(outliers(train['NumberOfTrips'])[2][0])"
   ]
  },
  {
   "cell_type": "code",
   "execution_count": 29,
   "id": "15df279c",
   "metadata": {},
   "outputs": [
    {
     "data": {
      "text/plain": [
       "1"
      ]
     },
     "execution_count": 29,
     "metadata": {},
     "output_type": "execute_result"
    }
   ],
   "source": [
    "len(train[train['NumberOfTrips']>15])"
   ]
  },
  {
   "cell_type": "code",
   "execution_count": 30,
   "id": "cd78d169",
   "metadata": {},
   "outputs": [
    {
     "data": {
      "text/plain": [
       "37"
      ]
     },
     "execution_count": 30,
     "metadata": {},
     "output_type": "execute_result"
    }
   ],
   "source": [
    "len(train[(train['NumberOfTrips']>7)&(train['NumberOfTrips']<10)])"
   ]
  },
  {
   "cell_type": "code",
   "execution_count": 31,
   "id": "f5006840",
   "metadata": {},
   "outputs": [],
   "source": [
    "###제일 큰 이상치 제거\n",
    "train = train.drop(train[train['NumberOfTrips']>15].index)"
   ]
  },
  {
   "cell_type": "markdown",
   "id": "2905244e",
   "metadata": {},
   "source": [
    "<br>"
   ]
  },
  {
   "cell_type": "markdown",
   "id": "d1720bea",
   "metadata": {},
   "source": [
    "5. *MonthlyIncome 월 급여* → **제일 크거나 작은 이상치 제거**<br>\n",
    "이상치 수 : 144개"
   ]
  },
  {
   "cell_type": "code",
   "execution_count": 32,
   "id": "f3c2fbc8",
   "metadata": {},
   "outputs": [
    {
     "data": {
      "text/plain": [
       "148"
      ]
     },
     "execution_count": 32,
     "metadata": {},
     "output_type": "execute_result"
    }
   ],
   "source": [
    "len(outliers(train['MonthlyIncome'])[2][0])"
   ]
  },
  {
   "cell_type": "code",
   "execution_count": 33,
   "id": "67a81da7",
   "metadata": {},
   "outputs": [
    {
     "name": "stdout",
     "output_type": "stream",
     "text": [
      "lower bound = 13358.5 \n",
      " upper bound = 32628.5\n"
     ]
    }
   ],
   "source": [
    "print(\"lower bound =\", outliers(train['MonthlyIncome'])[0],\"\\n\", \"upper bound =\", outliers(train['MonthlyIncome'])[1])"
   ]
  },
  {
   "cell_type": "code",
   "execution_count": null,
   "id": "55931492",
   "metadata": {},
   "outputs": [],
   "source": []
  },
  {
   "cell_type": "code",
   "execution_count": 34,
   "id": "cfefc7d0",
   "metadata": {},
   "outputs": [
    {
     "data": {
      "text/plain": [
       "2"
      ]
     },
     "execution_count": 34,
     "metadata": {},
     "output_type": "execute_result"
    }
   ],
   "source": [
    "len(train[train['MonthlyIncome']>=80000])  ##삭제"
   ]
  },
  {
   "cell_type": "code",
   "execution_count": 35,
   "id": "7cc5ea20",
   "metadata": {},
   "outputs": [
    {
     "data": {
      "text/plain": [
       "142"
      ]
     },
     "execution_count": 35,
     "metadata": {},
     "output_type": "execute_result"
    }
   ],
   "source": [
    "len(train[(train['MonthlyIncome']>32645.75)&(train['MonthlyIncome']<80000)])"
   ]
  },
  {
   "cell_type": "code",
   "execution_count": 36,
   "id": "f6e3f6f8",
   "metadata": {},
   "outputs": [
    {
     "data": {
      "text/plain": [
       "1"
      ]
     },
     "execution_count": 36,
     "metadata": {},
     "output_type": "execute_result"
    }
   ],
   "source": [
    "len(train[train['MonthlyIncome']<=13327.75])  ##삭제"
   ]
  },
  {
   "cell_type": "code",
   "execution_count": 37,
   "id": "c5723030",
   "metadata": {},
   "outputs": [],
   "source": [
    "###제일 큰 & 작은 이상치 제거\n",
    "train = train.drop(train[train['MonthlyIncome']>=80000].index)\n",
    "train = train.drop(train[train['MonthlyIncome']<=13327.75].index)"
   ]
  },
  {
   "cell_type": "markdown",
   "id": "7d128d29",
   "metadata": {},
   "source": [
    "<br>"
   ]
  },
  {
   "cell_type": "markdown",
   "id": "32283b3b",
   "metadata": {},
   "source": [
    "6. *ProdTaken 평균 연간 여행 횟수* → **예측해야 할 변수이므로 처리X**<br>"
   ]
  },
  {
   "cell_type": "markdown",
   "id": "c187c88c",
   "metadata": {},
   "source": [
    "<br>\n",
    "<br>"
   ]
  },
  {
   "cell_type": "markdown",
   "id": "982069be",
   "metadata": {},
   "source": [
    "### <문자형 변수 처리>\n",
    "예측모델을 사용하기 때문에 모두 더미변수로 변경"
   ]
  },
  {
   "cell_type": "code",
   "execution_count": 38,
   "id": "b1d23ad8",
   "metadata": {},
   "outputs": [],
   "source": [
    "train = pd.get_dummies(train, columns = ['TypeofContact', 'Occupation','Gender',\n",
    "                                         'ProductPitched','MaritalStatus','Designation'])"
   ]
  },
  {
   "cell_type": "markdown",
   "id": "a84f74da",
   "metadata": {},
   "source": [
    "<br>"
   ]
  },
  {
   "cell_type": "markdown",
   "id": "3fe0d094",
   "metadata": {},
   "source": [
    "### <id 제거>"
   ]
  },
  {
   "cell_type": "code",
   "execution_count": 39,
   "id": "812a5913",
   "metadata": {},
   "outputs": [],
   "source": [
    "train = train.drop(columns=['id'])"
   ]
  },
  {
   "cell_type": "markdown",
   "id": "9ea9aa49",
   "metadata": {},
   "source": [
    "<br>"
   ]
  },
  {
   "cell_type": "markdown",
   "id": "be4c9918",
   "metadata": {},
   "source": [
    "### <test에도 동일하게 적용>"
   ]
  },
  {
   "cell_type": "code",
   "execution_count": 40,
   "id": "668174c5",
   "metadata": {},
   "outputs": [],
   "source": [
    "test = pd.read_csv(\"test.csv\")\n",
    "\n",
    "#결측치 처리\n",
    "test['Age'].fillna(test['Age'].mean(), inplace=True)\n",
    "test['TypeofContact'].fillna('unknown', inplace=True)\n",
    "test['DurationOfPitch'].fillna(15, inplace=True)\n",
    "test['NumberOfFollowups'].fillna(4, inplace=True)\n",
    "test['PreferredPropertyStar'].fillna(3, inplace=True)\n",
    "test['NumberOfTrips'].fillna(3, inplace=True)\n",
    "test['NumberOfChildrenVisiting'].fillna(1, inplace=True)\n",
    "test['MonthlyIncome'].fillna(test['MonthlyIncome'].mean(), inplace=True)\n",
    "\n",
    "#문자형 처리\n",
    "test = pd.get_dummies(test, columns = ['TypeofContact', 'Occupation','Gender',\n",
    "                                       'ProductPitched','MaritalStatus','Designation'])\n",
    "\n",
    "#id 제거\n",
    "test = test.drop(columns=['id'])"
   ]
  },
  {
   "cell_type": "markdown",
   "id": "fbca16a3",
   "metadata": {},
   "source": [
    "<br>\n",
    "<br>"
   ]
  },
  {
   "cell_type": "markdown",
   "id": "17f19189",
   "metadata": {},
   "source": [
    "### <모델 적합>"
   ]
  },
  {
   "cell_type": "code",
   "execution_count": 41,
   "id": "e06d5ca3",
   "metadata": {},
   "outputs": [],
   "source": [
    "## x, y 분리\n",
    "x_train = train.drop(columns=['ProdTaken'])\n",
    "y_train = train[['ProdTaken']]"
   ]
  },
  {
   "cell_type": "code",
   "execution_count": 42,
   "id": "54d3d72e",
   "metadata": {},
   "outputs": [
    {
     "name": "stderr",
     "output_type": "stream",
     "text": [
      "C:\\Users\\user\\AppData\\Local\\Temp/ipykernel_21428/3108087006.py:7: DataConversionWarning: A column-vector y was passed when a 1d array was expected. Please change the shape of y to (n_samples,), for example using ravel().\n",
      "  model.fit(x_train,y_train)\n"
     ]
    }
   ],
   "source": [
    "from sklearn.ensemble import RandomForestClassifier\n",
    "\n",
    "# 모델 선언\n",
    "model = RandomForestClassifier()\n",
    "\n",
    "# 모델 학습\n",
    "model.fit(x_train,y_train)\n",
    "\n",
    "# 모델 적합\n",
    "pred = model.predict(test)"
   ]
  },
  {
   "cell_type": "markdown",
   "id": "21de0979",
   "metadata": {},
   "source": [
    "<br>"
   ]
  },
  {
   "cell_type": "markdown",
   "id": "1d1b154a",
   "metadata": {},
   "source": [
    "### <데이콘 제출>"
   ]
  },
  {
   "cell_type": "code",
   "execution_count": 43,
   "id": "2e2f2bca",
   "metadata": {},
   "outputs": [
    {
     "data": {
      "text/html": [
       "<div>\n",
       "<style scoped>\n",
       "    .dataframe tbody tr th:only-of-type {\n",
       "        vertical-align: middle;\n",
       "    }\n",
       "\n",
       "    .dataframe tbody tr th {\n",
       "        vertical-align: top;\n",
       "    }\n",
       "\n",
       "    .dataframe thead th {\n",
       "        text-align: right;\n",
       "    }\n",
       "</style>\n",
       "<table border=\"1\" class=\"dataframe\">\n",
       "  <thead>\n",
       "    <tr style=\"text-align: right;\">\n",
       "      <th></th>\n",
       "      <th>id</th>\n",
       "      <th>ProdTaken</th>\n",
       "    </tr>\n",
       "  </thead>\n",
       "  <tbody>\n",
       "    <tr>\n",
       "      <th>0</th>\n",
       "      <td>1</td>\n",
       "      <td>0</td>\n",
       "    </tr>\n",
       "    <tr>\n",
       "      <th>1</th>\n",
       "      <td>2</td>\n",
       "      <td>0</td>\n",
       "    </tr>\n",
       "    <tr>\n",
       "      <th>2</th>\n",
       "      <td>3</td>\n",
       "      <td>0</td>\n",
       "    </tr>\n",
       "    <tr>\n",
       "      <th>3</th>\n",
       "      <td>4</td>\n",
       "      <td>0</td>\n",
       "    </tr>\n",
       "    <tr>\n",
       "      <th>4</th>\n",
       "      <td>5</td>\n",
       "      <td>1</td>\n",
       "    </tr>\n",
       "  </tbody>\n",
       "</table>\n",
       "</div>"
      ],
      "text/plain": [
       "   id  ProdTaken\n",
       "0   1          0\n",
       "1   2          0\n",
       "2   3          0\n",
       "3   4          0\n",
       "4   5          1"
      ]
     },
     "execution_count": 43,
     "metadata": {},
     "output_type": "execute_result"
    }
   ],
   "source": [
    "sample_submission['ProdTaken'] = pred\n",
    "sample_submission.head()"
   ]
  },
  {
   "cell_type": "code",
   "execution_count": 44,
   "id": "7f982c18",
   "metadata": {},
   "outputs": [],
   "source": [
    "sample_submission.to_csv('submission.csv',index = False)"
   ]
  },
  {
   "cell_type": "code",
   "execution_count": 45,
   "id": "bf2fe4d0",
   "metadata": {},
   "outputs": [],
   "source": [
    "###결과###\n",
    "#리더보드 75위"
   ]
  }
 ],
 "metadata": {
  "kernelspec": {
   "display_name": "Python 3 (ipykernel)",
   "language": "python",
   "name": "python3"
  },
  "language_info": {
   "codemirror_mode": {
    "name": "ipython",
    "version": 3
   },
   "file_extension": ".py",
   "mimetype": "text/x-python",
   "name": "python",
   "nbconvert_exporter": "python",
   "pygments_lexer": "ipython3",
   "version": "3.9.7"
  },
  "toc": {
   "base_numbering": 1,
   "nav_menu": {},
   "number_sections": false,
   "sideBar": true,
   "skip_h1_title": false,
   "title_cell": "Table of Contents",
   "title_sidebar": "Contents",
   "toc_cell": false,
   "toc_position": {
    "height": "calc(100% - 180px)",
    "left": "10px",
    "top": "150px",
    "width": "303.837px"
   },
   "toc_section_display": true,
   "toc_window_display": false
  }
 },
 "nbformat": 4,
 "nbformat_minor": 5
}
