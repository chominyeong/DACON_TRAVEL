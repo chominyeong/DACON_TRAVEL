{
  "nbformat": 4,
  "nbformat_minor": 0,
  "metadata": {
    "colab": {
      "name": "EDA1",
      "provenance": [],
      "collapsed_sections": [],
      "toc_visible": true
    },
    "kernelspec": {
      "name": "python3",
      "display_name": "Python 3"
    },
    "language_info": {
      "name": "python"
    }
  },
  "cells": [
    {
      "cell_type": "code",
      "execution_count": null,
      "metadata": {
        "colab": {
          "base_uri": "https://localhost:8080/"
        },
        "id": "8p1VvBOpftxR",
        "outputId": "d4902f50-bc87-42c2-9d9e-6d34fddc73d3"
      },
      "outputs": [
        {
          "output_type": "stream",
          "name": "stdout",
          "text": [
            "Mounted at /content/drive\n",
            "/content/drive/MyDrive\n"
          ]
        }
      ],
      "source": [
        "from google.colab import drive\n",
        "\n",
        "drive.mount('/content/drive')\n",
        "%cd drive/MyDrive"
      ]
    },
    {
      "cell_type": "code",
      "source": [
        "import numpy as np \n",
        "import pandas as pd \n",
        "import seaborn as sns\n",
        "import os\n",
        "import cv2\n",
        "import matplotlib.pyplot as plt"
      ],
      "metadata": {
        "id": "zkdpo52igXMn"
      },
      "execution_count": null,
      "outputs": []
    },
    {
      "cell_type": "markdown",
      "source": [
        "## 1. train data"
      ],
      "metadata": {
        "id": "J-qZOQioi1PP"
      }
    },
    {
      "cell_type": "code",
      "source": [
        "train_df = pd.read_csv(\"/content/drive/MyDrive/DACON_BASIC/train.csv\")\n",
        "train_df"
      ],
      "metadata": {
        "colab": {
          "base_uri": "https://localhost:8080/",
          "height": 592
        },
        "id": "n85rAJCZgXS8",
        "outputId": "475aa0b9-7dc6-4185-f1f3-053f9d9ea1e9"
      },
      "execution_count": null,
      "outputs": [
        {
          "output_type": "execute_result",
          "data": {
            "text/plain": [
              "        id   Age    TypeofContact  CityTier  DurationOfPitch      Occupation  \\\n",
              "0        1  28.0  Company Invited         1             10.0  Small Business   \n",
              "1        2  34.0     Self Enquiry         3              NaN  Small Business   \n",
              "2        3  45.0  Company Invited         1              NaN        Salaried   \n",
              "3        4  29.0  Company Invited         1              7.0  Small Business   \n",
              "4        5  42.0     Self Enquiry         3              6.0        Salaried   \n",
              "...    ...   ...              ...       ...              ...             ...   \n",
              "1950  1951  28.0     Self Enquiry         1             10.0  Small Business   \n",
              "1951  1952  41.0     Self Enquiry         3              8.0        Salaried   \n",
              "1952  1953  38.0  Company Invited         3             28.0  Small Business   \n",
              "1953  1954  28.0     Self Enquiry         3             30.0  Small Business   \n",
              "1954  1955  22.0  Company Invited         1              9.0        Salaried   \n",
              "\n",
              "      Gender  NumberOfPersonVisiting  NumberOfFollowups ProductPitched  \\\n",
              "0       Male                       3                4.0          Basic   \n",
              "1     Female                       2                4.0         Deluxe   \n",
              "2       Male                       2                3.0         Deluxe   \n",
              "3       Male                       3                5.0          Basic   \n",
              "4       Male                       2                3.0         Deluxe   \n",
              "...      ...                     ...                ...            ...   \n",
              "1950    Male                       3                5.0          Basic   \n",
              "1951  Female                       3                3.0   Super Deluxe   \n",
              "1952  Female                       3                4.0          Basic   \n",
              "1953  Female                       3                5.0         Deluxe   \n",
              "1954    Male                       2                4.0          Basic   \n",
              "\n",
              "      PreferredPropertyStar MaritalStatus  NumberOfTrips  Passport  \\\n",
              "0                       3.0       Married            3.0         0   \n",
              "1                       4.0        Single            1.0         1   \n",
              "2                       4.0       Married            2.0         0   \n",
              "3                       4.0       Married            3.0         0   \n",
              "4                       3.0      Divorced            2.0         0   \n",
              "...                     ...           ...            ...       ...   \n",
              "1950                    3.0        Single            2.0         0   \n",
              "1951                    5.0      Divorced            1.0         0   \n",
              "1952                    3.0      Divorced            7.0         0   \n",
              "1953                    3.0       Married            3.0         0   \n",
              "1954                    3.0      Divorced            1.0         1   \n",
              "\n",
              "      PitchSatisfactionScore  OwnCar  NumberOfChildrenVisiting Designation  \\\n",
              "0                          1       0                       1.0   Executive   \n",
              "1                          5       1                       0.0     Manager   \n",
              "2                          4       1                       0.0     Manager   \n",
              "3                          4       0                       1.0   Executive   \n",
              "4                          3       1                       0.0     Manager   \n",
              "...                      ...     ...                       ...         ...   \n",
              "1950                       1       1                       2.0   Executive   \n",
              "1951                       5       1                       1.0         AVP   \n",
              "1952                       2       1                       2.0   Executive   \n",
              "1953                       1       1                       2.0     Manager   \n",
              "1954                       3       0                       0.0   Executive   \n",
              "\n",
              "      MonthlyIncome  ProdTaken  \n",
              "0           20384.0          0  \n",
              "1           19599.0          1  \n",
              "2               NaN          0  \n",
              "3           21274.0          1  \n",
              "4           19907.0          0  \n",
              "...             ...        ...  \n",
              "1950        20723.0          0  \n",
              "1951        31595.0          0  \n",
              "1952        21651.0          0  \n",
              "1953        22218.0          0  \n",
              "1954        17853.0          1  \n",
              "\n",
              "[1955 rows x 20 columns]"
            ],
            "text/html": [
              "\n",
              "  <div id=\"df-a280cb75-b23e-432c-9a01-2299ddbae27d\">\n",
              "    <div class=\"colab-df-container\">\n",
              "      <div>\n",
              "<style scoped>\n",
              "    .dataframe tbody tr th:only-of-type {\n",
              "        vertical-align: middle;\n",
              "    }\n",
              "\n",
              "    .dataframe tbody tr th {\n",
              "        vertical-align: top;\n",
              "    }\n",
              "\n",
              "    .dataframe thead th {\n",
              "        text-align: right;\n",
              "    }\n",
              "</style>\n",
              "<table border=\"1\" class=\"dataframe\">\n",
              "  <thead>\n",
              "    <tr style=\"text-align: right;\">\n",
              "      <th></th>\n",
              "      <th>id</th>\n",
              "      <th>Age</th>\n",
              "      <th>TypeofContact</th>\n",
              "      <th>CityTier</th>\n",
              "      <th>DurationOfPitch</th>\n",
              "      <th>Occupation</th>\n",
              "      <th>Gender</th>\n",
              "      <th>NumberOfPersonVisiting</th>\n",
              "      <th>NumberOfFollowups</th>\n",
              "      <th>ProductPitched</th>\n",
              "      <th>PreferredPropertyStar</th>\n",
              "      <th>MaritalStatus</th>\n",
              "      <th>NumberOfTrips</th>\n",
              "      <th>Passport</th>\n",
              "      <th>PitchSatisfactionScore</th>\n",
              "      <th>OwnCar</th>\n",
              "      <th>NumberOfChildrenVisiting</th>\n",
              "      <th>Designation</th>\n",
              "      <th>MonthlyIncome</th>\n",
              "      <th>ProdTaken</th>\n",
              "    </tr>\n",
              "  </thead>\n",
              "  <tbody>\n",
              "    <tr>\n",
              "      <th>0</th>\n",
              "      <td>1</td>\n",
              "      <td>28.0</td>\n",
              "      <td>Company Invited</td>\n",
              "      <td>1</td>\n",
              "      <td>10.0</td>\n",
              "      <td>Small Business</td>\n",
              "      <td>Male</td>\n",
              "      <td>3</td>\n",
              "      <td>4.0</td>\n",
              "      <td>Basic</td>\n",
              "      <td>3.0</td>\n",
              "      <td>Married</td>\n",
              "      <td>3.0</td>\n",
              "      <td>0</td>\n",
              "      <td>1</td>\n",
              "      <td>0</td>\n",
              "      <td>1.0</td>\n",
              "      <td>Executive</td>\n",
              "      <td>20384.0</td>\n",
              "      <td>0</td>\n",
              "    </tr>\n",
              "    <tr>\n",
              "      <th>1</th>\n",
              "      <td>2</td>\n",
              "      <td>34.0</td>\n",
              "      <td>Self Enquiry</td>\n",
              "      <td>3</td>\n",
              "      <td>NaN</td>\n",
              "      <td>Small Business</td>\n",
              "      <td>Female</td>\n",
              "      <td>2</td>\n",
              "      <td>4.0</td>\n",
              "      <td>Deluxe</td>\n",
              "      <td>4.0</td>\n",
              "      <td>Single</td>\n",
              "      <td>1.0</td>\n",
              "      <td>1</td>\n",
              "      <td>5</td>\n",
              "      <td>1</td>\n",
              "      <td>0.0</td>\n",
              "      <td>Manager</td>\n",
              "      <td>19599.0</td>\n",
              "      <td>1</td>\n",
              "    </tr>\n",
              "    <tr>\n",
              "      <th>2</th>\n",
              "      <td>3</td>\n",
              "      <td>45.0</td>\n",
              "      <td>Company Invited</td>\n",
              "      <td>1</td>\n",
              "      <td>NaN</td>\n",
              "      <td>Salaried</td>\n",
              "      <td>Male</td>\n",
              "      <td>2</td>\n",
              "      <td>3.0</td>\n",
              "      <td>Deluxe</td>\n",
              "      <td>4.0</td>\n",
              "      <td>Married</td>\n",
              "      <td>2.0</td>\n",
              "      <td>0</td>\n",
              "      <td>4</td>\n",
              "      <td>1</td>\n",
              "      <td>0.0</td>\n",
              "      <td>Manager</td>\n",
              "      <td>NaN</td>\n",
              "      <td>0</td>\n",
              "    </tr>\n",
              "    <tr>\n",
              "      <th>3</th>\n",
              "      <td>4</td>\n",
              "      <td>29.0</td>\n",
              "      <td>Company Invited</td>\n",
              "      <td>1</td>\n",
              "      <td>7.0</td>\n",
              "      <td>Small Business</td>\n",
              "      <td>Male</td>\n",
              "      <td>3</td>\n",
              "      <td>5.0</td>\n",
              "      <td>Basic</td>\n",
              "      <td>4.0</td>\n",
              "      <td>Married</td>\n",
              "      <td>3.0</td>\n",
              "      <td>0</td>\n",
              "      <td>4</td>\n",
              "      <td>0</td>\n",
              "      <td>1.0</td>\n",
              "      <td>Executive</td>\n",
              "      <td>21274.0</td>\n",
              "      <td>1</td>\n",
              "    </tr>\n",
              "    <tr>\n",
              "      <th>4</th>\n",
              "      <td>5</td>\n",
              "      <td>42.0</td>\n",
              "      <td>Self Enquiry</td>\n",
              "      <td>3</td>\n",
              "      <td>6.0</td>\n",
              "      <td>Salaried</td>\n",
              "      <td>Male</td>\n",
              "      <td>2</td>\n",
              "      <td>3.0</td>\n",
              "      <td>Deluxe</td>\n",
              "      <td>3.0</td>\n",
              "      <td>Divorced</td>\n",
              "      <td>2.0</td>\n",
              "      <td>0</td>\n",
              "      <td>3</td>\n",
              "      <td>1</td>\n",
              "      <td>0.0</td>\n",
              "      <td>Manager</td>\n",
              "      <td>19907.0</td>\n",
              "      <td>0</td>\n",
              "    </tr>\n",
              "    <tr>\n",
              "      <th>...</th>\n",
              "      <td>...</td>\n",
              "      <td>...</td>\n",
              "      <td>...</td>\n",
              "      <td>...</td>\n",
              "      <td>...</td>\n",
              "      <td>...</td>\n",
              "      <td>...</td>\n",
              "      <td>...</td>\n",
              "      <td>...</td>\n",
              "      <td>...</td>\n",
              "      <td>...</td>\n",
              "      <td>...</td>\n",
              "      <td>...</td>\n",
              "      <td>...</td>\n",
              "      <td>...</td>\n",
              "      <td>...</td>\n",
              "      <td>...</td>\n",
              "      <td>...</td>\n",
              "      <td>...</td>\n",
              "      <td>...</td>\n",
              "    </tr>\n",
              "    <tr>\n",
              "      <th>1950</th>\n",
              "      <td>1951</td>\n",
              "      <td>28.0</td>\n",
              "      <td>Self Enquiry</td>\n",
              "      <td>1</td>\n",
              "      <td>10.0</td>\n",
              "      <td>Small Business</td>\n",
              "      <td>Male</td>\n",
              "      <td>3</td>\n",
              "      <td>5.0</td>\n",
              "      <td>Basic</td>\n",
              "      <td>3.0</td>\n",
              "      <td>Single</td>\n",
              "      <td>2.0</td>\n",
              "      <td>0</td>\n",
              "      <td>1</td>\n",
              "      <td>1</td>\n",
              "      <td>2.0</td>\n",
              "      <td>Executive</td>\n",
              "      <td>20723.0</td>\n",
              "      <td>0</td>\n",
              "    </tr>\n",
              "    <tr>\n",
              "      <th>1951</th>\n",
              "      <td>1952</td>\n",
              "      <td>41.0</td>\n",
              "      <td>Self Enquiry</td>\n",
              "      <td>3</td>\n",
              "      <td>8.0</td>\n",
              "      <td>Salaried</td>\n",
              "      <td>Female</td>\n",
              "      <td>3</td>\n",
              "      <td>3.0</td>\n",
              "      <td>Super Deluxe</td>\n",
              "      <td>5.0</td>\n",
              "      <td>Divorced</td>\n",
              "      <td>1.0</td>\n",
              "      <td>0</td>\n",
              "      <td>5</td>\n",
              "      <td>1</td>\n",
              "      <td>1.0</td>\n",
              "      <td>AVP</td>\n",
              "      <td>31595.0</td>\n",
              "      <td>0</td>\n",
              "    </tr>\n",
              "    <tr>\n",
              "      <th>1952</th>\n",
              "      <td>1953</td>\n",
              "      <td>38.0</td>\n",
              "      <td>Company Invited</td>\n",
              "      <td>3</td>\n",
              "      <td>28.0</td>\n",
              "      <td>Small Business</td>\n",
              "      <td>Female</td>\n",
              "      <td>3</td>\n",
              "      <td>4.0</td>\n",
              "      <td>Basic</td>\n",
              "      <td>3.0</td>\n",
              "      <td>Divorced</td>\n",
              "      <td>7.0</td>\n",
              "      <td>0</td>\n",
              "      <td>2</td>\n",
              "      <td>1</td>\n",
              "      <td>2.0</td>\n",
              "      <td>Executive</td>\n",
              "      <td>21651.0</td>\n",
              "      <td>0</td>\n",
              "    </tr>\n",
              "    <tr>\n",
              "      <th>1953</th>\n",
              "      <td>1954</td>\n",
              "      <td>28.0</td>\n",
              "      <td>Self Enquiry</td>\n",
              "      <td>3</td>\n",
              "      <td>30.0</td>\n",
              "      <td>Small Business</td>\n",
              "      <td>Female</td>\n",
              "      <td>3</td>\n",
              "      <td>5.0</td>\n",
              "      <td>Deluxe</td>\n",
              "      <td>3.0</td>\n",
              "      <td>Married</td>\n",
              "      <td>3.0</td>\n",
              "      <td>0</td>\n",
              "      <td>1</td>\n",
              "      <td>1</td>\n",
              "      <td>2.0</td>\n",
              "      <td>Manager</td>\n",
              "      <td>22218.0</td>\n",
              "      <td>0</td>\n",
              "    </tr>\n",
              "    <tr>\n",
              "      <th>1954</th>\n",
              "      <td>1955</td>\n",
              "      <td>22.0</td>\n",
              "      <td>Company Invited</td>\n",
              "      <td>1</td>\n",
              "      <td>9.0</td>\n",
              "      <td>Salaried</td>\n",
              "      <td>Male</td>\n",
              "      <td>2</td>\n",
              "      <td>4.0</td>\n",
              "      <td>Basic</td>\n",
              "      <td>3.0</td>\n",
              "      <td>Divorced</td>\n",
              "      <td>1.0</td>\n",
              "      <td>1</td>\n",
              "      <td>3</td>\n",
              "      <td>0</td>\n",
              "      <td>0.0</td>\n",
              "      <td>Executive</td>\n",
              "      <td>17853.0</td>\n",
              "      <td>1</td>\n",
              "    </tr>\n",
              "  </tbody>\n",
              "</table>\n",
              "<p>1955 rows × 20 columns</p>\n",
              "</div>\n",
              "      <button class=\"colab-df-convert\" onclick=\"convertToInteractive('df-a280cb75-b23e-432c-9a01-2299ddbae27d')\"\n",
              "              title=\"Convert this dataframe to an interactive table.\"\n",
              "              style=\"display:none;\">\n",
              "        \n",
              "  <svg xmlns=\"http://www.w3.org/2000/svg\" height=\"24px\"viewBox=\"0 0 24 24\"\n",
              "       width=\"24px\">\n",
              "    <path d=\"M0 0h24v24H0V0z\" fill=\"none\"/>\n",
              "    <path d=\"M18.56 5.44l.94 2.06.94-2.06 2.06-.94-2.06-.94-.94-2.06-.94 2.06-2.06.94zm-11 1L8.5 8.5l.94-2.06 2.06-.94-2.06-.94L8.5 2.5l-.94 2.06-2.06.94zm10 10l.94 2.06.94-2.06 2.06-.94-2.06-.94-.94-2.06-.94 2.06-2.06.94z\"/><path d=\"M17.41 7.96l-1.37-1.37c-.4-.4-.92-.59-1.43-.59-.52 0-1.04.2-1.43.59L10.3 9.45l-7.72 7.72c-.78.78-.78 2.05 0 2.83L4 21.41c.39.39.9.59 1.41.59.51 0 1.02-.2 1.41-.59l7.78-7.78 2.81-2.81c.8-.78.8-2.07 0-2.86zM5.41 20L4 18.59l7.72-7.72 1.47 1.35L5.41 20z\"/>\n",
              "  </svg>\n",
              "      </button>\n",
              "      \n",
              "  <style>\n",
              "    .colab-df-container {\n",
              "      display:flex;\n",
              "      flex-wrap:wrap;\n",
              "      gap: 12px;\n",
              "    }\n",
              "\n",
              "    .colab-df-convert {\n",
              "      background-color: #E8F0FE;\n",
              "      border: none;\n",
              "      border-radius: 50%;\n",
              "      cursor: pointer;\n",
              "      display: none;\n",
              "      fill: #1967D2;\n",
              "      height: 32px;\n",
              "      padding: 0 0 0 0;\n",
              "      width: 32px;\n",
              "    }\n",
              "\n",
              "    .colab-df-convert:hover {\n",
              "      background-color: #E2EBFA;\n",
              "      box-shadow: 0px 1px 2px rgba(60, 64, 67, 0.3), 0px 1px 3px 1px rgba(60, 64, 67, 0.15);\n",
              "      fill: #174EA6;\n",
              "    }\n",
              "\n",
              "    [theme=dark] .colab-df-convert {\n",
              "      background-color: #3B4455;\n",
              "      fill: #D2E3FC;\n",
              "    }\n",
              "\n",
              "    [theme=dark] .colab-df-convert:hover {\n",
              "      background-color: #434B5C;\n",
              "      box-shadow: 0px 1px 3px 1px rgba(0, 0, 0, 0.15);\n",
              "      filter: drop-shadow(0px 1px 2px rgba(0, 0, 0, 0.3));\n",
              "      fill: #FFFFFF;\n",
              "    }\n",
              "  </style>\n",
              "\n",
              "      <script>\n",
              "        const buttonEl =\n",
              "          document.querySelector('#df-a280cb75-b23e-432c-9a01-2299ddbae27d button.colab-df-convert');\n",
              "        buttonEl.style.display =\n",
              "          google.colab.kernel.accessAllowed ? 'block' : 'none';\n",
              "\n",
              "        async function convertToInteractive(key) {\n",
              "          const element = document.querySelector('#df-a280cb75-b23e-432c-9a01-2299ddbae27d');\n",
              "          const dataTable =\n",
              "            await google.colab.kernel.invokeFunction('convertToInteractive',\n",
              "                                                     [key], {});\n",
              "          if (!dataTable) return;\n",
              "\n",
              "          const docLinkHtml = 'Like what you see? Visit the ' +\n",
              "            '<a target=\"_blank\" href=https://colab.research.google.com/notebooks/data_table.ipynb>data table notebook</a>'\n",
              "            + ' to learn more about interactive tables.';\n",
              "          element.innerHTML = '';\n",
              "          dataTable['output_type'] = 'display_data';\n",
              "          await google.colab.output.renderOutput(dataTable, element);\n",
              "          const docLink = document.createElement('div');\n",
              "          docLink.innerHTML = docLinkHtml;\n",
              "          element.appendChild(docLink);\n",
              "        }\n",
              "      </script>\n",
              "    </div>\n",
              "  </div>\n",
              "  "
            ]
          },
          "metadata": {},
          "execution_count": 5
        }
      ]
    },
    {
      "cell_type": "code",
      "source": [
        "train_df.shape"
      ],
      "metadata": {
        "colab": {
          "base_uri": "https://localhost:8080/"
        },
        "id": "gBbBLmQHgXZd",
        "outputId": "880f7804-40fc-4156-b375-9d9c5f9092ca"
      },
      "execution_count": null,
      "outputs": [
        {
          "output_type": "execute_result",
          "data": {
            "text/plain": [
              "(1955, 20)"
            ]
          },
          "metadata": {},
          "execution_count": 6
        }
      ]
    },
    {
      "cell_type": "markdown",
      "source": [
        "### 1. 분석의 목적과 변수 탐색"
      ],
      "metadata": {
        "id": "qRnYH0cFjGzi"
      }
    },
    {
      "cell_type": "markdown",
      "source": [
        "#### 1-1. 분석 목적"
      ],
      "metadata": {
        "id": "lDOgmq2fjh-G"
      }
    },
    {
      "cell_type": "markdown",
      "source": [
        "*   만약 여행사들이 고객 데이터를 이용해 여행 패키지의 수요를 미리 예측할 수 있다면 어떨까요?\n",
        "*   주어진 고객 데이터셋을 이용하여 여행 패키지 신청 여부를 예측해주세요\n",
        "\n",
        "*   나이, 성별, 월 수입 등의 고객 데이터를 이용해서 여행 상품 신청 여부를 예측"
      ],
      "metadata": {
        "id": "wxUVd2welgk3"
      }
    },
    {
      "cell_type": "markdown",
      "source": [
        "#### 1-2. 변수 탐색"
      ],
      "metadata": {
        "id": "SVOcImnTjjao"
      }
    },
    {
      "cell_type": "code",
      "source": [
        "train_df.info()"
      ],
      "metadata": {
        "colab": {
          "base_uri": "https://localhost:8080/"
        },
        "id": "w5Ne8LgjjFBL",
        "outputId": "eb9f88ff-c11b-4e81-fcbd-cd2f2af976b9"
      },
      "execution_count": null,
      "outputs": [
        {
          "output_type": "stream",
          "name": "stdout",
          "text": [
            "<class 'pandas.core.frame.DataFrame'>\n",
            "RangeIndex: 1955 entries, 0 to 1954\n",
            "Data columns (total 20 columns):\n",
            " #   Column                    Non-Null Count  Dtype  \n",
            "---  ------                    --------------  -----  \n",
            " 0   id                        1955 non-null   int64  \n",
            " 1   Age                       1861 non-null   float64\n",
            " 2   TypeofContact             1945 non-null   object \n",
            " 3   CityTier                  1955 non-null   int64  \n",
            " 4   DurationOfPitch           1853 non-null   float64\n",
            " 5   Occupation                1955 non-null   object \n",
            " 6   Gender                    1955 non-null   object \n",
            " 7   NumberOfPersonVisiting    1955 non-null   int64  \n",
            " 8   NumberOfFollowups         1942 non-null   float64\n",
            " 9   ProductPitched            1955 non-null   object \n",
            " 10  PreferredPropertyStar     1945 non-null   float64\n",
            " 11  MaritalStatus             1955 non-null   object \n",
            " 12  NumberOfTrips             1898 non-null   float64\n",
            " 13  Passport                  1955 non-null   int64  \n",
            " 14  PitchSatisfactionScore    1955 non-null   int64  \n",
            " 15  OwnCar                    1955 non-null   int64  \n",
            " 16  NumberOfChildrenVisiting  1928 non-null   float64\n",
            " 17  Designation               1955 non-null   object \n",
            " 18  MonthlyIncome             1855 non-null   float64\n",
            " 19  ProdTaken                 1955 non-null   int64  \n",
            "dtypes: float64(7), int64(7), object(6)\n",
            "memory usage: 305.6+ KB\n"
          ]
        }
      ]
    },
    {
      "cell_type": "markdown",
      "source": [
        "- id : 샘플 아이디\n",
        "- Age : 나이\n",
        "- TypeofContact : 고객의 제품 인지 방법 (회사의 홍보 or 스스로 검색)\n",
        "- CityTier : 주거 중인 도시의 등급. (인구, 시설, 생활 수준 기준) (1등급 > 2등급 > 3등급) \n",
        "- DurationOfPitch : 영업 사원이 고객에게 제공하는 프레젠테이션 기간\n",
        "- Occupation : 직업\n",
        "- Gender : 성별\n",
        "- NumberOfPersonVisiting : 고객과 함께 여행을 계획 중인 총 인원\n",
        "- NumberOfFollowups : 영업 사원의 프레젠테이션 후 이루어진 후속 조치 수\n",
        "- ProductPitched : 영업 사원이 제시한 상품\n",
        "- PreferredPropertyStar : 선호 호텔 숙박업소 등급\n",
        "- MaritalStatus : 결혼여부\n",
        "- NumberOfTrips : 평균 연간 여행 횟수\n",
        "- Passport : 여권 보유 여부 (0: 없음, 1: 있음)\n",
        "- PitchSatisfactionScore : 영업 사원의 프레젠테이션 만족도\n",
        "- OwnCar : 자동차 보유 여부 (0: 없음, 1: 있음)\n",
        "- NumberOfChildrenVisiting : 함께 여행을 계획 중인 5세 미만의 어린이 수\n",
        "- Designation : (직업의) 직급\n",
        "- MonthlyIncome : 월 급여\n",
        "- ProdTaken : 여행 패키지 신청 여부 (0: 신청 안 함, 1: 신청함)\n"
      ],
      "metadata": {
        "id": "funlIB1KmOjf"
      }
    },
    {
      "cell_type": "code",
      "source": [
        "train_df['TypeofContact'].value_counts()"
      ],
      "metadata": {
        "colab": {
          "base_uri": "https://localhost:8080/"
        },
        "id": "3zfGtMsBna1F",
        "outputId": "2341144a-ec9e-413d-9a69-ae816c1aa1c3"
      },
      "execution_count": null,
      "outputs": [
        {
          "output_type": "execute_result",
          "data": {
            "text/plain": [
              "Self Enquiry       1379\n",
              "Company Invited     566\n",
              "Name: TypeofContact, dtype: int64"
            ]
          },
          "metadata": {},
          "execution_count": 8
        }
      ]
    },
    {
      "cell_type": "code",
      "source": [
        "train_df['Occupation'].value_counts()"
      ],
      "metadata": {
        "colab": {
          "base_uri": "https://localhost:8080/"
        },
        "id": "WPIQyAg8ngTm",
        "outputId": "f237155c-05da-4ff8-d8fc-4980c76a9b24"
      },
      "execution_count": null,
      "outputs": [
        {
          "output_type": "execute_result",
          "data": {
            "text/plain": [
              "Salaried          965\n",
              "Small Business    826\n",
              "Large Business    163\n",
              "Free Lancer         1\n",
              "Name: Occupation, dtype: int64"
            ]
          },
          "metadata": {},
          "execution_count": 9
        }
      ]
    },
    {
      "cell_type": "code",
      "source": [
        "train_df['Gender'].value_counts()"
      ],
      "metadata": {
        "colab": {
          "base_uri": "https://localhost:8080/"
        },
        "id": "cgbfOb0BngWB",
        "outputId": "66d76abb-1f68-4c61-ad69-51cbbb3e4069"
      },
      "execution_count": null,
      "outputs": [
        {
          "output_type": "execute_result",
          "data": {
            "text/plain": [
              "Male       1207\n",
              "Female      692\n",
              "Fe Male      56\n",
              "Name: Gender, dtype: int64"
            ]
          },
          "metadata": {},
          "execution_count": 10
        }
      ]
    },
    {
      "cell_type": "code",
      "source": [
        "# 'Fe Male'로 저장되어 있는 값들 'Female'로 변경\n",
        "\n",
        "train_df.loc[train_df['Gender'] == 'Fe Male', 'Gender'] = 'Female'"
      ],
      "metadata": {
        "id": "ML9Ch-EPKJad"
      },
      "execution_count": null,
      "outputs": []
    },
    {
      "cell_type": "markdown",
      "source": [
        "https://jimmy-ai.tistory.com/245"
      ],
      "metadata": {
        "id": "5ORD6gntPhJn"
      }
    },
    {
      "cell_type": "code",
      "source": [
        "train_df['Gender'].value_counts()"
      ],
      "metadata": {
        "colab": {
          "base_uri": "https://localhost:8080/"
        },
        "id": "N62-4gzNKbtJ",
        "outputId": "ab41c125-5b51-4d7e-ea3f-90a102ca6b72"
      },
      "execution_count": null,
      "outputs": [
        {
          "output_type": "execute_result",
          "data": {
            "text/plain": [
              "Male      1207\n",
              "Female     748\n",
              "Name: Gender, dtype: int64"
            ]
          },
          "metadata": {},
          "execution_count": 12
        }
      ]
    },
    {
      "cell_type": "code",
      "source": [
        "train_df['ProductPitched'].value_counts()"
      ],
      "metadata": {
        "colab": {
          "base_uri": "https://localhost:8080/"
        },
        "id": "r1fuK8oWnsQC",
        "outputId": "e88e82bf-7db4-471e-d69f-b34ff27ea0ff"
      },
      "execution_count": null,
      "outputs": [
        {
          "output_type": "execute_result",
          "data": {
            "text/plain": [
              "Basic           745\n",
              "Deluxe          689\n",
              "Standard        302\n",
              "Super Deluxe    130\n",
              "King             89\n",
              "Name: ProductPitched, dtype: int64"
            ]
          },
          "metadata": {},
          "execution_count": 13
        }
      ]
    },
    {
      "cell_type": "code",
      "source": [
        "train_df['MaritalStatus'].value_counts()"
      ],
      "metadata": {
        "colab": {
          "base_uri": "https://localhost:8080/"
        },
        "id": "ne3RGJPBnsWp",
        "outputId": "e72a8ff5-110e-4e00-d714-428f3bf5e4e5"
      },
      "execution_count": null,
      "outputs": [
        {
          "output_type": "execute_result",
          "data": {
            "text/plain": [
              "Married      949\n",
              "Divorced     375\n",
              "Single       349\n",
              "Unmarried    282\n",
              "Name: MaritalStatus, dtype: int64"
            ]
          },
          "metadata": {},
          "execution_count": 14
        }
      ]
    },
    {
      "cell_type": "code",
      "source": [
        "train_df['Designation'].value_counts()"
      ],
      "metadata": {
        "colab": {
          "base_uri": "https://localhost:8080/"
        },
        "id": "nGAcqcGgngx4",
        "outputId": "6e37ebcd-745c-4038-8af8-639245bda244"
      },
      "execution_count": null,
      "outputs": [
        {
          "output_type": "execute_result",
          "data": {
            "text/plain": [
              "Executive         745\n",
              "Manager           689\n",
              "Senior Manager    302\n",
              "AVP               130\n",
              "VP                 89\n",
              "Name: Designation, dtype: int64"
            ]
          },
          "metadata": {},
          "execution_count": 15
        }
      ]
    },
    {
      "cell_type": "markdown",
      "source": [
        "### 2. 데이터 탐색 (이상치, 결측치 등 확인)"
      ],
      "metadata": {
        "id": "4iFrQTW1jlQj"
      }
    },
    {
      "cell_type": "markdown",
      "source": [
        "#### 2-1. 결측치"
      ],
      "metadata": {
        "id": "3bO73Yorjpca"
      }
    },
    {
      "cell_type": "code",
      "source": [
        "train_df.isnull().sum()"
      ],
      "metadata": {
        "colab": {
          "base_uri": "https://localhost:8080/"
        },
        "id": "CjnJir3NjFDb",
        "outputId": "9469c24c-356b-42e5-e718-3edf47647bbe"
      },
      "execution_count": null,
      "outputs": [
        {
          "output_type": "execute_result",
          "data": {
            "text/plain": [
              "id                            0\n",
              "Age                          94\n",
              "TypeofContact                10\n",
              "CityTier                      0\n",
              "DurationOfPitch             102\n",
              "Occupation                    0\n",
              "Gender                        0\n",
              "NumberOfPersonVisiting        0\n",
              "NumberOfFollowups            13\n",
              "ProductPitched                0\n",
              "PreferredPropertyStar        10\n",
              "MaritalStatus                 0\n",
              "NumberOfTrips                57\n",
              "Passport                      0\n",
              "PitchSatisfactionScore        0\n",
              "OwnCar                        0\n",
              "NumberOfChildrenVisiting     27\n",
              "Designation                   0\n",
              "MonthlyIncome               100\n",
              "ProdTaken                     0\n",
              "dtype: int64"
            ]
          },
          "metadata": {},
          "execution_count": 16
        }
      ]
    },
    {
      "cell_type": "markdown",
      "source": [
        "##### 1) Age (94)"
      ],
      "metadata": {
        "id": "HyD94ZfhD-AA"
      }
    },
    {
      "cell_type": "code",
      "source": [
        "sns.boxplot(train_df['Age'])"
      ],
      "metadata": {
        "colab": {
          "base_uri": "https://localhost:8080/",
          "height": 354
        },
        "id": "1bhrdGAxECvO",
        "outputId": "0ce4c143-6153-4710-e005-d8c24223289b"
      },
      "execution_count": null,
      "outputs": [
        {
          "output_type": "stream",
          "name": "stderr",
          "text": [
            "/usr/local/lib/python3.7/dist-packages/seaborn/_decorators.py:43: FutureWarning: Pass the following variable as a keyword arg: x. From version 0.12, the only valid positional argument will be `data`, and passing other arguments without an explicit keyword will result in an error or misinterpretation.\n",
            "  FutureWarning\n"
          ]
        },
        {
          "output_type": "execute_result",
          "data": {
            "text/plain": [
              "<matplotlib.axes._subplots.AxesSubplot at 0x7f5d11245cd0>"
            ]
          },
          "metadata": {},
          "execution_count": 18
        },
        {
          "output_type": "display_data",
          "data": {
            "text/plain": [
              "<Figure size 432x288 with 1 Axes>"
            ],
            "image/png": "[encoded data removed]"
          },
          "metadata": {
            "needs_background": "light"
          }
        }
      ]
    },
    {
      "cell_type": "code",
      "source": [
        "print(train_df['Age'].mean())\n",
        "print(train_df['Age'].median())"
      ],
      "metadata": {
        "colab": {
          "base_uri": "https://localhost:8080/"
        },
        "id": "i1uKXMLeLUz1",
        "outputId": "9ffe9c2f-b813-411b-a6c9-52f6d1ba330f"
      },
      "execution_count": null,
      "outputs": [
        {
          "output_type": "stream",
          "name": "stdout",
          "text": [
            "37.46211714132187\n",
            "36.0\n"
          ]
        }
      ]
    },
    {
      "cell_type": "code",
      "source": [
        "train_df['Age'] = train_df['Age'].fillna(train_df.Age.median())"
      ],
      "metadata": {
        "id": "r1IXVo-3QDJ4"
      },
      "execution_count": null,
      "outputs": []
    },
    {
      "cell_type": "markdown",
      "source": [
        "https://yensr.tistory.com/75"
      ],
      "metadata": {
        "id": "dy3ke-n3Sare"
      }
    },
    {
      "cell_type": "markdown",
      "source": [
        "##### 2) TypeofContact (10)"
      ],
      "metadata": {
        "id": "lqv7m9ULEC54"
      }
    },
    {
      "cell_type": "code",
      "source": [
        "sns.countplot(train_df['TypeofContact'])"
      ],
      "metadata": {
        "colab": {
          "base_uri": "https://localhost:8080/",
          "height": 354
        },
        "id": "vCi57HGNEJf3",
        "outputId": "b1a46da8-e9ff-4ec4-a1c2-1dabecb6e115"
      },
      "execution_count": null,
      "outputs": [
        {
          "output_type": "stream",
          "name": "stderr",
          "text": [
            "/usr/local/lib/python3.7/dist-packages/seaborn/_decorators.py:43: FutureWarning: Pass the following variable as a keyword arg: x. From version 0.12, the only valid positional argument will be `data`, and passing other arguments without an explicit keyword will result in an error or misinterpretation.\n",
            "  FutureWarning\n"
          ]
        },
        {
          "output_type": "execute_result",
          "data": {
            "text/plain": [
              "<matplotlib.axes._subplots.AxesSubplot at 0x7f5d10a001d0>"
            ]
          },
          "metadata": {},
          "execution_count": 24
        },
        {
          "output_type": "display_data",
          "data": {
            "text/plain": [
              "<Figure size 432x288 with 1 Axes>"
            ],
            "image/png": "[encoded data removed]"
          },
          "metadata": {
            "needs_background": "light"
          }
        }
      ]
    },
    {
      "cell_type": "markdown",
      "source": [
        "##### 3) DurationOfPitch (102)"
      ],
      "metadata": {
        "id": "dcvrLwNqEWSt"
      }
    },
    {
      "cell_type": "code",
      "source": [
        "sns.boxplot(train_df['DurationOfPitch'])"
      ],
      "metadata": {
        "colab": {
          "base_uri": "https://localhost:8080/",
          "height": 354
        },
        "id": "12YwBLkiD759",
        "outputId": "dcfaf477-c8e1-4558-95b9-8201a8213a7c"
      },
      "execution_count": null,
      "outputs": [
        {
          "output_type": "stream",
          "name": "stderr",
          "text": [
            "/usr/local/lib/python3.7/dist-packages/seaborn/_decorators.py:43: FutureWarning: Pass the following variable as a keyword arg: x. From version 0.12, the only valid positional argument will be `data`, and passing other arguments without an explicit keyword will result in an error or misinterpretation.\n",
            "  FutureWarning\n"
          ]
        },
        {
          "output_type": "execute_result",
          "data": {
            "text/plain": [
              "<matplotlib.axes._subplots.AxesSubplot at 0x7f5d109d6210>"
            ]
          },
          "metadata": {},
          "execution_count": 25
        },
        {
          "output_type": "display_data",
          "data": {
            "text/plain": [
              "<Figure size 432x288 with 1 Axes>"
            ],
            "image/png": "[encoded data removed]"
          },
          "metadata": {
            "needs_background": "light"
          }
        }
      ]
    },
    {
      "cell_type": "code",
      "source": [
        "print(train_df['DurationOfPitch'].mean())\n",
        "print(train_df['DurationOfPitch'].median())"
      ],
      "metadata": {
        "colab": {
          "base_uri": "https://localhost:8080/"
        },
        "id": "urqKOyNyL2b5",
        "outputId": "021236c1-b016-439e-a010-673b0ddb0cac"
      },
      "execution_count": null,
      "outputs": [
        {
          "output_type": "stream",
          "name": "stdout",
          "text": [
            "15.524015110631408\n",
            "14.0\n"
          ]
        }
      ]
    },
    {
      "cell_type": "code",
      "source": [
        "train_df['DurationOfPitch'] = train_df['DurationOfPitch'].fillna(train_df.DurationOfPitch.median())"
      ],
      "metadata": {
        "id": "28XhENh5QcZy"
      },
      "execution_count": null,
      "outputs": []
    },
    {
      "cell_type": "markdown",
      "source": [
        "##### 4) NumberOfFollowups (13)"
      ],
      "metadata": {
        "id": "71a2KWr1Eaas"
      }
    },
    {
      "cell_type": "code",
      "source": [
        "sns.countplot(train_df['NumberOfFollowups'])"
      ],
      "metadata": {
        "colab": {
          "base_uri": "https://localhost:8080/",
          "height": 354
        },
        "id": "e6xK-SGcD788",
        "outputId": "d19d80e9-5f27-49e8-b2be-c95799becec8"
      },
      "execution_count": null,
      "outputs": [
        {
          "output_type": "stream",
          "name": "stderr",
          "text": [
            "/usr/local/lib/python3.7/dist-packages/seaborn/_decorators.py:43: FutureWarning: Pass the following variable as a keyword arg: x. From version 0.12, the only valid positional argument will be `data`, and passing other arguments without an explicit keyword will result in an error or misinterpretation.\n",
            "  FutureWarning\n"
          ]
        },
        {
          "output_type": "execute_result",
          "data": {
            "text/plain": [
              "<matplotlib.axes._subplots.AxesSubplot at 0x7f5d110e5710>"
            ]
          },
          "metadata": {},
          "execution_count": 29
        },
        {
          "output_type": "display_data",
          "data": {
            "text/plain": [
              "<Figure size 432x288 with 1 Axes>"
            ],
            "image/png": "[encoded data removed]"
          },
          "metadata": {
            "needs_background": "light"
          }
        }
      ]
    },
    {
      "cell_type": "code",
      "source": [
        "print(train_df['NumberOfFollowups'].mean())\n",
        "print(train_df['NumberOfFollowups'].median())"
      ],
      "metadata": {
        "colab": {
          "base_uri": "https://localhost:8080/"
        },
        "id": "OXPtEba6QiUz",
        "outputId": "47b388ff-263c-4aec-93a6-249c84e9ee6d"
      },
      "execution_count": null,
      "outputs": [
        {
          "output_type": "stream",
          "name": "stdout",
          "text": [
            "3.718331616889804\n",
            "4.0\n"
          ]
        }
      ]
    },
    {
      "cell_type": "code",
      "source": [
        "train_df['NumberOfFollowups'] = train_df['NumberOfFollowups'].fillna(train_df.NumberOfFollowups.median())"
      ],
      "metadata": {
        "id": "kEZgC3IQQpeJ"
      },
      "execution_count": null,
      "outputs": []
    },
    {
      "cell_type": "markdown",
      "source": [
        "##### 5) PreferredPropertyStar (10)"
      ],
      "metadata": {
        "id": "oQR8Kq5jEeqQ"
      }
    },
    {
      "cell_type": "code",
      "source": [
        "sns.countplot(train_df['PreferredPropertyStar'])"
      ],
      "metadata": {
        "colab": {
          "base_uri": "https://localhost:8080/",
          "height": 354
        },
        "id": "IDcUtNiyEfqY",
        "outputId": "ef77fdda-a6f7-49da-be55-018221520e58"
      },
      "execution_count": null,
      "outputs": [
        {
          "output_type": "stream",
          "name": "stderr",
          "text": [
            "/usr/local/lib/python3.7/dist-packages/seaborn/_decorators.py:43: FutureWarning: Pass the following variable as a keyword arg: x. From version 0.12, the only valid positional argument will be `data`, and passing other arguments without an explicit keyword will result in an error or misinterpretation.\n",
            "  FutureWarning\n"
          ]
        },
        {
          "output_type": "execute_result",
          "data": {
            "text/plain": [
              "<matplotlib.axes._subplots.AxesSubplot at 0x7f5d10834910>"
            ]
          },
          "metadata": {},
          "execution_count": 30
        },
        {
          "output_type": "display_data",
          "data": {
            "text/plain": [
              "<Figure size 432x288 with 1 Axes>"
            ],
            "image/png": "[encoded data removed]"
          },
          "metadata": {
            "needs_background": "light"
          }
        }
      ]
    },
    {
      "cell_type": "code",
      "source": [
        "print(train_df['PreferredPropertyStar'].mean())\n",
        "print(train_df['PreferredPropertyStar'].median())"
      ],
      "metadata": {
        "colab": {
          "base_uri": "https://localhost:8080/"
        },
        "id": "vZ-WevXCQuEL",
        "outputId": "502b3fc6-3921-406a-85d5-793285179e3c"
      },
      "execution_count": null,
      "outputs": [
        {
          "output_type": "stream",
          "name": "stdout",
          "text": [
            "3.568637532133676\n",
            "3.0\n"
          ]
        }
      ]
    },
    {
      "cell_type": "code",
      "source": [
        "train_df['PreferredPropertyStar'] = train_df['PreferredPropertyStar'].fillna(train_df.PreferredPropertyStar.median())"
      ],
      "metadata": {
        "id": "lZDyzADzQvzH"
      },
      "execution_count": null,
      "outputs": []
    },
    {
      "cell_type": "markdown",
      "source": [
        "##### 6) NumberOfTrips (57)"
      ],
      "metadata": {
        "id": "FwENCw4FEfzP"
      }
    },
    {
      "cell_type": "code",
      "source": [
        "sns.countplot(train_df['NumberOfTrips'])"
      ],
      "metadata": {
        "colab": {
          "base_uri": "https://localhost:8080/",
          "height": 354
        },
        "id": "UDhNQXaREiX8",
        "outputId": "fef4490b-967d-4ac5-8634-bceb209ced6e"
      },
      "execution_count": null,
      "outputs": [
        {
          "output_type": "stream",
          "name": "stderr",
          "text": [
            "/usr/local/lib/python3.7/dist-packages/seaborn/_decorators.py:43: FutureWarning: Pass the following variable as a keyword arg: x. From version 0.12, the only valid positional argument will be `data`, and passing other arguments without an explicit keyword will result in an error or misinterpretation.\n",
            "  FutureWarning\n"
          ]
        },
        {
          "output_type": "execute_result",
          "data": {
            "text/plain": [
              "<matplotlib.axes._subplots.AxesSubplot at 0x7f5d10787710>"
            ]
          },
          "metadata": {},
          "execution_count": 32
        },
        {
          "output_type": "display_data",
          "data": {
            "text/plain": [
              "<Figure size 432x288 with 1 Axes>"
            ],
            "image/png": "[encoded data removed]"
          },
          "metadata": {
            "needs_background": "light"
          }
        }
      ]
    },
    {
      "cell_type": "code",
      "source": [
        "print(train_df['NumberOfTrips'].mean())\n",
        "print(train_df['NumberOfTrips'].median())"
      ],
      "metadata": {
        "colab": {
          "base_uri": "https://localhost:8080/"
        },
        "id": "nm9NJI4_Qy-I",
        "outputId": "0e4bbbc8-dd2f-4588-b046-4f26d411b337"
      },
      "execution_count": null,
      "outputs": [
        {
          "output_type": "stream",
          "name": "stdout",
          "text": [
            "3.255532139093783\n",
            "3.0\n"
          ]
        }
      ]
    },
    {
      "cell_type": "code",
      "source": [
        "train_df['NumberOfTrips'] = train_df['NumberOfTrips'].fillna(train_df.NumberOfTrips.median())"
      ],
      "metadata": {
        "id": "2RMUwEhYQ2EO"
      },
      "execution_count": null,
      "outputs": []
    },
    {
      "cell_type": "markdown",
      "source": [
        "##### 7) NumberOfChildrenVisiting (27)"
      ],
      "metadata": {
        "id": "JN1wj1szEifP"
      }
    },
    {
      "cell_type": "code",
      "source": [
        "sns.countplot(train_df['NumberOfChildrenVisiting'])"
      ],
      "metadata": {
        "colab": {
          "base_uri": "https://localhost:8080/",
          "height": 354
        },
        "id": "D6kWlzKEEipb",
        "outputId": "fe1a5655-d986-453c-8999-e3d6ad84ffa9"
      },
      "execution_count": null,
      "outputs": [
        {
          "output_type": "stream",
          "name": "stderr",
          "text": [
            "/usr/local/lib/python3.7/dist-packages/seaborn/_decorators.py:43: FutureWarning: Pass the following variable as a keyword arg: x. From version 0.12, the only valid positional argument will be `data`, and passing other arguments without an explicit keyword will result in an error or misinterpretation.\n",
            "  FutureWarning\n"
          ]
        },
        {
          "output_type": "execute_result",
          "data": {
            "text/plain": [
              "<matplotlib.axes._subplots.AxesSubplot at 0x7f5d10720cd0>"
            ]
          },
          "metadata": {},
          "execution_count": 33
        },
        {
          "output_type": "display_data",
          "data": {
            "text/plain": [
              "<Figure size 432x288 with 1 Axes>"
            ],
            "image/png": "[encoded data removed]"
          },
          "metadata": {
            "needs_background": "light"
          }
        }
      ]
    },
    {
      "cell_type": "code",
      "source": [
        "print(train_df['NumberOfChildrenVisiting'].mean())\n",
        "print(train_df['NumberOfChildrenVisiting'].median())"
      ],
      "metadata": {
        "colab": {
          "base_uri": "https://localhost:8080/"
        },
        "id": "tv7blM_fQ5OW",
        "outputId": "d4bd701d-e635-4ac1-fac6-9de6b1adc792"
      },
      "execution_count": null,
      "outputs": [
        {
          "output_type": "stream",
          "name": "stdout",
          "text": [
            "1.213174273858921\n",
            "1.0\n"
          ]
        }
      ]
    },
    {
      "cell_type": "code",
      "source": [
        "train_df['NumberOfChildrenVisiting'] = train_df['NumberOfChildrenVisiting'].fillna(train_df.NumberOfChildrenVisiting.median())"
      ],
      "metadata": {
        "id": "QHxUhU6KQ79d"
      },
      "execution_count": null,
      "outputs": []
    },
    {
      "cell_type": "markdown",
      "source": [
        "##### 8) MonthlyIncome (100)"
      ],
      "metadata": {
        "id": "MtUEtSBfEix4"
      }
    },
    {
      "cell_type": "code",
      "source": [
        "sns.boxplot(train_df['MonthlyIncome'])"
      ],
      "metadata": {
        "colab": {
          "base_uri": "https://localhost:8080/",
          "height": 354
        },
        "id": "R0Tpq5X3EpZo",
        "outputId": "4843fa3c-2b87-4d24-9fa2-94f9364f3278"
      },
      "execution_count": null,
      "outputs": [
        {
          "output_type": "stream",
          "name": "stderr",
          "text": [
            "/usr/local/lib/python3.7/dist-packages/seaborn/_decorators.py:43: FutureWarning: Pass the following variable as a keyword arg: x. From version 0.12, the only valid positional argument will be `data`, and passing other arguments without an explicit keyword will result in an error or misinterpretation.\n",
            "  FutureWarning\n"
          ]
        },
        {
          "output_type": "execute_result",
          "data": {
            "text/plain": [
              "<matplotlib.axes._subplots.AxesSubplot at 0x7f5d0dcf8410>"
            ]
          },
          "metadata": {},
          "execution_count": 35
        },
        {
          "output_type": "display_data",
          "data": {
            "text/plain": [
              "<Figure size 432x288 with 1 Axes>"
            ],
            "image/png": "[encoded data removed]"
          },
          "metadata": {
            "needs_background": "light"
          }
        }
      ]
    },
    {
      "cell_type": "code",
      "source": [
        "print(train_df['MonthlyIncome'].mean())\n",
        "print(train_df['MonthlyIncome'].median())"
      ],
      "metadata": {
        "colab": {
          "base_uri": "https://localhost:8080/"
        },
        "id": "o5mzY-RgMzXr",
        "outputId": "e503d804-58e8-45a5-ae54-4ff16b2a80e1"
      },
      "execution_count": null,
      "outputs": [
        {
          "output_type": "stream",
          "name": "stdout",
          "text": [
            "23624.108894878707\n",
            "22295.0\n"
          ]
        }
      ]
    },
    {
      "cell_type": "code",
      "source": [
        "train_df['MonthlyIncome'] = train_df['MonthlyIncome'].fillna(train_df.MonthlyIncome.median())"
      ],
      "metadata": {
        "id": "BS6CYT4_RAry"
      },
      "execution_count": null,
      "outputs": []
    },
    {
      "cell_type": "markdown",
      "source": [
        "##### +) TypeofContact 결측치 10개만 삭제"
      ],
      "metadata": {
        "id": "MjE4p-kQRSMS"
      }
    },
    {
      "cell_type": "code",
      "source": [
        "train_df.isnull().sum()"
      ],
      "metadata": {
        "colab": {
          "base_uri": "https://localhost:8080/"
        },
        "id": "n0N5kgiNRD8K",
        "outputId": "a6387f75-6630-4581-805d-ee7c793f7471"
      },
      "execution_count": null,
      "outputs": [
        {
          "output_type": "execute_result",
          "data": {
            "text/plain": [
              "id                           0\n",
              "Age                          0\n",
              "TypeofContact               10\n",
              "CityTier                     0\n",
              "DurationOfPitch              0\n",
              "Occupation                   0\n",
              "Gender                       0\n",
              "NumberOfPersonVisiting       0\n",
              "NumberOfFollowups            0\n",
              "ProductPitched               0\n",
              "PreferredPropertyStar        0\n",
              "MaritalStatus                0\n",
              "NumberOfTrips                0\n",
              "Passport                     0\n",
              "PitchSatisfactionScore       0\n",
              "OwnCar                       0\n",
              "NumberOfChildrenVisiting     0\n",
              "Designation                  0\n",
              "MonthlyIncome                0\n",
              "ProdTaken                    0\n",
              "dtype: int64"
            ]
          },
          "metadata": {},
          "execution_count": 49
        }
      ]
    },
    {
      "cell_type": "code",
      "source": [
        "train_df.dropna(axis=0, inplace=True)"
      ],
      "metadata": {
        "id": "wuMTpm6OREGJ"
      },
      "execution_count": null,
      "outputs": []
    },
    {
      "cell_type": "code",
      "source": [
        "train_df.isnull().sum()"
      ],
      "metadata": {
        "colab": {
          "base_uri": "https://localhost:8080/"
        },
        "id": "Q8TXjFpcRqP_",
        "outputId": "641c6d02-d4f0-4439-c198-88c90d957144"
      },
      "execution_count": null,
      "outputs": [
        {
          "output_type": "execute_result",
          "data": {
            "text/plain": [
              "id                          0\n",
              "Age                         0\n",
              "TypeofContact               0\n",
              "CityTier                    0\n",
              "DurationOfPitch             0\n",
              "Occupation                  0\n",
              "Gender                      0\n",
              "NumberOfPersonVisiting      0\n",
              "NumberOfFollowups           0\n",
              "ProductPitched              0\n",
              "PreferredPropertyStar       0\n",
              "MaritalStatus               0\n",
              "NumberOfTrips               0\n",
              "Passport                    0\n",
              "PitchSatisfactionScore      0\n",
              "OwnCar                      0\n",
              "NumberOfChildrenVisiting    0\n",
              "Designation                 0\n",
              "MonthlyIncome               0\n",
              "ProdTaken                   0\n",
              "dtype: int64"
            ]
          },
          "metadata": {},
          "execution_count": 51
        }
      ]
    },
    {
      "cell_type": "code",
      "source": [
        "train_df.shape"
      ],
      "metadata": {
        "colab": {
          "base_uri": "https://localhost:8080/"
        },
        "id": "-XQeM-dbRqys",
        "outputId": "404eda83-d9dc-44a1-b2f3-009814099dd6"
      },
      "execution_count": null,
      "outputs": [
        {
          "output_type": "execute_result",
          "data": {
            "text/plain": [
              "(1945, 20)"
            ]
          },
          "metadata": {},
          "execution_count": 52
        }
      ]
    },
    {
      "cell_type": "markdown",
      "source": [
        "#### 2-2. 이상치"
      ],
      "metadata": {
        "id": "KxwfhkggjoGl"
      }
    },
    {
      "cell_type": "code",
      "source": [
        "train_df.dtypes"
      ],
      "metadata": {
        "colab": {
          "base_uri": "https://localhost:8080/"
        },
        "id": "KUJ3s10KWjwQ",
        "outputId": "7a92b511-1120-455c-b108-283e58d1dd5f"
      },
      "execution_count": null,
      "outputs": [
        {
          "output_type": "execute_result",
          "data": {
            "text/plain": [
              "id                            int64\n",
              "Age                         float64\n",
              "TypeofContact                object\n",
              "CityTier                      int64\n",
              "DurationOfPitch             float64\n",
              "Occupation                   object\n",
              "Gender                       object\n",
              "NumberOfPersonVisiting        int64\n",
              "NumberOfFollowups           float64\n",
              "ProductPitched               object\n",
              "PreferredPropertyStar       float64\n",
              "MaritalStatus                object\n",
              "NumberOfTrips               float64\n",
              "Passport                      int64\n",
              "PitchSatisfactionScore        int64\n",
              "OwnCar                        int64\n",
              "NumberOfChildrenVisiting    float64\n",
              "Designation                  object\n",
              "MonthlyIncome               float64\n",
              "ProdTaken                     int64\n",
              "dtype: object"
            ]
          },
          "metadata": {},
          "execution_count": 72
        }
      ]
    },
    {
      "cell_type": "code",
      "source": [
        "def outlier_iqr(data, column): \n",
        "\n",
        "    # lower, upper 글로벌 변수 선언하기     \n",
        "    global lower, upper    \n",
        "    \n",
        "    # 4분위수 기준 지정하기     \n",
        "    q25, q75 = np.quantile(data[column], 0.25), np.quantile(data[column], 0.75)          \n",
        "    \n",
        "    # IQR 계산하기     \n",
        "    iqr = q75 - q25    \n",
        "    \n",
        "    # outlier cutoff 계산하기     \n",
        "    cut_off = iqr * 1.5          \n",
        "    \n",
        "    # lower와 upper bound 값 구하기     \n",
        "    lower, upper = q25 - cut_off, q75 + cut_off     \n",
        "    \n",
        "    print('IQR은',iqr, '이다.')     \n",
        "    print('lower bound 값은', lower, '이다.')     \n",
        "    print('upper bound 값은', upper, '이다.')    \n",
        "    \n",
        "    # 1사 분위와 4사 분위에 속해있는 데이터 각각 저장하기     \n",
        "    data1 = data[data[column] > upper]     \n",
        "    data2 = data[data[column] < lower]    \n",
        "    \n",
        "    # 이상치 총 개수 구하기\n",
        "    return print('총 이상치 개수는', data1.shape[0] + data2.shape[0], '이다.')"
      ],
      "metadata": {
        "id": "iu3cDPpogXev"
      },
      "execution_count": null,
      "outputs": []
    },
    {
      "cell_type": "markdown",
      "source": [
        "https://claryk.tistory.com/4"
      ],
      "metadata": {
        "id": "12IVRUgXZvxJ"
      }
    },
    {
      "cell_type": "code",
      "source": [
        "train_df.columns"
      ],
      "metadata": {
        "colab": {
          "base_uri": "https://localhost:8080/"
        },
        "id": "2mb2nO1xTa3z",
        "outputId": "114482a9-db10-46be-88d9-82c98c2a1125"
      },
      "execution_count": null,
      "outputs": [
        {
          "output_type": "execute_result",
          "data": {
            "text/plain": [
              "Index(['id', 'Age', 'TypeofContact', 'CityTier', 'DurationOfPitch',\n",
              "       'Occupation', 'Gender', 'NumberOfPersonVisiting', 'NumberOfFollowups',\n",
              "       'ProductPitched', 'PreferredPropertyStar', 'MaritalStatus',\n",
              "       'NumberOfTrips', 'Passport', 'PitchSatisfactionScore', 'OwnCar',\n",
              "       'NumberOfChildrenVisiting', 'Designation', 'MonthlyIncome',\n",
              "       'ProdTaken'],\n",
              "      dtype='object')"
            ]
          },
          "metadata": {},
          "execution_count": 73
        }
      ]
    },
    {
      "cell_type": "code",
      "source": [
        "# object 타입 제외 (TypeofContact, Occupation, Gender, ProductPitched, MaritalStatus, Designation)\n",
        "\n",
        "index = ['id', 'Age', 'CityTier', 'DurationOfPitch', 'NumberOfPersonVisiting', \n",
        "         'NumberOfFollowups', 'PreferredPropertyStar', 'NumberOfTrips', 'Passport', 'PitchSatisfactionScore', \n",
        "         'OwnCar', 'NumberOfChildrenVisiting', 'MonthlyIncome', 'ProdTaken']"
      ],
      "metadata": {
        "id": "CJ94T0yfWrqe"
      },
      "execution_count": null,
      "outputs": []
    },
    {
      "cell_type": "code",
      "source": [
        "for i in range(len(index)):\n",
        "  print('==============================')\n",
        "  print('%d번째 변수: %s' %(i+1,index[i]))\n",
        "  outlier_iqr(train_df, index[i])"
      ],
      "metadata": {
        "colab": {
          "base_uri": "https://localhost:8080/"
        },
        "id": "j21TyVFyTdqZ",
        "outputId": "b686eeca-4ffb-442e-fcc9-7b2e7b11e264"
      },
      "execution_count": null,
      "outputs": [
        {
          "output_type": "stream",
          "name": "stdout",
          "text": [
            "==============================\n",
            "1번째 변수: id\n",
            "IQR은 974.0 이다.\n",
            "lower bound 값은 -970.0 이다.\n",
            "upper bound 값은 2926.0 이다.\n",
            "총 이상치 개수는 0 이다.\n",
            "==============================\n",
            "2번째 변수: Age\n",
            "IQR은 12.0 이다.\n",
            "lower bound 값은 13.0 이다.\n",
            "upper bound 값은 61.0 이다.\n",
            "총 이상치 개수는 0 이다.\n",
            "==============================\n",
            "3번째 변수: CityTier\n",
            "IQR은 2.0 이다.\n",
            "lower bound 값은 -2.0 이다.\n",
            "upper bound 값은 6.0 이다.\n",
            "총 이상치 개수는 0 이다.\n",
            "==============================\n",
            "4번째 변수: DurationOfPitch\n",
            "IQR은 10.0 이다.\n",
            "lower bound 값은 -6.0 이다.\n",
            "upper bound 값은 34.0 이다.\n",
            "총 이상치 개수는 44 이다.\n",
            "==============================\n",
            "5번째 변수: NumberOfPersonVisiting\n",
            "IQR은 1.0 이다.\n",
            "lower bound 값은 0.5 이다.\n",
            "upper bound 값은 4.5 이다.\n",
            "총 이상치 개수는 1 이다.\n",
            "==============================\n",
            "6번째 변수: NumberOfFollowups\n",
            "IQR은 1.0 이다.\n",
            "lower bound 값은 1.5 이다.\n",
            "upper bound 값은 5.5 이다.\n",
            "총 이상치 개수는 120 이다.\n",
            "==============================\n",
            "7번째 변수: PreferredPropertyStar\n",
            "IQR은 1.0 이다.\n",
            "lower bound 값은 1.5 이다.\n",
            "upper bound 값은 5.5 이다.\n",
            "총 이상치 개수는 0 이다.\n",
            "==============================\n",
            "8번째 변수: NumberOfTrips\n",
            "IQR은 2.0 이다.\n",
            "lower bound 값은 -1.0 이다.\n",
            "upper bound 값은 7.0 이다.\n",
            "총 이상치 개수는 38 이다.\n",
            "==============================\n",
            "9번째 변수: Passport\n",
            "IQR은 1.0 이다.\n",
            "lower bound 값은 -1.5 이다.\n",
            "upper bound 값은 2.5 이다.\n",
            "총 이상치 개수는 0 이다.\n",
            "==============================\n",
            "10번째 변수: PitchSatisfactionScore\n",
            "IQR은 2.0 이다.\n",
            "lower bound 값은 -1.0 이다.\n",
            "upper bound 값은 7.0 이다.\n",
            "총 이상치 개수는 0 이다.\n",
            "==============================\n",
            "11번째 변수: OwnCar\n",
            "IQR은 1.0 이다.\n",
            "lower bound 값은 -1.5 이다.\n",
            "upper bound 값은 2.5 이다.\n",
            "총 이상치 개수는 0 이다.\n",
            "==============================\n",
            "12번째 변수: NumberOfChildrenVisiting\n",
            "IQR은 1.0 이다.\n",
            "lower bound 값은 -0.5 이다.\n",
            "upper bound 값은 3.5 이다.\n",
            "총 이상치 개수는 0 이다.\n",
            "==============================\n",
            "13번째 변수: MonthlyIncome\n",
            "IQR은 4889.0 이다.\n",
            "lower bound 값은 13222.5 이다.\n",
            "upper bound 값은 32778.5 이다.\n",
            "총 이상치 개수는 144 이다.\n",
            "==============================\n",
            "14번째 변수: ProdTaken\n",
            "IQR은 0.0 이다.\n",
            "lower bound 값은 0.0 이다.\n",
            "upper bound 값은 0.0 이다.\n",
            "총 이상치 개수는 381 이다.\n"
          ]
        }
      ]
    },
    {
      "cell_type": "markdown",
      "source": [
        "##### 1) DurationOfPitch (44)"
      ],
      "metadata": {
        "id": "dqRwvcaHX1uT"
      }
    },
    {
      "cell_type": "code",
      "source": [
        "sns.boxplot(train_df['DurationOfPitch'])"
      ],
      "metadata": {
        "colab": {
          "base_uri": "https://localhost:8080/",
          "height": 354
        },
        "id": "DV-TyaPFTUmI",
        "outputId": "098e18db-2a88-42e6-baa6-24aee73e4120"
      },
      "execution_count": null,
      "outputs": [
        {
          "output_type": "stream",
          "name": "stderr",
          "text": [
            "/usr/local/lib/python3.7/dist-packages/seaborn/_decorators.py:43: FutureWarning: Pass the following variable as a keyword arg: x. From version 0.12, the only valid positional argument will be `data`, and passing other arguments without an explicit keyword will result in an error or misinterpretation.\n",
            "  FutureWarning\n"
          ]
        },
        {
          "output_type": "execute_result",
          "data": {
            "text/plain": [
              "<matplotlib.axes._subplots.AxesSubplot at 0x7f5d10681610>"
            ]
          },
          "metadata": {},
          "execution_count": 77
        },
        {
          "output_type": "display_data",
          "data": {
            "text/plain": [
              "<Figure size 432x288 with 1 Axes>"
            ],
            "image/png": "[encoded data removed]"
          },
          "metadata": {
            "needs_background": "light"
          }
        }
      ]
    },
    {
      "cell_type": "code",
      "source": [
        "print(train_df['DurationOfPitch'].mean())\n",
        "print(train_df['DurationOfPitch'].median())"
      ],
      "metadata": {
        "colab": {
          "base_uri": "https://localhost:8080/"
        },
        "id": "x01pvWOPYkd5",
        "outputId": "bae705b7-594c-4e7c-9248-b9f7bcd7de53"
      },
      "execution_count": null,
      "outputs": [
        {
          "output_type": "stream",
          "name": "stdout",
          "text": [
            "15.451928020565553\n",
            "14.0\n"
          ]
        }
      ]
    },
    {
      "cell_type": "code",
      "source": [
        "train_df['DurationOfPitch'] = train_df['DurationOfPitch'].fillna(train_df.DurationOfPitch.median())"
      ],
      "metadata": {
        "id": "oBiadTLRYqz0"
      },
      "execution_count": null,
      "outputs": []
    },
    {
      "cell_type": "markdown",
      "source": [
        "##### 2) NumberOfPersonVisiting (1)"
      ],
      "metadata": {
        "id": "HeuLL4mYX8iT"
      }
    },
    {
      "cell_type": "code",
      "source": [
        "sns.boxplot(train_df['NumberOfPersonVisiting'])"
      ],
      "metadata": {
        "colab": {
          "base_uri": "https://localhost:8080/",
          "height": 354
        },
        "id": "BTV5chOFTUu_",
        "outputId": "79c2a429-f8d8-4eb2-eba1-a6b57c92055f"
      },
      "execution_count": null,
      "outputs": [
        {
          "output_type": "stream",
          "name": "stderr",
          "text": [
            "/usr/local/lib/python3.7/dist-packages/seaborn/_decorators.py:43: FutureWarning: Pass the following variable as a keyword arg: x. From version 0.12, the only valid positional argument will be `data`, and passing other arguments without an explicit keyword will result in an error or misinterpretation.\n",
            "  FutureWarning\n"
          ]
        },
        {
          "output_type": "execute_result",
          "data": {
            "text/plain": [
              "<matplotlib.axes._subplots.AxesSubplot at 0x7f5d0f197e10>"
            ]
          },
          "metadata": {},
          "execution_count": 80
        },
        {
          "output_type": "display_data",
          "data": {
            "text/plain": [
              "<Figure size 432x288 with 1 Axes>"
            ],
            "image/png": "[encoded data removed]"
          },
          "metadata": {
            "needs_background": "light"
          }
        }
      ]
    },
    {
      "cell_type": "markdown",
      "source": [
        "##### 3) NumberOfFollowups (120)"
      ],
      "metadata": {
        "id": "mjdflfdMYA-J"
      }
    },
    {
      "cell_type": "code",
      "source": [
        "sns.boxplot(train_df['NumberOfFollowups'])"
      ],
      "metadata": {
        "colab": {
          "base_uri": "https://localhost:8080/",
          "height": 354
        },
        "id": "gMj0XahBYC9Y",
        "outputId": "96685e2f-e176-4cd1-f042-3fa8aafd7efc"
      },
      "execution_count": null,
      "outputs": [
        {
          "output_type": "stream",
          "name": "stderr",
          "text": [
            "/usr/local/lib/python3.7/dist-packages/seaborn/_decorators.py:43: FutureWarning: Pass the following variable as a keyword arg: x. From version 0.12, the only valid positional argument will be `data`, and passing other arguments without an explicit keyword will result in an error or misinterpretation.\n",
            "  FutureWarning\n"
          ]
        },
        {
          "output_type": "execute_result",
          "data": {
            "text/plain": [
              "<matplotlib.axes._subplots.AxesSubplot at 0x7f5d0d934f50>"
            ]
          },
          "metadata": {},
          "execution_count": 81
        },
        {
          "output_type": "display_data",
          "data": {
            "text/plain": [
              "<Figure size 432x288 with 1 Axes>"
            ],
            "image/png": "[encoded data removed]"
          },
          "metadata": {
            "needs_background": "light"
          }
        }
      ]
    },
    {
      "cell_type": "markdown",
      "source": [
        "##### 4) NumberOfTrips (38)"
      ],
      "metadata": {
        "id": "I_XYDgJjYFy3"
      }
    },
    {
      "cell_type": "code",
      "source": [
        "sns.boxplot(train_df['NumberOfTrips'])"
      ],
      "metadata": {
        "colab": {
          "base_uri": "https://localhost:8080/",
          "height": 354
        },
        "id": "MO7P0E-QYIII",
        "outputId": "4a85ef15-c202-41c8-ae46-eef90a6d01c6"
      },
      "execution_count": null,
      "outputs": [
        {
          "output_type": "stream",
          "name": "stderr",
          "text": [
            "/usr/local/lib/python3.7/dist-packages/seaborn/_decorators.py:43: FutureWarning: Pass the following variable as a keyword arg: x. From version 0.12, the only valid positional argument will be `data`, and passing other arguments without an explicit keyword will result in an error or misinterpretation.\n",
            "  FutureWarning\n"
          ]
        },
        {
          "output_type": "execute_result",
          "data": {
            "text/plain": [
              "<matplotlib.axes._subplots.AxesSubplot at 0x7f5d0d907390>"
            ]
          },
          "metadata": {},
          "execution_count": 82
        },
        {
          "output_type": "display_data",
          "data": {
            "text/plain": [
              "<Figure size 432x288 with 1 Axes>"
            ],
            "image/png": "[encoded data removed]"
          },
          "metadata": {
            "needs_background": "light"
          }
        }
      ]
    },
    {
      "cell_type": "markdown",
      "source": [
        "##### 5) MonthlyIncome (144) *****"
      ],
      "metadata": {
        "id": "qvnqeDf0YLxm"
      }
    },
    {
      "cell_type": "code",
      "source": [
        "sns.boxplot(train_df['MonthlyIncome'])"
      ],
      "metadata": {
        "colab": {
          "base_uri": "https://localhost:8080/",
          "height": 354
        },
        "id": "xeF7TrxAYN-q",
        "outputId": "cbffa9b2-3a70-4a39-dee6-89a62fd89078"
      },
      "execution_count": null,
      "outputs": [
        {
          "output_type": "stream",
          "name": "stderr",
          "text": [
            "/usr/local/lib/python3.7/dist-packages/seaborn/_decorators.py:43: FutureWarning: Pass the following variable as a keyword arg: x. From version 0.12, the only valid positional argument will be `data`, and passing other arguments without an explicit keyword will result in an error or misinterpretation.\n",
            "  FutureWarning\n"
          ]
        },
        {
          "output_type": "execute_result",
          "data": {
            "text/plain": [
              "<matplotlib.axes._subplots.AxesSubplot at 0x7f5d0d8d8e50>"
            ]
          },
          "metadata": {},
          "execution_count": 83
        },
        {
          "output_type": "display_data",
          "data": {
            "text/plain": [
              "<Figure size 432x288 with 1 Axes>"
            ],
            "image/png": "[encoded data removed]"
          },
          "metadata": {
            "needs_background": "light"
          }
        }
      ]
    },
    {
      "cell_type": "code",
      "source": [
        "train_df['MonthlyIncome'].describe()"
      ],
      "metadata": {
        "colab": {
          "base_uri": "https://localhost:8080/"
        },
        "id": "IRmT7Am7Zi7k",
        "outputId": "803eceff-839c-4109-ff6f-8f33ebd9e78d"
      },
      "execution_count": null,
      "outputs": [
        {
          "output_type": "execute_result",
          "data": {
            "text/plain": [
              "count     1945.000000\n",
              "mean     23562.607712\n",
              "std       5515.443867\n",
              "min       1000.000000\n",
              "25%      20556.000000\n",
              "50%      22295.000000\n",
              "75%      25445.000000\n",
              "max      98678.000000\n",
              "Name: MonthlyIncome, dtype: float64"
            ]
          },
          "metadata": {},
          "execution_count": 87
        }
      ]
    },
    {
      "cell_type": "code",
      "source": [
        "# MonthlyIncome > 50000 인 행 삭제\n",
        "\n",
        "idx = train_df[train_df['MonthlyIncome'] > 50000].index\n",
        "train_df.drop(idx, inplace=True)"
      ],
      "metadata": {
        "id": "YgaAigQBa1kH"
      },
      "execution_count": null,
      "outputs": []
    },
    {
      "cell_type": "code",
      "source": [
        "outlier_iqr(train_df, 'MonthlyIncome')"
      ],
      "metadata": {
        "colab": {
          "base_uri": "https://localhost:8080/"
        },
        "id": "-zjg5WgnbuHf",
        "outputId": "d34148f3-4589-4253-9219-8170e2564ced"
      },
      "execution_count": null,
      "outputs": [
        {
          "output_type": "stream",
          "name": "stdout",
          "text": [
            "IQR은 4872.0 이다.\n",
            "lower bound 값은 13239.0 이다.\n",
            "upper bound 값은 32727.0 이다.\n",
            "총 이상치 개수는 142 이다.\n"
          ]
        }
      ]
    },
    {
      "cell_type": "markdown",
      "source": [
        "##### 6) ProdTaken (381)"
      ],
      "metadata": {
        "id": "FtkwHFFMYP0O"
      }
    },
    {
      "cell_type": "code",
      "source": [
        "sns.countplot(train_df['ProdTaken'])"
      ],
      "metadata": {
        "colab": {
          "base_uri": "https://localhost:8080/",
          "height": 354
        },
        "id": "rjrvyDDbYR_o",
        "outputId": "1212099c-a136-4577-e758-300b62f2bed6"
      },
      "execution_count": null,
      "outputs": [
        {
          "output_type": "stream",
          "name": "stderr",
          "text": [
            "/usr/local/lib/python3.7/dist-packages/seaborn/_decorators.py:43: FutureWarning: Pass the following variable as a keyword arg: x. From version 0.12, the only valid positional argument will be `data`, and passing other arguments without an explicit keyword will result in an error or misinterpretation.\n",
            "  FutureWarning\n"
          ]
        },
        {
          "output_type": "execute_result",
          "data": {
            "text/plain": [
              "<matplotlib.axes._subplots.AxesSubplot at 0x7f5d0d7a6450>"
            ]
          },
          "metadata": {},
          "execution_count": 85
        },
        {
          "output_type": "display_data",
          "data": {
            "text/plain": [
              "<Figure size 432x288 with 1 Axes>"
            ],
            "image/png": "[encoded data removed]"
          },
          "metadata": {
            "needs_background": "light"
          }
        }
      ]
    },
    {
      "cell_type": "markdown",
      "source": [
        "### 3. 데이터의 개별 속성값 관찰"
      ],
      "metadata": {
        "id": "gKigsLxejwHb"
      }
    },
    {
      "cell_type": "markdown",
      "source": [
        "#### 3-1. target 값 확인\n",
        "ProdTaken : 여행 패키지 신청 여부 (0: 신청 안 함, 1: 신청함)"
      ],
      "metadata": {
        "id": "jVuZmL2epoZg"
      }
    },
    {
      "cell_type": "code",
      "source": [
        "sns.countplot(train_df['ProdTaken'])"
      ],
      "metadata": {
        "colab": {
          "base_uri": "https://localhost:8080/",
          "height": 354
        },
        "id": "PfZykfPPjx81",
        "outputId": "6a9f1ee3-63c3-45bd-c89d-068164070e09"
      },
      "execution_count": null,
      "outputs": [
        {
          "output_type": "stream",
          "name": "stderr",
          "text": [
            "/usr/local/lib/python3.7/dist-packages/seaborn/_decorators.py:43: FutureWarning: Pass the following variable as a keyword arg: x. From version 0.12, the only valid positional argument will be `data`, and passing other arguments without an explicit keyword will result in an error or misinterpretation.\n",
            "  FutureWarning\n"
          ]
        },
        {
          "output_type": "execute_result",
          "data": {
            "text/plain": [
              "<matplotlib.axes._subplots.AxesSubplot at 0x7f1d52d7d590>"
            ]
          },
          "metadata": {},
          "execution_count": 28
        },
        {
          "output_type": "display_data",
          "data": {
            "text/plain": [
              "<Figure size 432x288 with 1 Axes>"
            ],
            "image/png": "[encoded data removed]"
          },
          "metadata": {
            "needs_background": "light"
          }
        }
      ]
    },
    {
      "cell_type": "code",
      "source": [
        ""
      ],
      "metadata": {
        "id": "BvlZ0KMNp1NA"
      },
      "execution_count": null,
      "outputs": []
    },
    {
      "cell_type": "markdown",
      "source": [
        "### 4. 속성 간의 관계 -> 패턴 발견 (상관관계, 시각화 등)"
      ],
      "metadata": {
        "id": "fwsZ0tebjyF4"
      }
    },
    {
      "cell_type": "code",
      "source": [
        "train_df.corr()"
      ],
      "metadata": {
        "colab": {
          "base_uri": "https://localhost:8080/",
          "height": 552
        },
        "id": "CWLsUU0lceG2",
        "outputId": "5d422693-38e9-407f-f787-40be5df3e971"
      },
      "execution_count": null,
      "outputs": [
        {
          "output_type": "execute_result",
          "data": {
            "text/plain": [
              "                                id       Age  CityTier  DurationOfPitch  \\\n",
              "id                        1.000000  0.007667 -0.022173         0.001590   \n",
              "Age                       0.007667  1.000000  0.008880         0.027341   \n",
              "CityTier                 -0.022173  0.008880  1.000000         0.052543   \n",
              "DurationOfPitch           0.001590  0.027341  0.052543         1.000000   \n",
              "NumberOfPersonVisiting    0.033978  0.014475  0.016409         0.098905   \n",
              "NumberOfFollowups        -0.012169  0.013065  0.025060         0.042534   \n",
              "PreferredPropertyStar    -0.013799 -0.032351 -0.012441        -0.005695   \n",
              "NumberOfTrips             0.041203  0.168556 -0.020977         0.024356   \n",
              "Passport                  0.009410  0.026135  0.013984         0.043715   \n",
              "PitchSatisfactionScore   -0.037917  0.030101 -0.028100         0.010619   \n",
              "OwnCar                   -0.013178  0.061674  0.015142        -0.015588   \n",
              "NumberOfChildrenVisiting  0.030966  0.034340  0.023467         0.048954   \n",
              "MonthlyIncome             0.036190  0.484854  0.073198         0.031550   \n",
              "ProdTaken                -0.049313 -0.132467  0.083969         0.071512   \n",
              "\n",
              "                          NumberOfPersonVisiting  NumberOfFollowups  \\\n",
              "id                                      0.033978          -0.012169   \n",
              "Age                                     0.014475           0.013065   \n",
              "CityTier                                0.016409           0.025060   \n",
              "DurationOfPitch                         0.098905           0.042534   \n",
              "NumberOfPersonVisiting                  1.000000           0.334323   \n",
              "NumberOfFollowups                       0.334323           1.000000   \n",
              "PreferredPropertyStar                   0.014049          -0.053658   \n",
              "NumberOfTrips                           0.207540           0.132658   \n",
              "Passport                                0.022292          -0.007550   \n",
              "PitchSatisfactionScore                 -0.014134          -0.009562   \n",
              "OwnCar                                  0.022210           0.047885   \n",
              "NumberOfChildrenVisiting                0.607944           0.292480   \n",
              "MonthlyIncome                           0.199732           0.203708   \n",
              "ProdTaken                               0.005892           0.106390   \n",
              "\n",
              "                          PreferredPropertyStar  NumberOfTrips  Passport  \\\n",
              "id                                    -0.013799       0.041203  0.009410   \n",
              "Age                                   -0.032351       0.168556  0.026135   \n",
              "CityTier                              -0.012441      -0.020977  0.013984   \n",
              "DurationOfPitch                       -0.005695       0.024356  0.043715   \n",
              "NumberOfPersonVisiting                 0.014049       0.207540  0.022292   \n",
              "NumberOfFollowups                     -0.053658       0.132658 -0.007550   \n",
              "PreferredPropertyStar                  1.000000       0.032798  0.012289   \n",
              "NumberOfTrips                          0.032798       1.000000  0.005706   \n",
              "Passport                               0.012289       0.005706  1.000000   \n",
              "PitchSatisfactionScore                -0.017264       0.032814  0.018986   \n",
              "OwnCar                                 0.027949       0.006739 -0.044683   \n",
              "NumberOfChildrenVisiting               0.023574       0.179863  0.029989   \n",
              "MonthlyIncome                         -0.049344       0.140948 -0.005354   \n",
              "ProdTaken                              0.114223       0.042000  0.296034   \n",
              "\n",
              "                          PitchSatisfactionScore    OwnCar  \\\n",
              "id                                     -0.037917 -0.013178   \n",
              "Age                                     0.030101  0.061674   \n",
              "CityTier                               -0.028100  0.015142   \n",
              "DurationOfPitch                         0.010619 -0.015588   \n",
              "NumberOfPersonVisiting                 -0.014134  0.022210   \n",
              "NumberOfFollowups                      -0.009562  0.047885   \n",
              "PreferredPropertyStar                  -0.017264  0.027949   \n",
              "NumberOfTrips                           0.032814  0.006739   \n",
              "Passport                                0.018986 -0.044683   \n",
              "PitchSatisfactionScore                  1.000000  0.073592   \n",
              "OwnCar                                  0.073592  1.000000   \n",
              "NumberOfChildrenVisiting                0.019186  0.037327   \n",
              "MonthlyIncome                           0.005280  0.106300   \n",
              "ProdTaken                               0.069063 -0.040828   \n",
              "\n",
              "                          NumberOfChildrenVisiting  MonthlyIncome  ProdTaken  \n",
              "id                                        0.030966       0.036190  -0.049313  \n",
              "Age                                       0.034340       0.484854  -0.132467  \n",
              "CityTier                                  0.023467       0.073198   0.083969  \n",
              "DurationOfPitch                           0.048954       0.031550   0.071512  \n",
              "NumberOfPersonVisiting                    0.607944       0.199732   0.005892  \n",
              "NumberOfFollowups                         0.292480       0.203708   0.106390  \n",
              "PreferredPropertyStar                     0.023574      -0.049344   0.114223  \n",
              "NumberOfTrips                             0.179863       0.140948   0.042000  \n",
              "Passport                                  0.029989      -0.005354   0.296034  \n",
              "PitchSatisfactionScore                    0.019186       0.005280   0.069063  \n",
              "OwnCar                                    0.037327       0.106300  -0.040828  \n",
              "NumberOfChildrenVisiting                  1.000000       0.198309   0.006725  \n",
              "MonthlyIncome                             0.198309       1.000000  -0.143123  \n",
              "ProdTaken                                 0.006725      -0.143123   1.000000  "
            ],
            "text/html": [
              "\n",
              "  <div id=\"df-4c019403-e1cc-4f11-ad2b-3e3c6f082cb7\">\n",
              "    <div class=\"colab-df-container\">\n",
              "      <div>\n",
              "<style scoped>\n",
              "    .dataframe tbody tr th:only-of-type {\n",
              "        vertical-align: middle;\n",
              "    }\n",
              "\n",
              "    .dataframe tbody tr th {\n",
              "        vertical-align: top;\n",
              "    }\n",
              "\n",
              "    .dataframe thead th {\n",
              "        text-align: right;\n",
              "    }\n",
              "</style>\n",
              "<table border=\"1\" class=\"dataframe\">\n",
              "  <thead>\n",
              "    <tr style=\"text-align: right;\">\n",
              "      <th></th>\n",
              "      <th>id</th>\n",
              "      <th>Age</th>\n",
              "      <th>CityTier</th>\n",
              "      <th>DurationOfPitch</th>\n",
              "      <th>NumberOfPersonVisiting</th>\n",
              "      <th>NumberOfFollowups</th>\n",
              "      <th>PreferredPropertyStar</th>\n",
              "      <th>NumberOfTrips</th>\n",
              "      <th>Passport</th>\n",
              "      <th>PitchSatisfactionScore</th>\n",
              "      <th>OwnCar</th>\n",
              "      <th>NumberOfChildrenVisiting</th>\n",
              "      <th>MonthlyIncome</th>\n",
              "      <th>ProdTaken</th>\n",
              "    </tr>\n",
              "  </thead>\n",
              "  <tbody>\n",
              "    <tr>\n",
              "      <th>id</th>\n",
              "      <td>1.000000</td>\n",
              "      <td>0.007667</td>\n",
              "      <td>-0.022173</td>\n",
              "      <td>0.001590</td>\n",
              "      <td>0.033978</td>\n",
              "      <td>-0.012169</td>\n",
              "      <td>-0.013799</td>\n",
              "      <td>0.041203</td>\n",
              "      <td>0.009410</td>\n",
              "      <td>-0.037917</td>\n",
              "      <td>-0.013178</td>\n",
              "      <td>0.030966</td>\n",
              "      <td>0.036190</td>\n",
              "      <td>-0.049313</td>\n",
              "    </tr>\n",
              "    <tr>\n",
              "      <th>Age</th>\n",
              "      <td>0.007667</td>\n",
              "      <td>1.000000</td>\n",
              "      <td>0.008880</td>\n",
              "      <td>0.027341</td>\n",
              "      <td>0.014475</td>\n",
              "      <td>0.013065</td>\n",
              "      <td>-0.032351</td>\n",
              "      <td>0.168556</td>\n",
              "      <td>0.026135</td>\n",
              "      <td>0.030101</td>\n",
              "      <td>0.061674</td>\n",
              "      <td>0.034340</td>\n",
              "      <td>0.484854</td>\n",
              "      <td>-0.132467</td>\n",
              "    </tr>\n",
              "    <tr>\n",
              "      <th>CityTier</th>\n",
              "      <td>-0.022173</td>\n",
              "      <td>0.008880</td>\n",
              "      <td>1.000000</td>\n",
              "      <td>0.052543</td>\n",
              "      <td>0.016409</td>\n",
              "      <td>0.025060</td>\n",
              "      <td>-0.012441</td>\n",
              "      <td>-0.020977</td>\n",
              "      <td>0.013984</td>\n",
              "      <td>-0.028100</td>\n",
              "      <td>0.015142</td>\n",
              "      <td>0.023467</td>\n",
              "      <td>0.073198</td>\n",
              "      <td>0.083969</td>\n",
              "    </tr>\n",
              "    <tr>\n",
              "      <th>DurationOfPitch</th>\n",
              "      <td>0.001590</td>\n",
              "      <td>0.027341</td>\n",
              "      <td>0.052543</td>\n",
              "      <td>1.000000</td>\n",
              "      <td>0.098905</td>\n",
              "      <td>0.042534</td>\n",
              "      <td>-0.005695</td>\n",
              "      <td>0.024356</td>\n",
              "      <td>0.043715</td>\n",
              "      <td>0.010619</td>\n",
              "      <td>-0.015588</td>\n",
              "      <td>0.048954</td>\n",
              "      <td>0.031550</td>\n",
              "      <td>0.071512</td>\n",
              "    </tr>\n",
              "    <tr>\n",
              "      <th>NumberOfPersonVisiting</th>\n",
              "      <td>0.033978</td>\n",
              "      <td>0.014475</td>\n",
              "      <td>0.016409</td>\n",
              "      <td>0.098905</td>\n",
              "      <td>1.000000</td>\n",
              "      <td>0.334323</td>\n",
              "      <td>0.014049</td>\n",
              "      <td>0.207540</td>\n",
              "      <td>0.022292</td>\n",
              "      <td>-0.014134</td>\n",
              "      <td>0.022210</td>\n",
              "      <td>0.607944</td>\n",
              "      <td>0.199732</td>\n",
              "      <td>0.005892</td>\n",
              "    </tr>\n",
              "    <tr>\n",
              "      <th>NumberOfFollowups</th>\n",
              "      <td>-0.012169</td>\n",
              "      <td>0.013065</td>\n",
              "      <td>0.025060</td>\n",
              "      <td>0.042534</td>\n",
              "      <td>0.334323</td>\n",
              "      <td>1.000000</td>\n",
              "      <td>-0.053658</td>\n",
              "      <td>0.132658</td>\n",
              "      <td>-0.007550</td>\n",
              "      <td>-0.009562</td>\n",
              "      <td>0.047885</td>\n",
              "      <td>0.292480</td>\n",
              "      <td>0.203708</td>\n",
              "      <td>0.106390</td>\n",
              "    </tr>\n",
              "    <tr>\n",
              "      <th>PreferredPropertyStar</th>\n",
              "      <td>-0.013799</td>\n",
              "      <td>-0.032351</td>\n",
              "      <td>-0.012441</td>\n",
              "      <td>-0.005695</td>\n",
              "      <td>0.014049</td>\n",
              "      <td>-0.053658</td>\n",
              "      <td>1.000000</td>\n",
              "      <td>0.032798</td>\n",
              "      <td>0.012289</td>\n",
              "      <td>-0.017264</td>\n",
              "      <td>0.027949</td>\n",
              "      <td>0.023574</td>\n",
              "      <td>-0.049344</td>\n",
              "      <td>0.114223</td>\n",
              "    </tr>\n",
              "    <tr>\n",
              "      <th>NumberOfTrips</th>\n",
              "      <td>0.041203</td>\n",
              "      <td>0.168556</td>\n",
              "      <td>-0.020977</td>\n",
              "      <td>0.024356</td>\n",
              "      <td>0.207540</td>\n",
              "      <td>0.132658</td>\n",
              "      <td>0.032798</td>\n",
              "      <td>1.000000</td>\n",
              "      <td>0.005706</td>\n",
              "      <td>0.032814</td>\n",
              "      <td>0.006739</td>\n",
              "      <td>0.179863</td>\n",
              "      <td>0.140948</td>\n",
              "      <td>0.042000</td>\n",
              "    </tr>\n",
              "    <tr>\n",
              "      <th>Passport</th>\n",
              "      <td>0.009410</td>\n",
              "      <td>0.026135</td>\n",
              "      <td>0.013984</td>\n",
              "      <td>0.043715</td>\n",
              "      <td>0.022292</td>\n",
              "      <td>-0.007550</td>\n",
              "      <td>0.012289</td>\n",
              "      <td>0.005706</td>\n",
              "      <td>1.000000</td>\n",
              "      <td>0.018986</td>\n",
              "      <td>-0.044683</td>\n",
              "      <td>0.029989</td>\n",
              "      <td>-0.005354</td>\n",
              "      <td>0.296034</td>\n",
              "    </tr>\n",
              "    <tr>\n",
              "      <th>PitchSatisfactionScore</th>\n",
              "      <td>-0.037917</td>\n",
              "      <td>0.030101</td>\n",
              "      <td>-0.028100</td>\n",
              "      <td>0.010619</td>\n",
              "      <td>-0.014134</td>\n",
              "      <td>-0.009562</td>\n",
              "      <td>-0.017264</td>\n",
              "      <td>0.032814</td>\n",
              "      <td>0.018986</td>\n",
              "      <td>1.000000</td>\n",
              "      <td>0.073592</td>\n",
              "      <td>0.019186</td>\n",
              "      <td>0.005280</td>\n",
              "      <td>0.069063</td>\n",
              "    </tr>\n",
              "    <tr>\n",
              "      <th>OwnCar</th>\n",
              "      <td>-0.013178</td>\n",
              "      <td>0.061674</td>\n",
              "      <td>0.015142</td>\n",
              "      <td>-0.015588</td>\n",
              "      <td>0.022210</td>\n",
              "      <td>0.047885</td>\n",
              "      <td>0.027949</td>\n",
              "      <td>0.006739</td>\n",
              "      <td>-0.044683</td>\n",
              "      <td>0.073592</td>\n",
              "      <td>1.000000</td>\n",
              "      <td>0.037327</td>\n",
              "      <td>0.106300</td>\n",
              "      <td>-0.040828</td>\n",
              "    </tr>\n",
              "    <tr>\n",
              "      <th>NumberOfChildrenVisiting</th>\n",
              "      <td>0.030966</td>\n",
              "      <td>0.034340</td>\n",
              "      <td>0.023467</td>\n",
              "      <td>0.048954</td>\n",
              "      <td>0.607944</td>\n",
              "      <td>0.292480</td>\n",
              "      <td>0.023574</td>\n",
              "      <td>0.179863</td>\n",
              "      <td>0.029989</td>\n",
              "      <td>0.019186</td>\n",
              "      <td>0.037327</td>\n",
              "      <td>1.000000</td>\n",
              "      <td>0.198309</td>\n",
              "      <td>0.006725</td>\n",
              "    </tr>\n",
              "    <tr>\n",
              "      <th>MonthlyIncome</th>\n",
              "      <td>0.036190</td>\n",
              "      <td>0.484854</td>\n",
              "      <td>0.073198</td>\n",
              "      <td>0.031550</td>\n",
              "      <td>0.199732</td>\n",
              "      <td>0.203708</td>\n",
              "      <td>-0.049344</td>\n",
              "      <td>0.140948</td>\n",
              "      <td>-0.005354</td>\n",
              "      <td>0.005280</td>\n",
              "      <td>0.106300</td>\n",
              "      <td>0.198309</td>\n",
              "      <td>1.000000</td>\n",
              "      <td>-0.143123</td>\n",
              "    </tr>\n",
              "    <tr>\n",
              "      <th>ProdTaken</th>\n",
              "      <td>-0.049313</td>\n",
              "      <td>-0.132467</td>\n",
              "      <td>0.083969</td>\n",
              "      <td>0.071512</td>\n",
              "      <td>0.005892</td>\n",
              "      <td>0.106390</td>\n",
              "      <td>0.114223</td>\n",
              "      <td>0.042000</td>\n",
              "      <td>0.296034</td>\n",
              "      <td>0.069063</td>\n",
              "      <td>-0.040828</td>\n",
              "      <td>0.006725</td>\n",
              "      <td>-0.143123</td>\n",
              "      <td>1.000000</td>\n",
              "    </tr>\n",
              "  </tbody>\n",
              "</table>\n",
              "</div>\n",
              "      <button class=\"colab-df-convert\" onclick=\"convertToInteractive('df-4c019403-e1cc-4f11-ad2b-3e3c6f082cb7')\"\n",
              "              title=\"Convert this dataframe to an interactive table.\"\n",
              "              style=\"display:none;\">\n",
              "        \n",
              "  <svg xmlns=\"http://www.w3.org/2000/svg\" height=\"24px\"viewBox=\"0 0 24 24\"\n",
              "       width=\"24px\">\n",
              "    <path d=\"M0 0h24v24H0V0z\" fill=\"none\"/>\n",
              "    <path d=\"M18.56 5.44l.94 2.06.94-2.06 2.06-.94-2.06-.94-.94-2.06-.94 2.06-2.06.94zm-11 1L8.5 8.5l.94-2.06 2.06-.94-2.06-.94L8.5 2.5l-.94 2.06-2.06.94zm10 10l.94 2.06.94-2.06 2.06-.94-2.06-.94-.94-2.06-.94 2.06-2.06.94z\"/><path d=\"M17.41 7.96l-1.37-1.37c-.4-.4-.92-.59-1.43-.59-.52 0-1.04.2-1.43.59L10.3 9.45l-7.72 7.72c-.78.78-.78 2.05 0 2.83L4 21.41c.39.39.9.59 1.41.59.51 0 1.02-.2 1.41-.59l7.78-7.78 2.81-2.81c.8-.78.8-2.07 0-2.86zM5.41 20L4 18.59l7.72-7.72 1.47 1.35L5.41 20z\"/>\n",
              "  </svg>\n",
              "      </button>\n",
              "      \n",
              "  <style>\n",
              "    .colab-df-container {\n",
              "      display:flex;\n",
              "      flex-wrap:wrap;\n",
              "      gap: 12px;\n",
              "    }\n",
              "\n",
              "    .colab-df-convert {\n",
              "      background-color: #E8F0FE;\n",
              "      border: none;\n",
              "      border-radius: 50%;\n",
              "      cursor: pointer;\n",
              "      display: none;\n",
              "      fill: #1967D2;\n",
              "      height: 32px;\n",
              "      padding: 0 0 0 0;\n",
              "      width: 32px;\n",
              "    }\n",
              "\n",
              "    .colab-df-convert:hover {\n",
              "      background-color: #E2EBFA;\n",
              "      box-shadow: 0px 1px 2px rgba(60, 64, 67, 0.3), 0px 1px 3px 1px rgba(60, 64, 67, 0.15);\n",
              "      fill: #174EA6;\n",
              "    }\n",
              "\n",
              "    [theme=dark] .colab-df-convert {\n",
              "      background-color: #3B4455;\n",
              "      fill: #D2E3FC;\n",
              "    }\n",
              "\n",
              "    [theme=dark] .colab-df-convert:hover {\n",
              "      background-color: #434B5C;\n",
              "      box-shadow: 0px 1px 3px 1px rgba(0, 0, 0, 0.15);\n",
              "      filter: drop-shadow(0px 1px 2px rgba(0, 0, 0, 0.3));\n",
              "      fill: #FFFFFF;\n",
              "    }\n",
              "  </style>\n",
              "\n",
              "      <script>\n",
              "        const buttonEl =\n",
              "          document.querySelector('#df-4c019403-e1cc-4f11-ad2b-3e3c6f082cb7 button.colab-df-convert');\n",
              "        buttonEl.style.display =\n",
              "          google.colab.kernel.accessAllowed ? 'block' : 'none';\n",
              "\n",
              "        async function convertToInteractive(key) {\n",
              "          const element = document.querySelector('#df-4c019403-e1cc-4f11-ad2b-3e3c6f082cb7');\n",
              "          const dataTable =\n",
              "            await google.colab.kernel.invokeFunction('convertToInteractive',\n",
              "                                                     [key], {});\n",
              "          if (!dataTable) return;\n",
              "\n",
              "          const docLinkHtml = 'Like what you see? Visit the ' +\n",
              "            '<a target=\"_blank\" href=https://colab.research.google.com/notebooks/data_table.ipynb>data table notebook</a>'\n",
              "            + ' to learn more about interactive tables.';\n",
              "          element.innerHTML = '';\n",
              "          dataTable['output_type'] = 'display_data';\n",
              "          await google.colab.output.renderOutput(dataTable, element);\n",
              "          const docLink = document.createElement('div');\n",
              "          docLink.innerHTML = docLinkHtml;\n",
              "          element.appendChild(docLink);\n",
              "        }\n",
              "      </script>\n",
              "    </div>\n",
              "  </div>\n",
              "  "
            ]
          },
          "metadata": {},
          "execution_count": 100
        }
      ]
    },
    {
      "cell_type": "code",
      "source": [
        "plt.figure(figsize = (15,8))\n",
        "sns.heatmap(train_df.corr(), annot=True)"
      ],
      "metadata": {
        "colab": {
          "base_uri": "https://localhost:8080/",
          "height": 625
        },
        "id": "JC9ApFe3j10r",
        "outputId": "6d58c009-dfac-4d3a-dbd3-19745397edf1"
      },
      "execution_count": null,
      "outputs": [
        {
          "output_type": "execute_result",
          "data": {
            "text/plain": [
              "<matplotlib.axes._subplots.AxesSubplot at 0x7f5d0d643090>"
            ]
          },
          "metadata": {},
          "execution_count": 103
        },
        {
          "output_type": "display_data",
          "data": {
            "text/plain": [
              "<Figure size 1080x576 with 2 Axes>"
            ],
            "image/png": "[encoded data removed]"
          },
          "metadata": {
            "needs_background": "light"
          }
        }
      ]
    },
    {
      "cell_type": "code",
      "source": [
        ""
      ],
      "metadata": {
        "id": "gWpddJeLj2Q7"
      },
      "execution_count": null,
      "outputs": []
    },
    {
      "cell_type": "markdown",
      "source": [
        "## 2. test data"
      ],
      "metadata": {
        "id": "lxa9LvdAi4fd"
      }
    },
    {
      "cell_type": "code",
      "source": [
        "test_df = pd.read_csv(\"/content/drive/MyDrive/DACON_BASIC/test.csv\")\n",
        "test_df"
      ],
      "metadata": {
        "colab": {
          "base_uri": "https://localhost:8080/",
          "height": 626
        },
        "id": "5JyZuMb7i5kr",
        "outputId": "8e042d42-dcfe-4f3d-ede5-87af5bd3e756"
      },
      "execution_count": null,
      "outputs": [
        {
          "output_type": "execute_result",
          "data": {
            "text/plain": [
              "        id   Age    TypeofContact  CityTier  DurationOfPitch      Occupation  \\\n",
              "0        1  32.0  Company Invited         3              NaN  Small Business   \n",
              "1        2  46.0     Self Enquiry         2             11.0  Small Business   \n",
              "2        3  37.0     Self Enquiry         3             22.0  Small Business   \n",
              "3        4  43.0     Self Enquiry         1             36.0  Small Business   \n",
              "4        5  25.0     Self Enquiry         3              7.0  Large Business   \n",
              "...    ...   ...              ...       ...              ...             ...   \n",
              "2928  2929  54.0     Self Enquiry         1              6.0  Small Business   \n",
              "2929  2930  33.0     Self Enquiry         1              9.0  Small Business   \n",
              "2930  2931  33.0  Company Invited         1             31.0        Salaried   \n",
              "2931  2932  26.0     Self Enquiry         1              9.0  Small Business   \n",
              "2932  2933  31.0     Self Enquiry         1              9.0        Salaried   \n",
              "\n",
              "       Gender  NumberOfPersonVisiting  NumberOfFollowups ProductPitched  \\\n",
              "0        Male                       2                5.0         Deluxe   \n",
              "1        Male                       3                NaN         Deluxe   \n",
              "2        Male                       3                4.0         Deluxe   \n",
              "3        Male                       3                6.0         Deluxe   \n",
              "4      Female                       4                4.0          Basic   \n",
              "...       ...                     ...                ...            ...   \n",
              "2928   Female                       2                3.0   Super Deluxe   \n",
              "2929  Fe Male                       4                2.0         Deluxe   \n",
              "2930     Male                       4                4.0         Deluxe   \n",
              "2931     Male                       4                2.0          Basic   \n",
              "2932     Male                       3                5.0         Deluxe   \n",
              "\n",
              "      PreferredPropertyStar MaritalStatus  NumberOfTrips  Passport  \\\n",
              "0                       3.0       Married            1.0         0   \n",
              "1                       4.0       Married            1.0         1   \n",
              "2                       3.0       Married            5.0         0   \n",
              "3                       3.0     Unmarried            6.0         0   \n",
              "4                       4.0     Unmarried            3.0         1   \n",
              "...                     ...           ...            ...       ...   \n",
              "2928                    3.0        Single            7.0         0   \n",
              "2929                    3.0     Unmarried            2.0         0   \n",
              "2930                    3.0      Divorced            3.0         0   \n",
              "2931                    5.0     Unmarried            2.0         0   \n",
              "2932                    3.0      Divorced            3.0         0   \n",
              "\n",
              "      PitchSatisfactionScore  OwnCar  NumberOfChildrenVisiting Designation  \\\n",
              "0                          2       0                       1.0     Manager   \n",
              "1                          5       0                       1.0     Manager   \n",
              "2                          5       1                       0.0     Manager   \n",
              "3                          3       1                       2.0     Manager   \n",
              "4                          4       1                       3.0   Executive   \n",
              "...                      ...     ...                       ...         ...   \n",
              "2928                       4       1                       1.0         AVP   \n",
              "2929                       3       0                       1.0     Manager   \n",
              "2930                       4       1                       1.0     Manager   \n",
              "2931                       2       1                       3.0   Executive   \n",
              "2932                       4       1                       1.0     Manager   \n",
              "\n",
              "      MonthlyIncome  \n",
              "0           19668.0  \n",
              "1           20021.0  \n",
              "2           21334.0  \n",
              "3           22950.0  \n",
              "4           21880.0  \n",
              "...             ...  \n",
              "2928        32328.0  \n",
              "2929        23733.0  \n",
              "2930        23987.0  \n",
              "2931        22102.0  \n",
              "2932        22830.0  \n",
              "\n",
              "[2933 rows x 19 columns]"
            ],
            "text/html": [
              "\n",
              "  <div id=\"df-e70f0a79-e25d-41e6-bef3-2fe0b82c3f1d\">\n",
              "    <div class=\"colab-df-container\">\n",
              "      <div>\n",
              "<style scoped>\n",
              "    .dataframe tbody tr th:only-of-type {\n",
              "        vertical-align: middle;\n",
              "    }\n",
              "\n",
              "    .dataframe tbody tr th {\n",
              "        vertical-align: top;\n",
              "    }\n",
              "\n",
              "    .dataframe thead th {\n",
              "        text-align: right;\n",
              "    }\n",
              "</style>\n",
              "<table border=\"1\" class=\"dataframe\">\n",
              "  <thead>\n",
              "    <tr style=\"text-align: right;\">\n",
              "      <th></th>\n",
              "      <th>id</th>\n",
              "      <th>Age</th>\n",
              "      <th>TypeofContact</th>\n",
              "      <th>CityTier</th>\n",
              "      <th>DurationOfPitch</th>\n",
              "      <th>Occupation</th>\n",
              "      <th>Gender</th>\n",
              "      <th>NumberOfPersonVisiting</th>\n",
              "      <th>NumberOfFollowups</th>\n",
              "      <th>ProductPitched</th>\n",
              "      <th>PreferredPropertyStar</th>\n",
              "      <th>MaritalStatus</th>\n",
              "      <th>NumberOfTrips</th>\n",
              "      <th>Passport</th>\n",
              "      <th>PitchSatisfactionScore</th>\n",
              "      <th>OwnCar</th>\n",
              "      <th>NumberOfChildrenVisiting</th>\n",
              "      <th>Designation</th>\n",
              "      <th>MonthlyIncome</th>\n",
              "    </tr>\n",
              "  </thead>\n",
              "  <tbody>\n",
              "    <tr>\n",
              "      <th>0</th>\n",
              "      <td>1</td>\n",
              "      <td>32.0</td>\n",
              "      <td>Company Invited</td>\n",
              "      <td>3</td>\n",
              "      <td>NaN</td>\n",
              "      <td>Small Business</td>\n",
              "      <td>Male</td>\n",
              "      <td>2</td>\n",
              "      <td>5.0</td>\n",
              "      <td>Deluxe</td>\n",
              "      <td>3.0</td>\n",
              "      <td>Married</td>\n",
              "      <td>1.0</td>\n",
              "      <td>0</td>\n",
              "      <td>2</td>\n",
              "      <td>0</td>\n",
              "      <td>1.0</td>\n",
              "      <td>Manager</td>\n",
              "      <td>19668.0</td>\n",
              "    </tr>\n",
              "    <tr>\n",
              "      <th>1</th>\n",
              "      <td>2</td>\n",
              "      <td>46.0</td>\n",
              "      <td>Self Enquiry</td>\n",
              "      <td>2</td>\n",
              "      <td>11.0</td>\n",
              "      <td>Small Business</td>\n",
              "      <td>Male</td>\n",
              "      <td>3</td>\n",
              "      <td>NaN</td>\n",
              "      <td>Deluxe</td>\n",
              "      <td>4.0</td>\n",
              "      <td>Married</td>\n",
              "      <td>1.0</td>\n",
              "      <td>1</td>\n",
              "      <td>5</td>\n",
              "      <td>0</td>\n",
              "      <td>1.0</td>\n",
              "      <td>Manager</td>\n",
              "      <td>20021.0</td>\n",
              "    </tr>\n",
              "    <tr>\n",
              "      <th>2</th>\n",
              "      <td>3</td>\n",
              "      <td>37.0</td>\n",
              "      <td>Self Enquiry</td>\n",
              "      <td>3</td>\n",
              "      <td>22.0</td>\n",
              "      <td>Small Business</td>\n",
              "      <td>Male</td>\n",
              "      <td>3</td>\n",
              "      <td>4.0</td>\n",
              "      <td>Deluxe</td>\n",
              "      <td>3.0</td>\n",
              "      <td>Married</td>\n",
              "      <td>5.0</td>\n",
              "      <td>0</td>\n",
              "      <td>5</td>\n",
              "      <td>1</td>\n",
              "      <td>0.0</td>\n",
              "      <td>Manager</td>\n",
              "      <td>21334.0</td>\n",
              "    </tr>\n",
              "    <tr>\n",
              "      <th>3</th>\n",
              "      <td>4</td>\n",
              "      <td>43.0</td>\n",
              "      <td>Self Enquiry</td>\n",
              "      <td>1</td>\n",
              "      <td>36.0</td>\n",
              "      <td>Small Business</td>\n",
              "      <td>Male</td>\n",
              "      <td>3</td>\n",
              "      <td>6.0</td>\n",
              "      <td>Deluxe</td>\n",
              "      <td>3.0</td>\n",
              "      <td>Unmarried</td>\n",
              "      <td>6.0</td>\n",
              "      <td>0</td>\n",
              "      <td>3</td>\n",
              "      <td>1</td>\n",
              "      <td>2.0</td>\n",
              "      <td>Manager</td>\n",
              "      <td>22950.0</td>\n",
              "    </tr>\n",
              "    <tr>\n",
              "      <th>4</th>\n",
              "      <td>5</td>\n",
              "      <td>25.0</td>\n",
              "      <td>Self Enquiry</td>\n",
              "      <td>3</td>\n",
              "      <td>7.0</td>\n",
              "      <td>Large Business</td>\n",
              "      <td>Female</td>\n",
              "      <td>4</td>\n",
              "      <td>4.0</td>\n",
              "      <td>Basic</td>\n",
              "      <td>4.0</td>\n",
              "      <td>Unmarried</td>\n",
              "      <td>3.0</td>\n",
              "      <td>1</td>\n",
              "      <td>4</td>\n",
              "      <td>1</td>\n",
              "      <td>3.0</td>\n",
              "      <td>Executive</td>\n",
              "      <td>21880.0</td>\n",
              "    </tr>\n",
              "    <tr>\n",
              "      <th>...</th>\n",
              "      <td>...</td>\n",
              "      <td>...</td>\n",
              "      <td>...</td>\n",
              "      <td>...</td>\n",
              "      <td>...</td>\n",
              "      <td>...</td>\n",
              "      <td>...</td>\n",
              "      <td>...</td>\n",
              "      <td>...</td>\n",
              "      <td>...</td>\n",
              "      <td>...</td>\n",
              "      <td>...</td>\n",
              "      <td>...</td>\n",
              "      <td>...</td>\n",
              "      <td>...</td>\n",
              "      <td>...</td>\n",
              "      <td>...</td>\n",
              "      <td>...</td>\n",
              "      <td>...</td>\n",
              "    </tr>\n",
              "    <tr>\n",
              "      <th>2928</th>\n",
              "      <td>2929</td>\n",
              "      <td>54.0</td>\n",
              "      <td>Self Enquiry</td>\n",
              "      <td>1</td>\n",
              "      <td>6.0</td>\n",
              "      <td>Small Business</td>\n",
              "      <td>Female</td>\n",
              "      <td>2</td>\n",
              "      <td>3.0</td>\n",
              "      <td>Super Deluxe</td>\n",
              "      <td>3.0</td>\n",
              "      <td>Single</td>\n",
              "      <td>7.0</td>\n",
              "      <td>0</td>\n",
              "      <td>4</td>\n",
              "      <td>1</td>\n",
              "      <td>1.0</td>\n",
              "      <td>AVP</td>\n",
              "      <td>32328.0</td>\n",
              "    </tr>\n",
              "    <tr>\n",
              "      <th>2929</th>\n",
              "      <td>2930</td>\n",
              "      <td>33.0</td>\n",
              "      <td>Self Enquiry</td>\n",
              "      <td>1</td>\n",
              "      <td>9.0</td>\n",
              "      <td>Small Business</td>\n",
              "      <td>Fe Male</td>\n",
              "      <td>4</td>\n",
              "      <td>2.0</td>\n",
              "      <td>Deluxe</td>\n",
              "      <td>3.0</td>\n",
              "      <td>Unmarried</td>\n",
              "      <td>2.0</td>\n",
              "      <td>0</td>\n",
              "      <td>3</td>\n",
              "      <td>0</td>\n",
              "      <td>1.0</td>\n",
              "      <td>Manager</td>\n",
              "      <td>23733.0</td>\n",
              "    </tr>\n",
              "    <tr>\n",
              "      <th>2930</th>\n",
              "      <td>2931</td>\n",
              "      <td>33.0</td>\n",
              "      <td>Company Invited</td>\n",
              "      <td>1</td>\n",
              "      <td>31.0</td>\n",
              "      <td>Salaried</td>\n",
              "      <td>Male</td>\n",
              "      <td>4</td>\n",
              "      <td>4.0</td>\n",
              "      <td>Deluxe</td>\n",
              "      <td>3.0</td>\n",
              "      <td>Divorced</td>\n",
              "      <td>3.0</td>\n",
              "      <td>0</td>\n",
              "      <td>4</td>\n",
              "      <td>1</td>\n",
              "      <td>1.0</td>\n",
              "      <td>Manager</td>\n",
              "      <td>23987.0</td>\n",
              "    </tr>\n",
              "    <tr>\n",
              "      <th>2931</th>\n",
              "      <td>2932</td>\n",
              "      <td>26.0</td>\n",
              "      <td>Self Enquiry</td>\n",
              "      <td>1</td>\n",
              "      <td>9.0</td>\n",
              "      <td>Small Business</td>\n",
              "      <td>Male</td>\n",
              "      <td>4</td>\n",
              "      <td>2.0</td>\n",
              "      <td>Basic</td>\n",
              "      <td>5.0</td>\n",
              "      <td>Unmarried</td>\n",
              "      <td>2.0</td>\n",
              "      <td>0</td>\n",
              "      <td>2</td>\n",
              "      <td>1</td>\n",
              "      <td>3.0</td>\n",
              "      <td>Executive</td>\n",
              "      <td>22102.0</td>\n",
              "    </tr>\n",
              "    <tr>\n",
              "      <th>2932</th>\n",
              "      <td>2933</td>\n",
              "      <td>31.0</td>\n",
              "      <td>Self Enquiry</td>\n",
              "      <td>1</td>\n",
              "      <td>9.0</td>\n",
              "      <td>Salaried</td>\n",
              "      <td>Male</td>\n",
              "      <td>3</td>\n",
              "      <td>5.0</td>\n",
              "      <td>Deluxe</td>\n",
              "      <td>3.0</td>\n",
              "      <td>Divorced</td>\n",
              "      <td>3.0</td>\n",
              "      <td>0</td>\n",
              "      <td>4</td>\n",
              "      <td>1</td>\n",
              "      <td>1.0</td>\n",
              "      <td>Manager</td>\n",
              "      <td>22830.0</td>\n",
              "    </tr>\n",
              "  </tbody>\n",
              "</table>\n",
              "<p>2933 rows × 19 columns</p>\n",
              "</div>\n",
              "      <button class=\"colab-df-convert\" onclick=\"convertToInteractive('df-e70f0a79-e25d-41e6-bef3-2fe0b82c3f1d')\"\n",
              "              title=\"Convert this dataframe to an interactive table.\"\n",
              "              style=\"display:none;\">\n",
              "        \n",
              "  <svg xmlns=\"http://www.w3.org/2000/svg\" height=\"24px\"viewBox=\"0 0 24 24\"\n",
              "       width=\"24px\">\n",
              "    <path d=\"M0 0h24v24H0V0z\" fill=\"none\"/>\n",
              "    <path d=\"M18.56 5.44l.94 2.06.94-2.06 2.06-.94-2.06-.94-.94-2.06-.94 2.06-2.06.94zm-11 1L8.5 8.5l.94-2.06 2.06-.94-2.06-.94L8.5 2.5l-.94 2.06-2.06.94zm10 10l.94 2.06.94-2.06 2.06-.94-2.06-.94-.94-2.06-.94 2.06-2.06.94z\"/><path d=\"M17.41 7.96l-1.37-1.37c-.4-.4-.92-.59-1.43-.59-.52 0-1.04.2-1.43.59L10.3 9.45l-7.72 7.72c-.78.78-.78 2.05 0 2.83L4 21.41c.39.39.9.59 1.41.59.51 0 1.02-.2 1.41-.59l7.78-7.78 2.81-2.81c.8-.78.8-2.07 0-2.86zM5.41 20L4 18.59l7.72-7.72 1.47 1.35L5.41 20z\"/>\n",
              "  </svg>\n",
              "      </button>\n",
              "      \n",
              "  <style>\n",
              "    .colab-df-container {\n",
              "      display:flex;\n",
              "      flex-wrap:wrap;\n",
              "      gap: 12px;\n",
              "    }\n",
              "\n",
              "    .colab-df-convert {\n",
              "      background-color: #E8F0FE;\n",
              "      border: none;\n",
              "      border-radius: 50%;\n",
              "      cursor: pointer;\n",
              "      display: none;\n",
              "      fill: #1967D2;\n",
              "      height: 32px;\n",
              "      padding: 0 0 0 0;\n",
              "      width: 32px;\n",
              "    }\n",
              "\n",
              "    .colab-df-convert:hover {\n",
              "      background-color: #E2EBFA;\n",
              "      box-shadow: 0px 1px 2px rgba(60, 64, 67, 0.3), 0px 1px 3px 1px rgba(60, 64, 67, 0.15);\n",
              "      fill: #174EA6;\n",
              "    }\n",
              "\n",
              "    [theme=dark] .colab-df-convert {\n",
              "      background-color: #3B4455;\n",
              "      fill: #D2E3FC;\n",
              "    }\n",
              "\n",
              "    [theme=dark] .colab-df-convert:hover {\n",
              "      background-color: #434B5C;\n",
              "      box-shadow: 0px 1px 3px 1px rgba(0, 0, 0, 0.15);\n",
              "      filter: drop-shadow(0px 1px 2px rgba(0, 0, 0, 0.3));\n",
              "      fill: #FFFFFF;\n",
              "    }\n",
              "  </style>\n",
              "\n",
              "      <script>\n",
              "        const buttonEl =\n",
              "          document.querySelector('#df-e70f0a79-e25d-41e6-bef3-2fe0b82c3f1d button.colab-df-convert');\n",
              "        buttonEl.style.display =\n",
              "          google.colab.kernel.accessAllowed ? 'block' : 'none';\n",
              "\n",
              "        async function convertToInteractive(key) {\n",
              "          const element = document.querySelector('#df-e70f0a79-e25d-41e6-bef3-2fe0b82c3f1d');\n",
              "          const dataTable =\n",
              "            await google.colab.kernel.invokeFunction('convertToInteractive',\n",
              "                                                     [key], {});\n",
              "          if (!dataTable) return;\n",
              "\n",
              "          const docLinkHtml = 'Like what you see? Visit the ' +\n",
              "            '<a target=\"_blank\" href=https://colab.research.google.com/notebooks/data_table.ipynb>data table notebook</a>'\n",
              "            + ' to learn more about interactive tables.';\n",
              "          element.innerHTML = '';\n",
              "          dataTable['output_type'] = 'display_data';\n",
              "          await google.colab.output.renderOutput(dataTable, element);\n",
              "          const docLink = document.createElement('div');\n",
              "          docLink.innerHTML = docLinkHtml;\n",
              "          element.appendChild(docLink);\n",
              "        }\n",
              "      </script>\n",
              "    </div>\n",
              "  </div>\n",
              "  "
            ]
          },
          "metadata": {},
          "execution_count": 10
        }
      ]
    },
    {
      "cell_type": "code",
      "source": [
        "test_df.shape"
      ],
      "metadata": {
        "colab": {
          "base_uri": "https://localhost:8080/"
        },
        "id": "Zx1O2Iy6i5n0",
        "outputId": "9cfb0c3e-b6d1-40b8-9c74-8319542832bc"
      },
      "execution_count": null,
      "outputs": [
        {
          "output_type": "execute_result",
          "data": {
            "text/plain": [
              "(2933, 19)"
            ]
          },
          "metadata": {},
          "execution_count": 13
        }
      ]
    },
    {
      "cell_type": "markdown",
      "source": [
        "- 8/21 : EDA (이상치,결측치 처리)\n",
        "- 8/28 : 모델 공부(classification 찾아보기) + 모델 적용(랜덤 포레스트, ...)\n",
        "- 9/2 : 모델 하이퍼파라미터 조정하면서 예측 성능 높이기 (앙상블, ...)\n",
        "\n",
        "- 9/4 : 피피티 완성\n",
        "- 9/5 : 발표"
      ],
      "metadata": {
        "id": "yCPhlIIDwd28"
      }
    },
    {
      "cell_type": "markdown",
      "source": [
        "- 클러스터링 발표 : ???\n",
        "- 클러스터링 피피티 : k=2,3,4 나눈거는 각자 맡은 거 만들고 + 1명이 앞부분 / 모델(kmeans) \n",
        "- 데이콘 발표 : ??? \n",
        "- 데이콘 피피티 :전처리 / EDA / 모델 "
      ],
      "metadata": {
        "id": "RtFWae8F5UqB"
      }
    }
  ]
}