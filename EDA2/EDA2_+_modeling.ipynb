{
  "cells": [
    {
      "cell_type": "code",
      "execution_count": 1,
      "metadata": {
        "colab": {
          "base_uri": "https://localhost:8080/"
        },
        "id": "8p1VvBOpftxR",
        "outputId": "af43aae9-6da5-4d3f-ea6c-0a8fe482d3e4"
      },
      "outputs": [
        {
          "output_type": "stream",
          "name": "stdout",
          "text": [
            "Mounted at /content/drive\n",
            "/content/drive/MyDrive\n"
          ]
        }
      ],
      "source": [
        "from google.colab import drive\n",
        "\n",
        "drive.mount('/content/drive')\n",
        "%cd drive/MyDrive"
      ]
    },
    {
      "cell_type": "code",
      "execution_count": 2,
      "metadata": {
        "id": "zkdpo52igXMn"
      },
      "outputs": [],
      "source": [
        "import numpy as np \n",
        "import pandas as pd \n",
        "import seaborn as sns\n",
        "import os\n",
        "import cv2\n",
        "import matplotlib.pyplot as plt"
      ]
    },
    {
      "cell_type": "code",
      "execution_count": 3,
      "metadata": {
        "colab": {
          "base_uri": "https://localhost:8080/",
          "height": 627
        },
        "id": "n85rAJCZgXS8",
        "outputId": "4813609e-5751-45cf-8820-963453b75663"
      },
      "outputs": [
        {
          "output_type": "execute_result",
          "data": {
            "text/plain": [
              "        id   Age    TypeofContact  CityTier  DurationOfPitch      Occupation  \\\n",
              "0        1  28.0  Company Invited         1             10.0  Small Business   \n",
              "1        2  34.0     Self Enquiry         3              NaN  Small Business   \n",
              "2        3  45.0  Company Invited         1              NaN        Salaried   \n",
              "3        4  29.0  Company Invited         1              7.0  Small Business   \n",
              "4        5  42.0     Self Enquiry         3              6.0        Salaried   \n",
              "...    ...   ...              ...       ...              ...             ...   \n",
              "1950  1951  28.0     Self Enquiry         1             10.0  Small Business   \n",
              "1951  1952  41.0     Self Enquiry         3              8.0        Salaried   \n",
              "1952  1953  38.0  Company Invited         3             28.0  Small Business   \n",
              "1953  1954  28.0     Self Enquiry         3             30.0  Small Business   \n",
              "1954  1955  22.0  Company Invited         1              9.0        Salaried   \n",
              "\n",
              "      Gender  NumberOfPersonVisiting  NumberOfFollowups ProductPitched  \\\n",
              "0       Male                       3                4.0          Basic   \n",
              "1     Female                       2                4.0         Deluxe   \n",
              "2       Male                       2                3.0         Deluxe   \n",
              "3       Male                       3                5.0          Basic   \n",
              "4       Male                       2                3.0         Deluxe   \n",
              "...      ...                     ...                ...            ...   \n",
              "1950    Male                       3                5.0          Basic   \n",
              "1951  Female                       3                3.0   Super Deluxe   \n",
              "1952  Female                       3                4.0          Basic   \n",
              "1953  Female                       3                5.0         Deluxe   \n",
              "1954    Male                       2                4.0          Basic   \n",
              "\n",
              "      PreferredPropertyStar MaritalStatus  NumberOfTrips  Passport  \\\n",
              "0                       3.0       Married            3.0         0   \n",
              "1                       4.0        Single            1.0         1   \n",
              "2                       4.0       Married            2.0         0   \n",
              "3                       4.0       Married            3.0         0   \n",
              "4                       3.0      Divorced            2.0         0   \n",
              "...                     ...           ...            ...       ...   \n",
              "1950                    3.0        Single            2.0         0   \n",
              "1951                    5.0      Divorced            1.0         0   \n",
              "1952                    3.0      Divorced            7.0         0   \n",
              "1953                    3.0       Married            3.0         0   \n",
              "1954                    3.0      Divorced            1.0         1   \n",
              "\n",
              "      PitchSatisfactionScore  OwnCar  NumberOfChildrenVisiting Designation  \\\n",
              "0                          1       0                       1.0   Executive   \n",
              "1                          5       1                       0.0     Manager   \n",
              "2                          4       1                       0.0     Manager   \n",
              "3                          4       0                       1.0   Executive   \n",
              "4                          3       1                       0.0     Manager   \n",
              "...                      ...     ...                       ...         ...   \n",
              "1950                       1       1                       2.0   Executive   \n",
              "1951                       5       1                       1.0         AVP   \n",
              "1952                       2       1                       2.0   Executive   \n",
              "1953                       1       1                       2.0     Manager   \n",
              "1954                       3       0                       0.0   Executive   \n",
              "\n",
              "      MonthlyIncome  ProdTaken  \n",
              "0           20384.0          0  \n",
              "1           19599.0          1  \n",
              "2               NaN          0  \n",
              "3           21274.0          1  \n",
              "4           19907.0          0  \n",
              "...             ...        ...  \n",
              "1950        20723.0          0  \n",
              "1951        31595.0          0  \n",
              "1952        21651.0          0  \n",
              "1953        22218.0          0  \n",
              "1954        17853.0          1  \n",
              "\n",
              "[1955 rows x 20 columns]"
            ],
            "text/html": [
              "\n",
              "  <div id=\"df-b5255401-7fe2-46e2-b9ea-0eb1c43b7058\">\n",
              "    <div class=\"colab-df-container\">\n",
              "      <div>\n",
              "<style scoped>\n",
              "    .dataframe tbody tr th:only-of-type {\n",
              "        vertical-align: middle;\n",
              "    }\n",
              "\n",
              "    .dataframe tbody tr th {\n",
              "        vertical-align: top;\n",
              "    }\n",
              "\n",
              "    .dataframe thead th {\n",
              "        text-align: right;\n",
              "    }\n",
              "</style>\n",
              "<table border=\"1\" class=\"dataframe\">\n",
              "  <thead>\n",
              "    <tr style=\"text-align: right;\">\n",
              "      <th></th>\n",
              "      <th>id</th>\n",
              "      <th>Age</th>\n",
              "      <th>TypeofContact</th>\n",
              "      <th>CityTier</th>\n",
              "      <th>DurationOfPitch</th>\n",
              "      <th>Occupation</th>\n",
              "      <th>Gender</th>\n",
              "      <th>NumberOfPersonVisiting</th>\n",
              "      <th>NumberOfFollowups</th>\n",
              "      <th>ProductPitched</th>\n",
              "      <th>PreferredPropertyStar</th>\n",
              "      <th>MaritalStatus</th>\n",
              "      <th>NumberOfTrips</th>\n",
              "      <th>Passport</th>\n",
              "      <th>PitchSatisfactionScore</th>\n",
              "      <th>OwnCar</th>\n",
              "      <th>NumberOfChildrenVisiting</th>\n",
              "      <th>Designation</th>\n",
              "      <th>MonthlyIncome</th>\n",
              "      <th>ProdTaken</th>\n",
              "    </tr>\n",
              "  </thead>\n",
              "  <tbody>\n",
              "    <tr>\n",
              "      <th>0</th>\n",
              "      <td>1</td>\n",
              "      <td>28.0</td>\n",
              "      <td>Company Invited</td>\n",
              "      <td>1</td>\n",
              "      <td>10.0</td>\n",
              "      <td>Small Business</td>\n",
              "      <td>Male</td>\n",
              "      <td>3</td>\n",
              "      <td>4.0</td>\n",
              "      <td>Basic</td>\n",
              "      <td>3.0</td>\n",
              "      <td>Married</td>\n",
              "      <td>3.0</td>\n",
              "      <td>0</td>\n",
              "      <td>1</td>\n",
              "      <td>0</td>\n",
              "      <td>1.0</td>\n",
              "      <td>Executive</td>\n",
              "      <td>20384.0</td>\n",
              "      <td>0</td>\n",
              "    </tr>\n",
              "    <tr>\n",
              "      <th>1</th>\n",
              "      <td>2</td>\n",
              "      <td>34.0</td>\n",
              "      <td>Self Enquiry</td>\n",
              "      <td>3</td>\n",
              "      <td>NaN</td>\n",
              "      <td>Small Business</td>\n",
              "      <td>Female</td>\n",
              "      <td>2</td>\n",
              "      <td>4.0</td>\n",
              "      <td>Deluxe</td>\n",
              "      <td>4.0</td>\n",
              "      <td>Single</td>\n",
              "      <td>1.0</td>\n",
              "      <td>1</td>\n",
              "      <td>5</td>\n",
              "      <td>1</td>\n",
              "      <td>0.0</td>\n",
              "      <td>Manager</td>\n",
              "      <td>19599.0</td>\n",
              "      <td>1</td>\n",
              "    </tr>\n",
              "    <tr>\n",
              "      <th>2</th>\n",
              "      <td>3</td>\n",
              "      <td>45.0</td>\n",
              "      <td>Company Invited</td>\n",
              "      <td>1</td>\n",
              "      <td>NaN</td>\n",
              "      <td>Salaried</td>\n",
              "      <td>Male</td>\n",
              "      <td>2</td>\n",
              "      <td>3.0</td>\n",
              "      <td>Deluxe</td>\n",
              "      <td>4.0</td>\n",
              "      <td>Married</td>\n",
              "      <td>2.0</td>\n",
              "      <td>0</td>\n",
              "      <td>4</td>\n",
              "      <td>1</td>\n",
              "      <td>0.0</td>\n",
              "      <td>Manager</td>\n",
              "      <td>NaN</td>\n",
              "      <td>0</td>\n",
              "    </tr>\n",
              "    <tr>\n",
              "      <th>3</th>\n",
              "      <td>4</td>\n",
              "      <td>29.0</td>\n",
              "      <td>Company Invited</td>\n",
              "      <td>1</td>\n",
              "      <td>7.0</td>\n",
              "      <td>Small Business</td>\n",
              "      <td>Male</td>\n",
              "      <td>3</td>\n",
              "      <td>5.0</td>\n",
              "      <td>Basic</td>\n",
              "      <td>4.0</td>\n",
              "      <td>Married</td>\n",
              "      <td>3.0</td>\n",
              "      <td>0</td>\n",
              "      <td>4</td>\n",
              "      <td>0</td>\n",
              "      <td>1.0</td>\n",
              "      <td>Executive</td>\n",
              "      <td>21274.0</td>\n",
              "      <td>1</td>\n",
              "    </tr>\n",
              "    <tr>\n",
              "      <th>4</th>\n",
              "      <td>5</td>\n",
              "      <td>42.0</td>\n",
              "      <td>Self Enquiry</td>\n",
              "      <td>3</td>\n",
              "      <td>6.0</td>\n",
              "      <td>Salaried</td>\n",
              "      <td>Male</td>\n",
              "      <td>2</td>\n",
              "      <td>3.0</td>\n",
              "      <td>Deluxe</td>\n",
              "      <td>3.0</td>\n",
              "      <td>Divorced</td>\n",
              "      <td>2.0</td>\n",
              "      <td>0</td>\n",
              "      <td>3</td>\n",
              "      <td>1</td>\n",
              "      <td>0.0</td>\n",
              "      <td>Manager</td>\n",
              "      <td>19907.0</td>\n",
              "      <td>0</td>\n",
              "    </tr>\n",
              "    <tr>\n",
              "      <th>...</th>\n",
              "      <td>...</td>\n",
              "      <td>...</td>\n",
              "      <td>...</td>\n",
              "      <td>...</td>\n",
              "      <td>...</td>\n",
              "      <td>...</td>\n",
              "      <td>...</td>\n",
              "      <td>...</td>\n",
              "      <td>...</td>\n",
              "      <td>...</td>\n",
              "      <td>...</td>\n",
              "      <td>...</td>\n",
              "      <td>...</td>\n",
              "      <td>...</td>\n",
              "      <td>...</td>\n",
              "      <td>...</td>\n",
              "      <td>...</td>\n",
              "      <td>...</td>\n",
              "      <td>...</td>\n",
              "      <td>...</td>\n",
              "    </tr>\n",
              "    <tr>\n",
              "      <th>1950</th>\n",
              "      <td>1951</td>\n",
              "      <td>28.0</td>\n",
              "      <td>Self Enquiry</td>\n",
              "      <td>1</td>\n",
              "      <td>10.0</td>\n",
              "      <td>Small Business</td>\n",
              "      <td>Male</td>\n",
              "      <td>3</td>\n",
              "      <td>5.0</td>\n",
              "      <td>Basic</td>\n",
              "      <td>3.0</td>\n",
              "      <td>Single</td>\n",
              "      <td>2.0</td>\n",
              "      <td>0</td>\n",
              "      <td>1</td>\n",
              "      <td>1</td>\n",
              "      <td>2.0</td>\n",
              "      <td>Executive</td>\n",
              "      <td>20723.0</td>\n",
              "      <td>0</td>\n",
              "    </tr>\n",
              "    <tr>\n",
              "      <th>1951</th>\n",
              "      <td>1952</td>\n",
              "      <td>41.0</td>\n",
              "      <td>Self Enquiry</td>\n",
              "      <td>3</td>\n",
              "      <td>8.0</td>\n",
              "      <td>Salaried</td>\n",
              "      <td>Female</td>\n",
              "      <td>3</td>\n",
              "      <td>3.0</td>\n",
              "      <td>Super Deluxe</td>\n",
              "      <td>5.0</td>\n",
              "      <td>Divorced</td>\n",
              "      <td>1.0</td>\n",
              "      <td>0</td>\n",
              "      <td>5</td>\n",
              "      <td>1</td>\n",
              "      <td>1.0</td>\n",
              "      <td>AVP</td>\n",
              "      <td>31595.0</td>\n",
              "      <td>0</td>\n",
              "    </tr>\n",
              "    <tr>\n",
              "      <th>1952</th>\n",
              "      <td>1953</td>\n",
              "      <td>38.0</td>\n",
              "      <td>Company Invited</td>\n",
              "      <td>3</td>\n",
              "      <td>28.0</td>\n",
              "      <td>Small Business</td>\n",
              "      <td>Female</td>\n",
              "      <td>3</td>\n",
              "      <td>4.0</td>\n",
              "      <td>Basic</td>\n",
              "      <td>3.0</td>\n",
              "      <td>Divorced</td>\n",
              "      <td>7.0</td>\n",
              "      <td>0</td>\n",
              "      <td>2</td>\n",
              "      <td>1</td>\n",
              "      <td>2.0</td>\n",
              "      <td>Executive</td>\n",
              "      <td>21651.0</td>\n",
              "      <td>0</td>\n",
              "    </tr>\n",
              "    <tr>\n",
              "      <th>1953</th>\n",
              "      <td>1954</td>\n",
              "      <td>28.0</td>\n",
              "      <td>Self Enquiry</td>\n",
              "      <td>3</td>\n",
              "      <td>30.0</td>\n",
              "      <td>Small Business</td>\n",
              "      <td>Female</td>\n",
              "      <td>3</td>\n",
              "      <td>5.0</td>\n",
              "      <td>Deluxe</td>\n",
              "      <td>3.0</td>\n",
              "      <td>Married</td>\n",
              "      <td>3.0</td>\n",
              "      <td>0</td>\n",
              "      <td>1</td>\n",
              "      <td>1</td>\n",
              "      <td>2.0</td>\n",
              "      <td>Manager</td>\n",
              "      <td>22218.0</td>\n",
              "      <td>0</td>\n",
              "    </tr>\n",
              "    <tr>\n",
              "      <th>1954</th>\n",
              "      <td>1955</td>\n",
              "      <td>22.0</td>\n",
              "      <td>Company Invited</td>\n",
              "      <td>1</td>\n",
              "      <td>9.0</td>\n",
              "      <td>Salaried</td>\n",
              "      <td>Male</td>\n",
              "      <td>2</td>\n",
              "      <td>4.0</td>\n",
              "      <td>Basic</td>\n",
              "      <td>3.0</td>\n",
              "      <td>Divorced</td>\n",
              "      <td>1.0</td>\n",
              "      <td>1</td>\n",
              "      <td>3</td>\n",
              "      <td>0</td>\n",
              "      <td>0.0</td>\n",
              "      <td>Executive</td>\n",
              "      <td>17853.0</td>\n",
              "      <td>1</td>\n",
              "    </tr>\n",
              "  </tbody>\n",
              "</table>\n",
              "<p>1955 rows × 20 columns</p>\n",
              "</div>\n",
              "      <button class=\"colab-df-convert\" onclick=\"convertToInteractive('df-b5255401-7fe2-46e2-b9ea-0eb1c43b7058')\"\n",
              "              title=\"Convert this dataframe to an interactive table.\"\n",
              "              style=\"display:none;\">\n",
              "        \n",
              "  <svg xmlns=\"http://www.w3.org/2000/svg\" height=\"24px\"viewBox=\"0 0 24 24\"\n",
              "       width=\"24px\">\n",
              "    <path d=\"M0 0h24v24H0V0z\" fill=\"none\"/>\n",
              "    <path d=\"M18.56 5.44l.94 2.06.94-2.06 2.06-.94-2.06-.94-.94-2.06-.94 2.06-2.06.94zm-11 1L8.5 8.5l.94-2.06 2.06-.94-2.06-.94L8.5 2.5l-.94 2.06-2.06.94zm10 10l.94 2.06.94-2.06 2.06-.94-2.06-.94-.94-2.06-.94 2.06-2.06.94z\"/><path d=\"M17.41 7.96l-1.37-1.37c-.4-.4-.92-.59-1.43-.59-.52 0-1.04.2-1.43.59L10.3 9.45l-7.72 7.72c-.78.78-.78 2.05 0 2.83L4 21.41c.39.39.9.59 1.41.59.51 0 1.02-.2 1.41-.59l7.78-7.78 2.81-2.81c.8-.78.8-2.07 0-2.86zM5.41 20L4 18.59l7.72-7.72 1.47 1.35L5.41 20z\"/>\n",
              "  </svg>\n",
              "      </button>\n",
              "      \n",
              "  <style>\n",
              "    .colab-df-container {\n",
              "      display:flex;\n",
              "      flex-wrap:wrap;\n",
              "      gap: 12px;\n",
              "    }\n",
              "\n",
              "    .colab-df-convert {\n",
              "      background-color: #E8F0FE;\n",
              "      border: none;\n",
              "      border-radius: 50%;\n",
              "      cursor: pointer;\n",
              "      display: none;\n",
              "      fill: #1967D2;\n",
              "      height: 32px;\n",
              "      padding: 0 0 0 0;\n",
              "      width: 32px;\n",
              "    }\n",
              "\n",
              "    .colab-df-convert:hover {\n",
              "      background-color: #E2EBFA;\n",
              "      box-shadow: 0px 1px 2px rgba(60, 64, 67, 0.3), 0px 1px 3px 1px rgba(60, 64, 67, 0.15);\n",
              "      fill: #174EA6;\n",
              "    }\n",
              "\n",
              "    [theme=dark] .colab-df-convert {\n",
              "      background-color: #3B4455;\n",
              "      fill: #D2E3FC;\n",
              "    }\n",
              "\n",
              "    [theme=dark] .colab-df-convert:hover {\n",
              "      background-color: #434B5C;\n",
              "      box-shadow: 0px 1px 3px 1px rgba(0, 0, 0, 0.15);\n",
              "      filter: drop-shadow(0px 1px 2px rgba(0, 0, 0, 0.3));\n",
              "      fill: #FFFFFF;\n",
              "    }\n",
              "  </style>\n",
              "\n",
              "      <script>\n",
              "        const buttonEl =\n",
              "          document.querySelector('#df-b5255401-7fe2-46e2-b9ea-0eb1c43b7058 button.colab-df-convert');\n",
              "        buttonEl.style.display =\n",
              "          google.colab.kernel.accessAllowed ? 'block' : 'none';\n",
              "\n",
              "        async function convertToInteractive(key) {\n",
              "          const element = document.querySelector('#df-b5255401-7fe2-46e2-b9ea-0eb1c43b7058');\n",
              "          const dataTable =\n",
              "            await google.colab.kernel.invokeFunction('convertToInteractive',\n",
              "                                                     [key], {});\n",
              "          if (!dataTable) return;\n",
              "\n",
              "          const docLinkHtml = 'Like what you see? Visit the ' +\n",
              "            '<a target=\"_blank\" href=https://colab.research.google.com/notebooks/data_table.ipynb>data table notebook</a>'\n",
              "            + ' to learn more about interactive tables.';\n",
              "          element.innerHTML = '';\n",
              "          dataTable['output_type'] = 'display_data';\n",
              "          await google.colab.output.renderOutput(dataTable, element);\n",
              "          const docLink = document.createElement('div');\n",
              "          docLink.innerHTML = docLinkHtml;\n",
              "          element.appendChild(docLink);\n",
              "        }\n",
              "      </script>\n",
              "    </div>\n",
              "  </div>\n",
              "  "
            ]
          },
          "metadata": {},
          "execution_count": 3
        }
      ],
      "source": [
        "train_df = pd.read_csv(\"/content/drive/MyDrive/DACON_BASIC/train.csv\")\n",
        "train_df"
      ]
    },
    {
      "cell_type": "code",
      "execution_count": null,
      "metadata": {
        "colab": {
          "base_uri": "https://localhost:8080/"
        },
        "id": "gBbBLmQHgXZd",
        "outputId": "1c7fbf18-c4b2-4830-b660-26e9b59e959b"
      },
      "outputs": [
        {
          "data": {
            "text/plain": [
              "(1955, 20)"
            ]
          },
          "execution_count": 4,
          "metadata": {},
          "output_type": "execute_result"
        }
      ],
      "source": [
        "train_df.shape"
      ]
    },
    {
      "cell_type": "markdown",
      "metadata": {
        "id": "qRnYH0cFjGzi"
      },
      "source": [
        "## 1. 분석의 목적과 변수 탐색"
      ]
    },
    {
      "cell_type": "markdown",
      "metadata": {
        "id": "lDOgmq2fjh-G"
      },
      "source": [
        "#### 1-1. 분석 목적"
      ]
    },
    {
      "cell_type": "markdown",
      "metadata": {
        "id": "wxUVd2welgk3"
      },
      "source": [
        "*   만약 여행사들이 고객 데이터를 이용해 여행 패키지의 수요를 미리 예측할 수 있다면 어떨까요?\n",
        "*   주어진 고객 데이터셋을 이용하여 여행 패키지 신청 여부를 예측해주세요\n",
        "\n",
        "*   나이, 성별, 월 수입 등의 고객 데이터를 이용해서 여행 상품 신청 여부를 예측"
      ]
    },
    {
      "cell_type": "markdown",
      "metadata": {
        "id": "SVOcImnTjjao"
      },
      "source": [
        "#### 1-2. 변수 탐색"
      ]
    },
    {
      "cell_type": "code",
      "execution_count": null,
      "metadata": {
        "colab": {
          "base_uri": "https://localhost:8080/"
        },
        "id": "w5Ne8LgjjFBL",
        "outputId": "4797c611-5f05-4160-881c-44f767970a3e"
      },
      "outputs": [
        {
          "name": "stdout",
          "output_type": "stream",
          "text": [
            "<class 'pandas.core.frame.DataFrame'>\n",
            "RangeIndex: 1955 entries, 0 to 1954\n",
            "Data columns (total 20 columns):\n",
            " #   Column                    Non-Null Count  Dtype  \n",
            "---  ------                    --------------  -----  \n",
            " 0   id                        1955 non-null   int64  \n",
            " 1   Age                       1861 non-null   float64\n",
            " 2   TypeofContact             1945 non-null   object \n",
            " 3   CityTier                  1955 non-null   int64  \n",
            " 4   DurationOfPitch           1853 non-null   float64\n",
            " 5   Occupation                1955 non-null   object \n",
            " 6   Gender                    1955 non-null   object \n",
            " 7   NumberOfPersonVisiting    1955 non-null   int64  \n",
            " 8   NumberOfFollowups         1942 non-null   float64\n",
            " 9   ProductPitched            1955 non-null   object \n",
            " 10  PreferredPropertyStar     1945 non-null   float64\n",
            " 11  MaritalStatus             1955 non-null   object \n",
            " 12  NumberOfTrips             1898 non-null   float64\n",
            " 13  Passport                  1955 non-null   int64  \n",
            " 14  PitchSatisfactionScore    1955 non-null   int64  \n",
            " 15  OwnCar                    1955 non-null   int64  \n",
            " 16  NumberOfChildrenVisiting  1928 non-null   float64\n",
            " 17  Designation               1955 non-null   object \n",
            " 18  MonthlyIncome             1855 non-null   float64\n",
            " 19  ProdTaken                 1955 non-null   int64  \n",
            "dtypes: float64(7), int64(7), object(6)\n",
            "memory usage: 305.6+ KB\n"
          ]
        }
      ],
      "source": [
        "train_df.info()"
      ]
    },
    {
      "cell_type": "markdown",
      "metadata": {
        "id": "funlIB1KmOjf"
      },
      "source": [
        "- id : 샘플 아이디\n",
        "- Age : 나이\n",
        "- TypeofContact : 고객의 제품 인지 방법 (회사의 홍보 or 스스로 검색)\n",
        "- CityTier : 주거 중인 도시의 등급. (인구, 시설, 생활 수준 기준) (1등급 > 2등급 > 3등급) \n",
        "- DurationOfPitch : 영업 사원이 고객에게 제공하는 프레젠테이션 기간\n",
        "- Occupation : 직업\n",
        "- Gender : 성별\n",
        "- NumberOfPersonVisiting : 고객과 함께 여행을 계획 중인 총 인원\n",
        "- NumberOfFollowups : 영업 사원의 프레젠테이션 후 이루어진 후속 조치 수\n",
        "- ProductPitched : 영업 사원이 제시한 상품\n",
        "- PreferredPropertyStar : 선호 호텔 숙박업소 등급\n",
        "- MaritalStatus : 결혼여부\n",
        "- NumberOfTrips : 평균 연간 여행 횟수\n",
        "- Passport : 여권 보유 여부 (0: 없음, 1: 있음)\n",
        "- PitchSatisfactionScore : 영업 사원의 프레젠테이션 만족도\n",
        "- OwnCar : 자동차 보유 여부 (0: 없음, 1: 있음)\n",
        "- NumberOfChildrenVisiting : 함께 여행을 계획 중인 5세 미만의 어린이 수\n",
        "- Designation : (직업의) 직급\n",
        "- MonthlyIncome : 월 급여\n",
        "- ProdTaken : 여행 패키지 신청 여부 (0: 신청 안 함, 1: 신청함)\n"
      ]
    },
    {
      "cell_type": "code",
      "execution_count": null,
      "metadata": {
        "colab": {
          "base_uri": "https://localhost:8080/"
        },
        "id": "3zfGtMsBna1F",
        "outputId": "5f17d107-82fb-4312-a6f7-9e1eca698f0b"
      },
      "outputs": [
        {
          "data": {
            "text/plain": [
              "Self Enquiry       1379\n",
              "Company Invited     566\n",
              "Name: TypeofContact, dtype: int64"
            ]
          },
          "execution_count": 6,
          "metadata": {},
          "output_type": "execute_result"
        }
      ],
      "source": [
        "train_df['TypeofContact'].value_counts()"
      ]
    },
    {
      "cell_type": "code",
      "execution_count": null,
      "metadata": {
        "colab": {
          "base_uri": "https://localhost:8080/"
        },
        "id": "WPIQyAg8ngTm",
        "outputId": "a841171d-33b1-4c21-94a7-48aeb827ce7c"
      },
      "outputs": [
        {
          "data": {
            "text/plain": [
              "Salaried          965\n",
              "Small Business    826\n",
              "Large Business    163\n",
              "Free Lancer         1\n",
              "Name: Occupation, dtype: int64"
            ]
          },
          "execution_count": 7,
          "metadata": {},
          "output_type": "execute_result"
        }
      ],
      "source": [
        "train_df['Occupation'].value_counts()"
      ]
    },
    {
      "cell_type": "code",
      "execution_count": null,
      "metadata": {
        "colab": {
          "base_uri": "https://localhost:8080/"
        },
        "id": "cgbfOb0BngWB",
        "outputId": "b7c19e64-a8bc-4c06-93f3-95fc4f46c5fa"
      },
      "outputs": [
        {
          "data": {
            "text/plain": [
              "Male      1207\n",
              "Female     748\n",
              "Name: Gender, dtype: int64"
            ]
          },
          "execution_count": 5,
          "metadata": {},
          "output_type": "execute_result"
        }
      ],
      "source": [
        "train_df['Gender'].value_counts()"
      ]
    },
    {
      "cell_type": "code",
      "execution_count": null,
      "metadata": {
        "id": "ML9Ch-EPKJad"
      },
      "outputs": [],
      "source": [
        "# 'Fe Male'로 저장되어 있는 값들 'Female'로 변경\n",
        "\n",
        "train_df.loc[train_df['Gender'] == 'Fe Male', 'Gender'] = 'Female'"
      ]
    },
    {
      "cell_type": "markdown",
      "metadata": {
        "id": "5ORD6gntPhJn"
      },
      "source": [
        "https://jimmy-ai.tistory.com/245"
      ]
    },
    {
      "cell_type": "code",
      "execution_count": null,
      "metadata": {
        "colab": {
          "base_uri": "https://localhost:8080/"
        },
        "id": "N62-4gzNKbtJ",
        "outputId": "ebb1666f-5a44-449e-93d5-b2daf8e599bb"
      },
      "outputs": [
        {
          "data": {
            "text/plain": [
              "Male      1207\n",
              "Female     748\n",
              "Name: Gender, dtype: int64"
            ]
          },
          "execution_count": 10,
          "metadata": {},
          "output_type": "execute_result"
        }
      ],
      "source": [
        "train_df['Gender'].value_counts()"
      ]
    },
    {
      "cell_type": "code",
      "execution_count": null,
      "metadata": {
        "colab": {
          "base_uri": "https://localhost:8080/"
        },
        "id": "r1fuK8oWnsQC",
        "outputId": "e14f95f8-0690-46e1-ca12-6ebae2e99d99"
      },
      "outputs": [
        {
          "data": {
            "text/plain": [
              "Basic           745\n",
              "Deluxe          689\n",
              "Standard        302\n",
              "Super Deluxe    130\n",
              "King             89\n",
              "Name: ProductPitched, dtype: int64"
            ]
          },
          "execution_count": 11,
          "metadata": {},
          "output_type": "execute_result"
        }
      ],
      "source": [
        "train_df['ProductPitched'].value_counts()"
      ]
    },
    {
      "cell_type": "code",
      "execution_count": null,
      "metadata": {
        "colab": {
          "base_uri": "https://localhost:8080/"
        },
        "id": "ne3RGJPBnsWp",
        "outputId": "d0b195d8-0b5a-498d-e80a-47f2817c6a76"
      },
      "outputs": [
        {
          "data": {
            "text/plain": [
              "Married      949\n",
              "Divorced     375\n",
              "Single       349\n",
              "Unmarried    282\n",
              "Name: MaritalStatus, dtype: int64"
            ]
          },
          "execution_count": 12,
          "metadata": {},
          "output_type": "execute_result"
        }
      ],
      "source": [
        "train_df['MaritalStatus'].value_counts()"
      ]
    },
    {
      "cell_type": "code",
      "execution_count": null,
      "metadata": {
        "colab": {
          "base_uri": "https://localhost:8080/"
        },
        "id": "nGAcqcGgngx4",
        "outputId": "d786a299-c0da-4e49-846c-e3afba8b3ffb"
      },
      "outputs": [
        {
          "data": {
            "text/plain": [
              "Executive         745\n",
              "Manager           689\n",
              "Senior Manager    302\n",
              "AVP               130\n",
              "VP                 89\n",
              "Name: Designation, dtype: int64"
            ]
          },
          "execution_count": 13,
          "metadata": {},
          "output_type": "execute_result"
        }
      ],
      "source": [
        "train_df['Designation'].value_counts()"
      ]
    },
    {
      "cell_type": "markdown",
      "metadata": {
        "id": "4iFrQTW1jlQj"
      },
      "source": [
        "## 2. 데이터 탐색 (이상치, 결측치 등 확인)"
      ]
    },
    {
      "cell_type": "markdown",
      "metadata": {
        "id": "QByM21OzZNDX"
      },
      "source": [
        "### 수치형 변수"
      ]
    },
    {
      "cell_type": "code",
      "execution_count": null,
      "metadata": {
        "colab": {
          "base_uri": "https://localhost:8080/",
          "height": 1000
        },
        "id": "XRlkJQTAYDis",
        "outputId": "6dda0b49-1f7f-4f8c-da24-9048507b2bdf"
      },
      "outputs": [
        {
          "name": "stderr",
          "output_type": "stream",
          "text": [
            "/usr/local/lib/python3.7/dist-packages/seaborn/distributions.py:2619: FutureWarning: `distplot` is a deprecated function and will be removed in a future version. Please adapt your code to use either `displot` (a figure-level function with similar flexibility) or `histplot` (an axes-level function for histograms).\n",
            "  warnings.warn(msg, FutureWarning)\n",
            "/usr/local/lib/python3.7/dist-packages/seaborn/distributions.py:2103: FutureWarning: The `axis` variable is no longer used and will be removed. Instead, assign variables directly to `x` or `y`.\n",
            "  warnings.warn(msg, FutureWarning)\n",
            "/usr/local/lib/python3.7/dist-packages/seaborn/distributions.py:2619: FutureWarning: `distplot` is a deprecated function and will be removed in a future version. Please adapt your code to use either `displot` (a figure-level function with similar flexibility) or `histplot` (an axes-level function for histograms).\n",
            "  warnings.warn(msg, FutureWarning)\n",
            "/usr/local/lib/python3.7/dist-packages/seaborn/distributions.py:2103: FutureWarning: The `axis` variable is no longer used and will be removed. Instead, assign variables directly to `x` or `y`.\n",
            "  warnings.warn(msg, FutureWarning)\n",
            "/usr/local/lib/python3.7/dist-packages/seaborn/distributions.py:2619: FutureWarning: `distplot` is a deprecated function and will be removed in a future version. Please adapt your code to use either `displot` (a figure-level function with similar flexibility) or `histplot` (an axes-level function for histograms).\n",
            "  warnings.warn(msg, FutureWarning)\n",
            "/usr/local/lib/python3.7/dist-packages/seaborn/distributions.py:2103: FutureWarning: The `axis` variable is no longer used and will be removed. Instead, assign variables directly to `x` or `y`.\n",
            "  warnings.warn(msg, FutureWarning)\n",
            "/usr/local/lib/python3.7/dist-packages/seaborn/distributions.py:2619: FutureWarning: `distplot` is a deprecated function and will be removed in a future version. Please adapt your code to use either `displot` (a figure-level function with similar flexibility) or `histplot` (an axes-level function for histograms).\n",
            "  warnings.warn(msg, FutureWarning)\n",
            "/usr/local/lib/python3.7/dist-packages/seaborn/distributions.py:2103: FutureWarning: The `axis` variable is no longer used and will be removed. Instead, assign variables directly to `x` or `y`.\n",
            "  warnings.warn(msg, FutureWarning)\n",
            "/usr/local/lib/python3.7/dist-packages/seaborn/distributions.py:2619: FutureWarning: `distplot` is a deprecated function and will be removed in a future version. Please adapt your code to use either `displot` (a figure-level function with similar flexibility) or `histplot` (an axes-level function for histograms).\n",
            "  warnings.warn(msg, FutureWarning)\n",
            "/usr/local/lib/python3.7/dist-packages/seaborn/distributions.py:2103: FutureWarning: The `axis` variable is no longer used and will be removed. Instead, assign variables directly to `x` or `y`.\n",
            "  warnings.warn(msg, FutureWarning)\n",
            "/usr/local/lib/python3.7/dist-packages/seaborn/distributions.py:2619: FutureWarning: `distplot` is a deprecated function and will be removed in a future version. Please adapt your code to use either `displot` (a figure-level function with similar flexibility) or `histplot` (an axes-level function for histograms).\n",
            "  warnings.warn(msg, FutureWarning)\n",
            "/usr/local/lib/python3.7/dist-packages/seaborn/distributions.py:2103: FutureWarning: The `axis` variable is no longer used and will be removed. Instead, assign variables directly to `x` or `y`.\n",
            "  warnings.warn(msg, FutureWarning)\n",
            "/usr/local/lib/python3.7/dist-packages/seaborn/distributions.py:2619: FutureWarning: `distplot` is a deprecated function and will be removed in a future version. Please adapt your code to use either `displot` (a figure-level function with similar flexibility) or `histplot` (an axes-level function for histograms).\n",
            "  warnings.warn(msg, FutureWarning)\n",
            "/usr/local/lib/python3.7/dist-packages/seaborn/distributions.py:2103: FutureWarning: The `axis` variable is no longer used and will be removed. Instead, assign variables directly to `x` or `y`.\n",
            "  warnings.warn(msg, FutureWarning)\n",
            "/usr/local/lib/python3.7/dist-packages/seaborn/distributions.py:2619: FutureWarning: `distplot` is a deprecated function and will be removed in a future version. Please adapt your code to use either `displot` (a figure-level function with similar flexibility) or `histplot` (an axes-level function for histograms).\n",
            "  warnings.warn(msg, FutureWarning)\n",
            "/usr/local/lib/python3.7/dist-packages/seaborn/distributions.py:2103: FutureWarning: The `axis` variable is no longer used and will be removed. Instead, assign variables directly to `x` or `y`.\n",
            "  warnings.warn(msg, FutureWarning)\n",
            "/usr/local/lib/python3.7/dist-packages/seaborn/distributions.py:2619: FutureWarning: `distplot` is a deprecated function and will be removed in a future version. Please adapt your code to use either `displot` (a figure-level function with similar flexibility) or `histplot` (an axes-level function for histograms).\n",
            "  warnings.warn(msg, FutureWarning)\n",
            "/usr/local/lib/python3.7/dist-packages/seaborn/distributions.py:2103: FutureWarning: The `axis` variable is no longer used and will be removed. Instead, assign variables directly to `x` or `y`.\n",
            "  warnings.warn(msg, FutureWarning)\n",
            "/usr/local/lib/python3.7/dist-packages/seaborn/distributions.py:2619: FutureWarning: `distplot` is a deprecated function and will be removed in a future version. Please adapt your code to use either `displot` (a figure-level function with similar flexibility) or `histplot` (an axes-level function for histograms).\n",
            "  warnings.warn(msg, FutureWarning)\n",
            "/usr/local/lib/python3.7/dist-packages/seaborn/distributions.py:2103: FutureWarning: The `axis` variable is no longer used and will be removed. Instead, assign variables directly to `x` or `y`.\n",
            "  warnings.warn(msg, FutureWarning)\n",
            "/usr/local/lib/python3.7/dist-packages/seaborn/distributions.py:2619: FutureWarning: `distplot` is a deprecated function and will be removed in a future version. Please adapt your code to use either `displot` (a figure-level function with similar flexibility) or `histplot` (an axes-level function for histograms).\n",
            "  warnings.warn(msg, FutureWarning)\n",
            "/usr/local/lib/python3.7/dist-packages/seaborn/distributions.py:2103: FutureWarning: The `axis` variable is no longer used and will be removed. Instead, assign variables directly to `x` or `y`.\n",
            "  warnings.warn(msg, FutureWarning)\n",
            "/usr/local/lib/python3.7/dist-packages/seaborn/distributions.py:2619: FutureWarning: `distplot` is a deprecated function and will be removed in a future version. Please adapt your code to use either `displot` (a figure-level function with similar flexibility) or `histplot` (an axes-level function for histograms).\n",
            "  warnings.warn(msg, FutureWarning)\n",
            "/usr/local/lib/python3.7/dist-packages/seaborn/distributions.py:2103: FutureWarning: The `axis` variable is no longer used and will be removed. Instead, assign variables directly to `x` or `y`.\n",
            "  warnings.warn(msg, FutureWarning)\n",
            "/usr/local/lib/python3.7/dist-packages/seaborn/distributions.py:2619: FutureWarning: `distplot` is a deprecated function and will be removed in a future version. Please adapt your code to use either `displot` (a figure-level function with similar flexibility) or `histplot` (an axes-level function for histograms).\n",
            "  warnings.warn(msg, FutureWarning)\n",
            "/usr/local/lib/python3.7/dist-packages/seaborn/distributions.py:2103: FutureWarning: The `axis` variable is no longer used and will be removed. Instead, assign variables directly to `x` or `y`.\n",
            "  warnings.warn(msg, FutureWarning)\n",
            "/usr/local/lib/python3.7/dist-packages/seaborn/distributions.py:2619: FutureWarning: `distplot` is a deprecated function and will be removed in a future version. Please adapt your code to use either `displot` (a figure-level function with similar flexibility) or `histplot` (an axes-level function for histograms).\n",
            "  warnings.warn(msg, FutureWarning)\n",
            "/usr/local/lib/python3.7/dist-packages/seaborn/distributions.py:2103: FutureWarning: The `axis` variable is no longer used and will be removed. Instead, assign variables directly to `x` or `y`.\n",
            "  warnings.warn(msg, FutureWarning)\n",
            "/usr/local/lib/python3.7/dist-packages/seaborn/distributions.py:2619: FutureWarning: `distplot` is a deprecated function and will be removed in a future version. Please adapt your code to use either `displot` (a figure-level function with similar flexibility) or `histplot` (an axes-level function for histograms).\n",
            "  warnings.warn(msg, FutureWarning)\n",
            "/usr/local/lib/python3.7/dist-packages/seaborn/distributions.py:2103: FutureWarning: The `axis` variable is no longer used and will be removed. Instead, assign variables directly to `x` or `y`.\n",
            "  warnings.warn(msg, FutureWarning)\n",
            "/usr/local/lib/python3.7/dist-packages/seaborn/distributions.py:2619: FutureWarning: `distplot` is a deprecated function and will be removed in a future version. Please adapt your code to use either `displot` (a figure-level function with similar flexibility) or `histplot` (an axes-level function for histograms).\n",
            "  warnings.warn(msg, FutureWarning)\n",
            "/usr/local/lib/python3.7/dist-packages/seaborn/distributions.py:2103: FutureWarning: The `axis` variable is no longer used and will be removed. Instead, assign variables directly to `x` or `y`.\n",
            "  warnings.warn(msg, FutureWarning)\n",
            "/usr/local/lib/python3.7/dist-packages/seaborn/distributions.py:2619: FutureWarning: `distplot` is a deprecated function and will be removed in a future version. Please adapt your code to use either `displot` (a figure-level function with similar flexibility) or `histplot` (an axes-level function for histograms).\n",
            "  warnings.warn(msg, FutureWarning)\n",
            "/usr/local/lib/python3.7/dist-packages/seaborn/distributions.py:2103: FutureWarning: The `axis` variable is no longer used and will be removed. Instead, assign variables directly to `x` or `y`.\n",
            "  warnings.warn(msg, FutureWarning)\n",
            "/usr/local/lib/python3.7/dist-packages/seaborn/distributions.py:2619: FutureWarning: `distplot` is a deprecated function and will be removed in a future version. Please adapt your code to use either `displot` (a figure-level function with similar flexibility) or `histplot` (an axes-level function for histograms).\n",
            "  warnings.warn(msg, FutureWarning)\n",
            "/usr/local/lib/python3.7/dist-packages/seaborn/distributions.py:2103: FutureWarning: The `axis` variable is no longer used and will be removed. Instead, assign variables directly to `x` or `y`.\n",
            "  warnings.warn(msg, FutureWarning)\n",
            "/usr/local/lib/python3.7/dist-packages/seaborn/distributions.py:2619: FutureWarning: `distplot` is a deprecated function and will be removed in a future version. Please adapt your code to use either `displot` (a figure-level function with similar flexibility) or `histplot` (an axes-level function for histograms).\n",
            "  warnings.warn(msg, FutureWarning)\n",
            "/usr/local/lib/python3.7/dist-packages/seaborn/distributions.py:2103: FutureWarning: The `axis` variable is no longer used and will be removed. Instead, assign variables directly to `x` or `y`.\n",
            "  warnings.warn(msg, FutureWarning)\n",
            "/usr/local/lib/python3.7/dist-packages/seaborn/distributions.py:2619: FutureWarning: `distplot` is a deprecated function and will be removed in a future version. Please adapt your code to use either `displot` (a figure-level function with similar flexibility) or `histplot` (an axes-level function for histograms).\n",
            "  warnings.warn(msg, FutureWarning)\n",
            "/usr/local/lib/python3.7/dist-packages/seaborn/distributions.py:2103: FutureWarning: The `axis` variable is no longer used and will be removed. Instead, assign variables directly to `x` or `y`.\n",
            "  warnings.warn(msg, FutureWarning)\n",
            "/usr/local/lib/python3.7/dist-packages/seaborn/distributions.py:2619: FutureWarning: `distplot` is a deprecated function and will be removed in a future version. Please adapt your code to use either `displot` (a figure-level function with similar flexibility) or `histplot` (an axes-level function for histograms).\n",
            "  warnings.warn(msg, FutureWarning)\n",
            "/usr/local/lib/python3.7/dist-packages/seaborn/distributions.py:2103: FutureWarning: The `axis` variable is no longer used and will be removed. Instead, assign variables directly to `x` or `y`.\n",
            "  warnings.warn(msg, FutureWarning)\n",
            "/usr/local/lib/python3.7/dist-packages/seaborn/distributions.py:2619: FutureWarning: `distplot` is a deprecated function and will be removed in a future version. Please adapt your code to use either `displot` (a figure-level function with similar flexibility) or `histplot` (an axes-level function for histograms).\n",
            "  warnings.warn(msg, FutureWarning)\n",
            "/usr/local/lib/python3.7/dist-packages/seaborn/distributions.py:2103: FutureWarning: The `axis` variable is no longer used and will be removed. Instead, assign variables directly to `x` or `y`.\n",
            "  warnings.warn(msg, FutureWarning)\n",
            "/usr/local/lib/python3.7/dist-packages/seaborn/distributions.py:2619: FutureWarning: `distplot` is a deprecated function and will be removed in a future version. Please adapt your code to use either `displot` (a figure-level function with similar flexibility) or `histplot` (an axes-level function for histograms).\n",
            "  warnings.warn(msg, FutureWarning)\n",
            "/usr/local/lib/python3.7/dist-packages/seaborn/distributions.py:2103: FutureWarning: The `axis` variable is no longer used and will be removed. Instead, assign variables directly to `x` or `y`.\n",
            "  warnings.warn(msg, FutureWarning)\n",
            "/usr/local/lib/python3.7/dist-packages/seaborn/distributions.py:2619: FutureWarning: `distplot` is a deprecated function and will be removed in a future version. Please adapt your code to use either `displot` (a figure-level function with similar flexibility) or `histplot` (an axes-level function for histograms).\n",
            "  warnings.warn(msg, FutureWarning)\n",
            "/usr/local/lib/python3.7/dist-packages/seaborn/distributions.py:2103: FutureWarning: The `axis` variable is no longer used and will be removed. Instead, assign variables directly to `x` or `y`.\n",
            "  warnings.warn(msg, FutureWarning)\n",
            "/usr/local/lib/python3.7/dist-packages/seaborn/distributions.py:2619: FutureWarning: `distplot` is a deprecated function and will be removed in a future version. Please adapt your code to use either `displot` (a figure-level function with similar flexibility) or `histplot` (an axes-level function for histograms).\n",
            "  warnings.warn(msg, FutureWarning)\n",
            "/usr/local/lib/python3.7/dist-packages/seaborn/distributions.py:2103: FutureWarning: The `axis` variable is no longer used and will be removed. Instead, assign variables directly to `x` or `y`.\n",
            "  warnings.warn(msg, FutureWarning)\n",
            "/usr/local/lib/python3.7/dist-packages/seaborn/distributions.py:2619: FutureWarning: `distplot` is a deprecated function and will be removed in a future version. Please adapt your code to use either `displot` (a figure-level function with similar flexibility) or `histplot` (an axes-level function for histograms).\n",
            "  warnings.warn(msg, FutureWarning)\n",
            "/usr/local/lib/python3.7/dist-packages/seaborn/distributions.py:2103: FutureWarning: The `axis` variable is no longer used and will be removed. Instead, assign variables directly to `x` or `y`.\n",
            "  warnings.warn(msg, FutureWarning)\n",
            "/usr/local/lib/python3.7/dist-packages/seaborn/distributions.py:2619: FutureWarning: `distplot` is a deprecated function and will be removed in a future version. Please adapt your code to use either `displot` (a figure-level function with similar flexibility) or `histplot` (an axes-level function for histograms).\n",
            "  warnings.warn(msg, FutureWarning)\n",
            "/usr/local/lib/python3.7/dist-packages/seaborn/distributions.py:2103: FutureWarning: The `axis` variable is no longer used and will be removed. Instead, assign variables directly to `x` or `y`.\n",
            "  warnings.warn(msg, FutureWarning)\n",
            "/usr/local/lib/python3.7/dist-packages/seaborn/distributions.py:2619: FutureWarning: `distplot` is a deprecated function and will be removed in a future version. Please adapt your code to use either `displot` (a figure-level function with similar flexibility) or `histplot` (an axes-level function for histograms).\n",
            "  warnings.warn(msg, FutureWarning)\n",
            "/usr/local/lib/python3.7/dist-packages/seaborn/distributions.py:2103: FutureWarning: The `axis` variable is no longer used and will be removed. Instead, assign variables directly to `x` or `y`.\n",
            "  warnings.warn(msg, FutureWarning)\n"
          ]
        },
        {
          "data": {
            "image/png": "[encoded data removed]",
            "text/plain": [
              "<Figure size 1728x720 with 14 Axes>"
            ]
          },
          "metadata": {},
          "output_type": "display_data"
        }
      ],
      "source": [
        "cols = train_df.select_dtypes(exclude=['object']).columns\n",
        "fig, axes = plt.subplots(2, 7,  figsize=(24,10))\n",
        "for i, col in enumerate(cols):\n",
        "    if i <=6:\n",
        "        k = i\n",
        "        j  = 0\n",
        "    else:\n",
        "        j = 1\n",
        "        k = i-7\n",
        "    g = sns.distplot(train_df[train_df['ProdTaken']==0][col], hist=True, kde=False, rug=True, bins=20, label=\"No\"   , ax = axes[j][k])\n",
        "    h = sns.distplot(train_df[train_df['ProdTaken']==1][col], hist=True, kde=False, rug=True, bins=20, label=\"Yes\", ax = axes[j][k])\n",
        "    axes[j][k].legend()\n",
        "    plt.xlabel(col)\n",
        "plt.show()\n",
        "plt.close()"
      ]
    },
    {
      "cell_type": "markdown",
      "metadata": {
        "id": "amEoh7dcZAE7"
      },
      "source": [
        "여행 패키지 신청한 고객과 신청하지 않은 고객의 분포가 비슷함"
      ]
    },
    {
      "cell_type": "markdown",
      "metadata": {
        "id": "cKRoXVrkZXZ9"
      },
      "source": [
        "### 범주형 변수"
      ]
    },
    {
      "cell_type": "code",
      "execution_count": null,
      "metadata": {
        "colab": {
          "base_uri": "https://localhost:8080/"
        },
        "id": "bXENZvpYZZWw",
        "outputId": "72f541ac-984c-406b-dad3-4dadb001fd6d"
      },
      "outputs": [
        {
          "data": {
            "text/plain": [
              "Index(['TypeofContact', 'Occupation', 'Gender', 'ProductPitched',\n",
              "       'MaritalStatus', 'Designation'],\n",
              "      dtype='object')"
            ]
          },
          "execution_count": 16,
          "metadata": {},
          "output_type": "execute_result"
        }
      ],
      "source": [
        "train_df.select_dtypes(include=['object']).columns"
      ]
    },
    {
      "cell_type": "code",
      "execution_count": null,
      "metadata": {
        "colab": {
          "base_uri": "https://localhost:8080/",
          "height": 1000
        },
        "id": "SGaG_-C8Zcf1",
        "outputId": "427a29bd-715b-4d07-d9a5-d8bfd2b26424"
      },
      "outputs": [
        {
          "name": "stderr",
          "output_type": "stream",
          "text": [
            "/usr/local/lib/python3.7/dist-packages/seaborn/_decorators.py:43: FutureWarning: Pass the following variable as a keyword arg: x. From version 0.12, the only valid positional argument will be `data`, and passing other arguments without an explicit keyword will result in an error or misinterpretation.\n",
            "  FutureWarning\n",
            "/usr/local/lib/python3.7/dist-packages/seaborn/_decorators.py:43: FutureWarning: Pass the following variable as a keyword arg: x. From version 0.12, the only valid positional argument will be `data`, and passing other arguments without an explicit keyword will result in an error or misinterpretation.\n",
            "  FutureWarning\n",
            "/usr/local/lib/python3.7/dist-packages/seaborn/_decorators.py:43: FutureWarning: Pass the following variable as a keyword arg: x. From version 0.12, the only valid positional argument will be `data`, and passing other arguments without an explicit keyword will result in an error or misinterpretation.\n",
            "  FutureWarning\n",
            "/usr/local/lib/python3.7/dist-packages/seaborn/_decorators.py:43: FutureWarning: Pass the following variable as a keyword arg: x. From version 0.12, the only valid positional argument will be `data`, and passing other arguments without an explicit keyword will result in an error or misinterpretation.\n",
            "  FutureWarning\n",
            "/usr/local/lib/python3.7/dist-packages/seaborn/_decorators.py:43: FutureWarning: Pass the following variable as a keyword arg: x. From version 0.12, the only valid positional argument will be `data`, and passing other arguments without an explicit keyword will result in an error or misinterpretation.\n",
            "  FutureWarning\n",
            "/usr/local/lib/python3.7/dist-packages/seaborn/_decorators.py:43: FutureWarning: Pass the following variable as a keyword arg: x. From version 0.12, the only valid positional argument will be `data`, and passing other arguments without an explicit keyword will result in an error or misinterpretation.\n",
            "  FutureWarning\n",
            "/usr/local/lib/python3.7/dist-packages/seaborn/_decorators.py:43: FutureWarning: Pass the following variable as a keyword arg: x. From version 0.12, the only valid positional argument will be `data`, and passing other arguments without an explicit keyword will result in an error or misinterpretation.\n",
            "  FutureWarning\n",
            "/usr/local/lib/python3.7/dist-packages/seaborn/_decorators.py:43: FutureWarning: Pass the following variable as a keyword arg: x. From version 0.12, the only valid positional argument will be `data`, and passing other arguments without an explicit keyword will result in an error or misinterpretation.\n",
            "  FutureWarning\n",
            "/usr/local/lib/python3.7/dist-packages/seaborn/_decorators.py:43: FutureWarning: Pass the following variable as a keyword arg: x. From version 0.12, the only valid positional argument will be `data`, and passing other arguments without an explicit keyword will result in an error or misinterpretation.\n",
            "  FutureWarning\n",
            "/usr/local/lib/python3.7/dist-packages/seaborn/_decorators.py:43: FutureWarning: Pass the following variable as a keyword arg: x. From version 0.12, the only valid positional argument will be `data`, and passing other arguments without an explicit keyword will result in an error or misinterpretation.\n",
            "  FutureWarning\n",
            "/usr/local/lib/python3.7/dist-packages/seaborn/_decorators.py:43: FutureWarning: Pass the following variable as a keyword arg: x. From version 0.12, the only valid positional argument will be `data`, and passing other arguments without an explicit keyword will result in an error or misinterpretation.\n",
            "  FutureWarning\n",
            "/usr/local/lib/python3.7/dist-packages/seaborn/_decorators.py:43: FutureWarning: Pass the following variable as a keyword arg: x. From version 0.12, the only valid positional argument will be `data`, and passing other arguments without an explicit keyword will result in an error or misinterpretation.\n",
            "  FutureWarning\n"
          ]
        },
        {
          "data": {
            "image/png": "[encoded data removed]",
            "text/plain": [
              "<Figure size 1728x1008 with 12 Axes>"
            ]
          },
          "metadata": {},
          "output_type": "display_data"
        }
      ],
      "source": [
        "fig, axes = plt.subplots(2, 6,  figsize=(24,14))\n",
        "for i, col in enumerate(['TypeofContact', 'Occupation', 'Gender', 'ProductPitched', 'MaritalStatus', 'Designation']):\n",
        "    g = sns.countplot(train_df[col] , ax = axes[0][i])\n",
        "    # axes[i].legend()\n",
        "    g.set_xticklabels(g.get_xticklabels(), rotation=45,\n",
        "                  horizontalalignment='right',\n",
        "                  fontweight='light',\n",
        "                  fontsize='x-small'\n",
        "                 )\n",
        "    plt.xlabel(col)\n",
        "for i, col in enumerate(['TypeofContact', 'Occupation', 'Gender', 'ProductPitched', 'MaritalStatus', 'Designation']):\n",
        "    g = sns.countplot(train_df[col],  hue = train_df['ProdTaken'].map({0:'No', 1:'Yes'}) , ax = axes[1][i])\n",
        "    # axes[i].legend()\n",
        "    g.set_xticklabels(g.get_xticklabels(), rotation=45,\n",
        "                  horizontalalignment='right',\n",
        "                  fontweight='heavy',\n",
        "                  fontsize='x-large'\n",
        "                 )\n",
        "    plt.xlabel(col)\n",
        "\n",
        "\n",
        "plt.show()\n",
        "plt.close()"
      ]
    },
    {
      "cell_type": "markdown",
      "metadata": {
        "id": "3bO73Yorjpca"
      },
      "source": [
        "#### 2-1. 결측치"
      ]
    },
    {
      "cell_type": "code",
      "execution_count": null,
      "metadata": {
        "colab": {
          "base_uri": "https://localhost:8080/"
        },
        "id": "CjnJir3NjFDb",
        "outputId": "f9f1df68-a666-49af-914a-eca7d740fc07"
      },
      "outputs": [
        {
          "data": {
            "text/plain": [
              "id                            0\n",
              "Age                          94\n",
              "TypeofContact                10\n",
              "CityTier                      0\n",
              "DurationOfPitch             102\n",
              "Occupation                    0\n",
              "Gender                        0\n",
              "NumberOfPersonVisiting        0\n",
              "NumberOfFollowups            13\n",
              "ProductPitched                0\n",
              "PreferredPropertyStar        10\n",
              "MaritalStatus                 0\n",
              "NumberOfTrips                57\n",
              "Passport                      0\n",
              "PitchSatisfactionScore        0\n",
              "OwnCar                        0\n",
              "NumberOfChildrenVisiting     27\n",
              "Designation                   0\n",
              "MonthlyIncome               100\n",
              "ProdTaken                     0\n",
              "dtype: int64"
            ]
          },
          "execution_count": 6,
          "metadata": {},
          "output_type": "execute_result"
        }
      ],
      "source": [
        "train_df.isnull().sum()"
      ]
    },
    {
      "cell_type": "code",
      "execution_count": null,
      "metadata": {
        "colab": {
          "base_uri": "https://localhost:8080/"
        },
        "id": "WceU3jJ-0llc",
        "outputId": "f54d6a7e-f158-43c9-fc63-eaf3c74ed440"
      },
      "outputs": [
        {
          "data": {
            "text/plain": [
              "Index(['id', 'Age', 'TypeofContact', 'CityTier', 'DurationOfPitch',\n",
              "       'Occupation', 'Gender', 'NumberOfPersonVisiting', 'NumberOfFollowups',\n",
              "       'ProductPitched', 'PreferredPropertyStar', 'MaritalStatus',\n",
              "       'NumberOfTrips', 'Passport', 'PitchSatisfactionScore', 'OwnCar',\n",
              "       'NumberOfChildrenVisiting', 'Designation', 'MonthlyIncome',\n",
              "       'ProdTaken'],\n",
              "      dtype='object')"
            ]
          },
          "execution_count": 9,
          "metadata": {},
          "output_type": "execute_result"
        }
      ],
      "source": [
        "train_df.columns"
      ]
    },
    {
      "cell_type": "code",
      "execution_count": null,
      "metadata": {
        "colab": {
          "base_uri": "https://localhost:8080/"
        },
        "id": "yM9T7W7mToLF",
        "outputId": "e5195bb8-7bca-4a7a-ccc5-76eada63c7d6"
      },
      "outputs": [
        {
          "name": "stdout",
          "output_type": "stream",
          "text": [
            "37.46211714132187\n",
            "36.0\n"
          ]
        }
      ],
      "source": [
        "# Age (94개)\n",
        "\n",
        "print(train_df['Age'].mean())\n",
        "print(train_df['Age'].median())"
      ]
    },
    {
      "cell_type": "code",
      "execution_count": null,
      "metadata": {
        "colab": {
          "base_uri": "https://localhost:8080/",
          "height": 354
        },
        "id": "Dp_phBnQZ7e-",
        "outputId": "a40f09e5-23b8-421a-b399-ced9e65d29c1"
      },
      "outputs": [
        {
          "name": "stderr",
          "output_type": "stream",
          "text": [
            "/usr/local/lib/python3.7/dist-packages/seaborn/distributions.py:2619: FutureWarning: `distplot` is a deprecated function and will be removed in a future version. Please adapt your code to use either `displot` (a figure-level function with similar flexibility) or `histplot` (an axes-level function for histograms).\n",
            "  warnings.warn(msg, FutureWarning)\n"
          ]
        },
        {
          "data": {
            "text/plain": [
              "<matplotlib.axes._subplots.AxesSubplot at 0x7f0b3d5ec250>"
            ]
          },
          "execution_count": 18,
          "metadata": {},
          "output_type": "execute_result"
        },
        {
          "data": {
            "image/png": "[encoded data removed]",
            "text/plain": [
              "<Figure size 432x288 with 1 Axes>"
            ]
          },
          "metadata": {},
          "output_type": "display_data"
        }
      ],
      "source": [
        "sns.distplot(train_df['Age'])"
      ]
    },
    {
      "cell_type": "code",
      "execution_count": null,
      "metadata": {
        "id": "GJOiZoymbos-"
      },
      "outputs": [],
      "source": [
        "# 중앙값(36)으로 대체\n",
        "\n",
        "train_df['Age'] = train_df['Age'].fillna(train_df.Age.median())"
      ]
    },
    {
      "cell_type": "code",
      "execution_count": null,
      "metadata": {
        "colab": {
          "base_uri": "https://localhost:8080/"
        },
        "id": "5NLbfzyHTqoL",
        "outputId": "8c893f3a-938d-4fb9-8e14-62f1fcaced94"
      },
      "outputs": [
        {
          "data": {
            "text/plain": [
              "Self Enquiry       1379\n",
              "Company Invited     566\n",
              "Name: TypeofContact, dtype: int64"
            ]
          },
          "execution_count": 21,
          "metadata": {},
          "output_type": "execute_result"
        }
      ],
      "source": [
        "# TypeofContact (10개)\n",
        "\n",
        "train_df['TypeofContact'].value_counts()"
      ]
    },
    {
      "cell_type": "code",
      "execution_count": null,
      "metadata": {
        "id": "WVYnfbOPbpjx"
      },
      "outputs": [],
      "source": [
        "# TypeofContact(범주형)의 결측치(10개)는 삭제\n",
        "\n",
        "train_df.dropna(subset=['TypeofContact'], inplace=True)"
      ]
    },
    {
      "cell_type": "code",
      "execution_count": null,
      "metadata": {
        "colab": {
          "base_uri": "https://localhost:8080/"
        },
        "id": "Oz2dbUUbbg3b",
        "outputId": "ba9e803a-7073-4537-aae2-152cc58304a4"
      },
      "outputs": [
        {
          "data": {
            "text/plain": [
              "id                           0\n",
              "Age                          0\n",
              "TypeofContact                0\n",
              "CityTier                     0\n",
              "DurationOfPitch             92\n",
              "Occupation                   0\n",
              "Gender                       0\n",
              "NumberOfPersonVisiting       0\n",
              "NumberOfFollowups           13\n",
              "ProductPitched               0\n",
              "PreferredPropertyStar       10\n",
              "MaritalStatus                0\n",
              "NumberOfTrips               57\n",
              "Passport                     0\n",
              "PitchSatisfactionScore       0\n",
              "OwnCar                       0\n",
              "NumberOfChildrenVisiting    27\n",
              "Designation                  0\n",
              "MonthlyIncome               90\n",
              "ProdTaken                    0\n",
              "dtype: int64"
            ]
          },
          "execution_count": 63,
          "metadata": {},
          "output_type": "execute_result"
        }
      ],
      "source": [
        "train_df.isnull().sum()"
      ]
    },
    {
      "cell_type": "code",
      "execution_count": null,
      "metadata": {
        "colab": {
          "base_uri": "https://localhost:8080/"
        },
        "id": "P7AtcY93Tsds",
        "outputId": "7cee3191-d5dc-4b72-818f-8ebe11ef498a"
      },
      "outputs": [
        {
          "name": "stdout",
          "output_type": "stream",
          "text": [
            "15.524015110631408\n",
            "14.0\n"
          ]
        }
      ],
      "source": [
        "# DurationOfPitch (102개)\n",
        "\n",
        "print(train_df['DurationOfPitch'].mean())\n",
        "print(train_df['DurationOfPitch'].median())"
      ]
    },
    {
      "cell_type": "code",
      "execution_count": null,
      "metadata": {
        "colab": {
          "base_uri": "https://localhost:8080/",
          "height": 354
        },
        "id": "OtBYr5wZbwXz",
        "outputId": "c2aedf62-bdfc-4f09-9731-71ca5f1d1a02"
      },
      "outputs": [
        {
          "name": "stderr",
          "output_type": "stream",
          "text": [
            "/usr/local/lib/python3.7/dist-packages/seaborn/distributions.py:2619: FutureWarning: `distplot` is a deprecated function and will be removed in a future version. Please adapt your code to use either `displot` (a figure-level function with similar flexibility) or `histplot` (an axes-level function for histograms).\n",
            "  warnings.warn(msg, FutureWarning)\n"
          ]
        },
        {
          "data": {
            "text/plain": [
              "<matplotlib.axes._subplots.AxesSubplot at 0x7f0b3e023f10>"
            ]
          },
          "execution_count": 24,
          "metadata": {},
          "output_type": "execute_result"
        },
        {
          "data": {
            "image/png": "[encoded data removed]",
            "text/plain": [
              "<Figure size 432x288 with 1 Axes>"
            ]
          },
          "metadata": {},
          "output_type": "display_data"
        }
      ],
      "source": [
        "sns.distplot(train_df['DurationOfPitch'])"
      ]
    },
    {
      "cell_type": "code",
      "execution_count": null,
      "metadata": {
        "id": "4NYct3Jhb35d"
      },
      "outputs": [],
      "source": [
        "# 중앙값(14)으로 대체\n",
        "\n",
        "train_df['DurationOfPitch'] = train_df['DurationOfPitch'].fillna(train_df.DurationOfPitch.median())"
      ]
    },
    {
      "cell_type": "code",
      "execution_count": null,
      "metadata": {
        "colab": {
          "base_uri": "https://localhost:8080/"
        },
        "id": "W6TD9IIwTurk",
        "outputId": "07da5240-517e-48a9-e076-b6652e460106"
      },
      "outputs": [
        {
          "name": "stdout",
          "output_type": "stream",
          "text": [
            "3.718331616889804\n",
            "4.0\n"
          ]
        }
      ],
      "source": [
        "# NumberOfFollowups (13개)\n",
        "\n",
        "print(train_df['NumberOfFollowups'].mean())\n",
        "print(train_df['NumberOfFollowups'].median())"
      ]
    },
    {
      "cell_type": "code",
      "execution_count": null,
      "metadata": {
        "colab": {
          "base_uri": "https://localhost:8080/",
          "height": 354
        },
        "id": "mNMqLIKucDpg",
        "outputId": "71b5b39e-5363-49f7-8c5b-8c9535109f40"
      },
      "outputs": [
        {
          "name": "stderr",
          "output_type": "stream",
          "text": [
            "/usr/local/lib/python3.7/dist-packages/seaborn/distributions.py:2619: FutureWarning: `distplot` is a deprecated function and will be removed in a future version. Please adapt your code to use either `displot` (a figure-level function with similar flexibility) or `histplot` (an axes-level function for histograms).\n",
            "  warnings.warn(msg, FutureWarning)\n"
          ]
        },
        {
          "data": {
            "text/plain": [
              "<matplotlib.axes._subplots.AxesSubplot at 0x7f0b39dc4d90>"
            ]
          },
          "execution_count": 26,
          "metadata": {},
          "output_type": "execute_result"
        },
        {
          "data": {
            "image/png": "[encoded data removed]",
            "text/plain": [
              "<Figure size 432x288 with 1 Axes>"
            ]
          },
          "metadata": {},
          "output_type": "display_data"
        }
      ],
      "source": [
        "sns.distplot(train_df['NumberOfFollowups'])"
      ]
    },
    {
      "cell_type": "code",
      "execution_count": null,
      "metadata": {
        "id": "-B_s1ESccFzb"
      },
      "outputs": [],
      "source": [
        "# 중앙값(4)으로 대체\n",
        "\n",
        "train_df['NumberOfFollowups'] = train_df['NumberOfFollowups'].fillna(train_df.NumberOfFollowups.median())"
      ]
    },
    {
      "cell_type": "code",
      "execution_count": null,
      "metadata": {
        "colab": {
          "base_uri": "https://localhost:8080/"
        },
        "id": "AVZq9-McTvJb",
        "outputId": "1c52223c-8131-426d-b114-e88f6f944e68"
      },
      "outputs": [
        {
          "name": "stdout",
          "output_type": "stream",
          "text": [
            "3.568637532133676\n",
            "3.0\n"
          ]
        }
      ],
      "source": [
        "# PreferredPropertyStar (10개)\n",
        "\n",
        "print(train_df['PreferredPropertyStar'].mean())\n",
        "print(train_df['PreferredPropertyStar'].median())"
      ]
    },
    {
      "cell_type": "code",
      "execution_count": null,
      "metadata": {
        "colab": {
          "base_uri": "https://localhost:8080/",
          "height": 354
        },
        "id": "06Eff9vicN5g",
        "outputId": "8f671bad-ee7b-48c6-9dde-45422958581a"
      },
      "outputs": [
        {
          "name": "stderr",
          "output_type": "stream",
          "text": [
            "/usr/local/lib/python3.7/dist-packages/seaborn/distributions.py:2619: FutureWarning: `distplot` is a deprecated function and will be removed in a future version. Please adapt your code to use either `displot` (a figure-level function with similar flexibility) or `histplot` (an axes-level function for histograms).\n",
            "  warnings.warn(msg, FutureWarning)\n"
          ]
        },
        {
          "data": {
            "text/plain": [
              "<matplotlib.axes._subplots.AxesSubplot at 0x7f0b39dc76d0>"
            ]
          },
          "execution_count": 28,
          "metadata": {},
          "output_type": "execute_result"
        },
        {
          "data": {
            "image/png": "[encoded data removed]",
            "text/plain": [
              "<Figure size 432x288 with 1 Axes>"
            ]
          },
          "metadata": {},
          "output_type": "display_data"
        }
      ],
      "source": [
        "sns.distplot(train_df['PreferredPropertyStar'])"
      ]
    },
    {
      "cell_type": "code",
      "execution_count": null,
      "metadata": {
        "id": "1_mzcwUYcP-E"
      },
      "outputs": [],
      "source": [
        "# 중앙값(3)으로 대체\n",
        "\n",
        "train_df['PreferredPropertyStar'] = train_df['PreferredPropertyStar'].fillna(train_df.PreferredPropertyStar.median())"
      ]
    },
    {
      "cell_type": "code",
      "execution_count": null,
      "metadata": {
        "colab": {
          "base_uri": "https://localhost:8080/"
        },
        "id": "P2dLSao5Tw4a",
        "outputId": "8b5b92f4-dbb4-4162-e506-e936055a2f94"
      },
      "outputs": [
        {
          "name": "stdout",
          "output_type": "stream",
          "text": [
            "3.255532139093783\n",
            "3.0\n"
          ]
        }
      ],
      "source": [
        "# NumberOfTrips (57개)\n",
        "\n",
        "print(train_df['NumberOfTrips'].mean())\n",
        "print(train_df['NumberOfTrips'].median())"
      ]
    },
    {
      "cell_type": "code",
      "execution_count": null,
      "metadata": {
        "colab": {
          "base_uri": "https://localhost:8080/",
          "height": 354
        },
        "id": "4UKb8UeVcX18",
        "outputId": "63ae1221-80f5-4556-8563-750c2dd60342"
      },
      "outputs": [
        {
          "name": "stderr",
          "output_type": "stream",
          "text": [
            "/usr/local/lib/python3.7/dist-packages/seaborn/distributions.py:2619: FutureWarning: `distplot` is a deprecated function and will be removed in a future version. Please adapt your code to use either `displot` (a figure-level function with similar flexibility) or `histplot` (an axes-level function for histograms).\n",
            "  warnings.warn(msg, FutureWarning)\n"
          ]
        },
        {
          "data": {
            "text/plain": [
              "<matplotlib.axes._subplots.AxesSubplot at 0x7f0b39c0a050>"
            ]
          },
          "execution_count": 30,
          "metadata": {},
          "output_type": "execute_result"
        },
        {
          "data": {
            "image/png": "[encoded data removed]",
            "text/plain": [
              "<Figure size 432x288 with 1 Axes>"
            ]
          },
          "metadata": {},
          "output_type": "display_data"
        }
      ],
      "source": [
        "sns.distplot(train_df['NumberOfTrips'])"
      ]
    },
    {
      "cell_type": "code",
      "execution_count": null,
      "metadata": {
        "id": "Q_-gOIqsca7R"
      },
      "outputs": [],
      "source": [
        "# 중앙값(3)으로 대체\n",
        "\n",
        "train_df['NumberOfTrips'] = train_df['NumberOfTrips'].fillna(train_df.NumberOfTrips.median())"
      ]
    },
    {
      "cell_type": "code",
      "execution_count": null,
      "metadata": {
        "colab": {
          "base_uri": "https://localhost:8080/"
        },
        "id": "aSq0LFa0TyR6",
        "outputId": "c711298f-e5ee-4bfb-cf85-cdd9deb23532"
      },
      "outputs": [
        {
          "name": "stdout",
          "output_type": "stream",
          "text": [
            "1.213174273858921\n",
            "1.0\n"
          ]
        }
      ],
      "source": [
        "# NumberOfChildrenVisiting (27개)\n",
        "\n",
        "print(train_df['NumberOfChildrenVisiting'].mean())\n",
        "print(train_df['NumberOfChildrenVisiting'].median())"
      ]
    },
    {
      "cell_type": "code",
      "execution_count": null,
      "metadata": {
        "colab": {
          "base_uri": "https://localhost:8080/",
          "height": 354
        },
        "id": "XRk_yi5EckzW",
        "outputId": "3158a0f4-4434-43cc-abca-d954c3f38661"
      },
      "outputs": [
        {
          "name": "stderr",
          "output_type": "stream",
          "text": [
            "/usr/local/lib/python3.7/dist-packages/seaborn/distributions.py:2619: FutureWarning: `distplot` is a deprecated function and will be removed in a future version. Please adapt your code to use either `displot` (a figure-level function with similar flexibility) or `histplot` (an axes-level function for histograms).\n",
            "  warnings.warn(msg, FutureWarning)\n"
          ]
        },
        {
          "data": {
            "text/plain": [
              "<matplotlib.axes._subplots.AxesSubplot at 0x7f0b39acf0d0>"
            ]
          },
          "execution_count": 32,
          "metadata": {},
          "output_type": "execute_result"
        },
        {
          "data": {
            "image/png": "[encoded data removed]",
            "text/plain": [
              "<Figure size 432x288 with 1 Axes>"
            ]
          },
          "metadata": {},
          "output_type": "display_data"
        }
      ],
      "source": [
        "sns.distplot(train_df['NumberOfChildrenVisiting'])"
      ]
    },
    {
      "cell_type": "code",
      "execution_count": null,
      "metadata": {
        "id": "gNIgxa5uck2C"
      },
      "outputs": [],
      "source": [
        "# 중앙값(1)으로 대체\n",
        "\n",
        "train_df['NumberOfChildrenVisiting'] = train_df['NumberOfChildrenVisiting'].fillna(train_df.NumberOfChildrenVisiting.median())"
      ]
    },
    {
      "cell_type": "code",
      "execution_count": null,
      "metadata": {
        "colab": {
          "base_uri": "https://localhost:8080/"
        },
        "id": "bCqfwRT1T0jL",
        "outputId": "cba6992a-5e5b-4917-b74f-fea4f24fb7bf"
      },
      "outputs": [
        {
          "name": "stdout",
          "output_type": "stream",
          "text": [
            "23624.108894878707\n",
            "22295.0\n"
          ]
        }
      ],
      "source": [
        "# MonthlyIncome (100개)\n",
        "\n",
        "print(train_df['MonthlyIncome'].mean())\n",
        "print(train_df['MonthlyIncome'].median())"
      ]
    },
    {
      "cell_type": "code",
      "execution_count": null,
      "metadata": {
        "colab": {
          "base_uri": "https://localhost:8080/",
          "height": 354
        },
        "id": "K5LNeLs-cwNT",
        "outputId": "e22a7fc2-9293-4693-9ad7-e1ee5d10d200"
      },
      "outputs": [
        {
          "name": "stderr",
          "output_type": "stream",
          "text": [
            "/usr/local/lib/python3.7/dist-packages/seaborn/distributions.py:2619: FutureWarning: `distplot` is a deprecated function and will be removed in a future version. Please adapt your code to use either `displot` (a figure-level function with similar flexibility) or `histplot` (an axes-level function for histograms).\n",
            "  warnings.warn(msg, FutureWarning)\n"
          ]
        },
        {
          "data": {
            "text/plain": [
              "<matplotlib.axes._subplots.AxesSubplot at 0x7f0b39a53b90>"
            ]
          },
          "execution_count": 34,
          "metadata": {},
          "output_type": "execute_result"
        },
        {
          "data": {
            "image/png": "[encoded data removed]",
            "text/plain": [
              "<Figure size 432x288 with 1 Axes>"
            ]
          },
          "metadata": {},
          "output_type": "display_data"
        }
      ],
      "source": [
        "sns.distplot(train_df['MonthlyIncome'])"
      ]
    },
    {
      "cell_type": "code",
      "execution_count": null,
      "metadata": {
        "id": "Y9eKJBuMcyCy"
      },
      "outputs": [],
      "source": [
        "# 평균값(23624.108894878707)으로 대체\n",
        "\n",
        "train_df['MonthlyIncome'] = train_df['MonthlyIncome'].fillna(train_df.MonthlyIncome.mean())"
      ]
    },
    {
      "cell_type": "code",
      "execution_count": null,
      "metadata": {
        "colab": {
          "base_uri": "https://localhost:8080/"
        },
        "id": "O0SCb_SXfpzx",
        "outputId": "df8e39e5-9ede-4f81-df93-70312d59ee18"
      },
      "outputs": [
        {
          "data": {
            "text/plain": [
              "id                          0\n",
              "Age                         0\n",
              "TypeofContact               0\n",
              "CityTier                    0\n",
              "DurationOfPitch             0\n",
              "Occupation                  0\n",
              "Gender                      0\n",
              "NumberOfPersonVisiting      0\n",
              "NumberOfFollowups           0\n",
              "ProductPitched              0\n",
              "PreferredPropertyStar       0\n",
              "MaritalStatus               0\n",
              "NumberOfTrips               0\n",
              "Passport                    0\n",
              "PitchSatisfactionScore      0\n",
              "OwnCar                      0\n",
              "NumberOfChildrenVisiting    0\n",
              "Designation                 0\n",
              "MonthlyIncome               0\n",
              "ProdTaken                   0\n",
              "dtype: int64"
            ]
          },
          "execution_count": 14,
          "metadata": {},
          "output_type": "execute_result"
        }
      ],
      "source": [
        "train_df.isnull().sum()"
      ]
    },
    {
      "cell_type": "markdown",
      "metadata": {
        "id": "KxwfhkggjoGl"
      },
      "source": [
        "#### 2-2. 이상치"
      ]
    },
    {
      "cell_type": "code",
      "execution_count": null,
      "metadata": {
        "colab": {
          "base_uri": "https://localhost:8080/"
        },
        "id": "KUJ3s10KWjwQ",
        "outputId": "cf234031-e703-4a53-c29c-92d775d84f85"
      },
      "outputs": [
        {
          "data": {
            "text/plain": [
              "id                            int64\n",
              "Age                         float64\n",
              "TypeofContact                object\n",
              "CityTier                      int64\n",
              "DurationOfPitch             float64\n",
              "Occupation                   object\n",
              "Gender                       object\n",
              "NumberOfPersonVisiting        int64\n",
              "NumberOfFollowups           float64\n",
              "ProductPitched               object\n",
              "PreferredPropertyStar       float64\n",
              "MaritalStatus                object\n",
              "NumberOfTrips               float64\n",
              "Passport                      int64\n",
              "PitchSatisfactionScore        int64\n",
              "OwnCar                        int64\n",
              "NumberOfChildrenVisiting    float64\n",
              "Designation                  object\n",
              "MonthlyIncome               float64\n",
              "ProdTaken                     int64\n",
              "dtype: object"
            ]
          },
          "execution_count": 72,
          "metadata": {},
          "output_type": "execute_result"
        }
      ],
      "source": [
        "train_df.dtypes"
      ]
    },
    {
      "cell_type": "code",
      "execution_count": null,
      "metadata": {
        "id": "iu3cDPpogXev"
      },
      "outputs": [],
      "source": [
        "def outlier_iqr(data, column): \n",
        "\n",
        "    # lower, upper 글로벌 변수 선언하기     \n",
        "    global lower, upper    \n",
        "    \n",
        "    # 4분위수 기준 지정하기     \n",
        "    q25, q75 = np.quantile(data[column], 0.25), np.quantile(data[column], 0.75)          \n",
        "    \n",
        "    # IQR 계산하기     \n",
        "    iqr = q75 - q25    \n",
        "    \n",
        "    # outlier cutoff 계산하기     \n",
        "    cut_off = iqr * 1.5          \n",
        "    \n",
        "    # lower와 upper bound 값 구하기     \n",
        "    lower, upper = q25 - cut_off, q75 + cut_off     \n",
        "    \n",
        "    print('IQR은',iqr, '이다.')     \n",
        "    print('lower bound 값은', lower, '이다.')     \n",
        "    print('upper bound 값은', upper, '이다.')    \n",
        "    \n",
        "    # 1사 분위와 4사 분위에 속해있는 데이터 각각 저장하기     \n",
        "    data1 = data[data[column] > upper]     \n",
        "    data2 = data[data[column] < lower]    \n",
        "    \n",
        "    # 이상치 총 개수 구하기\n",
        "    return print('총 이상치 개수는', data1.shape[0] + data2.shape[0], '이다.')"
      ]
    },
    {
      "cell_type": "markdown",
      "metadata": {
        "id": "12IVRUgXZvxJ"
      },
      "source": [
        "https://claryk.tistory.com/4"
      ]
    },
    {
      "cell_type": "code",
      "execution_count": null,
      "metadata": {
        "colab": {
          "base_uri": "https://localhost:8080/"
        },
        "id": "2mb2nO1xTa3z",
        "outputId": "4159d15b-e5ba-45fb-cb3d-ef81f488bc76"
      },
      "outputs": [
        {
          "data": {
            "text/plain": [
              "Index(['id', 'Age', 'TypeofContact', 'CityTier', 'DurationOfPitch',\n",
              "       'Occupation', 'Gender', 'NumberOfPersonVisiting', 'NumberOfFollowups',\n",
              "       'ProductPitched', 'PreferredPropertyStar', 'MaritalStatus',\n",
              "       'NumberOfTrips', 'Passport', 'PitchSatisfactionScore', 'OwnCar',\n",
              "       'NumberOfChildrenVisiting', 'Designation', 'MonthlyIncome',\n",
              "       'ProdTaken'],\n",
              "      dtype='object')"
            ]
          },
          "execution_count": 74,
          "metadata": {},
          "output_type": "execute_result"
        }
      ],
      "source": [
        "train_df.columns"
      ]
    },
    {
      "cell_type": "code",
      "execution_count": null,
      "metadata": {
        "id": "CJ94T0yfWrqe"
      },
      "outputs": [],
      "source": [
        "# object 타입 제외 (TypeofContact, Occupation, Gender, ProductPitched, MaritalStatus, Designation)\n",
        "\n",
        "index = ['id', 'Age', 'CityTier', 'DurationOfPitch', 'NumberOfPersonVisiting', \n",
        "         'NumberOfFollowups', 'PreferredPropertyStar', 'NumberOfTrips', 'Passport', 'PitchSatisfactionScore', \n",
        "         'OwnCar', 'NumberOfChildrenVisiting', 'MonthlyIncome', 'ProdTaken']"
      ]
    },
    {
      "cell_type": "code",
      "execution_count": null,
      "metadata": {
        "colab": {
          "base_uri": "https://localhost:8080/"
        },
        "id": "j21TyVFyTdqZ",
        "outputId": "eda284a7-7844-4aaa-d2a1-4dd526ad10c1"
      },
      "outputs": [
        {
          "name": "stdout",
          "output_type": "stream",
          "text": [
            "==============================\n",
            "1번째 변수: id\n",
            "IQR은 974.0 이다.\n",
            "lower bound 값은 -970.0 이다.\n",
            "upper bound 값은 2926.0 이다.\n",
            "총 이상치 개수는 0 이다.\n",
            "==============================\n",
            "2번째 변수: Age\n",
            "IQR은 12.0 이다.\n",
            "lower bound 값은 13.0 이다.\n",
            "upper bound 값은 61.0 이다.\n",
            "총 이상치 개수는 0 이다.\n",
            "==============================\n",
            "3번째 변수: CityTier\n",
            "IQR은 2.0 이다.\n",
            "lower bound 값은 -2.0 이다.\n",
            "upper bound 값은 6.0 이다.\n",
            "총 이상치 개수는 0 이다.\n",
            "==============================\n",
            "4번째 변수: DurationOfPitch\n",
            "IQR은 10.0 이다.\n",
            "lower bound 값은 -6.0 이다.\n",
            "upper bound 값은 34.0 이다.\n",
            "총 이상치 개수는 44 이다.\n",
            "==============================\n",
            "5번째 변수: NumberOfPersonVisiting\n",
            "IQR은 1.0 이다.\n",
            "lower bound 값은 0.5 이다.\n",
            "upper bound 값은 4.5 이다.\n",
            "총 이상치 개수는 1 이다.\n",
            "==============================\n",
            "6번째 변수: NumberOfFollowups\n",
            "IQR은 1.0 이다.\n",
            "lower bound 값은 1.5 이다.\n",
            "upper bound 값은 5.5 이다.\n",
            "총 이상치 개수는 120 이다.\n",
            "==============================\n",
            "7번째 변수: PreferredPropertyStar\n",
            "IQR은 1.0 이다.\n",
            "lower bound 값은 1.5 이다.\n",
            "upper bound 값은 5.5 이다.\n",
            "총 이상치 개수는 0 이다.\n",
            "==============================\n",
            "8번째 변수: NumberOfTrips\n",
            "IQR은 2.0 이다.\n",
            "lower bound 값은 -1.0 이다.\n",
            "upper bound 값은 7.0 이다.\n",
            "총 이상치 개수는 38 이다.\n",
            "==============================\n",
            "9번째 변수: Passport\n",
            "IQR은 1.0 이다.\n",
            "lower bound 값은 -1.5 이다.\n",
            "upper bound 값은 2.5 이다.\n",
            "총 이상치 개수는 0 이다.\n",
            "==============================\n",
            "10번째 변수: PitchSatisfactionScore\n",
            "IQR은 2.0 이다.\n",
            "lower bound 값은 -1.0 이다.\n",
            "upper bound 값은 7.0 이다.\n",
            "총 이상치 개수는 0 이다.\n",
            "==============================\n",
            "11번째 변수: OwnCar\n",
            "IQR은 1.0 이다.\n",
            "lower bound 값은 -1.5 이다.\n",
            "upper bound 값은 2.5 이다.\n",
            "총 이상치 개수는 0 이다.\n",
            "==============================\n",
            "12번째 변수: NumberOfChildrenVisiting\n",
            "IQR은 1.0 이다.\n",
            "lower bound 값은 -0.5 이다.\n",
            "upper bound 값은 3.5 이다.\n",
            "총 이상치 개수는 0 이다.\n",
            "==============================\n",
            "13번째 변수: MonthlyIncome\n",
            "IQR은 4889.0 이다.\n",
            "lower bound 값은 13222.5 이다.\n",
            "upper bound 값은 32778.5 이다.\n",
            "총 이상치 개수는 144 이다.\n",
            "==============================\n",
            "14번째 변수: ProdTaken\n",
            "IQR은 0.0 이다.\n",
            "lower bound 값은 0.0 이다.\n",
            "upper bound 값은 0.0 이다.\n",
            "총 이상치 개수는 381 이다.\n"
          ]
        }
      ],
      "source": [
        "for i in range(len(index)):\n",
        "  print('==============================')\n",
        "  print('%d번째 변수: %s' %(i+1,index[i]))\n",
        "  outlier_iqr(train_df, index[i])"
      ]
    },
    {
      "cell_type": "code",
      "execution_count": null,
      "metadata": {
        "colab": {
          "base_uri": "https://localhost:8080/",
          "height": 354
        },
        "id": "DV-TyaPFTUmI",
        "outputId": "08e66b82-e5a2-4ff7-dc67-b8943270fc33"
      },
      "outputs": [
        {
          "name": "stderr",
          "output_type": "stream",
          "text": [
            "/usr/local/lib/python3.7/dist-packages/seaborn/_decorators.py:43: FutureWarning: Pass the following variable as a keyword arg: x. From version 0.12, the only valid positional argument will be `data`, and passing other arguments without an explicit keyword will result in an error or misinterpretation.\n",
            "  FutureWarning\n"
          ]
        },
        {
          "data": {
            "text/plain": [
              "<matplotlib.axes._subplots.AxesSubplot at 0x7fa1ae44fe10>"
            ]
          },
          "execution_count": 20,
          "metadata": {},
          "output_type": "execute_result"
        },
        {
          "data": {
            "image/png": "[encoded data removed]",
            "text/plain": [
              "<Figure size 432x288 with 1 Axes>"
            ]
          },
          "metadata": {},
          "output_type": "display_data"
        }
      ],
      "source": [
        "# DurationOfPitch : 영업 사원이 고객에게 제공하는 프레젠테이션 기간 (44개)\n",
        "\n",
        "sns.boxplot(train_df['DurationOfPitch'])"
      ]
    },
    {
      "cell_type": "code",
      "execution_count": null,
      "metadata": {
        "colab": {
          "base_uri": "https://localhost:8080/"
        },
        "id": "x01pvWOPYkd5",
        "outputId": "bae705b7-594c-4e7c-9248-b9f7bcd7de53"
      },
      "outputs": [
        {
          "name": "stdout",
          "output_type": "stream",
          "text": [
            "15.451928020565553\n",
            "14.0\n"
          ]
        }
      ],
      "source": [
        "print(train_df['DurationOfPitch'].mean())\n",
        "print(train_df['DurationOfPitch'].median())"
      ]
    },
    {
      "cell_type": "code",
      "execution_count": null,
      "metadata": {
        "colab": {
          "base_uri": "https://localhost:8080/",
          "height": 354
        },
        "id": "BTV5chOFTUu_",
        "outputId": "79c2a429-f8d8-4eb2-eba1-a6b57c92055f"
      },
      "outputs": [
        {
          "name": "stderr",
          "output_type": "stream",
          "text": [
            "/usr/local/lib/python3.7/dist-packages/seaborn/_decorators.py:43: FutureWarning: Pass the following variable as a keyword arg: x. From version 0.12, the only valid positional argument will be `data`, and passing other arguments without an explicit keyword will result in an error or misinterpretation.\n",
            "  FutureWarning\n"
          ]
        },
        {
          "data": {
            "text/plain": [
              "<matplotlib.axes._subplots.AxesSubplot at 0x7f5d0f197e10>"
            ]
          },
          "execution_count": 80,
          "metadata": {},
          "output_type": "execute_result"
        },
        {
          "data": {
            "image/png": "[encoded data removed]",
            "text/plain": [
              "<Figure size 432x288 with 1 Axes>"
            ]
          },
          "metadata": {},
          "output_type": "display_data"
        }
      ],
      "source": [
        "# NumberOfPersonVisiting : 고객과 함께 여행을 계획 중인 총 인원 (1개)\n",
        "\n",
        "sns.boxplot(train_df['NumberOfPersonVisiting'])"
      ]
    },
    {
      "cell_type": "code",
      "execution_count": null,
      "metadata": {
        "colab": {
          "base_uri": "https://localhost:8080/",
          "height": 354
        },
        "id": "gMj0XahBYC9Y",
        "outputId": "96685e2f-e176-4cd1-f042-3fa8aafd7efc"
      },
      "outputs": [
        {
          "name": "stderr",
          "output_type": "stream",
          "text": [
            "/usr/local/lib/python3.7/dist-packages/seaborn/_decorators.py:43: FutureWarning: Pass the following variable as a keyword arg: x. From version 0.12, the only valid positional argument will be `data`, and passing other arguments without an explicit keyword will result in an error or misinterpretation.\n",
            "  FutureWarning\n"
          ]
        },
        {
          "data": {
            "text/plain": [
              "<matplotlib.axes._subplots.AxesSubplot at 0x7f5d0d934f50>"
            ]
          },
          "execution_count": 81,
          "metadata": {},
          "output_type": "execute_result"
        },
        {
          "data": {
            "image/png": "[encoded data removed]",
            "text/plain": [
              "<Figure size 432x288 with 1 Axes>"
            ]
          },
          "metadata": {},
          "output_type": "display_data"
        }
      ],
      "source": [
        "# NumberOfFollowups : 영업 사원의 프레젠테이션 후 이루어진 후속 조치 수 (120개)\n",
        "\n",
        "sns.boxplot(train_df['NumberOfFollowups'])"
      ]
    },
    {
      "cell_type": "code",
      "execution_count": null,
      "metadata": {
        "colab": {
          "base_uri": "https://localhost:8080/",
          "height": 354
        },
        "id": "MO7P0E-QYIII",
        "outputId": "4a85ef15-c202-41c8-ae46-eef90a6d01c6"
      },
      "outputs": [
        {
          "name": "stderr",
          "output_type": "stream",
          "text": [
            "/usr/local/lib/python3.7/dist-packages/seaborn/_decorators.py:43: FutureWarning: Pass the following variable as a keyword arg: x. From version 0.12, the only valid positional argument will be `data`, and passing other arguments without an explicit keyword will result in an error or misinterpretation.\n",
            "  FutureWarning\n"
          ]
        },
        {
          "data": {
            "text/plain": [
              "<matplotlib.axes._subplots.AxesSubplot at 0x7f5d0d907390>"
            ]
          },
          "execution_count": 82,
          "metadata": {},
          "output_type": "execute_result"
        },
        {
          "data": {
            "image/png": "[encoded data removed]",
            "text/plain": [
              "<Figure size 432x288 with 1 Axes>"
            ]
          },
          "metadata": {},
          "output_type": "display_data"
        }
      ],
      "source": [
        "# NumberOfTrips : 평균 연간 여행 횟수 (38개)\n",
        "\n",
        "sns.boxplot(train_df['NumberOfTrips'])"
      ]
    },
    {
      "cell_type": "markdown",
      "metadata": {
        "id": "RXCNeAY1hA9x"
      },
      "source": [
        "DurationOfPitch, NumberOfPersonVisiting, NumberOfFollowups, NumberOfTrips 변수에서 이상치는 충분히 가능한 값이라 생각되어 삭제하거나 대체하지 않음"
      ]
    },
    {
      "cell_type": "code",
      "execution_count": null,
      "metadata": {
        "colab": {
          "base_uri": "https://localhost:8080/",
          "height": 354
        },
        "id": "xeF7TrxAYN-q",
        "outputId": "11913d49-92a2-413d-af48-e3c381977183"
      },
      "outputs": [
        {
          "name": "stderr",
          "output_type": "stream",
          "text": [
            "/usr/local/lib/python3.7/dist-packages/seaborn/_decorators.py:43: FutureWarning: Pass the following variable as a keyword arg: x. From version 0.12, the only valid positional argument will be `data`, and passing other arguments without an explicit keyword will result in an error or misinterpretation.\n",
            "  FutureWarning\n"
          ]
        },
        {
          "data": {
            "text/plain": [
              "<matplotlib.axes._subplots.AxesSubplot at 0x7f0b39842bd0>"
            ]
          },
          "execution_count": 78,
          "metadata": {},
          "output_type": "execute_result"
        },
        {
          "data": {
            "image/png": "[encoded data removed]",
            "text/plain": [
              "<Figure size 432x288 with 1 Axes>"
            ]
          },
          "metadata": {},
          "output_type": "display_data"
        }
      ],
      "source": [
        "# MonthlyIncome : 월 급여 (144) \n",
        "\n",
        "sns.boxplot(train_df['MonthlyIncome'])"
      ]
    },
    {
      "cell_type": "code",
      "execution_count": null,
      "metadata": {
        "colab": {
          "base_uri": "https://localhost:8080/"
        },
        "id": "IRmT7Am7Zi7k",
        "outputId": "e93e45ba-845a-42cf-fca8-0b562a0ae040"
      },
      "outputs": [
        {
          "data": {
            "text/plain": [
              "count     1945.000000\n",
              "mean     23624.108895\n",
              "std       5508.368323\n",
              "min       1000.000000\n",
              "25%      20556.000000\n",
              "50%      22642.000000\n",
              "75%      25445.000000\n",
              "max      98678.000000\n",
              "Name: MonthlyIncome, dtype: float64"
            ]
          },
          "execution_count": 79,
          "metadata": {},
          "output_type": "execute_result"
        }
      ],
      "source": [
        "train_df['MonthlyIncome'].describe()"
      ]
    },
    {
      "cell_type": "code",
      "execution_count": null,
      "metadata": {
        "id": "YgaAigQBa1kH"
      },
      "outputs": [],
      "source": [
        "# MonthlyIncome > 50000 인 행 삭제\n",
        "\n",
        "idx = train_df[train_df['MonthlyIncome'] > 50000].index\n",
        "train_df.drop(idx, inplace=True)"
      ]
    },
    {
      "cell_type": "code",
      "execution_count": null,
      "metadata": {
        "colab": {
          "base_uri": "https://localhost:8080/"
        },
        "id": "gJJz50mrhbPf",
        "outputId": "3e5b6d73-7727-49c9-c146-ee80e9b6ed49"
      },
      "outputs": [
        {
          "data": {
            "text/plain": [
              "Int64Index([604, 1338], dtype='int64')"
            ]
          },
          "execution_count": 81,
          "metadata": {},
          "output_type": "execute_result"
        }
      ],
      "source": [
        "idx"
      ]
    },
    {
      "cell_type": "code",
      "execution_count": null,
      "metadata": {
        "colab": {
          "base_uri": "https://localhost:8080/"
        },
        "id": "OsDvBch7h9-D",
        "outputId": "252b5d80-bb65-4130-c909-816caca700c3"
      },
      "outputs": [
        {
          "data": {
            "text/plain": [
              "Index(['id', 'Age', 'CityTier', 'DurationOfPitch', 'NumberOfPersonVisiting',\n",
              "       'NumberOfFollowups', 'PreferredPropertyStar', 'NumberOfTrips',\n",
              "       'Passport', 'PitchSatisfactionScore', 'OwnCar',\n",
              "       'NumberOfChildrenVisiting', 'MonthlyIncome', 'ProdTaken'],\n",
              "      dtype='object')"
            ]
          },
          "execution_count": 19,
          "metadata": {},
          "output_type": "execute_result"
        }
      ],
      "source": [
        "train_df.select_dtypes(exclude=['object']).columns"
      ]
    },
    {
      "cell_type": "code",
      "execution_count": null,
      "metadata": {
        "colab": {
          "base_uri": "https://localhost:8080/"
        },
        "id": "3bUXPE8biJup",
        "outputId": "6c490485-b111-498e-d23b-e00fbe9eba09"
      },
      "outputs": [
        {
          "data": {
            "text/plain": [
              "id                            int64\n",
              "Age                         float64\n",
              "TypeofContact                object\n",
              "CityTier                      int64\n",
              "DurationOfPitch             float64\n",
              "Occupation                   object\n",
              "Gender                       object\n",
              "NumberOfPersonVisiting        int64\n",
              "NumberOfFollowups           float64\n",
              "ProductPitched               object\n",
              "PreferredPropertyStar       float64\n",
              "MaritalStatus                object\n",
              "NumberOfTrips               float64\n",
              "Passport                      int64\n",
              "PitchSatisfactionScore        int64\n",
              "OwnCar                        int64\n",
              "NumberOfChildrenVisiting    float64\n",
              "Designation                  object\n",
              "MonthlyIncome               float64\n",
              "ProdTaken                     int64\n",
              "dtype: object"
            ]
          },
          "execution_count": 86,
          "metadata": {},
          "output_type": "execute_result"
        }
      ],
      "source": [
        "train_df.dtypes"
      ]
    },
    {
      "cell_type": "markdown",
      "source": [
        "#### 결측치\n",
        "- Age(37)\n",
        "- DurationOfPitch(9 / 평균 / 중앙값 중 성능 좋은 것으로)\n",
        "- NumberOfFollowups(4)\n",
        "- PreferredPropertyStar(3)\n",
        "- NumberOfTrips(3)\n",
        "- NumberOfChildrenVisiting(1)\n",
        "- MonthlyIncome (평균)\n",
        "\n",
        "#### 이상치\n",
        "- 그대로 "
      ],
      "metadata": {
        "id": "ReCZl0nTn_U_"
      }
    },
    {
      "cell_type": "code",
      "execution_count": null,
      "metadata": {
        "colab": {
          "base_uri": "https://localhost:8080/",
          "height": 699
        },
        "id": "vGNN3fzFhgNj",
        "outputId": "1484dac2-4156-4e77-86cb-7dbe99361afd"
      },
      "outputs": [
        {
          "data": {
            "text/plain": [
              "<matplotlib.axes._subplots.AxesSubplot at 0x7f0b390d9410>"
            ]
          },
          "execution_count": 96,
          "metadata": {},
          "output_type": "execute_result"
        },
        {
          "data": {
            "image/png": "[encoded data removed]",
            "text/plain": [
              "<Figure size 1080x720 with 1 Axes>"
            ]
          },
          "metadata": {},
          "output_type": "display_data"
        }
      ],
      "source": [
        "new_df = train_df[['Age', 'CityTier', 'DurationOfPitch', 'NumberOfPersonVisiting','NumberOfFollowups', 'PreferredPropertyStar', 'NumberOfTrips','Passport', 'PitchSatisfactionScore', 'OwnCar', 'NumberOfChildrenVisiting', 'ProdTaken']]\n",
        "\n",
        "plt.figure(figsize=(15,10))\n",
        "plt.xticks(rotation=45)\n",
        "sns.boxplot(data=new_df)"
      ]
    },
    {
      "cell_type": "code",
      "execution_count": null,
      "metadata": {
        "colab": {
          "base_uri": "https://localhost:8080/",
          "height": 285
        },
        "id": "e4LSiGUjjHEN",
        "outputId": "5728e82b-f866-4976-c77d-7d881842f019"
      },
      "outputs": [
        {
          "data": {
            "text/plain": [
              "<matplotlib.axes._subplots.AxesSubplot at 0x7f0b3876ce50>"
            ]
          },
          "execution_count": 99,
          "metadata": {},
          "output_type": "execute_result"
        },
        {
          "data": {
            "image/png": "[encoded data removed]",
            "text/plain": [
              "<Figure size 432x288 with 1 Axes>"
            ]
          },
          "metadata": {},
          "output_type": "display_data"
        }
      ],
      "source": [
        "sns.boxplot(data=train_df['MonthlyIncome'])"
      ]
    },
    {
      "cell_type": "markdown",
      "metadata": {
        "id": "gKigsLxejwHb"
      },
      "source": [
        "## 3. 데이터의 개별 속성값 관찰"
      ]
    },
    {
      "cell_type": "markdown",
      "metadata": {
        "id": "jVuZmL2epoZg"
      },
      "source": [
        "#### 3-1. target 값 확인\n",
        "ProdTaken : 여행 패키지 신청 여부 (0: 신청 안 함, 1: 신청함)"
      ]
    },
    {
      "cell_type": "code",
      "execution_count": null,
      "metadata": {
        "colab": {
          "base_uri": "https://localhost:8080/",
          "height": 354
        },
        "id": "PfZykfPPjx81",
        "outputId": "6a9f1ee3-63c3-45bd-c89d-068164070e09"
      },
      "outputs": [
        {
          "name": "stderr",
          "output_type": "stream",
          "text": [
            "/usr/local/lib/python3.7/dist-packages/seaborn/_decorators.py:43: FutureWarning: Pass the following variable as a keyword arg: x. From version 0.12, the only valid positional argument will be `data`, and passing other arguments without an explicit keyword will result in an error or misinterpretation.\n",
            "  FutureWarning\n"
          ]
        },
        {
          "data": {
            "text/plain": [
              "<matplotlib.axes._subplots.AxesSubplot at 0x7f1d52d7d590>"
            ]
          },
          "execution_count": 28,
          "metadata": {},
          "output_type": "execute_result"
        },
        {
          "data": {
            "image/png": "[encoded data removed]",
            "text/plain": [
              "<Figure size 432x288 with 1 Axes>"
            ]
          },
          "metadata": {},
          "output_type": "display_data"
        }
      ],
      "source": [
        "sns.countplot(train_df['ProdTaken'])"
      ]
    },
    {
      "cell_type": "markdown",
      "metadata": {
        "id": "fwsZ0tebjyF4"
      },
      "source": [
        "## 4. 속성 간의 관계 -> 패턴 발견 (상관관계, 시각화 등)"
      ]
    },
    {
      "cell_type": "code",
      "execution_count": null,
      "metadata": {
        "colab": {
          "base_uri": "https://localhost:8080/",
          "height": 625
        },
        "id": "JC9ApFe3j10r",
        "outputId": "6d58c009-dfac-4d3a-dbd3-19745397edf1"
      },
      "outputs": [
        {
          "data": {
            "text/plain": [
              "<matplotlib.axes._subplots.AxesSubplot at 0x7f5d0d643090>"
            ]
          },
          "execution_count": 103,
          "metadata": {},
          "output_type": "execute_result"
        },
        {
          "data": {
            "image/png": "[encoded data removed]",
            "text/plain": [
              "<Figure size 1080x576 with 2 Axes>"
            ]
          },
          "metadata": {},
          "output_type": "display_data"
        }
      ],
      "source": [
        "plt.figure(figsize = (15,8))\n",
        "sns.heatmap(train_df.corr(), annot=True)"
      ]
    },
    {
      "cell_type": "markdown",
      "metadata": {
        "id": "PegRxxvZjqEk"
      },
      "source": [
        "Age와 MonthlyIncome, NumberOfPersonVisiting과 NumberOfPersonVisiting 간의 상관관계가 높게 나타남"
      ]
    },
    {
      "cell_type": "markdown",
      "metadata": {
        "id": "tvpVO_GAkLj-"
      },
      "source": [
        "## 5. 범주형 변수 변환"
      ]
    },
    {
      "cell_type": "code",
      "execution_count": null,
      "metadata": {
        "colab": {
          "base_uri": "https://localhost:8080/"
        },
        "id": "szlnMRmLqHSs",
        "outputId": "19614f58-eb99-44bd-e214-ca482a578204"
      },
      "outputs": [
        {
          "data": {
            "text/plain": [
              "id                            int64\n",
              "Age                         float64\n",
              "TypeofContact                object\n",
              "CityTier                      int64\n",
              "DurationOfPitch             float64\n",
              "Occupation                   object\n",
              "Gender                       object\n",
              "NumberOfPersonVisiting        int64\n",
              "NumberOfFollowups           float64\n",
              "ProductPitched               object\n",
              "PreferredPropertyStar       float64\n",
              "MaritalStatus                object\n",
              "NumberOfTrips               float64\n",
              "Passport                      int64\n",
              "PitchSatisfactionScore        int64\n",
              "OwnCar                        int64\n",
              "NumberOfChildrenVisiting    float64\n",
              "Designation                  object\n",
              "MonthlyIncome               float64\n",
              "ProdTaken                     int64\n",
              "dtype: object"
            ]
          },
          "execution_count": 102,
          "metadata": {},
          "output_type": "execute_result"
        }
      ],
      "source": [
        "train_df.dtypes"
      ]
    },
    {
      "cell_type": "code",
      "execution_count": null,
      "metadata": {
        "id": "XoyP6TvVjsFY"
      },
      "outputs": [],
      "source": [
        "train_df = pd.get_dummies(train_df,columns = ['TypeofContact', 'Occupation', 'Gender', 'ProductPitched', 'MaritalStatus', 'Designation'])"
      ]
    },
    {
      "cell_type": "code",
      "execution_count": null,
      "metadata": {
        "colab": {
          "base_uri": "https://localhost:8080/",
          "height": 505
        },
        "id": "gWpddJeLj2Q7",
        "outputId": "36529436-e1d6-4d7d-d5b1-3bc1084408b5"
      },
      "outputs": [
        {
          "data": {
            "text/html": [
              "\n",
              "  <div id=\"df-94360b42-b2fa-4223-ac74-bec5ed7d8c68\">\n",
              "    <div class=\"colab-df-container\">\n",
              "      <div>\n",
              "<style scoped>\n",
              "    .dataframe tbody tr th:only-of-type {\n",
              "        vertical-align: middle;\n",
              "    }\n",
              "\n",
              "    .dataframe tbody tr th {\n",
              "        vertical-align: top;\n",
              "    }\n",
              "\n",
              "    .dataframe thead th {\n",
              "        text-align: right;\n",
              "    }\n",
              "</style>\n",
              "<table border=\"1\" class=\"dataframe\">\n",
              "  <thead>\n",
              "    <tr style=\"text-align: right;\">\n",
              "      <th></th>\n",
              "      <th>id</th>\n",
              "      <th>Age</th>\n",
              "      <th>CityTier</th>\n",
              "      <th>DurationOfPitch</th>\n",
              "      <th>NumberOfPersonVisiting</th>\n",
              "      <th>NumberOfFollowups</th>\n",
              "      <th>PreferredPropertyStar</th>\n",
              "      <th>NumberOfTrips</th>\n",
              "      <th>Passport</th>\n",
              "      <th>PitchSatisfactionScore</th>\n",
              "      <th>...</th>\n",
              "      <th>ProductPitched_Super Deluxe</th>\n",
              "      <th>MaritalStatus_Divorced</th>\n",
              "      <th>MaritalStatus_Married</th>\n",
              "      <th>MaritalStatus_Single</th>\n",
              "      <th>MaritalStatus_Unmarried</th>\n",
              "      <th>Designation_AVP</th>\n",
              "      <th>Designation_Executive</th>\n",
              "      <th>Designation_Manager</th>\n",
              "      <th>Designation_Senior Manager</th>\n",
              "      <th>Designation_VP</th>\n",
              "    </tr>\n",
              "  </thead>\n",
              "  <tbody>\n",
              "    <tr>\n",
              "      <th>0</th>\n",
              "      <td>1</td>\n",
              "      <td>28.0</td>\n",
              "      <td>1</td>\n",
              "      <td>10.0</td>\n",
              "      <td>3</td>\n",
              "      <td>4.0</td>\n",
              "      <td>3.0</td>\n",
              "      <td>3.0</td>\n",
              "      <td>0</td>\n",
              "      <td>1</td>\n",
              "      <td>...</td>\n",
              "      <td>0</td>\n",
              "      <td>0</td>\n",
              "      <td>1</td>\n",
              "      <td>0</td>\n",
              "      <td>0</td>\n",
              "      <td>0</td>\n",
              "      <td>1</td>\n",
              "      <td>0</td>\n",
              "      <td>0</td>\n",
              "      <td>0</td>\n",
              "    </tr>\n",
              "    <tr>\n",
              "      <th>1</th>\n",
              "      <td>2</td>\n",
              "      <td>34.0</td>\n",
              "      <td>3</td>\n",
              "      <td>14.0</td>\n",
              "      <td>2</td>\n",
              "      <td>4.0</td>\n",
              "      <td>4.0</td>\n",
              "      <td>1.0</td>\n",
              "      <td>1</td>\n",
              "      <td>5</td>\n",
              "      <td>...</td>\n",
              "      <td>0</td>\n",
              "      <td>0</td>\n",
              "      <td>0</td>\n",
              "      <td>1</td>\n",
              "      <td>0</td>\n",
              "      <td>0</td>\n",
              "      <td>0</td>\n",
              "      <td>1</td>\n",
              "      <td>0</td>\n",
              "      <td>0</td>\n",
              "    </tr>\n",
              "    <tr>\n",
              "      <th>2</th>\n",
              "      <td>3</td>\n",
              "      <td>45.0</td>\n",
              "      <td>1</td>\n",
              "      <td>14.0</td>\n",
              "      <td>2</td>\n",
              "      <td>3.0</td>\n",
              "      <td>4.0</td>\n",
              "      <td>2.0</td>\n",
              "      <td>0</td>\n",
              "      <td>4</td>\n",
              "      <td>...</td>\n",
              "      <td>0</td>\n",
              "      <td>0</td>\n",
              "      <td>1</td>\n",
              "      <td>0</td>\n",
              "      <td>0</td>\n",
              "      <td>0</td>\n",
              "      <td>0</td>\n",
              "      <td>1</td>\n",
              "      <td>0</td>\n",
              "      <td>0</td>\n",
              "    </tr>\n",
              "    <tr>\n",
              "      <th>3</th>\n",
              "      <td>4</td>\n",
              "      <td>29.0</td>\n",
              "      <td>1</td>\n",
              "      <td>7.0</td>\n",
              "      <td>3</td>\n",
              "      <td>5.0</td>\n",
              "      <td>4.0</td>\n",
              "      <td>3.0</td>\n",
              "      <td>0</td>\n",
              "      <td>4</td>\n",
              "      <td>...</td>\n",
              "      <td>0</td>\n",
              "      <td>0</td>\n",
              "      <td>1</td>\n",
              "      <td>0</td>\n",
              "      <td>0</td>\n",
              "      <td>0</td>\n",
              "      <td>1</td>\n",
              "      <td>0</td>\n",
              "      <td>0</td>\n",
              "      <td>0</td>\n",
              "    </tr>\n",
              "    <tr>\n",
              "      <th>4</th>\n",
              "      <td>5</td>\n",
              "      <td>42.0</td>\n",
              "      <td>3</td>\n",
              "      <td>6.0</td>\n",
              "      <td>2</td>\n",
              "      <td>3.0</td>\n",
              "      <td>3.0</td>\n",
              "      <td>2.0</td>\n",
              "      <td>0</td>\n",
              "      <td>3</td>\n",
              "      <td>...</td>\n",
              "      <td>0</td>\n",
              "      <td>1</td>\n",
              "      <td>0</td>\n",
              "      <td>0</td>\n",
              "      <td>0</td>\n",
              "      <td>0</td>\n",
              "      <td>0</td>\n",
              "      <td>1</td>\n",
              "      <td>0</td>\n",
              "      <td>0</td>\n",
              "    </tr>\n",
              "    <tr>\n",
              "      <th>...</th>\n",
              "      <td>...</td>\n",
              "      <td>...</td>\n",
              "      <td>...</td>\n",
              "      <td>...</td>\n",
              "      <td>...</td>\n",
              "      <td>...</td>\n",
              "      <td>...</td>\n",
              "      <td>...</td>\n",
              "      <td>...</td>\n",
              "      <td>...</td>\n",
              "      <td>...</td>\n",
              "      <td>...</td>\n",
              "      <td>...</td>\n",
              "      <td>...</td>\n",
              "      <td>...</td>\n",
              "      <td>...</td>\n",
              "      <td>...</td>\n",
              "      <td>...</td>\n",
              "      <td>...</td>\n",
              "      <td>...</td>\n",
              "      <td>...</td>\n",
              "    </tr>\n",
              "    <tr>\n",
              "      <th>1950</th>\n",
              "      <td>1951</td>\n",
              "      <td>28.0</td>\n",
              "      <td>1</td>\n",
              "      <td>10.0</td>\n",
              "      <td>3</td>\n",
              "      <td>5.0</td>\n",
              "      <td>3.0</td>\n",
              "      <td>2.0</td>\n",
              "      <td>0</td>\n",
              "      <td>1</td>\n",
              "      <td>...</td>\n",
              "      <td>0</td>\n",
              "      <td>0</td>\n",
              "      <td>0</td>\n",
              "      <td>1</td>\n",
              "      <td>0</td>\n",
              "      <td>0</td>\n",
              "      <td>1</td>\n",
              "      <td>0</td>\n",
              "      <td>0</td>\n",
              "      <td>0</td>\n",
              "    </tr>\n",
              "    <tr>\n",
              "      <th>1951</th>\n",
              "      <td>1952</td>\n",
              "      <td>41.0</td>\n",
              "      <td>3</td>\n",
              "      <td>8.0</td>\n",
              "      <td>3</td>\n",
              "      <td>3.0</td>\n",
              "      <td>5.0</td>\n",
              "      <td>1.0</td>\n",
              "      <td>0</td>\n",
              "      <td>5</td>\n",
              "      <td>...</td>\n",
              "      <td>1</td>\n",
              "      <td>1</td>\n",
              "      <td>0</td>\n",
              "      <td>0</td>\n",
              "      <td>0</td>\n",
              "      <td>1</td>\n",
              "      <td>0</td>\n",
              "      <td>0</td>\n",
              "      <td>0</td>\n",
              "      <td>0</td>\n",
              "    </tr>\n",
              "    <tr>\n",
              "      <th>1952</th>\n",
              "      <td>1953</td>\n",
              "      <td>38.0</td>\n",
              "      <td>3</td>\n",
              "      <td>28.0</td>\n",
              "      <td>3</td>\n",
              "      <td>4.0</td>\n",
              "      <td>3.0</td>\n",
              "      <td>7.0</td>\n",
              "      <td>0</td>\n",
              "      <td>2</td>\n",
              "      <td>...</td>\n",
              "      <td>0</td>\n",
              "      <td>1</td>\n",
              "      <td>0</td>\n",
              "      <td>0</td>\n",
              "      <td>0</td>\n",
              "      <td>0</td>\n",
              "      <td>1</td>\n",
              "      <td>0</td>\n",
              "      <td>0</td>\n",
              "      <td>0</td>\n",
              "    </tr>\n",
              "    <tr>\n",
              "      <th>1953</th>\n",
              "      <td>1954</td>\n",
              "      <td>28.0</td>\n",
              "      <td>3</td>\n",
              "      <td>30.0</td>\n",
              "      <td>3</td>\n",
              "      <td>5.0</td>\n",
              "      <td>3.0</td>\n",
              "      <td>3.0</td>\n",
              "      <td>0</td>\n",
              "      <td>1</td>\n",
              "      <td>...</td>\n",
              "      <td>0</td>\n",
              "      <td>0</td>\n",
              "      <td>1</td>\n",
              "      <td>0</td>\n",
              "      <td>0</td>\n",
              "      <td>0</td>\n",
              "      <td>0</td>\n",
              "      <td>1</td>\n",
              "      <td>0</td>\n",
              "      <td>0</td>\n",
              "    </tr>\n",
              "    <tr>\n",
              "      <th>1954</th>\n",
              "      <td>1955</td>\n",
              "      <td>22.0</td>\n",
              "      <td>1</td>\n",
              "      <td>9.0</td>\n",
              "      <td>2</td>\n",
              "      <td>4.0</td>\n",
              "      <td>3.0</td>\n",
              "      <td>1.0</td>\n",
              "      <td>1</td>\n",
              "      <td>3</td>\n",
              "      <td>...</td>\n",
              "      <td>0</td>\n",
              "      <td>1</td>\n",
              "      <td>0</td>\n",
              "      <td>0</td>\n",
              "      <td>0</td>\n",
              "      <td>0</td>\n",
              "      <td>1</td>\n",
              "      <td>0</td>\n",
              "      <td>0</td>\n",
              "      <td>0</td>\n",
              "    </tr>\n",
              "  </tbody>\n",
              "</table>\n",
              "<p>1943 rows × 36 columns</p>\n",
              "</div>\n",
              "      <button class=\"colab-df-convert\" onclick=\"convertToInteractive('df-94360b42-b2fa-4223-ac74-bec5ed7d8c68')\"\n",
              "              title=\"Convert this dataframe to an interactive table.\"\n",
              "              style=\"display:none;\">\n",
              "        \n",
              "  <svg xmlns=\"http://www.w3.org/2000/svg\" height=\"24px\"viewBox=\"0 0 24 24\"\n",
              "       width=\"24px\">\n",
              "    <path d=\"M0 0h24v24H0V0z\" fill=\"none\"/>\n",
              "    <path d=\"M18.56 5.44l.94 2.06.94-2.06 2.06-.94-2.06-.94-.94-2.06-.94 2.06-2.06.94zm-11 1L8.5 8.5l.94-2.06 2.06-.94-2.06-.94L8.5 2.5l-.94 2.06-2.06.94zm10 10l.94 2.06.94-2.06 2.06-.94-2.06-.94-.94-2.06-.94 2.06-2.06.94z\"/><path d=\"M17.41 7.96l-1.37-1.37c-.4-.4-.92-.59-1.43-.59-.52 0-1.04.2-1.43.59L10.3 9.45l-7.72 7.72c-.78.78-.78 2.05 0 2.83L4 21.41c.39.39.9.59 1.41.59.51 0 1.02-.2 1.41-.59l7.78-7.78 2.81-2.81c.8-.78.8-2.07 0-2.86zM5.41 20L4 18.59l7.72-7.72 1.47 1.35L5.41 20z\"/>\n",
              "  </svg>\n",
              "      </button>\n",
              "      \n",
              "  <style>\n",
              "    .colab-df-container {\n",
              "      display:flex;\n",
              "      flex-wrap:wrap;\n",
              "      gap: 12px;\n",
              "    }\n",
              "\n",
              "    .colab-df-convert {\n",
              "      background-color: #E8F0FE;\n",
              "      border: none;\n",
              "      border-radius: 50%;\n",
              "      cursor: pointer;\n",
              "      display: none;\n",
              "      fill: #1967D2;\n",
              "      height: 32px;\n",
              "      padding: 0 0 0 0;\n",
              "      width: 32px;\n",
              "    }\n",
              "\n",
              "    .colab-df-convert:hover {\n",
              "      background-color: #E2EBFA;\n",
              "      box-shadow: 0px 1px 2px rgba(60, 64, 67, 0.3), 0px 1px 3px 1px rgba(60, 64, 67, 0.15);\n",
              "      fill: #174EA6;\n",
              "    }\n",
              "\n",
              "    [theme=dark] .colab-df-convert {\n",
              "      background-color: #3B4455;\n",
              "      fill: #D2E3FC;\n",
              "    }\n",
              "\n",
              "    [theme=dark] .colab-df-convert:hover {\n",
              "      background-color: #434B5C;\n",
              "      box-shadow: 0px 1px 3px 1px rgba(0, 0, 0, 0.15);\n",
              "      filter: drop-shadow(0px 1px 2px rgba(0, 0, 0, 0.3));\n",
              "      fill: #FFFFFF;\n",
              "    }\n",
              "  </style>\n",
              "\n",
              "      <script>\n",
              "        const buttonEl =\n",
              "          document.querySelector('#df-94360b42-b2fa-4223-ac74-bec5ed7d8c68 button.colab-df-convert');\n",
              "        buttonEl.style.display =\n",
              "          google.colab.kernel.accessAllowed ? 'block' : 'none';\n",
              "\n",
              "        async function convertToInteractive(key) {\n",
              "          const element = document.querySelector('#df-94360b42-b2fa-4223-ac74-bec5ed7d8c68');\n",
              "          const dataTable =\n",
              "            await google.colab.kernel.invokeFunction('convertToInteractive',\n",
              "                                                     [key], {});\n",
              "          if (!dataTable) return;\n",
              "\n",
              "          const docLinkHtml = 'Like what you see? Visit the ' +\n",
              "            '<a target=\"_blank\" href=https://colab.research.google.com/notebooks/data_table.ipynb>data table notebook</a>'\n",
              "            + ' to learn more about interactive tables.';\n",
              "          element.innerHTML = '';\n",
              "          dataTable['output_type'] = 'display_data';\n",
              "          await google.colab.output.renderOutput(dataTable, element);\n",
              "          const docLink = document.createElement('div');\n",
              "          docLink.innerHTML = docLinkHtml;\n",
              "          element.appendChild(docLink);\n",
              "        }\n",
              "      </script>\n",
              "    </div>\n",
              "  </div>\n",
              "  "
            ],
            "text/plain": [
              "        id   Age  CityTier  DurationOfPitch  NumberOfPersonVisiting  \\\n",
              "0        1  28.0         1             10.0                       3   \n",
              "1        2  34.0         3             14.0                       2   \n",
              "2        3  45.0         1             14.0                       2   \n",
              "3        4  29.0         1              7.0                       3   \n",
              "4        5  42.0         3              6.0                       2   \n",
              "...    ...   ...       ...              ...                     ...   \n",
              "1950  1951  28.0         1             10.0                       3   \n",
              "1951  1952  41.0         3              8.0                       3   \n",
              "1952  1953  38.0         3             28.0                       3   \n",
              "1953  1954  28.0         3             30.0                       3   \n",
              "1954  1955  22.0         1              9.0                       2   \n",
              "\n",
              "      NumberOfFollowups  PreferredPropertyStar  NumberOfTrips  Passport  \\\n",
              "0                   4.0                    3.0            3.0         0   \n",
              "1                   4.0                    4.0            1.0         1   \n",
              "2                   3.0                    4.0            2.0         0   \n",
              "3                   5.0                    4.0            3.0         0   \n",
              "4                   3.0                    3.0            2.0         0   \n",
              "...                 ...                    ...            ...       ...   \n",
              "1950                5.0                    3.0            2.0         0   \n",
              "1951                3.0                    5.0            1.0         0   \n",
              "1952                4.0                    3.0            7.0         0   \n",
              "1953                5.0                    3.0            3.0         0   \n",
              "1954                4.0                    3.0            1.0         1   \n",
              "\n",
              "      PitchSatisfactionScore  ...  ProductPitched_Super Deluxe  \\\n",
              "0                          1  ...                            0   \n",
              "1                          5  ...                            0   \n",
              "2                          4  ...                            0   \n",
              "3                          4  ...                            0   \n",
              "4                          3  ...                            0   \n",
              "...                      ...  ...                          ...   \n",
              "1950                       1  ...                            0   \n",
              "1951                       5  ...                            1   \n",
              "1952                       2  ...                            0   \n",
              "1953                       1  ...                            0   \n",
              "1954                       3  ...                            0   \n",
              "\n",
              "      MaritalStatus_Divorced  MaritalStatus_Married  MaritalStatus_Single  \\\n",
              "0                          0                      1                     0   \n",
              "1                          0                      0                     1   \n",
              "2                          0                      1                     0   \n",
              "3                          0                      1                     0   \n",
              "4                          1                      0                     0   \n",
              "...                      ...                    ...                   ...   \n",
              "1950                       0                      0                     1   \n",
              "1951                       1                      0                     0   \n",
              "1952                       1                      0                     0   \n",
              "1953                       0                      1                     0   \n",
              "1954                       1                      0                     0   \n",
              "\n",
              "      MaritalStatus_Unmarried  Designation_AVP  Designation_Executive  \\\n",
              "0                           0                0                      1   \n",
              "1                           0                0                      0   \n",
              "2                           0                0                      0   \n",
              "3                           0                0                      1   \n",
              "4                           0                0                      0   \n",
              "...                       ...              ...                    ...   \n",
              "1950                        0                0                      1   \n",
              "1951                        0                1                      0   \n",
              "1952                        0                0                      1   \n",
              "1953                        0                0                      0   \n",
              "1954                        0                0                      1   \n",
              "\n",
              "      Designation_Manager  Designation_Senior Manager  Designation_VP  \n",
              "0                       0                           0               0  \n",
              "1                       1                           0               0  \n",
              "2                       1                           0               0  \n",
              "3                       0                           0               0  \n",
              "4                       1                           0               0  \n",
              "...                   ...                         ...             ...  \n",
              "1950                    0                           0               0  \n",
              "1951                    0                           0               0  \n",
              "1952                    0                           0               0  \n",
              "1953                    1                           0               0  \n",
              "1954                    0                           0               0  \n",
              "\n",
              "[1943 rows x 36 columns]"
            ]
          },
          "execution_count": 21,
          "metadata": {},
          "output_type": "execute_result"
        }
      ],
      "source": [
        "train_df"
      ]
    },
    {
      "cell_type": "markdown",
      "metadata": {
        "id": "4Tjmrt4srhbF"
      },
      "source": [
        "## 6. 모델 적용"
      ]
    },
    {
      "cell_type": "markdown",
      "metadata": {
        "id": "mtWQd1U6xCIV"
      },
      "source": [
        "- https://dacon.io/competitions/official/235959/codeshare/6041?page=1&dtype=recent\n",
        "- https://minimin2.tistory.com/137\n",
        "- https://pycaret.gitbook.io/docs/"
      ]
    },
    {
      "cell_type": "code",
      "execution_count": null,
      "metadata": {
        "colab": {
          "base_uri": "https://localhost:8080/",
          "height": 1000
        },
        "id": "8sTzF262rvdH",
        "outputId": "5ffe50bc-1d88-4453-bcaa-16e5b7230eb3"
      },
      "outputs": [
        {
          "name": "stdout",
          "output_type": "stream",
          "text": [
            "Looking in indexes: https://pypi.org/simple, https://us-python.pkg.dev/colab-wheels/public/simple/\n",
            "Collecting pycaret\n",
            "  Downloading pycaret-2.3.10-py3-none-any.whl (320 kB)\n",
            "\u001b[K     |████████████████████████████████| 320 kB 18.9 MB/s \n",
            "\u001b[?25hCollecting mlxtend>=0.17.0\n",
            "  Downloading mlxtend-0.20.0-py2.py3-none-any.whl (1.3 MB)\n",
            "\u001b[K     |████████████████████████████████| 1.3 MB 41.7 MB/s \n",
            "\u001b[?25hCollecting spacy<2.4.0\n",
            "  Downloading spacy-2.3.7-cp37-cp37m-manylinux_2_17_x86_64.manylinux2014_x86_64.whl (10.4 MB)\n",
            "\u001b[K     |████████████████████████████████| 10.4 MB 55.4 MB/s \n",
            "\u001b[?25hRequirement already satisfied: pandas in /usr/local/lib/python3.7/dist-packages (from pycaret) (1.3.5)\n",
            "Requirement already satisfied: IPython in /usr/local/lib/python3.7/dist-packages (from pycaret) (7.9.0)\n",
            "Collecting pandas-profiling>=2.8.0\n",
            "  Downloading pandas_profiling-3.2.0-py2.py3-none-any.whl (262 kB)\n",
            "\u001b[K     |████████████████████████████████| 262 kB 68.6 MB/s \n",
            "\u001b[?25hCollecting pyLDAvis\n",
            "  Downloading pyLDAvis-3.3.1.tar.gz (1.7 MB)\n",
            "\u001b[K     |████████████████████████████████| 1.7 MB 67.7 MB/s \n",
            "\u001b[?25h  Installing build dependencies ... \u001b[?25l\u001b[?25hdone\n",
            "  Getting requirements to build wheel ... \u001b[?25l\u001b[?25hdone\n",
            "  Installing backend dependencies ... \u001b[?25l\u001b[?25hdone\n",
            "    Preparing wheel metadata ... \u001b[?25l\u001b[?25hdone\n",
            "Requirement already satisfied: textblob in /usr/local/lib/python3.7/dist-packages (from pycaret) (0.15.3)\n",
            "Requirement already satisfied: ipywidgets in /usr/local/lib/python3.7/dist-packages (from pycaret) (8.0.1)\n",
            "Requirement already satisfied: yellowbrick>=1.0.1 in /usr/local/lib/python3.7/dist-packages (from pycaret) (1.4)\n",
            "Collecting imbalanced-learn==0.7.0\n",
            "  Downloading imbalanced_learn-0.7.0-py3-none-any.whl (167 kB)\n",
            "\u001b[K     |████████████████████████████████| 167 kB 69.1 MB/s \n",
            "\u001b[?25hRequirement already satisfied: cufflinks>=0.17.0 in /usr/local/lib/python3.7/dist-packages (from pycaret) (0.17.3)\n",
            "Requirement already satisfied: gensim<4.0.0 in /usr/local/lib/python3.7/dist-packages (from pycaret) (3.6.0)\n",
            "Collecting pyod\n",
            "  Downloading pyod-1.0.4.tar.gz (134 kB)\n",
            "\u001b[K     |████████████████████████████████| 134 kB 75.8 MB/s \n",
            "\u001b[?25hCollecting scipy<=1.5.4\n",
            "  Downloading scipy-1.5.4-cp37-cp37m-manylinux1_x86_64.whl (25.9 MB)\n",
            "\u001b[K     |████████████████████████████████| 25.9 MB 1.6 MB/s \n",
            "\u001b[?25hRequirement already satisfied: joblib in /usr/local/lib/python3.7/dist-packages (from pycaret) (1.1.0)\n",
            "Requirement already satisfied: matplotlib in /usr/local/lib/python3.7/dist-packages (from pycaret) (3.2.2)\n",
            "Requirement already satisfied: nltk in /usr/local/lib/python3.7/dist-packages (from pycaret) (3.7)\n",
            "Collecting umap-learn\n",
            "  Downloading umap-learn-0.5.3.tar.gz (88 kB)\n",
            "\u001b[K     |████████████████████████████████| 88 kB 486 kB/s \n",
            "\u001b[?25hCollecting lightgbm>=2.3.1\n",
            "  Downloading lightgbm-3.3.2-py3-none-manylinux1_x86_64.whl (2.0 MB)\n",
            "\u001b[K     |████████████████████████████████| 2.0 MB 42.2 MB/s \n",
            "\u001b[?25hCollecting scikit-plot\n",
            "  Downloading scikit_plot-0.3.7-py3-none-any.whl (33 kB)\n",
            "Collecting mlflow\n",
            "  Downloading mlflow-1.28.0-py3-none-any.whl (17.0 MB)\n",
            "\u001b[K     |████████████████████████████████| 17.0 MB 60.6 MB/s \n",
            "\u001b[?25hCollecting kmodes>=0.10.1\n",
            "  Downloading kmodes-0.12.1-py2.py3-none-any.whl (20 kB)\n",
            "Collecting pyyaml<6.0.0\n",
            "  Downloading PyYAML-5.4.1-cp37-cp37m-manylinux1_x86_64.whl (636 kB)\n",
            "\u001b[K     |████████████████████████████████| 636 kB 62.9 MB/s \n",
            "\u001b[?25hCollecting numba<0.55\n",
            "  Downloading numba-0.54.1-cp37-cp37m-manylinux2014_x86_64.manylinux_2_17_x86_64.whl (3.3 MB)\n",
            "\u001b[K     |████████████████████████████████| 3.3 MB 57.1 MB/s \n",
            "\u001b[?25hRequirement already satisfied: wordcloud in /usr/local/lib/python3.7/dist-packages (from pycaret) (1.8.2.2)\n",
            "Requirement already satisfied: seaborn in /usr/local/lib/python3.7/dist-packages (from pycaret) (0.11.2)\n",
            "Collecting scikit-learn==0.23.2\n",
            "  Downloading scikit_learn-0.23.2-cp37-cp37m-manylinux1_x86_64.whl (6.8 MB)\n",
            "\u001b[K     |████████████████████████████████| 6.8 MB 67.0 MB/s \n",
            "\u001b[?25hCollecting Boruta\n",
            "  Downloading Boruta-0.3-py3-none-any.whl (56 kB)\n",
            "\u001b[K     |████████████████████████████████| 56 kB 4.1 MB/s \n",
            "\u001b[?25hRequirement already satisfied: plotly>=4.4.1 in /usr/local/lib/python3.7/dist-packages (from pycaret) (5.5.0)\n",
            "Requirement already satisfied: numpy>=1.13.3 in /usr/local/lib/python3.7/dist-packages (from imbalanced-learn==0.7.0->pycaret) (1.21.6)\n",
            "Requirement already satisfied: threadpoolctl>=2.0.0 in /usr/local/lib/python3.7/dist-packages (from scikit-learn==0.23.2->pycaret) (3.1.0)\n",
            "Requirement already satisfied: setuptools>=34.4.1 in /usr/local/lib/python3.7/dist-packages (from cufflinks>=0.17.0->pycaret) (57.4.0)\n",
            "Requirement already satisfied: colorlover>=0.2.1 in /usr/local/lib/python3.7/dist-packages (from cufflinks>=0.17.0->pycaret) (0.3.0)\n",
            "Requirement already satisfied: six>=1.9.0 in /usr/local/lib/python3.7/dist-packages (from cufflinks>=0.17.0->pycaret) (1.15.0)\n",
            "Requirement already satisfied: smart-open>=1.2.1 in /usr/local/lib/python3.7/dist-packages (from gensim<4.0.0->pycaret) (5.2.1)\n",
            "Requirement already satisfied: decorator in /usr/local/lib/python3.7/dist-packages (from IPython->pycaret) (4.4.2)\n",
            "Requirement already satisfied: pexpect in /usr/local/lib/python3.7/dist-packages (from IPython->pycaret) (4.8.0)\n",
            "Requirement already satisfied: pickleshare in /usr/local/lib/python3.7/dist-packages (from IPython->pycaret) (0.7.5)\n",
            "Requirement already satisfied: pygments in /usr/local/lib/python3.7/dist-packages (from IPython->pycaret) (2.6.1)\n",
            "Collecting jedi>=0.10\n",
            "  Downloading jedi-0.18.1-py2.py3-none-any.whl (1.6 MB)\n",
            "\u001b[K     |████████████████████████████████| 1.6 MB 55.4 MB/s \n",
            "\u001b[?25hRequirement already satisfied: prompt-toolkit<2.1.0,>=2.0.0 in /usr/local/lib/python3.7/dist-packages (from IPython->pycaret) (2.0.10)\n",
            "Requirement already satisfied: backcall in /usr/local/lib/python3.7/dist-packages (from IPython->pycaret) (0.2.0)\n",
            "Requirement already satisfied: traitlets>=4.2 in /usr/local/lib/python3.7/dist-packages (from IPython->pycaret) (5.1.1)\n",
            "Requirement already satisfied: jupyterlab-widgets~=3.0 in /usr/local/lib/python3.7/dist-packages (from ipywidgets->pycaret) (3.0.1)\n",
            "Requirement already satisfied: widgetsnbextension~=4.0 in /usr/local/lib/python3.7/dist-packages (from ipywidgets->pycaret) (4.0.1)\n",
            "Requirement already satisfied: ipykernel>=4.5.1 in /usr/local/lib/python3.7/dist-packages (from ipywidgets->pycaret) (5.3.4)\n",
            "Requirement already satisfied: jupyter-client in /usr/local/lib/python3.7/dist-packages (from ipykernel>=4.5.1->ipywidgets->pycaret) (6.1.12)\n",
            "Requirement already satisfied: tornado>=4.2 in /usr/local/lib/python3.7/dist-packages (from ipykernel>=4.5.1->ipywidgets->pycaret) (5.1.1)\n",
            "Requirement already satisfied: parso<0.9.0,>=0.8.0 in /usr/local/lib/python3.7/dist-packages (from jedi>=0.10->IPython->pycaret) (0.8.3)\n",
            "Requirement already satisfied: wheel in /usr/local/lib/python3.7/dist-packages (from lightgbm>=2.3.1->pycaret) (0.37.1)\n",
            "Collecting mlxtend>=0.17.0\n",
            "  Downloading mlxtend-0.19.0-py2.py3-none-any.whl (1.3 MB)\n",
            "\u001b[K     |████████████████████████████████| 1.3 MB 58.1 MB/s \n",
            "\u001b[?25hRequirement already satisfied: kiwisolver>=1.0.1 in /usr/local/lib/python3.7/dist-packages (from matplotlib->pycaret) (1.4.4)\n",
            "Requirement already satisfied: cycler>=0.10 in /usr/local/lib/python3.7/dist-packages (from matplotlib->pycaret) (0.11.0)\n",
            "Requirement already satisfied: pyparsing!=2.0.4,!=2.1.2,!=2.1.6,>=2.0.1 in /usr/local/lib/python3.7/dist-packages (from matplotlib->pycaret) (3.0.9)\n",
            "Requirement already satisfied: python-dateutil>=2.1 in /usr/local/lib/python3.7/dist-packages (from matplotlib->pycaret) (2.8.2)\n",
            "Requirement already satisfied: typing-extensions in /usr/local/lib/python3.7/dist-packages (from kiwisolver>=1.0.1->matplotlib->pycaret) (4.1.1)\n",
            "Collecting llvmlite<0.38,>=0.37.0rc1\n",
            "  Downloading llvmlite-0.37.0-cp37-cp37m-manylinux2014_x86_64.whl (26.3 MB)\n",
            "\u001b[K     |████████████████████████████████| 26.3 MB 1.2 MB/s \n",
            "\u001b[?25hCollecting numpy>=1.13.3\n",
            "  Downloading numpy-1.20.3-cp37-cp37m-manylinux_2_12_x86_64.manylinux2010_x86_64.whl (15.3 MB)\n",
            "\u001b[K     |████████████████████████████████| 15.3 MB 56.6 MB/s \n",
            "\u001b[?25hRequirement already satisfied: pytz>=2017.3 in /usr/local/lib/python3.7/dist-packages (from pandas->pycaret) (2022.2.1)\n",
            "Requirement already satisfied: tqdm>=4.48.2 in /usr/local/lib/python3.7/dist-packages (from pandas-profiling>=2.8.0->pycaret) (4.64.0)\n",
            "Collecting tangled-up-in-unicode==0.2.0\n",
            "  Downloading tangled_up_in_unicode-0.2.0-py3-none-any.whl (4.7 MB)\n",
            "\u001b[K     |████████████████████████████████| 4.7 MB 64.8 MB/s \n",
            "\u001b[?25hCollecting htmlmin>=0.1.12\n",
            "  Downloading htmlmin-0.1.12.tar.gz (19 kB)\n",
            "Collecting phik>=0.11.1\n",
            "  Downloading phik-0.12.2-cp37-cp37m-manylinux_2_17_x86_64.manylinux2014_x86_64.whl (690 kB)\n",
            "\u001b[K     |████████████████████████████████| 690 kB 52.6 MB/s \n",
            "\u001b[?25hRequirement already satisfied: missingno>=0.4.2 in /usr/local/lib/python3.7/dist-packages (from pandas-profiling>=2.8.0->pycaret) (0.5.1)\n",
            "Requirement already satisfied: pydantic>=1.8.1 in /usr/local/lib/python3.7/dist-packages (from pandas-profiling>=2.8.0->pycaret) (1.9.2)\n",
            "Requirement already satisfied: jinja2>=2.11.1 in /usr/local/lib/python3.7/dist-packages (from pandas-profiling>=2.8.0->pycaret) (2.11.3)\n",
            "Collecting markupsafe~=2.1.1\n",
            "  Downloading MarkupSafe-2.1.1-cp37-cp37m-manylinux_2_17_x86_64.manylinux2014_x86_64.whl (25 kB)\n",
            "Collecting visions[type_image_path]==0.7.4\n",
            "  Downloading visions-0.7.4-py3-none-any.whl (102 kB)\n",
            "\u001b[K     |████████████████████████████████| 102 kB 14.0 MB/s \n",
            "\u001b[?25hCollecting requests>=2.24.0\n",
            "  Downloading requests-2.28.1-py3-none-any.whl (62 kB)\n",
            "\u001b[K     |████████████████████████████████| 62 kB 1.9 MB/s \n",
            "\u001b[?25hCollecting multimethod>=1.4\n",
            "  Downloading multimethod-1.8-py3-none-any.whl (9.8 kB)\n",
            "Requirement already satisfied: attrs>=19.3.0 in /usr/local/lib/python3.7/dist-packages (from visions[type_image_path]==0.7.4->pandas-profiling>=2.8.0->pycaret) (22.1.0)\n",
            "Requirement already satisfied: networkx>=2.4 in /usr/local/lib/python3.7/dist-packages (from visions[type_image_path]==0.7.4->pandas-profiling>=2.8.0->pycaret) (2.6.3)\n",
            "Requirement already satisfied: Pillow in /usr/local/lib/python3.7/dist-packages (from visions[type_image_path]==0.7.4->pandas-profiling>=2.8.0->pycaret) (7.1.2)\n",
            "Collecting imagehash\n",
            "  Downloading ImageHash-4.2.1.tar.gz (812 kB)\n",
            "\u001b[K     |████████████████████████████████| 812 kB 61.9 MB/s \n",
            "\u001b[?25hRequirement already satisfied: tenacity>=6.2.0 in /usr/local/lib/python3.7/dist-packages (from plotly>=4.4.1->pycaret) (8.0.1)\n",
            "Requirement already satisfied: wcwidth in /usr/local/lib/python3.7/dist-packages (from prompt-toolkit<2.1.0,>=2.0.0->IPython->pycaret) (0.2.5)\n",
            "Requirement already satisfied: charset-normalizer<3,>=2 in /usr/local/lib/python3.7/dist-packages (from requests>=2.24.0->pandas-profiling>=2.8.0->pycaret) (2.1.0)\n",
            "Requirement already satisfied: idna<4,>=2.5 in /usr/local/lib/python3.7/dist-packages (from requests>=2.24.0->pandas-profiling>=2.8.0->pycaret) (2.10)\n",
            "Requirement already satisfied: urllib3<1.27,>=1.21.1 in /usr/local/lib/python3.7/dist-packages (from requests>=2.24.0->pandas-profiling>=2.8.0->pycaret) (1.24.3)\n",
            "Requirement already satisfied: certifi>=2017.4.17 in /usr/local/lib/python3.7/dist-packages (from requests>=2.24.0->pandas-profiling>=2.8.0->pycaret) (2022.6.15)\n",
            "Requirement already satisfied: blis<0.8.0,>=0.4.0 in /usr/local/lib/python3.7/dist-packages (from spacy<2.4.0->pycaret) (0.7.8)\n",
            "Collecting catalogue<1.1.0,>=0.0.7\n",
            "  Downloading catalogue-1.0.0-py2.py3-none-any.whl (7.7 kB)\n",
            "Requirement already satisfied: preshed<3.1.0,>=3.0.2 in /usr/local/lib/python3.7/dist-packages (from spacy<2.4.0->pycaret) (3.0.7)\n",
            "Collecting srsly<1.1.0,>=1.0.2\n",
            "  Downloading srsly-1.0.5-cp37-cp37m-manylinux2014_x86_64.whl (184 kB)\n",
            "\u001b[K     |████████████████████████████████| 184 kB 73.9 MB/s \n",
            "\u001b[?25hCollecting thinc<7.5.0,>=7.4.1\n",
            "  Downloading thinc-7.4.5-cp37-cp37m-manylinux2014_x86_64.whl (1.0 MB)\n",
            "\u001b[K     |████████████████████████████████| 1.0 MB 61.4 MB/s \n",
            "\u001b[?25hRequirement already satisfied: murmurhash<1.1.0,>=0.28.0 in /usr/local/lib/python3.7/dist-packages (from spacy<2.4.0->pycaret) (1.0.8)\n",
            "Requirement already satisfied: wasabi<1.1.0,>=0.4.0 in /usr/local/lib/python3.7/dist-packages (from spacy<2.4.0->pycaret) (0.10.1)\n",
            "Collecting plac<1.2.0,>=0.9.6\n",
            "  Downloading plac-1.1.3-py2.py3-none-any.whl (20 kB)\n",
            "Requirement already satisfied: cymem<2.1.0,>=2.0.2 in /usr/local/lib/python3.7/dist-packages (from spacy<2.4.0->pycaret) (2.0.6)\n",
            "Requirement already satisfied: importlib-metadata>=0.20 in /usr/local/lib/python3.7/dist-packages (from catalogue<1.1.0,>=0.0.7->spacy<2.4.0->pycaret) (4.12.0)\n",
            "Requirement already satisfied: zipp>=0.5 in /usr/local/lib/python3.7/dist-packages (from importlib-metadata>=0.20->catalogue<1.1.0,>=0.0.7->spacy<2.4.0->pycaret) (3.8.1)\n",
            "Collecting yellowbrick>=1.0.1\n",
            "  Downloading yellowbrick-1.3.post1-py3-none-any.whl (271 kB)\n",
            "\u001b[K     |████████████████████████████████| 271 kB 66.1 MB/s \n",
            "\u001b[?25hCollecting numpy>=1.13.3\n",
            "  Downloading numpy-1.19.5-cp37-cp37m-manylinux2010_x86_64.whl (14.8 MB)\n",
            "\u001b[K     |████████████████████████████████| 14.8 MB 56.2 MB/s \n",
            "\u001b[?25hRequirement already satisfied: PyWavelets in /usr/local/lib/python3.7/dist-packages (from imagehash->visions[type_image_path]==0.7.4->pandas-profiling>=2.8.0->pycaret) (1.3.0)\n",
            "Requirement already satisfied: pyzmq>=13 in /usr/local/lib/python3.7/dist-packages (from jupyter-client->ipykernel>=4.5.1->ipywidgets->pycaret) (23.2.1)\n",
            "Requirement already satisfied: jupyter-core>=4.6.0 in /usr/local/lib/python3.7/dist-packages (from jupyter-client->ipykernel>=4.5.1->ipywidgets->pycaret) (4.11.1)\n",
            "Requirement already satisfied: protobuf<5,>=3.12.0 in /usr/local/lib/python3.7/dist-packages (from mlflow->pycaret) (3.17.3)\n",
            "Requirement already satisfied: Flask<3 in /usr/local/lib/python3.7/dist-packages (from mlflow->pycaret) (1.1.4)\n",
            "Collecting gunicorn<21\n",
            "  Downloading gunicorn-20.1.0-py3-none-any.whl (79 kB)\n",
            "\u001b[K     |████████████████████████████████| 79 kB 11.0 MB/s \n",
            "\u001b[?25hRequirement already satisfied: packaging<22 in /usr/local/lib/python3.7/dist-packages (from mlflow->pycaret) (21.3)\n",
            "Requirement already satisfied: sqlparse<1,>=0.4.0 in /usr/local/lib/python3.7/dist-packages (from mlflow->pycaret) (0.4.2)\n",
            "Collecting alembic<2\n",
            "  Downloading alembic-1.8.1-py3-none-any.whl (209 kB)\n",
            "\u001b[K     |████████████████████████████████| 209 kB 68.9 MB/s \n",
            "\u001b[?25hRequirement already satisfied: sqlalchemy<2,>=1.4.0 in /usr/local/lib/python3.7/dist-packages (from mlflow->pycaret) (1.4.40)\n",
            "Requirement already satisfied: entrypoints<1 in /usr/local/lib/python3.7/dist-packages (from mlflow->pycaret) (0.4)\n",
            "Requirement already satisfied: click<9,>=7.0 in /usr/local/lib/python3.7/dist-packages (from mlflow->pycaret) (7.1.2)\n",
            "Collecting querystring-parser<2\n",
            "  Downloading querystring_parser-1.2.4-py2.py3-none-any.whl (7.9 kB)\n",
            "Collecting docker<6,>=4.0.0\n",
            "  Downloading docker-5.0.3-py2.py3-none-any.whl (146 kB)\n",
            "\u001b[K     |████████████████████████████████| 146 kB 76.4 MB/s \n",
            "\u001b[?25hRequirement already satisfied: cloudpickle<3 in /usr/local/lib/python3.7/dist-packages (from mlflow->pycaret) (1.5.0)\n",
            "Collecting databricks-cli<1,>=0.8.7\n",
            "  Downloading databricks-cli-0.17.2.tar.gz (81 kB)\n",
            "\u001b[K     |████████████████████████████████| 81 kB 11.6 MB/s \n",
            "\u001b[?25hCollecting prometheus-flask-exporter<1\n",
            "  Downloading prometheus_flask_exporter-0.20.3-py3-none-any.whl (18 kB)\n",
            "Collecting gitpython<4,>=2.1.0\n",
            "  Downloading GitPython-3.1.27-py3-none-any.whl (181 kB)\n",
            "\u001b[K     |████████████████████████████████| 181 kB 66.0 MB/s \n",
            "\u001b[?25hCollecting Mako\n",
            "  Downloading Mako-1.2.1-py3-none-any.whl (78 kB)\n",
            "\u001b[K     |████████████████████████████████| 78 kB 9.1 MB/s \n",
            "\u001b[?25hRequirement already satisfied: importlib-resources in /usr/local/lib/python3.7/dist-packages (from alembic<2->mlflow->pycaret) (5.9.0)\n",
            "Collecting pyjwt>=1.7.0\n",
            "  Downloading PyJWT-2.4.0-py3-none-any.whl (18 kB)\n",
            "Requirement already satisfied: oauthlib>=3.1.0 in /usr/local/lib/python3.7/dist-packages (from databricks-cli<1,>=0.8.7->mlflow->pycaret) (3.2.0)\n",
            "Requirement already satisfied: tabulate>=0.7.7 in /usr/local/lib/python3.7/dist-packages (from databricks-cli<1,>=0.8.7->mlflow->pycaret) (0.8.10)\n",
            "Collecting websocket-client>=0.32.0\n",
            "  Downloading websocket_client-1.3.3-py3-none-any.whl (54 kB)\n",
            "\u001b[K     |████████████████████████████████| 54 kB 3.6 MB/s \n",
            "\u001b[?25hRequirement already satisfied: itsdangerous<2.0,>=0.24 in /usr/local/lib/python3.7/dist-packages (from Flask<3->mlflow->pycaret) (1.1.0)\n",
            "Requirement already satisfied: Werkzeug<2.0,>=0.15 in /usr/local/lib/python3.7/dist-packages (from Flask<3->mlflow->pycaret) (1.0.1)\n",
            "Collecting gitdb<5,>=4.0.1\n",
            "  Downloading gitdb-4.0.9-py3-none-any.whl (63 kB)\n",
            "\u001b[K     |████████████████████████████████| 63 kB 2.3 MB/s \n",
            "\u001b[?25hCollecting smmap<6,>=3.0.1\n",
            "  Downloading smmap-5.0.0-py3-none-any.whl (24 kB)\n",
            "Collecting prometheus-client\n",
            "  Downloading prometheus_client-0.14.1-py3-none-any.whl (59 kB)\n",
            "\u001b[K     |████████████████████████████████| 59 kB 8.9 MB/s \n",
            "\u001b[?25hRequirement already satisfied: greenlet!=0.4.17 in /usr/local/lib/python3.7/dist-packages (from sqlalchemy<2,>=1.4.0->mlflow->pycaret) (1.1.2)\n",
            "Requirement already satisfied: regex>=2021.8.3 in /usr/local/lib/python3.7/dist-packages (from nltk->pycaret) (2022.6.2)\n",
            "Requirement already satisfied: ptyprocess>=0.5 in /usr/local/lib/python3.7/dist-packages (from pexpect->IPython->pycaret) (0.7.0)\n",
            "Collecting funcy\n",
            "  Downloading funcy-1.17-py2.py3-none-any.whl (33 kB)\n",
            "Collecting sklearn\n",
            "  Downloading sklearn-0.0.tar.gz (1.1 kB)\n",
            "Requirement already satisfied: numexpr in /usr/local/lib/python3.7/dist-packages (from pyLDAvis->pycaret) (2.8.3)\n",
            "Requirement already satisfied: future in /usr/local/lib/python3.7/dist-packages (from pyLDAvis->pycaret) (0.16.0)\n",
            "Collecting pyLDAvis\n",
            "  Downloading pyLDAvis-3.3.0.tar.gz (1.7 MB)\n",
            "\u001b[K     |████████████████████████████████| 1.7 MB 57.0 MB/s \n",
            "\u001b[?25h  Installing build dependencies ... \u001b[?25l\u001b[?25hdone\n",
            "  Getting requirements to build wheel ... \u001b[?25l\u001b[?25hdone\n",
            "  Installing backend dependencies ... \u001b[?25l\u001b[?25hdone\n",
            "    Preparing wheel metadata ... \u001b[?25l\u001b[?25hdone\n",
            "  Downloading pyLDAvis-3.2.2.tar.gz (1.7 MB)\n",
            "\u001b[K     |████████████████████████████████| 1.7 MB 55.8 MB/s \n",
            "\u001b[?25hRequirement already satisfied: statsmodels in /usr/local/lib/python3.7/dist-packages (from pyod->pycaret) (0.12.2)\n",
            "Requirement already satisfied: patsy>=0.5 in /usr/local/lib/python3.7/dist-packages (from statsmodels->pyod->pycaret) (0.5.2)\n",
            "Collecting pynndescent>=0.5\n",
            "  Downloading pynndescent-0.5.7.tar.gz (1.1 MB)\n",
            "\u001b[K     |████████████████████████████████| 1.1 MB 26.6 MB/s \n",
            "\u001b[?25hBuilding wheels for collected packages: htmlmin, imagehash, databricks-cli, pyLDAvis, pyod, umap-learn, pynndescent\n",
            "  Building wheel for htmlmin (setup.py) ... \u001b[?25l\u001b[?25hdone\n",
            "  Created wheel for htmlmin: filename=htmlmin-0.1.12-py3-none-any.whl size=27098 sha256=3f369c2a9f769eb62b81c86d8e309be3cb1d71bfcc1a9c9628981ed12983efa9\n",
            "  Stored in directory: /root/.cache/pip/wheels/70/e1/52/5b14d250ba868768823940c3229e9950d201a26d0bd3ee8655\n",
            "  Building wheel for imagehash (setup.py) ... \u001b[?25l\u001b[?25hdone\n",
            "  Created wheel for imagehash: filename=ImageHash-4.2.1-py2.py3-none-any.whl size=295206 sha256=3eac85eca8928afd8cc0d49c7c85cea93227bf6de67123d249da0dfa40af2104\n",
            "  Stored in directory: /root/.cache/pip/wheels/4c/d5/59/5e3e297533ddb09407769762985d134135064c6831e29a914e\n",
            "  Building wheel for databricks-cli (setup.py) ... \u001b[?25l\u001b[?25hdone\n",
            "  Created wheel for databricks-cli: filename=databricks_cli-0.17.2-py3-none-any.whl size=143915 sha256=0a955a975eacafefeb0243de85be3c4bbfe1f737a1460eb3b63614d415ad62ac\n",
            "  Stored in directory: /root/.cache/pip/wheels/e4/94/af/ed16e5ddf301a3628d1d3e15ef95bbb79e076a3be48c11699b\n",
            "  Building wheel for pyLDAvis (setup.py) ... \u001b[?25l\u001b[?25hdone\n",
            "  Created wheel for pyLDAvis: filename=pyLDAvis-3.2.2-py2.py3-none-any.whl size=135617 sha256=b149aee30fe698e702fe7d6ea9521e1b8b32ca5eec61e081a747ce2b13055399\n",
            "  Stored in directory: /root/.cache/pip/wheels/f8/b1/9b/560ac1931796b7303f7b517b949d2d31a4fbc512aad3b9f284\n",
            "  Building wheel for pyod (setup.py) ... \u001b[?25l\u001b[?25hdone\n",
            "  Created wheel for pyod: filename=pyod-1.0.4-py3-none-any.whl size=165073 sha256=2579a7ae5cfb4a7cad960cf71f514ecb93e4523e0e5023c6eedbb21a1b35dbaa\n",
            "  Stored in directory: /root/.cache/pip/wheels/3d/48/a8/87d61660791c7e6b0f5c3068da7fb17ade7fdc041e864fe053\n",
            "  Building wheel for umap-learn (setup.py) ... \u001b[?25l\u001b[?25hdone\n",
            "  Created wheel for umap-learn: filename=umap_learn-0.5.3-py3-none-any.whl size=82829 sha256=4c24fc95af513fd9ed3ef0714b0820fd556f6ed6be9d430429fe723342044816\n",
            "  Stored in directory: /root/.cache/pip/wheels/b3/52/a5/1fd9e3e76a7ab34f134c07469cd6f16e27ef3a37aeff1fe821\n",
            "  Building wheel for pynndescent (setup.py) ... \u001b[?25l\u001b[?25hdone\n",
            "  Created wheel for pynndescent: filename=pynndescent-0.5.7-py3-none-any.whl size=54286 sha256=a8338baadbb18edaf3e971868ba7218445080f34de8f6e4b6bbe4c25eed1d19f\n",
            "  Stored in directory: /root/.cache/pip/wheels/7f/2a/f8/7bd5dcec71bd5c669f6f574db3113513696b98f3f9b51f496c\n",
            "Successfully built htmlmin imagehash databricks-cli pyLDAvis pyod umap-learn pynndescent\n",
            "Installing collected packages: numpy, markupsafe, jedi, tangled-up-in-unicode, smmap, scipy, multimethod, llvmlite, websocket-client, visions, srsly, scikit-learn, requests, pyjwt, prometheus-client, plac, numba, Mako, imagehash, gitdb, catalogue, thinc, querystring-parser, pyyaml, pynndescent, prometheus-flask-exporter, phik, htmlmin, gunicorn, gitpython, funcy, docker, databricks-cli, alembic, yellowbrick, umap-learn, spacy, scikit-plot, pyod, pyLDAvis, pandas-profiling, mlxtend, mlflow, lightgbm, kmodes, imbalanced-learn, Boruta, pycaret\n",
            "  Attempting uninstall: numpy\n",
            "    Found existing installation: numpy 1.21.6\n",
            "    Uninstalling numpy-1.21.6:\n",
            "      Successfully uninstalled numpy-1.21.6\n",
            "  Attempting uninstall: markupsafe\n",
            "    Found existing installation: MarkupSafe 2.0.1\n",
            "    Uninstalling MarkupSafe-2.0.1:\n",
            "      Successfully uninstalled MarkupSafe-2.0.1\n",
            "  Attempting uninstall: scipy\n",
            "    Found existing installation: scipy 1.7.3\n",
            "    Uninstalling scipy-1.7.3:\n",
            "      Successfully uninstalled scipy-1.7.3\n",
            "  Attempting uninstall: llvmlite\n",
            "    Found existing installation: llvmlite 0.39.0\n",
            "    Uninstalling llvmlite-0.39.0:\n",
            "      Successfully uninstalled llvmlite-0.39.0\n",
            "  Attempting uninstall: srsly\n",
            "    Found existing installation: srsly 2.4.4\n",
            "    Uninstalling srsly-2.4.4:\n",
            "      Successfully uninstalled srsly-2.4.4\n",
            "  Attempting uninstall: scikit-learn\n",
            "    Found existing installation: scikit-learn 1.0.2\n",
            "    Uninstalling scikit-learn-1.0.2:\n",
            "      Successfully uninstalled scikit-learn-1.0.2\n",
            "  Attempting uninstall: requests\n",
            "    Found existing installation: requests 2.23.0\n",
            "    Uninstalling requests-2.23.0:\n",
            "      Successfully uninstalled requests-2.23.0\n",
            "  Attempting uninstall: numba\n",
            "    Found existing installation: numba 0.56.0\n",
            "    Uninstalling numba-0.56.0:\n",
            "      Successfully uninstalled numba-0.56.0\n",
            "  Attempting uninstall: catalogue\n",
            "    Found existing installation: catalogue 2.0.8\n",
            "    Uninstalling catalogue-2.0.8:\n",
            "      Successfully uninstalled catalogue-2.0.8\n",
            "  Attempting uninstall: thinc\n",
            "    Found existing installation: thinc 8.1.0\n",
            "    Uninstalling thinc-8.1.0:\n",
            "      Successfully uninstalled thinc-8.1.0\n",
            "  Attempting uninstall: pyyaml\n",
            "    Found existing installation: PyYAML 6.0\n",
            "    Uninstalling PyYAML-6.0:\n",
            "      Successfully uninstalled PyYAML-6.0\n",
            "  Attempting uninstall: yellowbrick\n",
            "    Found existing installation: yellowbrick 1.4\n",
            "    Uninstalling yellowbrick-1.4:\n",
            "      Successfully uninstalled yellowbrick-1.4\n",
            "  Attempting uninstall: spacy\n",
            "    Found existing installation: spacy 3.4.1\n",
            "    Uninstalling spacy-3.4.1:\n",
            "      Successfully uninstalled spacy-3.4.1\n",
            "  Attempting uninstall: pandas-profiling\n",
            "    Found existing installation: pandas-profiling 1.4.1\n",
            "    Uninstalling pandas-profiling-1.4.1:\n",
            "      Successfully uninstalled pandas-profiling-1.4.1\n",
            "  Attempting uninstall: mlxtend\n",
            "    Found existing installation: mlxtend 0.14.0\n",
            "    Uninstalling mlxtend-0.14.0:\n",
            "      Successfully uninstalled mlxtend-0.14.0\n",
            "  Attempting uninstall: lightgbm\n",
            "    Found existing installation: lightgbm 2.2.3\n",
            "    Uninstalling lightgbm-2.2.3:\n",
            "      Successfully uninstalled lightgbm-2.2.3\n",
            "  Attempting uninstall: imbalanced-learn\n",
            "    Found existing installation: imbalanced-learn 0.8.1\n",
            "    Uninstalling imbalanced-learn-0.8.1:\n",
            "      Successfully uninstalled imbalanced-learn-0.8.1\n",
            "\u001b[31mERROR: pip's dependency resolver does not currently take into account all the packages that are installed. This behaviour is the source of the following dependency conflicts.\n",
            "xarray-einstats 0.2.2 requires numpy>=1.21, but you have numpy 1.19.5 which is incompatible.\n",
            "tensorflow 2.8.2+zzzcolab20220719082949 requires numpy>=1.20, but you have numpy 1.19.5 which is incompatible.\n",
            "pymc3 3.11.5 requires scipy<1.8.0,>=1.7.3, but you have scipy 1.5.4 which is incompatible.\n",
            "en-core-web-sm 3.4.0 requires spacy<3.5.0,>=3.4.0, but you have spacy 2.3.7 which is incompatible.\n",
            "cmdstanpy 1.0.4 requires numpy>=1.21, but you have numpy 1.19.5 which is incompatible.\u001b[0m\n",
            "Successfully installed Boruta-0.3 Mako-1.2.1 alembic-1.8.1 catalogue-1.0.0 databricks-cli-0.17.2 docker-5.0.3 funcy-1.17 gitdb-4.0.9 gitpython-3.1.27 gunicorn-20.1.0 htmlmin-0.1.12 imagehash-4.2.1 imbalanced-learn-0.7.0 jedi-0.18.1 kmodes-0.12.1 lightgbm-3.3.2 llvmlite-0.37.0 markupsafe-2.1.1 mlflow-1.28.0 mlxtend-0.19.0 multimethod-1.8 numba-0.54.1 numpy-1.19.5 pandas-profiling-3.2.0 phik-0.12.2 plac-1.1.3 prometheus-client-0.14.1 prometheus-flask-exporter-0.20.3 pyLDAvis-3.2.2 pycaret-2.3.10 pyjwt-2.4.0 pynndescent-0.5.7 pyod-1.0.4 pyyaml-5.4.1 querystring-parser-1.2.4 requests-2.28.1 scikit-learn-0.23.2 scikit-plot-0.3.7 scipy-1.5.4 smmap-5.0.0 spacy-2.3.7 srsly-1.0.5 tangled-up-in-unicode-0.2.0 thinc-7.4.5 umap-learn-0.5.3 visions-0.7.4 websocket-client-1.3.3 yellowbrick-1.3.post1\n"
          ]
        },
        {
          "data": {
            "application/vnd.colab-display-data+json": {
              "pip_warning": {
                "packages": [
                  "numpy",
                  "scipy",
                  "sklearn"
                ]
              }
            }
          },
          "metadata": {},
          "output_type": "display_data"
        }
      ],
      "source": [
        "!pip install pycaret"
      ]
    },
    {
      "cell_type": "markdown",
      "metadata": {
        "id": "nodWXZpoxLkK"
      },
      "source": [
        "https://kingnamji.tistory.com/55"
      ]
    },
    {
      "cell_type": "code",
      "execution_count": null,
      "metadata": {
        "colab": {
          "base_uri": "https://localhost:8080/",
          "height": 311
        },
        "id": "OE0DSwWhsSQa",
        "outputId": "25983808-6051-402a-983e-62efd192cb06"
      },
      "outputs": [
        {
          "name": "stdout",
          "output_type": "stream",
          "text": [
            "Looking in indexes: https://pypi.org/simple, https://us-python.pkg.dev/colab-wheels/public/simple/\n",
            "Collecting markupsafe==2.0.1\n",
            "  Downloading MarkupSafe-2.0.1-cp37-cp37m-manylinux_2_5_x86_64.manylinux1_x86_64.manylinux_2_12_x86_64.manylinux2010_x86_64.whl (31 kB)\n",
            "Installing collected packages: markupsafe\n",
            "  Attempting uninstall: markupsafe\n",
            "    Found existing installation: MarkupSafe 2.1.1\n",
            "    Uninstalling MarkupSafe-2.1.1:\n",
            "      Successfully uninstalled MarkupSafe-2.1.1\n",
            "\u001b[31mERROR: pip's dependency resolver does not currently take into account all the packages that are installed. This behaviour is the source of the following dependency conflicts.\n",
            "pandas-profiling 3.2.0 requires markupsafe~=2.1.1, but you have markupsafe 2.0.1 which is incompatible.\u001b[0m\n",
            "Successfully installed markupsafe-2.0.1\n"
          ]
        },
        {
          "data": {
            "application/vnd.colab-display-data+json": {
              "pip_warning": {
                "packages": [
                  "markupsafe"
                ]
              }
            }
          },
          "metadata": {},
          "output_type": "display_data"
        }
      ],
      "source": [
        "!pip install markupsafe==2.0.1"
      ]
    },
    {
      "cell_type": "code",
      "execution_count": null,
      "metadata": {
        "id": "uWQXldPSsS6V"
      },
      "outputs": [],
      "source": [
        "import jinja2\n",
        "from pycaret.classification import *"
      ]
    },
    {
      "cell_type": "code",
      "execution_count": null,
      "metadata": {
        "colab": {
          "background_save": true,
          "base_uri": "https://localhost:8080/",
          "height": 1000,
          "referenced_widgets": [
            "097ebf9f78af414bb29017e2ff04b5b5",
            "f76cdacffaa74203ab87c9413c7f032d",
            "e0b73f70f56c47e49736b1307a3fa3cc",
            "c1496a85d0bf426281b4846c23aac2f1",
            "2fc8d846e46e4465b1823c3b87a4c977",
            "5b82a52c2499420897091bba54ee995a"
          ]
        },
        "id": "2ERRwlqyrjjo",
        "outputId": "882be791-d287-4f26-b72a-9ee849824d35"
      },
      "outputs": [
        {
          "name": "stderr",
          "output_type": "stream",
          "text": [
            "INFO:logs:PyCaret Supervised Module\n",
            "INFO:logs:ML Usecase: classification\n",
            "INFO:logs:version 2.3.10\n",
            "INFO:logs:Initializing setup()\n",
            "INFO:logs:setup(target=ProdTaken, ml_usecase=classification, available_plots={'parameter': 'Hyperparameters', 'auc': 'AUC', 'confusion_matrix': 'Confusion Matrix', 'threshold': 'Threshold', 'pr': 'Precision Recall', 'error': 'Prediction Error', 'class_report': 'Class Report', 'rfe': 'Feature Selection', 'learning': 'Learning Curve', 'manifold': 'Manifold Learning', 'calibration': 'Calibration Curve', 'vc': 'Validation Curve', 'dimension': 'Dimensions', 'feature': 'Feature Importance', 'feature_all': 'Feature Importance (All)', 'boundary': 'Decision Boundary', 'lift': 'Lift Chart', 'gain': 'Gain Chart', 'tree': 'Decision Tree', 'ks': 'KS Statistic Plot'}, train_size=0.7, test_data=None, preprocess=True, imputation_type=simple, iterative_imputation_iters=5, categorical_features=None, categorical_imputation=constant, categorical_iterative_imputer=lightgbm, ordinal_features=None, high_cardinality_features=None, high_cardinality_method=frequency, numeric_features=None, numeric_imputation=mean, numeric_iterative_imputer=lightgbm, date_features=None, ignore_features=None, normalize=False, normalize_method=zscore, transformation=False, transformation_method=yeo-johnson, handle_unknown_categorical=True, unknown_categorical_method=least_frequent, pca=False, pca_method=linear, pca_components=None, ignore_low_variance=False, combine_rare_levels=False, rare_level_threshold=0.1, bin_numeric_features=None, remove_outliers=False, outliers_threshold=0.05, remove_multicollinearity=False, multicollinearity_threshold=0.9, remove_perfect_collinearity=True, create_clusters=False, cluster_iter=20, polynomial_features=False, polynomial_degree=2, trigonometry_features=False, polynomial_threshold=0.1, group_features=None, group_names=None, feature_selection=False, feature_selection_threshold=0.8, feature_selection_method=classic, feature_interaction=False, feature_ratio=False, interaction_threshold=0.01, fix_imbalance=False, fix_imbalance_method=None, transform_target=False, transform_target_method=box-cox, data_split_shuffle=True, data_split_stratify=False, fold_strategy=stratifiedkfold, fold=10, fold_shuffle=False, fold_groups=None, n_jobs=-1, use_gpu=False, custom_pipeline=None, html=True, session_id=None, log_experiment=False, experiment_name=None, experiment_custom_tags=None, log_plots=False, log_profile=False, log_data=False, silent=False, verbose=True, profile=False, profile_kwargs=None, display=None)\n",
            "INFO:logs:Checking environment\n",
            "INFO:logs:python_version: 3.7.13\n",
            "INFO:logs:python_build: ('default', 'Apr 24 2022 01:04:09')\n",
            "INFO:logs:machine: x86_64\n",
            "INFO:logs:platform: Linux-5.4.188+-x86_64-with-Ubuntu-18.04-bionic\n",
            "INFO:logs:Memory: svmem(total=13617745920, available=12094853120, percent=11.2, used=1310183424, free=6780542976, active=1858273280, inactive=4578934784, buffers=162344960, cached=5364674560, shared=1245184, slab=283451392)\n",
            "INFO:logs:Physical Core: 1\n",
            "INFO:logs:Logical Core: 2\n",
            "INFO:logs:Checking libraries\n",
            "INFO:logs:pd==1.3.5\n",
            "INFO:logs:numpy==1.19.5\n",
            "INFO:logs:sklearn==0.23.2\n",
            "INFO:logs:lightgbm==3.3.2\n",
            "WARNING:logs:catboost not found\n",
            "INFO:logs:xgboost==0.90\n",
            "INFO:logs:mlflow==1.28.0\n",
            "INFO:logs:Checking Exceptions\n",
            "INFO:logs:Declaring global variables\n",
            "INFO:logs:USI: 71ce\n",
            "INFO:logs:pycaret_globals: {'_internal_pipeline', '_all_models_internal', 'fold_shuffle_param', '_gpu_n_jobs_param', 'imputation_regressor', 'n_jobs_param', 'fold_groups_param_full', 'data_before_preprocess', 'dashboard_logger', 'y_test', 'stratify_param', 'logging_param', 'X_train', '_ml_usecase', 'seed', 'log_plots_param', 'fold_param', 'create_model_container', 'X', 'fix_imbalance_param', '_all_metrics', '_all_models', 'master_model_container', 'experiment__', 'gpu_param', '_available_plots', 'display_container', 'imputation_classifier', 'fold_generator', 'html_param', 'USI', 'X_test', 'exp_name_log', 'prep_pipe', 'fix_imbalance_method_param', 'transform_target_method_param', 'iterative_imputation_iters_param', 'pycaret_globals', 'fold_groups_param', 'y_train', 'target_param', 'transform_target_param', 'y'}\n",
            "INFO:logs:Preparing display monitor\n",
            "INFO:logs:Preparing display monitor\n"
          ]
        },
        {
          "data": {
            "application/vnd.jupyter.widget-view+json": {
              "model_id": "097ebf9f78af414bb29017e2ff04b5b5",
              "version_major": 2,
              "version_minor": 0
            },
            "text/plain": [
              "IntProgress(value=0, description='Processing: ', max=3)"
            ]
          },
          "metadata": {},
          "output_type": "display_data"
        },
        {
          "data": {
            "text/html": [
              "\n",
              "  <div id=\"df-403bae91-7b95-4729-9f3d-ad6b7f0cfc0c\">\n",
              "    <div class=\"colab-df-container\">\n",
              "      <div>\n",
              "<style scoped>\n",
              "    .dataframe tbody tr th:only-of-type {\n",
              "        vertical-align: middle;\n",
              "    }\n",
              "\n",
              "    .dataframe tbody tr th {\n",
              "        vertical-align: top;\n",
              "    }\n",
              "\n",
              "    .dataframe thead th {\n",
              "        text-align: right;\n",
              "    }\n",
              "</style>\n",
              "<table border=\"1\" class=\"dataframe\">\n",
              "  <thead>\n",
              "    <tr style=\"text-align: right;\">\n",
              "      <th></th>\n",
              "      <th></th>\n",
              "      <th></th>\n",
              "    </tr>\n",
              "    <tr>\n",
              "      <th></th>\n",
              "      <th></th>\n",
              "      <th></th>\n",
              "    </tr>\n",
              "  </thead>\n",
              "  <tbody>\n",
              "    <tr>\n",
              "      <th>Initiated</th>\n",
              "      <td>. . . . . . . . . . . . . . . . . .</td>\n",
              "      <td>09:19:49</td>\n",
              "    </tr>\n",
              "    <tr>\n",
              "      <th>Status</th>\n",
              "      <td>. . . . . . . . . . . . . . . . . .</td>\n",
              "      <td>Preprocessing Data</td>\n",
              "    </tr>\n",
              "  </tbody>\n",
              "</table>\n",
              "</div>\n",
              "      <button class=\"colab-df-convert\" onclick=\"convertToInteractive('df-403bae91-7b95-4729-9f3d-ad6b7f0cfc0c')\"\n",
              "              title=\"Convert this dataframe to an interactive table.\"\n",
              "              style=\"display:none;\">\n",
              "        \n",
              "  <svg xmlns=\"http://www.w3.org/2000/svg\" height=\"24px\"viewBox=\"0 0 24 24\"\n",
              "       width=\"24px\">\n",
              "    <path d=\"M0 0h24v24H0V0z\" fill=\"none\"/>\n",
              "    <path d=\"M18.56 5.44l.94 2.06.94-2.06 2.06-.94-2.06-.94-.94-2.06-.94 2.06-2.06.94zm-11 1L8.5 8.5l.94-2.06 2.06-.94-2.06-.94L8.5 2.5l-.94 2.06-2.06.94zm10 10l.94 2.06.94-2.06 2.06-.94-2.06-.94-.94-2.06-.94 2.06-2.06.94z\"/><path d=\"M17.41 7.96l-1.37-1.37c-.4-.4-.92-.59-1.43-.59-.52 0-1.04.2-1.43.59L10.3 9.45l-7.72 7.72c-.78.78-.78 2.05 0 2.83L4 21.41c.39.39.9.59 1.41.59.51 0 1.02-.2 1.41-.59l7.78-7.78 2.81-2.81c.8-.78.8-2.07 0-2.86zM5.41 20L4 18.59l7.72-7.72 1.47 1.35L5.41 20z\"/>\n",
              "  </svg>\n",
              "      </button>\n",
              "      \n",
              "  <style>\n",
              "    .colab-df-container {\n",
              "      display:flex;\n",
              "      flex-wrap:wrap;\n",
              "      gap: 12px;\n",
              "    }\n",
              "\n",
              "    .colab-df-convert {\n",
              "      background-color: #E8F0FE;\n",
              "      border: none;\n",
              "      border-radius: 50%;\n",
              "      cursor: pointer;\n",
              "      display: none;\n",
              "      fill: #1967D2;\n",
              "      height: 32px;\n",
              "      padding: 0 0 0 0;\n",
              "      width: 32px;\n",
              "    }\n",
              "\n",
              "    .colab-df-convert:hover {\n",
              "      background-color: #E2EBFA;\n",
              "      box-shadow: 0px 1px 2px rgba(60, 64, 67, 0.3), 0px 1px 3px 1px rgba(60, 64, 67, 0.15);\n",
              "      fill: #174EA6;\n",
              "    }\n",
              "\n",
              "    [theme=dark] .colab-df-convert {\n",
              "      background-color: #3B4455;\n",
              "      fill: #D2E3FC;\n",
              "    }\n",
              "\n",
              "    [theme=dark] .colab-df-convert:hover {\n",
              "      background-color: #434B5C;\n",
              "      box-shadow: 0px 1px 3px 1px rgba(0, 0, 0, 0.15);\n",
              "      filter: drop-shadow(0px 1px 2px rgba(0, 0, 0, 0.3));\n",
              "      fill: #FFFFFF;\n",
              "    }\n",
              "  </style>\n",
              "\n",
              "      <script>\n",
              "        const buttonEl =\n",
              "          document.querySelector('#df-403bae91-7b95-4729-9f3d-ad6b7f0cfc0c button.colab-df-convert');\n",
              "        buttonEl.style.display =\n",
              "          google.colab.kernel.accessAllowed ? 'block' : 'none';\n",
              "\n",
              "        async function convertToInteractive(key) {\n",
              "          const element = document.querySelector('#df-403bae91-7b95-4729-9f3d-ad6b7f0cfc0c');\n",
              "          const dataTable =\n",
              "            await google.colab.kernel.invokeFunction('convertToInteractive',\n",
              "                                                     [key], {});\n",
              "          if (!dataTable) return;\n",
              "\n",
              "          const docLinkHtml = 'Like what you see? Visit the ' +\n",
              "            '<a target=\"_blank\" href=https://colab.research.google.com/notebooks/data_table.ipynb>data table notebook</a>'\n",
              "            + ' to learn more about interactive tables.';\n",
              "          element.innerHTML = '';\n",
              "          dataTable['output_type'] = 'display_data';\n",
              "          await google.colab.output.renderOutput(dataTable, element);\n",
              "          const docLink = document.createElement('div');\n",
              "          docLink.innerHTML = docLinkHtml;\n",
              "          element.appendChild(docLink);\n",
              "        }\n",
              "      </script>\n",
              "    </div>\n",
              "  </div>\n",
              "  "
            ],
            "text/plain": [
              "                                                                  \n",
              "                                                                  \n",
              "Initiated  . . . . . . . . . . . . . . . . . .            09:19:49\n",
              "Status     . . . . . . . . . . . . . . . . . .  Preprocessing Data"
            ]
          },
          "metadata": {},
          "output_type": "display_data"
        },
        {
          "name": "stderr",
          "output_type": "stream",
          "text": [
            "INFO:logs:Importing libraries\n",
            "INFO:logs:Copying data for preprocessing\n",
            "INFO:logs:Declaring preprocessing parameters\n",
            "INFO:logs:Creating preprocessing pipeline\n",
            "INFO:logs:Preprocessing pipeline created successfully\n",
            "ERROR:logs:(Process Exit): setup has been interupted with user command 'quit'. setup must rerun.\n",
            "INFO:logs:Creating global containers\n",
            "INFO:logs:Internal pipeline: Pipeline(memory=None, steps=[('empty_step', 'passthrough')], verbose=False)\n"
          ]
        },
        {
          "data": {
            "application/vnd.jupyter.widget-view+json": {
              "model_id": "c1496a85d0bf426281b4846c23aac2f1",
              "version_major": 2,
              "version_minor": 0
            },
            "text/plain": [
              "Text(value=\"Following data types have been inferred automatically, if they are correct press enter to continue…"
            ]
          },
          "metadata": {},
          "output_type": "display_data"
        },
        {
          "data": {
            "text/html": [
              "\n",
              "  <div id=\"df-0516e83b-73ac-44b6-837f-215803717349\">\n",
              "    <div class=\"colab-df-container\">\n",
              "      <div>\n",
              "<style scoped>\n",
              "    .dataframe tbody tr th:only-of-type {\n",
              "        vertical-align: middle;\n",
              "    }\n",
              "\n",
              "    .dataframe tbody tr th {\n",
              "        vertical-align: top;\n",
              "    }\n",
              "\n",
              "    .dataframe thead th {\n",
              "        text-align: right;\n",
              "    }\n",
              "</style>\n",
              "<table border=\"1\" class=\"dataframe\">\n",
              "  <thead>\n",
              "    <tr style=\"text-align: right;\">\n",
              "      <th></th>\n",
              "      <th>Data Type</th>\n",
              "    </tr>\n",
              "  </thead>\n",
              "  <tbody>\n",
              "    <tr>\n",
              "      <th>id</th>\n",
              "      <td>Numeric</td>\n",
              "    </tr>\n",
              "    <tr>\n",
              "      <th>Age</th>\n",
              "      <td>Numeric</td>\n",
              "    </tr>\n",
              "    <tr>\n",
              "      <th>CityTier</th>\n",
              "      <td>Categorical</td>\n",
              "    </tr>\n",
              "    <tr>\n",
              "      <th>DurationOfPitch</th>\n",
              "      <td>Numeric</td>\n",
              "    </tr>\n",
              "    <tr>\n",
              "      <th>NumberOfPersonVisiting</th>\n",
              "      <td>Categorical</td>\n",
              "    </tr>\n",
              "    <tr>\n",
              "      <th>NumberOfFollowups</th>\n",
              "      <td>Numeric</td>\n",
              "    </tr>\n",
              "    <tr>\n",
              "      <th>PreferredPropertyStar</th>\n",
              "      <td>Numeric</td>\n",
              "    </tr>\n",
              "    <tr>\n",
              "      <th>NumberOfTrips</th>\n",
              "      <td>Numeric</td>\n",
              "    </tr>\n",
              "    <tr>\n",
              "      <th>Passport</th>\n",
              "      <td>Categorical</td>\n",
              "    </tr>\n",
              "    <tr>\n",
              "      <th>PitchSatisfactionScore</th>\n",
              "      <td>Categorical</td>\n",
              "    </tr>\n",
              "    <tr>\n",
              "      <th>OwnCar</th>\n",
              "      <td>Categorical</td>\n",
              "    </tr>\n",
              "    <tr>\n",
              "      <th>NumberOfChildrenVisiting</th>\n",
              "      <td>Numeric</td>\n",
              "    </tr>\n",
              "    <tr>\n",
              "      <th>MonthlyIncome</th>\n",
              "      <td>Numeric</td>\n",
              "    </tr>\n",
              "    <tr>\n",
              "      <th>TypeofContact_Company Invited</th>\n",
              "      <td></td>\n",
              "    </tr>\n",
              "    <tr>\n",
              "      <th>TypeofContact_Self Enquiry</th>\n",
              "      <td></td>\n",
              "    </tr>\n",
              "    <tr>\n",
              "      <th>Occupation_Free Lancer</th>\n",
              "      <td></td>\n",
              "    </tr>\n",
              "    <tr>\n",
              "      <th>Occupation_Large Business</th>\n",
              "      <td></td>\n",
              "    </tr>\n",
              "    <tr>\n",
              "      <th>Occupation_Salaried</th>\n",
              "      <td></td>\n",
              "    </tr>\n",
              "    <tr>\n",
              "      <th>Occupation_Small Business</th>\n",
              "      <td></td>\n",
              "    </tr>\n",
              "    <tr>\n",
              "      <th>Gender_Female</th>\n",
              "      <td></td>\n",
              "    </tr>\n",
              "    <tr>\n",
              "      <th>Gender_Male</th>\n",
              "      <td></td>\n",
              "    </tr>\n",
              "    <tr>\n",
              "      <th>ProductPitched_Basic</th>\n",
              "      <td></td>\n",
              "    </tr>\n",
              "    <tr>\n",
              "      <th>ProductPitched_Deluxe</th>\n",
              "      <td></td>\n",
              "    </tr>\n",
              "    <tr>\n",
              "      <th>ProductPitched_King</th>\n",
              "      <td></td>\n",
              "    </tr>\n",
              "    <tr>\n",
              "      <th>ProductPitched_Standard</th>\n",
              "      <td></td>\n",
              "    </tr>\n",
              "    <tr>\n",
              "      <th>ProductPitched_Super Deluxe</th>\n",
              "      <td></td>\n",
              "    </tr>\n",
              "    <tr>\n",
              "      <th>MaritalStatus_Divorced</th>\n",
              "      <td></td>\n",
              "    </tr>\n",
              "    <tr>\n",
              "      <th>MaritalStatus_Married</th>\n",
              "      <td></td>\n",
              "    </tr>\n",
              "    <tr>\n",
              "      <th>MaritalStatus_Single</th>\n",
              "      <td></td>\n",
              "    </tr>\n",
              "    <tr>\n",
              "      <th>MaritalStatus_Unmarried</th>\n",
              "      <td></td>\n",
              "    </tr>\n",
              "    <tr>\n",
              "      <th>Designation_AVP</th>\n",
              "      <td></td>\n",
              "    </tr>\n",
              "    <tr>\n",
              "      <th>Designation_Executive</th>\n",
              "      <td></td>\n",
              "    </tr>\n",
              "    <tr>\n",
              "      <th>Designation_Manager</th>\n",
              "      <td></td>\n",
              "    </tr>\n",
              "    <tr>\n",
              "      <th>Designation_Senior Manager</th>\n",
              "      <td></td>\n",
              "    </tr>\n",
              "    <tr>\n",
              "      <th>Designation_VP</th>\n",
              "      <td></td>\n",
              "    </tr>\n",
              "    <tr>\n",
              "      <th>ProdTaken</th>\n",
              "      <td>Label</td>\n",
              "    </tr>\n",
              "  </tbody>\n",
              "</table>\n",
              "</div>\n",
              "      <button class=\"colab-df-convert\" onclick=\"convertToInteractive('df-0516e83b-73ac-44b6-837f-215803717349')\"\n",
              "              title=\"Convert this dataframe to an interactive table.\"\n",
              "              style=\"display:none;\">\n",
              "        \n",
              "  <svg xmlns=\"http://www.w3.org/2000/svg\" height=\"24px\"viewBox=\"0 0 24 24\"\n",
              "       width=\"24px\">\n",
              "    <path d=\"M0 0h24v24H0V0z\" fill=\"none\"/>\n",
              "    <path d=\"M18.56 5.44l.94 2.06.94-2.06 2.06-.94-2.06-.94-.94-2.06-.94 2.06-2.06.94zm-11 1L8.5 8.5l.94-2.06 2.06-.94-2.06-.94L8.5 2.5l-.94 2.06-2.06.94zm10 10l.94 2.06.94-2.06 2.06-.94-2.06-.94-.94-2.06-.94 2.06-2.06.94z\"/><path d=\"M17.41 7.96l-1.37-1.37c-.4-.4-.92-.59-1.43-.59-.52 0-1.04.2-1.43.59L10.3 9.45l-7.72 7.72c-.78.78-.78 2.05 0 2.83L4 21.41c.39.39.9.59 1.41.59.51 0 1.02-.2 1.41-.59l7.78-7.78 2.81-2.81c.8-.78.8-2.07 0-2.86zM5.41 20L4 18.59l7.72-7.72 1.47 1.35L5.41 20z\"/>\n",
              "  </svg>\n",
              "      </button>\n",
              "      \n",
              "  <style>\n",
              "    .colab-df-container {\n",
              "      display:flex;\n",
              "      flex-wrap:wrap;\n",
              "      gap: 12px;\n",
              "    }\n",
              "\n",
              "    .colab-df-convert {\n",
              "      background-color: #E8F0FE;\n",
              "      border: none;\n",
              "      border-radius: 50%;\n",
              "      cursor: pointer;\n",
              "      display: none;\n",
              "      fill: #1967D2;\n",
              "      height: 32px;\n",
              "      padding: 0 0 0 0;\n",
              "      width: 32px;\n",
              "    }\n",
              "\n",
              "    .colab-df-convert:hover {\n",
              "      background-color: #E2EBFA;\n",
              "      box-shadow: 0px 1px 2px rgba(60, 64, 67, 0.3), 0px 1px 3px 1px rgba(60, 64, 67, 0.15);\n",
              "      fill: #174EA6;\n",
              "    }\n",
              "\n",
              "    [theme=dark] .colab-df-convert {\n",
              "      background-color: #3B4455;\n",
              "      fill: #D2E3FC;\n",
              "    }\n",
              "\n",
              "    [theme=dark] .colab-df-convert:hover {\n",
              "      background-color: #434B5C;\n",
              "      box-shadow: 0px 1px 3px 1px rgba(0, 0, 0, 0.15);\n",
              "      filter: drop-shadow(0px 1px 2px rgba(0, 0, 0, 0.3));\n",
              "      fill: #FFFFFF;\n",
              "    }\n",
              "  </style>\n",
              "\n",
              "      <script>\n",
              "        const buttonEl =\n",
              "          document.querySelector('#df-0516e83b-73ac-44b6-837f-215803717349 button.colab-df-convert');\n",
              "        buttonEl.style.display =\n",
              "          google.colab.kernel.accessAllowed ? 'block' : 'none';\n",
              "\n",
              "        async function convertToInteractive(key) {\n",
              "          const element = document.querySelector('#df-0516e83b-73ac-44b6-837f-215803717349');\n",
              "          const dataTable =\n",
              "            await google.colab.kernel.invokeFunction('convertToInteractive',\n",
              "                                                     [key], {});\n",
              "          if (!dataTable) return;\n",
              "\n",
              "          const docLinkHtml = 'Like what you see? Visit the ' +\n",
              "            '<a target=\"_blank\" href=https://colab.research.google.com/notebooks/data_table.ipynb>data table notebook</a>'\n",
              "            + ' to learn more about interactive tables.';\n",
              "          element.innerHTML = '';\n",
              "          dataTable['output_type'] = 'display_data';\n",
              "          await google.colab.output.renderOutput(dataTable, element);\n",
              "          const docLink = document.createElement('div');\n",
              "          docLink.innerHTML = docLinkHtml;\n",
              "          element.appendChild(docLink);\n",
              "        }\n",
              "      </script>\n",
              "    </div>\n",
              "  </div>\n",
              "  "
            ],
            "text/plain": [
              "                                 Data Type\n",
              "id                                 Numeric\n",
              "Age                                Numeric\n",
              "CityTier                       Categorical\n",
              "DurationOfPitch                    Numeric\n",
              "NumberOfPersonVisiting         Categorical\n",
              "NumberOfFollowups                  Numeric\n",
              "PreferredPropertyStar              Numeric\n",
              "NumberOfTrips                      Numeric\n",
              "Passport                       Categorical\n",
              "PitchSatisfactionScore         Categorical\n",
              "OwnCar                         Categorical\n",
              "NumberOfChildrenVisiting           Numeric\n",
              "MonthlyIncome                      Numeric\n",
              "TypeofContact_Company Invited             \n",
              "TypeofContact_Self Enquiry                \n",
              "Occupation_Free Lancer                    \n",
              "Occupation_Large Business                 \n",
              "Occupation_Salaried                       \n",
              "Occupation_Small Business                 \n",
              "Gender_Female                             \n",
              "Gender_Male                               \n",
              "ProductPitched_Basic                      \n",
              "ProductPitched_Deluxe                     \n",
              "ProductPitched_King                       \n",
              "ProductPitched_Standard                   \n",
              "ProductPitched_Super Deluxe               \n",
              "MaritalStatus_Divorced                    \n",
              "MaritalStatus_Married                     \n",
              "MaritalStatus_Single                      \n",
              "MaritalStatus_Unmarried                   \n",
              "Designation_AVP                           \n",
              "Designation_Executive                     \n",
              "Designation_Manager                       \n",
              "Designation_Senior Manager                \n",
              "Designation_VP                            \n",
              "ProdTaken                            Label"
            ]
          },
          "metadata": {},
          "output_type": "display_data"
        }
      ],
      "source": [
        "from pycaret.classification import *\n",
        "setup_clf = setup(data=train_df, target='ProdTaken')"
      ]
    },
    {
      "cell_type": "markdown",
      "metadata": {
        "id": "e0bwz_8Ot8nF"
      },
      "source": [
        "![img.png](data:image/png;base64,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)"
      ]
    },
    {
      "cell_type": "markdown",
      "metadata": {
        "id": "Nlzb49zxuSiA"
      },
      "source": [
        "#### 6-1. 랜덤포레스트"
      ]
    },
    {
      "cell_type": "code",
      "execution_count": null,
      "metadata": {
        "id": "cRKmFkk6uKHZ"
      },
      "outputs": [],
      "source": [
        "rf = create_model('rf', fold=5)  # fold = 5 : 데이터셋을 5개로 나누어 cross validation"
      ]
    },
    {
      "cell_type": "markdown",
      "metadata": {
        "id": "R-Ya3qLTugxK"
      },
      "source": [
        "#### 6-2.  Accuracy 기준으로 성능이 좋은 top5 모델"
      ]
    },
    {
      "cell_type": "code",
      "execution_count": null,
      "metadata": {
        "id": "3jk7s6yzuKKR"
      },
      "outputs": [],
      "source": [
        "top5 = compare_models(sort='Accuracy', n_select=5)"
      ]
    },
    {
      "cell_type": "markdown",
      "metadata": {
        "id": "voTkH1FdvtDb"
      },
      "source": [
        "#### 6-3. 모델 Tuning, Blending"
      ]
    },
    {
      "cell_type": "code",
      "execution_count": null,
      "metadata": {
        "id": "PugrP5cjvnGw"
      },
      "outputs": [],
      "source": [
        "# tuning\n",
        "\n",
        "tuned_top5 = [tune_model(i) for i in top5]"
      ]
    },
    {
      "cell_type": "code",
      "execution_count": null,
      "metadata": {
        "id": "1oeiaqUFvnJi"
      },
      "outputs": [],
      "source": [
        "# blending\n",
        "\n",
        "blender_top5 = blend_models(estimator_list=tuned_top5)"
      ]
    },
    {
      "cell_type": "markdown",
      "metadata": {
        "id": "i-qn9asswYAJ"
      },
      "source": [
        "#### 6-4. prediction"
      ]
    },
    {
      "cell_type": "code",
      "execution_count": null,
      "metadata": {
        "id": "0ovhXixVwXSj"
      },
      "outputs": [],
      "source": [
        "final_model = finalize_model(blender_top5)\n",
        "prediction = predict_model(final_model, data=train_df.iloc[-100:])  # 테스트 데이터로 dataset의 마지막 100개의 데이터를 사용"
      ]
    },
    {
      "cell_type": "markdown",
      "metadata": {
        "id": "ehbgvm8Mw6W1"
      },
      "source": [
        "#### 6-5. 모델 평가"
      ]
    },
    {
      "cell_type": "code",
      "execution_count": null,
      "metadata": {
        "id": "hc_wtXoewXVc"
      },
      "outputs": [],
      "source": [
        "from pycaret.utils import check_metric\n",
        "check_metric(prediction['Purchase'], prediction['Label'], metric = 'Accuracy')"
      ]
    },
    {
      "cell_type": "code",
      "execution_count": null,
      "metadata": {
        "id": "0XjmHeNQwXac"
      },
      "outputs": [],
      "source": []
    },
    {
      "cell_type": "markdown",
      "metadata": {
        "id": "z2xb0mIdyFw-"
      },
      "source": [
        "**1. 모델별 성능 비교**\n",
        "  - logistic regression\n",
        "  - KNN (K-Nearest Neighbor)\n",
        "  - Naives Bayes\n",
        "  - Decision Tree Classifier\n",
        "  - SVM\n",
        "  - Ridge\n",
        "  - Random Forest Classifier\n",
        "  - XGBRegressor\n",
        "  - Ada Boost Classifier\n",
        "  - Gradient Boosting Classifier (GBM)\n",
        "  - Light Gradient Boosting (LGBM)\n",
        "  - CatBoost Classifier\n",
        "\n",
        "**2. 하이퍼파라미터 조정**\n",
        "  - randomsearch\n",
        "  - gridsearch\n",
        "  - Bayesian Optimization\n",
        "\n",
        "(https://velog.io/@crosstar1228/MLHyperparameter-tuning-%EA%B8%B0%EB%B2%95%EC%9D%98-3%EA%B0%80%EC%A7%80GridSearch-RandomSearch-Bayesian-Optimization)"
      ]
    }
  ],
  "metadata": {
    "colab": {
      "collapsed_sections": [],
      "name": "EDA2 + modeling",
      "toc_visible": true,
      "provenance": []
    },
    "gpuClass": "standard",
    "kernelspec": {
      "display_name": "Python 3",
      "name": "python3"
    },
    "language_info": {
      "name": "python"
    },
    "widgets": {
      "application/vnd.jupyter.widget-state+json": {
        "097ebf9f78af414bb29017e2ff04b5b5": {
          "model_module": "@jupyter-widgets/controls",
          "model_module_version": "2.0.0",
          "model_name": "IntProgressModel",
          "state": {
            "_dom_classes": [],
            "_model_module": "@jupyter-widgets/controls",
            "_model_module_version": "2.0.0",
            "_model_name": "IntProgressModel",
            "_view_count": null,
            "_view_module": "@jupyter-widgets/controls",
            "_view_module_version": "2.0.0",
            "_view_name": "ProgressView",
            "bar_style": "",
            "description": "Processing: ",
            "description_allow_html": false,
            "layout": "IPY_MODEL_f76cdacffaa74203ab87c9413c7f032d",
            "max": 3,
            "min": 0,
            "orientation": "horizontal",
            "style": "IPY_MODEL_e0b73f70f56c47e49736b1307a3fa3cc",
            "tabbable": null,
            "tooltip": null,
            "value": 2
          }
        },
        "2fc8d846e46e4465b1823c3b87a4c977": {
          "model_module": "@jupyter-widgets/base",
          "model_module_version": "2.0.0",
          "model_name": "LayoutModel",
          "state": {
            "_model_module": "@jupyter-widgets/base",
            "_model_module_version": "2.0.0",
            "_model_name": "LayoutModel",
            "_view_count": null,
            "_view_module": "@jupyter-widgets/base",
            "_view_module_version": "2.0.0",
            "_view_name": "LayoutView",
            "align_content": null,
            "align_items": null,
            "align_self": null,
            "border_bottom": null,
            "border_left": null,
            "border_right": null,
            "border_top": null,
            "bottom": null,
            "display": null,
            "flex": null,
            "flex_flow": null,
            "grid_area": null,
            "grid_auto_columns": null,
            "grid_auto_flow": null,
            "grid_auto_rows": null,
            "grid_column": null,
            "grid_gap": null,
            "grid_row": null,
            "grid_template_areas": null,
            "grid_template_columns": null,
            "grid_template_rows": null,
            "height": null,
            "justify_content": null,
            "justify_items": null,
            "left": null,
            "margin": null,
            "max_height": null,
            "max_width": null,
            "min_height": null,
            "min_width": null,
            "object_fit": null,
            "object_position": null,
            "order": null,
            "overflow": null,
            "padding": null,
            "right": null,
            "top": null,
            "visibility": null,
            "width": "100%"
          }
        },
        "5b82a52c2499420897091bba54ee995a": {
          "model_module": "@jupyter-widgets/controls",
          "model_module_version": "2.0.0",
          "model_name": "TextStyleModel",
          "state": {
            "_model_module": "@jupyter-widgets/controls",
            "_model_module_version": "2.0.0",
            "_model_name": "TextStyleModel",
            "_view_count": null,
            "_view_module": "@jupyter-widgets/base",
            "_view_module_version": "2.0.0",
            "_view_name": "StyleView",
            "background": null,
            "description_width": "",
            "font_size": null,
            "text_color": null
          }
        },
        "c1496a85d0bf426281b4846c23aac2f1": {
          "model_module": "@jupyter-widgets/controls",
          "model_module_version": "2.0.0",
          "model_name": "TextModel",
          "state": {
            "_dom_classes": [],
            "_model_module": "@jupyter-widgets/controls",
            "_model_module_version": "2.0.0",
            "_model_name": "TextModel",
            "_view_count": null,
            "_view_module": "@jupyter-widgets/controls",
            "_view_module_version": "2.0.0",
            "_view_name": "TextView",
            "continuous_update": true,
            "description": "",
            "description_allow_html": false,
            "disabled": false,
            "layout": "IPY_MODEL_2fc8d846e46e4465b1823c3b87a4c977",
            "placeholder": "​",
            "style": "IPY_MODEL_5b82a52c2499420897091bba54ee995a",
            "tabbable": null,
            "tooltip": null,
            "value": "Following data types have been inferred automatically, if they are correct press enter to continue or type 'quit' otherwise."
          }
        },
        "e0b73f70f56c47e49736b1307a3fa3cc": {
          "model_module": "@jupyter-widgets/controls",
          "model_module_version": "2.0.0",
          "model_name": "ProgressStyleModel",
          "state": {
            "_model_module": "@jupyter-widgets/controls",
            "_model_module_version": "2.0.0",
            "_model_name": "ProgressStyleModel",
            "_view_count": null,
            "_view_module": "@jupyter-widgets/base",
            "_view_module_version": "2.0.0",
            "_view_name": "StyleView",
            "bar_color": null,
            "description_width": ""
          }
        },
        "f76cdacffaa74203ab87c9413c7f032d": {
          "model_module": "@jupyter-widgets/base",
          "model_module_version": "2.0.0",
          "model_name": "LayoutModel",
          "state": {
            "_model_module": "@jupyter-widgets/base",
            "_model_module_version": "2.0.0",
            "_model_name": "LayoutModel",
            "_view_count": null,
            "_view_module": "@jupyter-widgets/base",
            "_view_module_version": "2.0.0",
            "_view_name": "LayoutView",
            "align_content": null,
            "align_items": null,
            "align_self": null,
            "border_bottom": null,
            "border_left": null,
            "border_right": null,
            "border_top": null,
            "bottom": null,
            "display": null,
            "flex": null,
            "flex_flow": null,
            "grid_area": null,
            "grid_auto_columns": null,
            "grid_auto_flow": null,
            "grid_auto_rows": null,
            "grid_column": null,
            "grid_gap": null,
            "grid_row": null,
            "grid_template_areas": null,
            "grid_template_columns": null,
            "grid_template_rows": null,
            "height": null,
            "justify_content": null,
            "justify_items": null,
            "left": null,
            "margin": null,
            "max_height": null,
            "max_width": null,
            "min_height": null,
            "min_width": null,
            "object_fit": null,
            "object_position": null,
            "order": null,
            "overflow": null,
            "padding": null,
            "right": null,
            "top": null,
            "visibility": null,
            "width": null
          }
        }
      }
    }
  },
  "nbformat": 4,
  "nbformat_minor": 0
}