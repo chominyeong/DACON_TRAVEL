{
 "cells": [
  {
   "cell_type": "code",
   "execution_count": null,
   "id": "f25cfa4b",
   "metadata": {},
   "outputs": [],
   "source": [
    "Naives Bayes\n",
    "XGBClassifier"
   ]
  },
  {
   "cell_type": "markdown",
   "id": "693d5c38",
   "metadata": {},
   "source": [
    "## 데이콘 Basic 여행 상품 신청 여부 예측 경진대회"
   ]
  },
  {
   "cell_type": "markdown",
   "id": "b379b485",
   "metadata": {},
   "source": [
    "https://dacon.io/competitions/official/235959/overview/description"
   ]
  },
  {
   "cell_type": "markdown",
   "id": "dee505d3",
   "metadata": {},
   "source": [
    "### 변수 정보"
   ]
  },
  {
   "cell_type": "markdown",
   "id": "a42ede4e",
   "metadata": {},
   "source": [
    "### 1. train.csv : 학습 데이터\n",
    "\n",
    "* id : 샘플 아이디\n",
    "* Age : 나이\n",
    "* TypeofContact : 고객의 제품 인지 방법 (회사의 홍보 or 스스로 검색)\n",
    "* CityTier : 주거 중인 도시의 등급. (인구, 시설, 생활 수준 기준) (1등급 > 2등급 > 3등급) \n",
    "* DurationOfPitch : 영업 사원이 고객에게 제공하는 프레젠테이션 기간\n",
    "* Occupation : 직업\n",
    "* Gender : 성별\n",
    "* NumberOfPersonVisiting : 고객과 함께 여행을 계획 중인 총 인원\n",
    "* NumberOfFollowups : 영업 사원의 프레젠테이션 후 이루어진 후속 조치 수\n",
    "* ProductPitched : 영업 사원이 제시한 상품\n",
    "* PreferredPropertyStar : 선호 호텔 숙박업소 등급\n",
    "* MaritalStatus : 결혼여부\n",
    "* NumberOfTrips : 평균 연간 여행 횟수\n",
    "* Passport : 여권 보유 여부 (0: 없음, 1: 있음)\n",
    "* PitchSatisfactionScore : 영업 사원의 프레젠테이션 만족도\n",
    "* OwnCar : 자동차 보유 여부 (0: 없음, 1: 있음)\n",
    "* NumberOfChildrenVisiting : 함께 여행을 계획 중인 5세 미만의 어린이 수\n",
    "* Designation : (직업의) 직급\n",
    "* MonthlyIncome : 월 급여\n",
    "* ProdTaken : 여행 패키지 신청 여부 (0: 신청 안 함, 1: 신청함)\n"
   ]
  },
  {
   "cell_type": "markdown",
   "id": "32798550",
   "metadata": {},
   "source": [
    "### 2. 목적\n",
    "* 나이, 성별, 월 수입 등의 고객 데이터를 이용해서 여행 상품 신청 여부를 예측"
   ]
  },
  {
   "cell_type": "code",
   "execution_count": 1,
   "id": "cdff2b09",
   "metadata": {},
   "outputs": [],
   "source": [
    "import pandas as pd\n",
    "import matplotlib.pyplot as plt\n",
    "import numpy as np"
   ]
  },
  {
   "cell_type": "markdown",
   "id": "8488eed2",
   "metadata": {},
   "source": [
    "### 1. train.csv"
   ]
  },
  {
   "cell_type": "code",
   "execution_count": 2,
   "id": "5e0b3f78",
   "metadata": {},
   "outputs": [
    {
     "data": {
      "text/html": [
       "<div>\n",
       "<style scoped>\n",
       "    .dataframe tbody tr th:only-of-type {\n",
       "        vertical-align: middle;\n",
       "    }\n",
       "\n",
       "    .dataframe tbody tr th {\n",
       "        vertical-align: top;\n",
       "    }\n",
       "\n",
       "    .dataframe thead th {\n",
       "        text-align: right;\n",
       "    }\n",
       "</style>\n",
       "<table border=\"1\" class=\"dataframe\">\n",
       "  <thead>\n",
       "    <tr style=\"text-align: right;\">\n",
       "      <th></th>\n",
       "      <th>id</th>\n",
       "      <th>Age</th>\n",
       "      <th>TypeofContact</th>\n",
       "      <th>CityTier</th>\n",
       "      <th>DurationOfPitch</th>\n",
       "      <th>Occupation</th>\n",
       "      <th>Gender</th>\n",
       "      <th>NumberOfPersonVisiting</th>\n",
       "      <th>NumberOfFollowups</th>\n",
       "      <th>ProductPitched</th>\n",
       "      <th>PreferredPropertyStar</th>\n",
       "      <th>MaritalStatus</th>\n",
       "      <th>NumberOfTrips</th>\n",
       "      <th>Passport</th>\n",
       "      <th>PitchSatisfactionScore</th>\n",
       "      <th>OwnCar</th>\n",
       "      <th>NumberOfChildrenVisiting</th>\n",
       "      <th>Designation</th>\n",
       "      <th>MonthlyIncome</th>\n",
       "      <th>ProdTaken</th>\n",
       "    </tr>\n",
       "  </thead>\n",
       "  <tbody>\n",
       "    <tr>\n",
       "      <th>0</th>\n",
       "      <td>1</td>\n",
       "      <td>28.0</td>\n",
       "      <td>Company Invited</td>\n",
       "      <td>1</td>\n",
       "      <td>10.0</td>\n",
       "      <td>Small Business</td>\n",
       "      <td>Male</td>\n",
       "      <td>3</td>\n",
       "      <td>4.0</td>\n",
       "      <td>Basic</td>\n",
       "      <td>3.0</td>\n",
       "      <td>Married</td>\n",
       "      <td>3.0</td>\n",
       "      <td>0</td>\n",
       "      <td>1</td>\n",
       "      <td>0</td>\n",
       "      <td>1.0</td>\n",
       "      <td>Executive</td>\n",
       "      <td>20384.0</td>\n",
       "      <td>0</td>\n",
       "    </tr>\n",
       "    <tr>\n",
       "      <th>1</th>\n",
       "      <td>2</td>\n",
       "      <td>34.0</td>\n",
       "      <td>Self Enquiry</td>\n",
       "      <td>3</td>\n",
       "      <td>NaN</td>\n",
       "      <td>Small Business</td>\n",
       "      <td>Female</td>\n",
       "      <td>2</td>\n",
       "      <td>4.0</td>\n",
       "      <td>Deluxe</td>\n",
       "      <td>4.0</td>\n",
       "      <td>Single</td>\n",
       "      <td>1.0</td>\n",
       "      <td>1</td>\n",
       "      <td>5</td>\n",
       "      <td>1</td>\n",
       "      <td>0.0</td>\n",
       "      <td>Manager</td>\n",
       "      <td>19599.0</td>\n",
       "      <td>1</td>\n",
       "    </tr>\n",
       "    <tr>\n",
       "      <th>2</th>\n",
       "      <td>3</td>\n",
       "      <td>45.0</td>\n",
       "      <td>Company Invited</td>\n",
       "      <td>1</td>\n",
       "      <td>NaN</td>\n",
       "      <td>Salaried</td>\n",
       "      <td>Male</td>\n",
       "      <td>2</td>\n",
       "      <td>3.0</td>\n",
       "      <td>Deluxe</td>\n",
       "      <td>4.0</td>\n",
       "      <td>Married</td>\n",
       "      <td>2.0</td>\n",
       "      <td>0</td>\n",
       "      <td>4</td>\n",
       "      <td>1</td>\n",
       "      <td>0.0</td>\n",
       "      <td>Manager</td>\n",
       "      <td>NaN</td>\n",
       "      <td>0</td>\n",
       "    </tr>\n",
       "    <tr>\n",
       "      <th>3</th>\n",
       "      <td>4</td>\n",
       "      <td>29.0</td>\n",
       "      <td>Company Invited</td>\n",
       "      <td>1</td>\n",
       "      <td>7.0</td>\n",
       "      <td>Small Business</td>\n",
       "      <td>Male</td>\n",
       "      <td>3</td>\n",
       "      <td>5.0</td>\n",
       "      <td>Basic</td>\n",
       "      <td>4.0</td>\n",
       "      <td>Married</td>\n",
       "      <td>3.0</td>\n",
       "      <td>0</td>\n",
       "      <td>4</td>\n",
       "      <td>0</td>\n",
       "      <td>1.0</td>\n",
       "      <td>Executive</td>\n",
       "      <td>21274.0</td>\n",
       "      <td>1</td>\n",
       "    </tr>\n",
       "    <tr>\n",
       "      <th>4</th>\n",
       "      <td>5</td>\n",
       "      <td>42.0</td>\n",
       "      <td>Self Enquiry</td>\n",
       "      <td>3</td>\n",
       "      <td>6.0</td>\n",
       "      <td>Salaried</td>\n",
       "      <td>Male</td>\n",
       "      <td>2</td>\n",
       "      <td>3.0</td>\n",
       "      <td>Deluxe</td>\n",
       "      <td>3.0</td>\n",
       "      <td>Divorced</td>\n",
       "      <td>2.0</td>\n",
       "      <td>0</td>\n",
       "      <td>3</td>\n",
       "      <td>1</td>\n",
       "      <td>0.0</td>\n",
       "      <td>Manager</td>\n",
       "      <td>19907.0</td>\n",
       "      <td>0</td>\n",
       "    </tr>\n",
       "    <tr>\n",
       "      <th>...</th>\n",
       "      <td>...</td>\n",
       "      <td>...</td>\n",
       "      <td>...</td>\n",
       "      <td>...</td>\n",
       "      <td>...</td>\n",
       "      <td>...</td>\n",
       "      <td>...</td>\n",
       "      <td>...</td>\n",
       "      <td>...</td>\n",
       "      <td>...</td>\n",
       "      <td>...</td>\n",
       "      <td>...</td>\n",
       "      <td>...</td>\n",
       "      <td>...</td>\n",
       "      <td>...</td>\n",
       "      <td>...</td>\n",
       "      <td>...</td>\n",
       "      <td>...</td>\n",
       "      <td>...</td>\n",
       "      <td>...</td>\n",
       "    </tr>\n",
       "    <tr>\n",
       "      <th>1950</th>\n",
       "      <td>1951</td>\n",
       "      <td>28.0</td>\n",
       "      <td>Self Enquiry</td>\n",
       "      <td>1</td>\n",
       "      <td>10.0</td>\n",
       "      <td>Small Business</td>\n",
       "      <td>Male</td>\n",
       "      <td>3</td>\n",
       "      <td>5.0</td>\n",
       "      <td>Basic</td>\n",
       "      <td>3.0</td>\n",
       "      <td>Single</td>\n",
       "      <td>2.0</td>\n",
       "      <td>0</td>\n",
       "      <td>1</td>\n",
       "      <td>1</td>\n",
       "      <td>2.0</td>\n",
       "      <td>Executive</td>\n",
       "      <td>20723.0</td>\n",
       "      <td>0</td>\n",
       "    </tr>\n",
       "    <tr>\n",
       "      <th>1951</th>\n",
       "      <td>1952</td>\n",
       "      <td>41.0</td>\n",
       "      <td>Self Enquiry</td>\n",
       "      <td>3</td>\n",
       "      <td>8.0</td>\n",
       "      <td>Salaried</td>\n",
       "      <td>Female</td>\n",
       "      <td>3</td>\n",
       "      <td>3.0</td>\n",
       "      <td>Super Deluxe</td>\n",
       "      <td>5.0</td>\n",
       "      <td>Divorced</td>\n",
       "      <td>1.0</td>\n",
       "      <td>0</td>\n",
       "      <td>5</td>\n",
       "      <td>1</td>\n",
       "      <td>1.0</td>\n",
       "      <td>AVP</td>\n",
       "      <td>31595.0</td>\n",
       "      <td>0</td>\n",
       "    </tr>\n",
       "    <tr>\n",
       "      <th>1952</th>\n",
       "      <td>1953</td>\n",
       "      <td>38.0</td>\n",
       "      <td>Company Invited</td>\n",
       "      <td>3</td>\n",
       "      <td>28.0</td>\n",
       "      <td>Small Business</td>\n",
       "      <td>Female</td>\n",
       "      <td>3</td>\n",
       "      <td>4.0</td>\n",
       "      <td>Basic</td>\n",
       "      <td>3.0</td>\n",
       "      <td>Divorced</td>\n",
       "      <td>7.0</td>\n",
       "      <td>0</td>\n",
       "      <td>2</td>\n",
       "      <td>1</td>\n",
       "      <td>2.0</td>\n",
       "      <td>Executive</td>\n",
       "      <td>21651.0</td>\n",
       "      <td>0</td>\n",
       "    </tr>\n",
       "    <tr>\n",
       "      <th>1953</th>\n",
       "      <td>1954</td>\n",
       "      <td>28.0</td>\n",
       "      <td>Self Enquiry</td>\n",
       "      <td>3</td>\n",
       "      <td>30.0</td>\n",
       "      <td>Small Business</td>\n",
       "      <td>Female</td>\n",
       "      <td>3</td>\n",
       "      <td>5.0</td>\n",
       "      <td>Deluxe</td>\n",
       "      <td>3.0</td>\n",
       "      <td>Married</td>\n",
       "      <td>3.0</td>\n",
       "      <td>0</td>\n",
       "      <td>1</td>\n",
       "      <td>1</td>\n",
       "      <td>2.0</td>\n",
       "      <td>Manager</td>\n",
       "      <td>22218.0</td>\n",
       "      <td>0</td>\n",
       "    </tr>\n",
       "    <tr>\n",
       "      <th>1954</th>\n",
       "      <td>1955</td>\n",
       "      <td>22.0</td>\n",
       "      <td>Company Invited</td>\n",
       "      <td>1</td>\n",
       "      <td>9.0</td>\n",
       "      <td>Salaried</td>\n",
       "      <td>Male</td>\n",
       "      <td>2</td>\n",
       "      <td>4.0</td>\n",
       "      <td>Basic</td>\n",
       "      <td>3.0</td>\n",
       "      <td>Divorced</td>\n",
       "      <td>1.0</td>\n",
       "      <td>1</td>\n",
       "      <td>3</td>\n",
       "      <td>0</td>\n",
       "      <td>0.0</td>\n",
       "      <td>Executive</td>\n",
       "      <td>17853.0</td>\n",
       "      <td>1</td>\n",
       "    </tr>\n",
       "  </tbody>\n",
       "</table>\n",
       "<p>1955 rows × 20 columns</p>\n",
       "</div>"
      ],
      "text/plain": [
       "        id   Age    TypeofContact  CityTier  DurationOfPitch      Occupation  \\\n",
       "0        1  28.0  Company Invited         1             10.0  Small Business   \n",
       "1        2  34.0     Self Enquiry         3              NaN  Small Business   \n",
       "2        3  45.0  Company Invited         1              NaN        Salaried   \n",
       "3        4  29.0  Company Invited         1              7.0  Small Business   \n",
       "4        5  42.0     Self Enquiry         3              6.0        Salaried   \n",
       "...    ...   ...              ...       ...              ...             ...   \n",
       "1950  1951  28.0     Self Enquiry         1             10.0  Small Business   \n",
       "1951  1952  41.0     Self Enquiry         3              8.0        Salaried   \n",
       "1952  1953  38.0  Company Invited         3             28.0  Small Business   \n",
       "1953  1954  28.0     Self Enquiry         3             30.0  Small Business   \n",
       "1954  1955  22.0  Company Invited         1              9.0        Salaried   \n",
       "\n",
       "      Gender  NumberOfPersonVisiting  NumberOfFollowups ProductPitched  \\\n",
       "0       Male                       3                4.0          Basic   \n",
       "1     Female                       2                4.0         Deluxe   \n",
       "2       Male                       2                3.0         Deluxe   \n",
       "3       Male                       3                5.0          Basic   \n",
       "4       Male                       2                3.0         Deluxe   \n",
       "...      ...                     ...                ...            ...   \n",
       "1950    Male                       3                5.0          Basic   \n",
       "1951  Female                       3                3.0   Super Deluxe   \n",
       "1952  Female                       3                4.0          Basic   \n",
       "1953  Female                       3                5.0         Deluxe   \n",
       "1954    Male                       2                4.0          Basic   \n",
       "\n",
       "      PreferredPropertyStar MaritalStatus  NumberOfTrips  Passport  \\\n",
       "0                       3.0       Married            3.0         0   \n",
       "1                       4.0        Single            1.0         1   \n",
       "2                       4.0       Married            2.0         0   \n",
       "3                       4.0       Married            3.0         0   \n",
       "4                       3.0      Divorced            2.0         0   \n",
       "...                     ...           ...            ...       ...   \n",
       "1950                    3.0        Single            2.0         0   \n",
       "1951                    5.0      Divorced            1.0         0   \n",
       "1952                    3.0      Divorced            7.0         0   \n",
       "1953                    3.0       Married            3.0         0   \n",
       "1954                    3.0      Divorced            1.0         1   \n",
       "\n",
       "      PitchSatisfactionScore  OwnCar  NumberOfChildrenVisiting Designation  \\\n",
       "0                          1       0                       1.0   Executive   \n",
       "1                          5       1                       0.0     Manager   \n",
       "2                          4       1                       0.0     Manager   \n",
       "3                          4       0                       1.0   Executive   \n",
       "4                          3       1                       0.0     Manager   \n",
       "...                      ...     ...                       ...         ...   \n",
       "1950                       1       1                       2.0   Executive   \n",
       "1951                       5       1                       1.0         AVP   \n",
       "1952                       2       1                       2.0   Executive   \n",
       "1953                       1       1                       2.0     Manager   \n",
       "1954                       3       0                       0.0   Executive   \n",
       "\n",
       "      MonthlyIncome  ProdTaken  \n",
       "0           20384.0          0  \n",
       "1           19599.0          1  \n",
       "2               NaN          0  \n",
       "3           21274.0          1  \n",
       "4           19907.0          0  \n",
       "...             ...        ...  \n",
       "1950        20723.0          0  \n",
       "1951        31595.0          0  \n",
       "1952        21651.0          0  \n",
       "1953        22218.0          0  \n",
       "1954        17853.0          1  \n",
       "\n",
       "[1955 rows x 20 columns]"
      ]
     },
     "execution_count": 2,
     "metadata": {},
     "output_type": "execute_result"
    }
   ],
   "source": [
    "# train 데이터 불러오기\n",
    "\n",
    "train = pd.read_csv('train.csv')\n",
    "train"
   ]
  },
  {
   "cell_type": "code",
   "execution_count": 4,
   "id": "922b6035",
   "metadata": {},
   "outputs": [
    {
     "name": "stdout",
     "output_type": "stream",
     "text": [
      "<class 'pandas.core.frame.DataFrame'>\n",
      "RangeIndex: 1955 entries, 0 to 1954\n",
      "Data columns (total 20 columns):\n",
      " #   Column                    Non-Null Count  Dtype  \n",
      "---  ------                    --------------  -----  \n",
      " 0   id                        1955 non-null   int64  \n",
      " 1   Age                       1861 non-null   float64\n",
      " 2   TypeofContact             1945 non-null   object \n",
      " 3   CityTier                  1955 non-null   int64  \n",
      " 4   DurationOfPitch           1853 non-null   float64\n",
      " 5   Occupation                1955 non-null   object \n",
      " 6   Gender                    1955 non-null   object \n",
      " 7   NumberOfPersonVisiting    1955 non-null   int64  \n",
      " 8   NumberOfFollowups         1942 non-null   float64\n",
      " 9   ProductPitched            1955 non-null   object \n",
      " 10  PreferredPropertyStar     1945 non-null   float64\n",
      " 11  MaritalStatus             1955 non-null   object \n",
      " 12  NumberOfTrips             1898 non-null   float64\n",
      " 13  Passport                  1955 non-null   int64  \n",
      " 14  PitchSatisfactionScore    1955 non-null   int64  \n",
      " 15  OwnCar                    1955 non-null   int64  \n",
      " 16  NumberOfChildrenVisiting  1928 non-null   float64\n",
      " 17  Designation               1955 non-null   object \n",
      " 18  MonthlyIncome             1855 non-null   float64\n",
      " 19  ProdTaken                 1955 non-null   int64  \n",
      "dtypes: float64(7), int64(7), object(6)\n",
      "memory usage: 305.6+ KB\n"
     ]
    }
   ],
   "source": [
    "# 변수 타입 확인\n",
    "\n",
    "train.info()"
   ]
  },
  {
   "cell_type": "code",
   "execution_count": 5,
   "id": "e34a1269",
   "metadata": {},
   "outputs": [
    {
     "name": "stdout",
     "output_type": "stream",
     "text": [
      "['Company Invited' 'Self Enquiry' nan]\n"
     ]
    }
   ],
   "source": [
    "# 범주형: 변수 범주 확인\n",
    "## 제품 인지 방법\n",
    "\n",
    "print(train['TypeofContact'].unique())"
   ]
  },
  {
   "cell_type": "code",
   "execution_count": 6,
   "id": "36f49a0d",
   "metadata": {},
   "outputs": [
    {
     "name": "stdout",
     "output_type": "stream",
     "text": [
      "['Small Business' 'Salaried' 'Large Business' 'Free Lancer']\n"
     ]
    }
   ],
   "source": [
    "## 직업\n",
    "\n",
    "print(train['Occupation'].unique())"
   ]
  },
  {
   "cell_type": "code",
   "execution_count": 7,
   "id": "8198af76",
   "metadata": {},
   "outputs": [
    {
     "name": "stdout",
     "output_type": "stream",
     "text": [
      "['Male' 'Female' 'Fe Male']\n"
     ]
    }
   ],
   "source": [
    "## 성별\n",
    "\n",
    "print(train['Gender'].unique())"
   ]
  },
  {
   "cell_type": "code",
   "execution_count": 8,
   "id": "ca6ed363",
   "metadata": {},
   "outputs": [
    {
     "name": "stdout",
     "output_type": "stream",
     "text": [
      "['Basic' 'Deluxe' 'King' 'Standard' 'Super Deluxe']\n"
     ]
    }
   ],
   "source": [
    "## 영업사원 제시 상품\n",
    "\n",
    "print(train['ProductPitched'].unique())"
   ]
  },
  {
   "cell_type": "code",
   "execution_count": 9,
   "id": "fa3e64e7",
   "metadata": {},
   "outputs": [
    {
     "name": "stdout",
     "output_type": "stream",
     "text": [
      "['Married' 'Single' 'Divorced' 'Unmarried']\n"
     ]
    }
   ],
   "source": [
    "## 결혼여부\n",
    "\n",
    "print(train['MaritalStatus'].unique())"
   ]
  },
  {
   "cell_type": "code",
   "execution_count": 10,
   "id": "c4d7c0ae",
   "metadata": {},
   "outputs": [
    {
     "name": "stdout",
     "output_type": "stream",
     "text": [
      "['Executive' 'Manager' 'VP' 'Senior Manager' 'AVP']\n"
     ]
    }
   ],
   "source": [
    "## 직급\n",
    "\n",
    "print(train['Designation'].unique())"
   ]
  },
  {
   "cell_type": "markdown",
   "id": "8dc9ca0c",
   "metadata": {},
   "source": [
    "### Gender 값 변경"
   ]
  },
  {
   "cell_type": "code",
   "execution_count": 3,
   "id": "f9ddcb89",
   "metadata": {},
   "outputs": [
    {
     "data": {
      "text/plain": [
       "Male       1207\n",
       "Female      692\n",
       "Fe Male      56\n",
       "Name: Gender, dtype: int64"
      ]
     },
     "execution_count": 3,
     "metadata": {},
     "output_type": "execute_result"
    }
   ],
   "source": [
    "train['Gender'].value_counts()"
   ]
  },
  {
   "cell_type": "code",
   "execution_count": 4,
   "id": "5d3411a5",
   "metadata": {},
   "outputs": [],
   "source": [
    "# Fe Male을 Female로 변경\n",
    "\n",
    "train.loc[train['Gender']=='Fe Male','Gender']= 'Female'"
   ]
  },
  {
   "cell_type": "code",
   "execution_count": 5,
   "id": "5371b56f",
   "metadata": {},
   "outputs": [
    {
     "data": {
      "text/plain": [
       "Male      1207\n",
       "Female     748\n",
       "Name: Gender, dtype: int64"
      ]
     },
     "execution_count": 5,
     "metadata": {},
     "output_type": "execute_result"
    }
   ],
   "source": [
    "train['Gender'].value_counts()"
   ]
  },
  {
   "cell_type": "code",
   "execution_count": null,
   "id": "31618f20",
   "metadata": {},
   "outputs": [],
   "source": []
  },
  {
   "cell_type": "markdown",
   "id": "7359e316",
   "metadata": {},
   "source": [
    "### 중복 데이터"
   ]
  },
  {
   "cell_type": "code",
   "execution_count": 15,
   "id": "5f692047",
   "metadata": {},
   "outputs": [
    {
     "data": {
      "text/plain": [
       "0       False\n",
       "1       False\n",
       "2       False\n",
       "3       False\n",
       "4       False\n",
       "        ...  \n",
       "1950    False\n",
       "1951    False\n",
       "1952    False\n",
       "1953    False\n",
       "1954    False\n",
       "Length: 1955, dtype: bool"
      ]
     },
     "execution_count": 15,
     "metadata": {},
     "output_type": "execute_result"
    }
   ],
   "source": [
    "train.duplicated()"
   ]
  },
  {
   "cell_type": "code",
   "execution_count": 16,
   "id": "db6f9990",
   "metadata": {},
   "outputs": [
    {
     "data": {
      "text/html": [
       "<div>\n",
       "<style scoped>\n",
       "    .dataframe tbody tr th:only-of-type {\n",
       "        vertical-align: middle;\n",
       "    }\n",
       "\n",
       "    .dataframe tbody tr th {\n",
       "        vertical-align: top;\n",
       "    }\n",
       "\n",
       "    .dataframe thead th {\n",
       "        text-align: right;\n",
       "    }\n",
       "</style>\n",
       "<table border=\"1\" class=\"dataframe\">\n",
       "  <thead>\n",
       "    <tr style=\"text-align: right;\">\n",
       "      <th></th>\n",
       "      <th>id</th>\n",
       "      <th>Age</th>\n",
       "      <th>TypeofContact</th>\n",
       "      <th>CityTier</th>\n",
       "      <th>DurationOfPitch</th>\n",
       "      <th>Occupation</th>\n",
       "      <th>Gender</th>\n",
       "      <th>NumberOfPersonVisiting</th>\n",
       "      <th>NumberOfFollowups</th>\n",
       "      <th>ProductPitched</th>\n",
       "      <th>PreferredPropertyStar</th>\n",
       "      <th>MaritalStatus</th>\n",
       "      <th>NumberOfTrips</th>\n",
       "      <th>Passport</th>\n",
       "      <th>PitchSatisfactionScore</th>\n",
       "      <th>OwnCar</th>\n",
       "      <th>NumberOfChildrenVisiting</th>\n",
       "      <th>Designation</th>\n",
       "      <th>MonthlyIncome</th>\n",
       "      <th>ProdTaken</th>\n",
       "    </tr>\n",
       "  </thead>\n",
       "  <tbody>\n",
       "  </tbody>\n",
       "</table>\n",
       "</div>"
      ],
      "text/plain": [
       "Empty DataFrame\n",
       "Columns: [id, Age, TypeofContact, CityTier, DurationOfPitch, Occupation, Gender, NumberOfPersonVisiting, NumberOfFollowups, ProductPitched, PreferredPropertyStar, MaritalStatus, NumberOfTrips, Passport, PitchSatisfactionScore, OwnCar, NumberOfChildrenVisiting, Designation, MonthlyIncome, ProdTaken]\n",
       "Index: []"
      ]
     },
     "execution_count": 16,
     "metadata": {},
     "output_type": "execute_result"
    }
   ],
   "source": [
    "# 중복 데이터 없음\n",
    "\n",
    "train[train.duplicated()]"
   ]
  },
  {
   "cell_type": "code",
   "execution_count": null,
   "id": "e54acdfa",
   "metadata": {},
   "outputs": [],
   "source": []
  },
  {
   "cell_type": "markdown",
   "id": "4f995bca",
   "metadata": {},
   "source": [
    "### 결측치"
   ]
  },
  {
   "cell_type": "code",
   "execution_count": 17,
   "id": "b06ea056",
   "metadata": {},
   "outputs": [
    {
     "data": {
      "text/plain": [
       "id                            0\n",
       "Age                          94\n",
       "TypeofContact                10\n",
       "CityTier                      0\n",
       "DurationOfPitch             102\n",
       "Occupation                    0\n",
       "Gender                        0\n",
       "NumberOfPersonVisiting        0\n",
       "NumberOfFollowups            13\n",
       "ProductPitched                0\n",
       "PreferredPropertyStar        10\n",
       "MaritalStatus                 0\n",
       "NumberOfTrips                57\n",
       "Passport                      0\n",
       "PitchSatisfactionScore        0\n",
       "OwnCar                        0\n",
       "NumberOfChildrenVisiting     27\n",
       "Designation                   0\n",
       "MonthlyIncome               100\n",
       "ProdTaken                     0\n",
       "dtype: int64"
      ]
     },
     "execution_count": 17,
     "metadata": {},
     "output_type": "execute_result"
    }
   ],
   "source": [
    "# 결측치 확인\n",
    "\n",
    "train.isnull().sum()"
   ]
  },
  {
   "cell_type": "code",
   "execution_count": 18,
   "id": "4e82d788",
   "metadata": {},
   "outputs": [
    {
     "data": {
      "text/plain": [
       "id                            0\n",
       "Age                          94\n",
       "TypeofContact                10\n",
       "CityTier                      0\n",
       "DurationOfPitch             102\n",
       "Occupation                    0\n",
       "Gender                        0\n",
       "NumberOfPersonVisiting        0\n",
       "NumberOfFollowups            13\n",
       "ProductPitched                0\n",
       "PreferredPropertyStar        10\n",
       "MaritalStatus                 0\n",
       "NumberOfTrips                57\n",
       "Passport                      0\n",
       "PitchSatisfactionScore        0\n",
       "OwnCar                        0\n",
       "NumberOfChildrenVisiting     27\n",
       "Designation                   0\n",
       "MonthlyIncome               100\n",
       "ProdTaken                     0\n",
       "dtype: int64"
      ]
     },
     "execution_count": 18,
     "metadata": {},
     "output_type": "execute_result"
    }
   ],
   "source": [
    "train.isna().sum()"
   ]
  },
  {
   "cell_type": "code",
   "execution_count": null,
   "id": "49fbc49e",
   "metadata": {},
   "outputs": [],
   "source": [
    "# 결측치\n",
    "\n",
    "Age(나이)  94\n",
    "TypeofContact(고객의 제품 인지 방법)  10\n",
    "DurationOfPitch(영업사원이 고객에게 제공하는 프레젠테이션 기간)  102\n",
    "NumberOfFollowups(영업 사원의 프레젠테이션 후 이루어진 후속 조치 수)  13\n",
    "PreferredPropertyStar(선호 호텔 숙박업소 등급)  10\n",
    "NumberOfTrips(평균 여간 여행 횟수)  57\n",
    "NumberOfChildrenVisiting(함께 여행을 계획 중인 5세 미만의 어린이 수)  27\n",
    "MonthlyIncome(월 급여)  100"
   ]
  },
  {
   "cell_type": "code",
   "execution_count": 19,
   "id": "7858225d",
   "metadata": {},
   "outputs": [
    {
     "name": "stdout",
     "output_type": "stream",
     "text": [
      "<class 'pandas.core.frame.DataFrame'>\n",
      "RangeIndex: 1955 entries, 0 to 1954\n",
      "Data columns (total 20 columns):\n",
      " #   Column                    Non-Null Count  Dtype  \n",
      "---  ------                    --------------  -----  \n",
      " 0   id                        1955 non-null   int64  \n",
      " 1   Age                       1861 non-null   float64\n",
      " 2   TypeofContact             1945 non-null   object \n",
      " 3   CityTier                  1955 non-null   int64  \n",
      " 4   DurationOfPitch           1853 non-null   float64\n",
      " 5   Occupation                1955 non-null   object \n",
      " 6   Gender                    1955 non-null   object \n",
      " 7   NumberOfPersonVisiting    1955 non-null   int64  \n",
      " 8   NumberOfFollowups         1942 non-null   float64\n",
      " 9   ProductPitched            1955 non-null   object \n",
      " 10  PreferredPropertyStar     1945 non-null   float64\n",
      " 11  MaritalStatus             1955 non-null   object \n",
      " 12  NumberOfTrips             1898 non-null   float64\n",
      " 13  Passport                  1955 non-null   int64  \n",
      " 14  PitchSatisfactionScore    1955 non-null   int64  \n",
      " 15  OwnCar                    1955 non-null   int64  \n",
      " 16  NumberOfChildrenVisiting  1928 non-null   float64\n",
      " 17  Designation               1955 non-null   object \n",
      " 18  MonthlyIncome             1855 non-null   float64\n",
      " 19  ProdTaken                 1955 non-null   int64  \n",
      "dtypes: float64(7), int64(7), object(6)\n",
      "memory usage: 305.6+ KB\n"
     ]
    }
   ],
   "source": [
    "train.info()"
   ]
  },
  {
   "cell_type": "code",
   "execution_count": null,
   "id": "1a2bc97a",
   "metadata": {},
   "outputs": [],
   "source": [
    "# 연속형\n",
    "\n",
    "Age(나이)  94\n",
    "DurationOfPitch(영업사원이 고객에게 제공하는 프레젠테이션 기간)  102\n",
    "NumberOfFollowups(영업 사원의 프레젠테이션 후 이루어진 후속 조치 수)  13\n",
    "PreferredPropertyStar(선호 호텔 숙박업소 등급)  10\n",
    "NumberOfTrips(평균 여간 여행 횟수)  57\n",
    "NumberOfChildrenVisiting(함께 여행을 계획 중인 5세 미만의 어린이 수)  27\n",
    "MonthlyIncome(월 급여)  100"
   ]
  },
  {
   "cell_type": "code",
   "execution_count": null,
   "id": "0073d490",
   "metadata": {},
   "outputs": [],
   "source": [
    "# 범주형\n",
    "\n",
    "TypeofContact(고객의 제품 인지 방법)  10"
   ]
  },
  {
   "cell_type": "code",
   "execution_count": null,
   "id": "2d377e0d",
   "metadata": {},
   "outputs": [],
   "source": []
  },
  {
   "cell_type": "markdown",
   "id": "0506e5f6",
   "metadata": {},
   "source": [
    "### 결측치 처리"
   ]
  },
  {
   "cell_type": "code",
   "execution_count": null,
   "id": "f8e1f702",
   "metadata": {},
   "outputs": [],
   "source": [
    "# 'Fe Male'로 저장되어 있는 값들 'Female'로 변경\n",
    "train_df.loc[train_df['Gender'] == 'Fe Male', 'Gender'] = 'Female'\n",
    "\n",
    "1. 결측치 \n",
    "- Age(37)\n",
    "- DurationOfPitch(9 / 평균 / 중앙값 중 성능 좋은 것으로)\n",
    "- NumberOfFollowups(4)\n",
    "- PreferredPropertyStar(3)\n",
    "- NumberOfTrips(3)\n",
    "- NumberOfChildrenVisiting(1)\n",
    "- MonthlyIncome (평균)\n",
    "\n",
    "- TypeofContact(범주형) -> 'Unknown'으로 대체\n",
    "\n",
    "2. 이상치\n",
    "- 그대로"
   ]
  },
  {
   "cell_type": "markdown",
   "id": "20578cb0",
   "metadata": {},
   "source": [
    "1. Age 나이\n",
    "* 평균값(37.0)"
   ]
  },
  {
   "cell_type": "code",
   "execution_count": 22,
   "id": "d39c6e6e",
   "metadata": {},
   "outputs": [
    {
     "name": "stdout",
     "output_type": "stream",
     "text": [
      "37.46211714132187\n"
     ]
    }
   ],
   "source": [
    "print(train['Age'].mean())"
   ]
  },
  {
   "cell_type": "markdown",
   "id": "ff0be189",
   "metadata": {},
   "source": [
    "2. DurationOfPitch \n",
    "* 최빈값(9)"
   ]
  },
  {
   "cell_type": "code",
   "execution_count": 23,
   "id": "eb3825a6",
   "metadata": {},
   "outputs": [
    {
     "data": {
      "text/plain": [
       "9.0     199\n",
       "7.0     126\n",
       "8.0     122\n",
       "6.0     116\n",
       "16.0    114\n",
       "14.0    112\n",
       "15.0    105\n",
       "10.0    103\n",
       "12.0     85\n",
       "11.0     83\n",
       "13.0     83\n",
       "17.0     75\n",
       "23.0     41\n",
       "30.0     39\n",
       "22.0     36\n",
       "31.0     34\n",
       "25.0     32\n",
       "27.0     31\n",
       "32.0     30\n",
       "20.0     29\n",
       "35.0     29\n",
       "24.0     27\n",
       "26.0     27\n",
       "29.0     27\n",
       "28.0     25\n",
       "21.0     24\n",
       "18.0     23\n",
       "33.0     22\n",
       "19.0     18\n",
       "34.0     18\n",
       "36.0     15\n",
       "5.0       3\n",
       "Name: DurationOfPitch, dtype: int64"
      ]
     },
     "execution_count": 23,
     "metadata": {},
     "output_type": "execute_result"
    }
   ],
   "source": [
    "train['DurationOfPitch'].value_counts()"
   ]
  },
  {
   "cell_type": "markdown",
   "id": "7f005ec3",
   "metadata": {},
   "source": [
    "3. NumberOfFollowups\n",
    "* 최빈값(4)"
   ]
  },
  {
   "cell_type": "code",
   "execution_count": 24,
   "id": "fd00ef76",
   "metadata": {},
   "outputs": [
    {
     "name": "stdout",
     "output_type": "stream",
     "text": [
      "4.0    831\n",
      "3.0    571\n",
      "5.0    330\n",
      "2.0     89\n",
      "1.0     74\n",
      "6.0     47\n",
      "Name: NumberOfFollowups, dtype: int64\n"
     ]
    }
   ],
   "source": [
    "print(train['NumberOfFollowups'].value_counts())"
   ]
  },
  {
   "cell_type": "markdown",
   "id": "58f7cf34",
   "metadata": {},
   "source": [
    "4. PreferredPropertyStar\n",
    "* 최빈값(3)으로 채우기"
   ]
  },
  {
   "cell_type": "code",
   "execution_count": 25,
   "id": "27ce2915",
   "metadata": {},
   "outputs": [
    {
     "name": "stdout",
     "output_type": "stream",
     "text": [
      "3.0    1212\n",
      "5.0     373\n",
      "4.0     360\n",
      "Name: PreferredPropertyStar, dtype: int64\n"
     ]
    }
   ],
   "source": [
    "print(train['PreferredPropertyStar'].value_counts())"
   ]
  },
  {
   "cell_type": "markdown",
   "id": "6c856b27",
   "metadata": {},
   "source": [
    "5. NumberOfTrips \n",
    "* 평균값 (3)으로 채우기"
   ]
  },
  {
   "cell_type": "code",
   "execution_count": 26,
   "id": "4dc73d60",
   "metadata": {},
   "outputs": [
    {
     "name": "stdout",
     "output_type": "stream",
     "text": [
      "3.255532139093783\n"
     ]
    }
   ],
   "source": [
    "print(train['NumberOfTrips'].mean())"
   ]
  },
  {
   "cell_type": "markdown",
   "id": "92a32bd0",
   "metadata": {},
   "source": [
    "6. NumberOfChildrenVisiting\n",
    "* 최빈값(1)으로 채우기"
   ]
  },
  {
   "cell_type": "code",
   "execution_count": 27,
   "id": "81446658",
   "metadata": {},
   "outputs": [
    {
     "name": "stdout",
     "output_type": "stream",
     "text": [
      "1.0    819\n",
      "2.0    559\n",
      "0.0    416\n",
      "3.0    134\n",
      "Name: NumberOfChildrenVisiting, dtype: int64\n"
     ]
    }
   ],
   "source": [
    "print(train['NumberOfChildrenVisiting'].value_counts())"
   ]
  },
  {
   "cell_type": "markdown",
   "id": "a40a7d31",
   "metadata": {},
   "source": [
    "7. MonthlyIncome \n",
    "* 평균값(23624.0)"
   ]
  },
  {
   "cell_type": "code",
   "execution_count": 28,
   "id": "2842de2a",
   "metadata": {},
   "outputs": [
    {
     "name": "stdout",
     "output_type": "stream",
     "text": [
      "23624.108894878707\n"
     ]
    }
   ],
   "source": [
    "print(train['MonthlyIncome'].mean())"
   ]
  },
  {
   "cell_type": "markdown",
   "id": "9e7c452b",
   "metadata": {},
   "source": [
    "8. TypeofContact\n",
    "* Unknown"
   ]
  },
  {
   "cell_type": "code",
   "execution_count": 6,
   "id": "9dc4eeec",
   "metadata": {},
   "outputs": [],
   "source": [
    "train['Age'] = train['Age'].fillna(37)\n",
    "train['DurationOfPitch'] = train['DurationOfPitch'].fillna(9)\n",
    "train['TypeofContact'] = train['TypeofContact'].fillna(\"Unknown\")\n",
    "train['NumberOfFollowups'] = train['NumberOfFollowups'].fillna(4)\n",
    "train['PreferredPropertyStar'] = train['PreferredPropertyStar'].fillna(3)\n",
    "train['NumberOfTrips'] = train['NumberOfTrips'].fillna(3)\n",
    "train['NumberOfChildrenVisiting'] = train['NumberOfChildrenVisiting'].fillna(1)\n",
    "train['MonthlyIncome'] = train['MonthlyIncome'].fillna(23624.0)"
   ]
  },
  {
   "cell_type": "code",
   "execution_count": 7,
   "id": "8fc040c6",
   "metadata": {
    "scrolled": true
   },
   "outputs": [
    {
     "data": {
      "text/plain": [
       "id                          0\n",
       "Age                         0\n",
       "TypeofContact               0\n",
       "CityTier                    0\n",
       "DurationOfPitch             0\n",
       "Occupation                  0\n",
       "Gender                      0\n",
       "NumberOfPersonVisiting      0\n",
       "NumberOfFollowups           0\n",
       "ProductPitched              0\n",
       "PreferredPropertyStar       0\n",
       "MaritalStatus               0\n",
       "NumberOfTrips               0\n",
       "Passport                    0\n",
       "PitchSatisfactionScore      0\n",
       "OwnCar                      0\n",
       "NumberOfChildrenVisiting    0\n",
       "Designation                 0\n",
       "MonthlyIncome               0\n",
       "ProdTaken                   0\n",
       "dtype: int64"
      ]
     },
     "execution_count": 7,
     "metadata": {},
     "output_type": "execute_result"
    }
   ],
   "source": [
    "train.isna().sum()"
   ]
  },
  {
   "cell_type": "code",
   "execution_count": null,
   "id": "e982de0b",
   "metadata": {},
   "outputs": [],
   "source": []
  },
  {
   "cell_type": "code",
   "execution_count": 8,
   "id": "00f78bd2",
   "metadata": {},
   "outputs": [],
   "source": [
    "train_na=train.copy()"
   ]
  },
  {
   "cell_type": "code",
   "execution_count": 9,
   "id": "441b4aa0",
   "metadata": {},
   "outputs": [
    {
     "data": {
      "text/plain": [
       "Index(['TypeofContact', 'Occupation', 'Gender', 'ProductPitched',\n",
       "       'MaritalStatus', 'Designation'],\n",
       "      dtype='object')"
      ]
     },
     "execution_count": 9,
     "metadata": {},
     "output_type": "execute_result"
    }
   ],
   "source": [
    "# 범주형 칼럼 추출\n",
    "\n",
    "ob = train_na.columns[train_na.dtypes == 'object']\n",
    "ob"
   ]
  },
  {
   "cell_type": "code",
   "execution_count": 10,
   "id": "9f4dd377",
   "metadata": {},
   "outputs": [
    {
     "data": {
      "text/html": [
       "<div>\n",
       "<style scoped>\n",
       "    .dataframe tbody tr th:only-of-type {\n",
       "        vertical-align: middle;\n",
       "    }\n",
       "\n",
       "    .dataframe tbody tr th {\n",
       "        vertical-align: top;\n",
       "    }\n",
       "\n",
       "    .dataframe thead th {\n",
       "        text-align: right;\n",
       "    }\n",
       "</style>\n",
       "<table border=\"1\" class=\"dataframe\">\n",
       "  <thead>\n",
       "    <tr style=\"text-align: right;\">\n",
       "      <th></th>\n",
       "      <th>id</th>\n",
       "      <th>Age</th>\n",
       "      <th>TypeofContact</th>\n",
       "      <th>CityTier</th>\n",
       "      <th>DurationOfPitch</th>\n",
       "      <th>Occupation</th>\n",
       "      <th>Gender</th>\n",
       "      <th>NumberOfPersonVisiting</th>\n",
       "      <th>NumberOfFollowups</th>\n",
       "      <th>ProductPitched</th>\n",
       "      <th>PreferredPropertyStar</th>\n",
       "      <th>MaritalStatus</th>\n",
       "      <th>NumberOfTrips</th>\n",
       "      <th>Passport</th>\n",
       "      <th>PitchSatisfactionScore</th>\n",
       "      <th>OwnCar</th>\n",
       "      <th>NumberOfChildrenVisiting</th>\n",
       "      <th>Designation</th>\n",
       "      <th>MonthlyIncome</th>\n",
       "      <th>ProdTaken</th>\n",
       "    </tr>\n",
       "  </thead>\n",
       "  <tbody>\n",
       "    <tr>\n",
       "      <th>0</th>\n",
       "      <td>1</td>\n",
       "      <td>28.0</td>\n",
       "      <td>0</td>\n",
       "      <td>1</td>\n",
       "      <td>10.0</td>\n",
       "      <td>3</td>\n",
       "      <td>1</td>\n",
       "      <td>3</td>\n",
       "      <td>4.0</td>\n",
       "      <td>0</td>\n",
       "      <td>3.0</td>\n",
       "      <td>1</td>\n",
       "      <td>3.0</td>\n",
       "      <td>0</td>\n",
       "      <td>1</td>\n",
       "      <td>0</td>\n",
       "      <td>1.0</td>\n",
       "      <td>1</td>\n",
       "      <td>20384.0</td>\n",
       "      <td>0</td>\n",
       "    </tr>\n",
       "    <tr>\n",
       "      <th>1</th>\n",
       "      <td>2</td>\n",
       "      <td>34.0</td>\n",
       "      <td>1</td>\n",
       "      <td>3</td>\n",
       "      <td>9.0</td>\n",
       "      <td>3</td>\n",
       "      <td>0</td>\n",
       "      <td>2</td>\n",
       "      <td>4.0</td>\n",
       "      <td>1</td>\n",
       "      <td>4.0</td>\n",
       "      <td>2</td>\n",
       "      <td>1.0</td>\n",
       "      <td>1</td>\n",
       "      <td>5</td>\n",
       "      <td>1</td>\n",
       "      <td>0.0</td>\n",
       "      <td>2</td>\n",
       "      <td>19599.0</td>\n",
       "      <td>1</td>\n",
       "    </tr>\n",
       "    <tr>\n",
       "      <th>2</th>\n",
       "      <td>3</td>\n",
       "      <td>45.0</td>\n",
       "      <td>0</td>\n",
       "      <td>1</td>\n",
       "      <td>9.0</td>\n",
       "      <td>2</td>\n",
       "      <td>1</td>\n",
       "      <td>2</td>\n",
       "      <td>3.0</td>\n",
       "      <td>1</td>\n",
       "      <td>4.0</td>\n",
       "      <td>1</td>\n",
       "      <td>2.0</td>\n",
       "      <td>0</td>\n",
       "      <td>4</td>\n",
       "      <td>1</td>\n",
       "      <td>0.0</td>\n",
       "      <td>2</td>\n",
       "      <td>23624.0</td>\n",
       "      <td>0</td>\n",
       "    </tr>\n",
       "    <tr>\n",
       "      <th>3</th>\n",
       "      <td>4</td>\n",
       "      <td>29.0</td>\n",
       "      <td>0</td>\n",
       "      <td>1</td>\n",
       "      <td>7.0</td>\n",
       "      <td>3</td>\n",
       "      <td>1</td>\n",
       "      <td>3</td>\n",
       "      <td>5.0</td>\n",
       "      <td>0</td>\n",
       "      <td>4.0</td>\n",
       "      <td>1</td>\n",
       "      <td>3.0</td>\n",
       "      <td>0</td>\n",
       "      <td>4</td>\n",
       "      <td>0</td>\n",
       "      <td>1.0</td>\n",
       "      <td>1</td>\n",
       "      <td>21274.0</td>\n",
       "      <td>1</td>\n",
       "    </tr>\n",
       "    <tr>\n",
       "      <th>4</th>\n",
       "      <td>5</td>\n",
       "      <td>42.0</td>\n",
       "      <td>1</td>\n",
       "      <td>3</td>\n",
       "      <td>6.0</td>\n",
       "      <td>2</td>\n",
       "      <td>1</td>\n",
       "      <td>2</td>\n",
       "      <td>3.0</td>\n",
       "      <td>1</td>\n",
       "      <td>3.0</td>\n",
       "      <td>0</td>\n",
       "      <td>2.0</td>\n",
       "      <td>0</td>\n",
       "      <td>3</td>\n",
       "      <td>1</td>\n",
       "      <td>0.0</td>\n",
       "      <td>2</td>\n",
       "      <td>19907.0</td>\n",
       "      <td>0</td>\n",
       "    </tr>\n",
       "    <tr>\n",
       "      <th>...</th>\n",
       "      <td>...</td>\n",
       "      <td>...</td>\n",
       "      <td>...</td>\n",
       "      <td>...</td>\n",
       "      <td>...</td>\n",
       "      <td>...</td>\n",
       "      <td>...</td>\n",
       "      <td>...</td>\n",
       "      <td>...</td>\n",
       "      <td>...</td>\n",
       "      <td>...</td>\n",
       "      <td>...</td>\n",
       "      <td>...</td>\n",
       "      <td>...</td>\n",
       "      <td>...</td>\n",
       "      <td>...</td>\n",
       "      <td>...</td>\n",
       "      <td>...</td>\n",
       "      <td>...</td>\n",
       "      <td>...</td>\n",
       "    </tr>\n",
       "    <tr>\n",
       "      <th>1950</th>\n",
       "      <td>1951</td>\n",
       "      <td>28.0</td>\n",
       "      <td>1</td>\n",
       "      <td>1</td>\n",
       "      <td>10.0</td>\n",
       "      <td>3</td>\n",
       "      <td>1</td>\n",
       "      <td>3</td>\n",
       "      <td>5.0</td>\n",
       "      <td>0</td>\n",
       "      <td>3.0</td>\n",
       "      <td>2</td>\n",
       "      <td>2.0</td>\n",
       "      <td>0</td>\n",
       "      <td>1</td>\n",
       "      <td>1</td>\n",
       "      <td>2.0</td>\n",
       "      <td>1</td>\n",
       "      <td>20723.0</td>\n",
       "      <td>0</td>\n",
       "    </tr>\n",
       "    <tr>\n",
       "      <th>1951</th>\n",
       "      <td>1952</td>\n",
       "      <td>41.0</td>\n",
       "      <td>1</td>\n",
       "      <td>3</td>\n",
       "      <td>8.0</td>\n",
       "      <td>2</td>\n",
       "      <td>0</td>\n",
       "      <td>3</td>\n",
       "      <td>3.0</td>\n",
       "      <td>4</td>\n",
       "      <td>5.0</td>\n",
       "      <td>0</td>\n",
       "      <td>1.0</td>\n",
       "      <td>0</td>\n",
       "      <td>5</td>\n",
       "      <td>1</td>\n",
       "      <td>1.0</td>\n",
       "      <td>0</td>\n",
       "      <td>31595.0</td>\n",
       "      <td>0</td>\n",
       "    </tr>\n",
       "    <tr>\n",
       "      <th>1952</th>\n",
       "      <td>1953</td>\n",
       "      <td>38.0</td>\n",
       "      <td>0</td>\n",
       "      <td>3</td>\n",
       "      <td>28.0</td>\n",
       "      <td>3</td>\n",
       "      <td>0</td>\n",
       "      <td>3</td>\n",
       "      <td>4.0</td>\n",
       "      <td>0</td>\n",
       "      <td>3.0</td>\n",
       "      <td>0</td>\n",
       "      <td>7.0</td>\n",
       "      <td>0</td>\n",
       "      <td>2</td>\n",
       "      <td>1</td>\n",
       "      <td>2.0</td>\n",
       "      <td>1</td>\n",
       "      <td>21651.0</td>\n",
       "      <td>0</td>\n",
       "    </tr>\n",
       "    <tr>\n",
       "      <th>1953</th>\n",
       "      <td>1954</td>\n",
       "      <td>28.0</td>\n",
       "      <td>1</td>\n",
       "      <td>3</td>\n",
       "      <td>30.0</td>\n",
       "      <td>3</td>\n",
       "      <td>0</td>\n",
       "      <td>3</td>\n",
       "      <td>5.0</td>\n",
       "      <td>1</td>\n",
       "      <td>3.0</td>\n",
       "      <td>1</td>\n",
       "      <td>3.0</td>\n",
       "      <td>0</td>\n",
       "      <td>1</td>\n",
       "      <td>1</td>\n",
       "      <td>2.0</td>\n",
       "      <td>2</td>\n",
       "      <td>22218.0</td>\n",
       "      <td>0</td>\n",
       "    </tr>\n",
       "    <tr>\n",
       "      <th>1954</th>\n",
       "      <td>1955</td>\n",
       "      <td>22.0</td>\n",
       "      <td>0</td>\n",
       "      <td>1</td>\n",
       "      <td>9.0</td>\n",
       "      <td>2</td>\n",
       "      <td>1</td>\n",
       "      <td>2</td>\n",
       "      <td>4.0</td>\n",
       "      <td>0</td>\n",
       "      <td>3.0</td>\n",
       "      <td>0</td>\n",
       "      <td>1.0</td>\n",
       "      <td>1</td>\n",
       "      <td>3</td>\n",
       "      <td>0</td>\n",
       "      <td>0.0</td>\n",
       "      <td>1</td>\n",
       "      <td>17853.0</td>\n",
       "      <td>1</td>\n",
       "    </tr>\n",
       "  </tbody>\n",
       "</table>\n",
       "<p>1955 rows × 20 columns</p>\n",
       "</div>"
      ],
      "text/plain": [
       "        id   Age  TypeofContact  CityTier  DurationOfPitch  Occupation  \\\n",
       "0        1  28.0              0         1             10.0           3   \n",
       "1        2  34.0              1         3              9.0           3   \n",
       "2        3  45.0              0         1              9.0           2   \n",
       "3        4  29.0              0         1              7.0           3   \n",
       "4        5  42.0              1         3              6.0           2   \n",
       "...    ...   ...            ...       ...              ...         ...   \n",
       "1950  1951  28.0              1         1             10.0           3   \n",
       "1951  1952  41.0              1         3              8.0           2   \n",
       "1952  1953  38.0              0         3             28.0           3   \n",
       "1953  1954  28.0              1         3             30.0           3   \n",
       "1954  1955  22.0              0         1              9.0           2   \n",
       "\n",
       "      Gender  NumberOfPersonVisiting  NumberOfFollowups  ProductPitched  \\\n",
       "0          1                       3                4.0               0   \n",
       "1          0                       2                4.0               1   \n",
       "2          1                       2                3.0               1   \n",
       "3          1                       3                5.0               0   \n",
       "4          1                       2                3.0               1   \n",
       "...      ...                     ...                ...             ...   \n",
       "1950       1                       3                5.0               0   \n",
       "1951       0                       3                3.0               4   \n",
       "1952       0                       3                4.0               0   \n",
       "1953       0                       3                5.0               1   \n",
       "1954       1                       2                4.0               0   \n",
       "\n",
       "      PreferredPropertyStar  MaritalStatus  NumberOfTrips  Passport  \\\n",
       "0                       3.0              1            3.0         0   \n",
       "1                       4.0              2            1.0         1   \n",
       "2                       4.0              1            2.0         0   \n",
       "3                       4.0              1            3.0         0   \n",
       "4                       3.0              0            2.0         0   \n",
       "...                     ...            ...            ...       ...   \n",
       "1950                    3.0              2            2.0         0   \n",
       "1951                    5.0              0            1.0         0   \n",
       "1952                    3.0              0            7.0         0   \n",
       "1953                    3.0              1            3.0         0   \n",
       "1954                    3.0              0            1.0         1   \n",
       "\n",
       "      PitchSatisfactionScore  OwnCar  NumberOfChildrenVisiting  Designation  \\\n",
       "0                          1       0                       1.0            1   \n",
       "1                          5       1                       0.0            2   \n",
       "2                          4       1                       0.0            2   \n",
       "3                          4       0                       1.0            1   \n",
       "4                          3       1                       0.0            2   \n",
       "...                      ...     ...                       ...          ...   \n",
       "1950                       1       1                       2.0            1   \n",
       "1951                       5       1                       1.0            0   \n",
       "1952                       2       1                       2.0            1   \n",
       "1953                       1       1                       2.0            2   \n",
       "1954                       3       0                       0.0            1   \n",
       "\n",
       "      MonthlyIncome  ProdTaken  \n",
       "0           20384.0          0  \n",
       "1           19599.0          1  \n",
       "2           23624.0          0  \n",
       "3           21274.0          1  \n",
       "4           19907.0          0  \n",
       "...             ...        ...  \n",
       "1950        20723.0          0  \n",
       "1951        31595.0          0  \n",
       "1952        21651.0          0  \n",
       "1953        22218.0          0  \n",
       "1954        17853.0          1  \n",
       "\n",
       "[1955 rows x 20 columns]"
      ]
     },
     "execution_count": 10,
     "metadata": {},
     "output_type": "execute_result"
    }
   ],
   "source": [
    "# 라벨 인코더\n",
    "## knn임퓨터는 수치형 자료에만 적용 가능 >> 문자형 변수 숫자로 변환\n",
    "\n",
    "from sklearn.preprocessing import LabelEncoder\n",
    "\n",
    "for col in ob:\n",
    "    encoder = LabelEncoder()  # 라벨 인코더\n",
    "    encoder.fit(train_na[col])  # 학습\n",
    "    train_na[col] = encoder.transform(train_na[col]) # 문자형 변수 숫자로 변환\n",
    "    \n",
    "train_na"
   ]
  },
  {
   "cell_type": "markdown",
   "id": "3d9b4d08",
   "metadata": {},
   "source": [
    "### 이상치"
   ]
  },
  {
   "cell_type": "code",
   "execution_count": null,
   "id": "508a8d76",
   "metadata": {},
   "outputs": [],
   "source": [
    "### 0828 EDA 파일"
   ]
  },
  {
   "cell_type": "markdown",
   "id": "f1a7ff62",
   "metadata": {},
   "source": [
    "### 2. test.csv"
   ]
  },
  {
   "cell_type": "code",
   "execution_count": 25,
   "id": "eb35a8f8",
   "metadata": {},
   "outputs": [
    {
     "data": {
      "text/html": [
       "<div>\n",
       "<style scoped>\n",
       "    .dataframe tbody tr th:only-of-type {\n",
       "        vertical-align: middle;\n",
       "    }\n",
       "\n",
       "    .dataframe tbody tr th {\n",
       "        vertical-align: top;\n",
       "    }\n",
       "\n",
       "    .dataframe thead th {\n",
       "        text-align: right;\n",
       "    }\n",
       "</style>\n",
       "<table border=\"1\" class=\"dataframe\">\n",
       "  <thead>\n",
       "    <tr style=\"text-align: right;\">\n",
       "      <th></th>\n",
       "      <th>id</th>\n",
       "      <th>Age</th>\n",
       "      <th>TypeofContact</th>\n",
       "      <th>CityTier</th>\n",
       "      <th>DurationOfPitch</th>\n",
       "      <th>Occupation</th>\n",
       "      <th>Gender</th>\n",
       "      <th>NumberOfPersonVisiting</th>\n",
       "      <th>NumberOfFollowups</th>\n",
       "      <th>ProductPitched</th>\n",
       "      <th>PreferredPropertyStar</th>\n",
       "      <th>MaritalStatus</th>\n",
       "      <th>NumberOfTrips</th>\n",
       "      <th>Passport</th>\n",
       "      <th>PitchSatisfactionScore</th>\n",
       "      <th>OwnCar</th>\n",
       "      <th>NumberOfChildrenVisiting</th>\n",
       "      <th>Designation</th>\n",
       "      <th>MonthlyIncome</th>\n",
       "    </tr>\n",
       "  </thead>\n",
       "  <tbody>\n",
       "    <tr>\n",
       "      <th>0</th>\n",
       "      <td>1</td>\n",
       "      <td>32.0</td>\n",
       "      <td>Company Invited</td>\n",
       "      <td>3</td>\n",
       "      <td>NaN</td>\n",
       "      <td>Small Business</td>\n",
       "      <td>Male</td>\n",
       "      <td>2</td>\n",
       "      <td>5.0</td>\n",
       "      <td>Deluxe</td>\n",
       "      <td>3.0</td>\n",
       "      <td>Married</td>\n",
       "      <td>1.0</td>\n",
       "      <td>0</td>\n",
       "      <td>2</td>\n",
       "      <td>0</td>\n",
       "      <td>1.0</td>\n",
       "      <td>Manager</td>\n",
       "      <td>19668.0</td>\n",
       "    </tr>\n",
       "    <tr>\n",
       "      <th>1</th>\n",
       "      <td>2</td>\n",
       "      <td>46.0</td>\n",
       "      <td>Self Enquiry</td>\n",
       "      <td>2</td>\n",
       "      <td>11.0</td>\n",
       "      <td>Small Business</td>\n",
       "      <td>Male</td>\n",
       "      <td>3</td>\n",
       "      <td>NaN</td>\n",
       "      <td>Deluxe</td>\n",
       "      <td>4.0</td>\n",
       "      <td>Married</td>\n",
       "      <td>1.0</td>\n",
       "      <td>1</td>\n",
       "      <td>5</td>\n",
       "      <td>0</td>\n",
       "      <td>1.0</td>\n",
       "      <td>Manager</td>\n",
       "      <td>20021.0</td>\n",
       "    </tr>\n",
       "    <tr>\n",
       "      <th>2</th>\n",
       "      <td>3</td>\n",
       "      <td>37.0</td>\n",
       "      <td>Self Enquiry</td>\n",
       "      <td>3</td>\n",
       "      <td>22.0</td>\n",
       "      <td>Small Business</td>\n",
       "      <td>Male</td>\n",
       "      <td>3</td>\n",
       "      <td>4.0</td>\n",
       "      <td>Deluxe</td>\n",
       "      <td>3.0</td>\n",
       "      <td>Married</td>\n",
       "      <td>5.0</td>\n",
       "      <td>0</td>\n",
       "      <td>5</td>\n",
       "      <td>1</td>\n",
       "      <td>0.0</td>\n",
       "      <td>Manager</td>\n",
       "      <td>21334.0</td>\n",
       "    </tr>\n",
       "    <tr>\n",
       "      <th>3</th>\n",
       "      <td>4</td>\n",
       "      <td>43.0</td>\n",
       "      <td>Self Enquiry</td>\n",
       "      <td>1</td>\n",
       "      <td>36.0</td>\n",
       "      <td>Small Business</td>\n",
       "      <td>Male</td>\n",
       "      <td>3</td>\n",
       "      <td>6.0</td>\n",
       "      <td>Deluxe</td>\n",
       "      <td>3.0</td>\n",
       "      <td>Unmarried</td>\n",
       "      <td>6.0</td>\n",
       "      <td>0</td>\n",
       "      <td>3</td>\n",
       "      <td>1</td>\n",
       "      <td>2.0</td>\n",
       "      <td>Manager</td>\n",
       "      <td>22950.0</td>\n",
       "    </tr>\n",
       "    <tr>\n",
       "      <th>4</th>\n",
       "      <td>5</td>\n",
       "      <td>25.0</td>\n",
       "      <td>Self Enquiry</td>\n",
       "      <td>3</td>\n",
       "      <td>7.0</td>\n",
       "      <td>Large Business</td>\n",
       "      <td>Female</td>\n",
       "      <td>4</td>\n",
       "      <td>4.0</td>\n",
       "      <td>Basic</td>\n",
       "      <td>4.0</td>\n",
       "      <td>Unmarried</td>\n",
       "      <td>3.0</td>\n",
       "      <td>1</td>\n",
       "      <td>4</td>\n",
       "      <td>1</td>\n",
       "      <td>3.0</td>\n",
       "      <td>Executive</td>\n",
       "      <td>21880.0</td>\n",
       "    </tr>\n",
       "    <tr>\n",
       "      <th>...</th>\n",
       "      <td>...</td>\n",
       "      <td>...</td>\n",
       "      <td>...</td>\n",
       "      <td>...</td>\n",
       "      <td>...</td>\n",
       "      <td>...</td>\n",
       "      <td>...</td>\n",
       "      <td>...</td>\n",
       "      <td>...</td>\n",
       "      <td>...</td>\n",
       "      <td>...</td>\n",
       "      <td>...</td>\n",
       "      <td>...</td>\n",
       "      <td>...</td>\n",
       "      <td>...</td>\n",
       "      <td>...</td>\n",
       "      <td>...</td>\n",
       "      <td>...</td>\n",
       "      <td>...</td>\n",
       "    </tr>\n",
       "    <tr>\n",
       "      <th>2928</th>\n",
       "      <td>2929</td>\n",
       "      <td>54.0</td>\n",
       "      <td>Self Enquiry</td>\n",
       "      <td>1</td>\n",
       "      <td>6.0</td>\n",
       "      <td>Small Business</td>\n",
       "      <td>Female</td>\n",
       "      <td>2</td>\n",
       "      <td>3.0</td>\n",
       "      <td>Super Deluxe</td>\n",
       "      <td>3.0</td>\n",
       "      <td>Single</td>\n",
       "      <td>7.0</td>\n",
       "      <td>0</td>\n",
       "      <td>4</td>\n",
       "      <td>1</td>\n",
       "      <td>1.0</td>\n",
       "      <td>AVP</td>\n",
       "      <td>32328.0</td>\n",
       "    </tr>\n",
       "    <tr>\n",
       "      <th>2929</th>\n",
       "      <td>2930</td>\n",
       "      <td>33.0</td>\n",
       "      <td>Self Enquiry</td>\n",
       "      <td>1</td>\n",
       "      <td>9.0</td>\n",
       "      <td>Small Business</td>\n",
       "      <td>Fe Male</td>\n",
       "      <td>4</td>\n",
       "      <td>2.0</td>\n",
       "      <td>Deluxe</td>\n",
       "      <td>3.0</td>\n",
       "      <td>Unmarried</td>\n",
       "      <td>2.0</td>\n",
       "      <td>0</td>\n",
       "      <td>3</td>\n",
       "      <td>0</td>\n",
       "      <td>1.0</td>\n",
       "      <td>Manager</td>\n",
       "      <td>23733.0</td>\n",
       "    </tr>\n",
       "    <tr>\n",
       "      <th>2930</th>\n",
       "      <td>2931</td>\n",
       "      <td>33.0</td>\n",
       "      <td>Company Invited</td>\n",
       "      <td>1</td>\n",
       "      <td>31.0</td>\n",
       "      <td>Salaried</td>\n",
       "      <td>Male</td>\n",
       "      <td>4</td>\n",
       "      <td>4.0</td>\n",
       "      <td>Deluxe</td>\n",
       "      <td>3.0</td>\n",
       "      <td>Divorced</td>\n",
       "      <td>3.0</td>\n",
       "      <td>0</td>\n",
       "      <td>4</td>\n",
       "      <td>1</td>\n",
       "      <td>1.0</td>\n",
       "      <td>Manager</td>\n",
       "      <td>23987.0</td>\n",
       "    </tr>\n",
       "    <tr>\n",
       "      <th>2931</th>\n",
       "      <td>2932</td>\n",
       "      <td>26.0</td>\n",
       "      <td>Self Enquiry</td>\n",
       "      <td>1</td>\n",
       "      <td>9.0</td>\n",
       "      <td>Small Business</td>\n",
       "      <td>Male</td>\n",
       "      <td>4</td>\n",
       "      <td>2.0</td>\n",
       "      <td>Basic</td>\n",
       "      <td>5.0</td>\n",
       "      <td>Unmarried</td>\n",
       "      <td>2.0</td>\n",
       "      <td>0</td>\n",
       "      <td>2</td>\n",
       "      <td>1</td>\n",
       "      <td>3.0</td>\n",
       "      <td>Executive</td>\n",
       "      <td>22102.0</td>\n",
       "    </tr>\n",
       "    <tr>\n",
       "      <th>2932</th>\n",
       "      <td>2933</td>\n",
       "      <td>31.0</td>\n",
       "      <td>Self Enquiry</td>\n",
       "      <td>1</td>\n",
       "      <td>9.0</td>\n",
       "      <td>Salaried</td>\n",
       "      <td>Male</td>\n",
       "      <td>3</td>\n",
       "      <td>5.0</td>\n",
       "      <td>Deluxe</td>\n",
       "      <td>3.0</td>\n",
       "      <td>Divorced</td>\n",
       "      <td>3.0</td>\n",
       "      <td>0</td>\n",
       "      <td>4</td>\n",
       "      <td>1</td>\n",
       "      <td>1.0</td>\n",
       "      <td>Manager</td>\n",
       "      <td>22830.0</td>\n",
       "    </tr>\n",
       "  </tbody>\n",
       "</table>\n",
       "<p>2933 rows × 19 columns</p>\n",
       "</div>"
      ],
      "text/plain": [
       "        id   Age    TypeofContact  CityTier  DurationOfPitch      Occupation  \\\n",
       "0        1  32.0  Company Invited         3              NaN  Small Business   \n",
       "1        2  46.0     Self Enquiry         2             11.0  Small Business   \n",
       "2        3  37.0     Self Enquiry         3             22.0  Small Business   \n",
       "3        4  43.0     Self Enquiry         1             36.0  Small Business   \n",
       "4        5  25.0     Self Enquiry         3              7.0  Large Business   \n",
       "...    ...   ...              ...       ...              ...             ...   \n",
       "2928  2929  54.0     Self Enquiry         1              6.0  Small Business   \n",
       "2929  2930  33.0     Self Enquiry         1              9.0  Small Business   \n",
       "2930  2931  33.0  Company Invited         1             31.0        Salaried   \n",
       "2931  2932  26.0     Self Enquiry         1              9.0  Small Business   \n",
       "2932  2933  31.0     Self Enquiry         1              9.0        Salaried   \n",
       "\n",
       "       Gender  NumberOfPersonVisiting  NumberOfFollowups ProductPitched  \\\n",
       "0        Male                       2                5.0         Deluxe   \n",
       "1        Male                       3                NaN         Deluxe   \n",
       "2        Male                       3                4.0         Deluxe   \n",
       "3        Male                       3                6.0         Deluxe   \n",
       "4      Female                       4                4.0          Basic   \n",
       "...       ...                     ...                ...            ...   \n",
       "2928   Female                       2                3.0   Super Deluxe   \n",
       "2929  Fe Male                       4                2.0         Deluxe   \n",
       "2930     Male                       4                4.0         Deluxe   \n",
       "2931     Male                       4                2.0          Basic   \n",
       "2932     Male                       3                5.0         Deluxe   \n",
       "\n",
       "      PreferredPropertyStar MaritalStatus  NumberOfTrips  Passport  \\\n",
       "0                       3.0       Married            1.0         0   \n",
       "1                       4.0       Married            1.0         1   \n",
       "2                       3.0       Married            5.0         0   \n",
       "3                       3.0     Unmarried            6.0         0   \n",
       "4                       4.0     Unmarried            3.0         1   \n",
       "...                     ...           ...            ...       ...   \n",
       "2928                    3.0        Single            7.0         0   \n",
       "2929                    3.0     Unmarried            2.0         0   \n",
       "2930                    3.0      Divorced            3.0         0   \n",
       "2931                    5.0     Unmarried            2.0         0   \n",
       "2932                    3.0      Divorced            3.0         0   \n",
       "\n",
       "      PitchSatisfactionScore  OwnCar  NumberOfChildrenVisiting Designation  \\\n",
       "0                          2       0                       1.0     Manager   \n",
       "1                          5       0                       1.0     Manager   \n",
       "2                          5       1                       0.0     Manager   \n",
       "3                          3       1                       2.0     Manager   \n",
       "4                          4       1                       3.0   Executive   \n",
       "...                      ...     ...                       ...         ...   \n",
       "2928                       4       1                       1.0         AVP   \n",
       "2929                       3       0                       1.0     Manager   \n",
       "2930                       4       1                       1.0     Manager   \n",
       "2931                       2       1                       3.0   Executive   \n",
       "2932                       4       1                       1.0     Manager   \n",
       "\n",
       "      MonthlyIncome  \n",
       "0           19668.0  \n",
       "1           20021.0  \n",
       "2           21334.0  \n",
       "3           22950.0  \n",
       "4           21880.0  \n",
       "...             ...  \n",
       "2928        32328.0  \n",
       "2929        23733.0  \n",
       "2930        23987.0  \n",
       "2931        22102.0  \n",
       "2932        22830.0  \n",
       "\n",
       "[2933 rows x 19 columns]"
      ]
     },
     "execution_count": 25,
     "metadata": {},
     "output_type": "execute_result"
    }
   ],
   "source": [
    "test = pd.read_csv('test.csv')\n",
    "test"
   ]
  },
  {
   "cell_type": "markdown",
   "id": "aad98ff3",
   "metadata": {},
   "source": [
    "### 결측치"
   ]
  },
  {
   "cell_type": "code",
   "execution_count": 26,
   "id": "bcabf1dd",
   "metadata": {},
   "outputs": [],
   "source": [
    "test['Age'] = test['Age'].fillna(37)\n",
    "test['DurationOfPitch'] = test['DurationOfPitch'].fillna(9)\n",
    "test['TypeofContact'] = test['TypeofContact'].fillna(\"Unknown\")\n",
    "test['NumberOfFollowups'] = test['NumberOfFollowups'].fillna(4)\n",
    "test['PreferredPropertyStar'] = test['PreferredPropertyStar'].fillna(3)\n",
    "test['NumberOfTrips'] = test['NumberOfTrips'].fillna(3)\n",
    "test['NumberOfChildrenVisiting'] = test['NumberOfChildrenVisiting'].fillna(1)\n",
    "test['MonthlyIncome'] = test['MonthlyIncome'].fillna(23624.0)"
   ]
  },
  {
   "cell_type": "markdown",
   "id": "127359c2",
   "metadata": {},
   "source": [
    "### Gender 값 변경"
   ]
  },
  {
   "cell_type": "code",
   "execution_count": 27,
   "id": "feb438e2",
   "metadata": {},
   "outputs": [
    {
     "data": {
      "text/plain": [
       "Male       1709\n",
       "Female     1125\n",
       "Fe Male      99\n",
       "Name: Gender, dtype: int64"
      ]
     },
     "execution_count": 27,
     "metadata": {},
     "output_type": "execute_result"
    }
   ],
   "source": [
    "test['Gender'].value_counts()"
   ]
  },
  {
   "cell_type": "code",
   "execution_count": 28,
   "id": "6b5e265f",
   "metadata": {},
   "outputs": [],
   "source": [
    "# Fe Male을 Female로 변경\n",
    "\n",
    "test.loc[test['Gender']=='Fe Male','Gender']= 'Female'"
   ]
  },
  {
   "cell_type": "code",
   "execution_count": 29,
   "id": "9a7aec11",
   "metadata": {},
   "outputs": [
    {
     "data": {
      "text/plain": [
       "Male      1709\n",
       "Female    1224\n",
       "Name: Gender, dtype: int64"
      ]
     },
     "execution_count": 29,
     "metadata": {},
     "output_type": "execute_result"
    }
   ],
   "source": [
    "test['Gender'].value_counts()"
   ]
  },
  {
   "cell_type": "code",
   "execution_count": null,
   "id": "e8d6e02c",
   "metadata": {},
   "outputs": [],
   "source": []
  },
  {
   "cell_type": "code",
   "execution_count": 31,
   "id": "0e3f2d15",
   "metadata": {},
   "outputs": [],
   "source": [
    "test_na=test.copy()"
   ]
  },
  {
   "cell_type": "code",
   "execution_count": 23,
   "id": "0e67f2cb",
   "metadata": {},
   "outputs": [
    {
     "data": {
      "text/plain": [
       "Index(['TypeofContact', 'Occupation', 'Gender', 'ProductPitched',\n",
       "       'MaritalStatus', 'Designation'],\n",
       "      dtype='object')"
      ]
     },
     "execution_count": 23,
     "metadata": {},
     "output_type": "execute_result"
    }
   ],
   "source": [
    "# 범주형 칼럼 추출\n",
    "\n",
    "ob = test.columns[test.dtypes == 'object']\n",
    "ob"
   ]
  },
  {
   "cell_type": "code",
   "execution_count": 35,
   "id": "da79fe04",
   "metadata": {},
   "outputs": [
    {
     "data": {
      "text/html": [
       "<div>\n",
       "<style scoped>\n",
       "    .dataframe tbody tr th:only-of-type {\n",
       "        vertical-align: middle;\n",
       "    }\n",
       "\n",
       "    .dataframe tbody tr th {\n",
       "        vertical-align: top;\n",
       "    }\n",
       "\n",
       "    .dataframe thead th {\n",
       "        text-align: right;\n",
       "    }\n",
       "</style>\n",
       "<table border=\"1\" class=\"dataframe\">\n",
       "  <thead>\n",
       "    <tr style=\"text-align: right;\">\n",
       "      <th></th>\n",
       "      <th>id</th>\n",
       "      <th>Age</th>\n",
       "      <th>TypeofContact</th>\n",
       "      <th>CityTier</th>\n",
       "      <th>DurationOfPitch</th>\n",
       "      <th>Occupation</th>\n",
       "      <th>Gender</th>\n",
       "      <th>NumberOfPersonVisiting</th>\n",
       "      <th>NumberOfFollowups</th>\n",
       "      <th>ProductPitched</th>\n",
       "      <th>PreferredPropertyStar</th>\n",
       "      <th>MaritalStatus</th>\n",
       "      <th>NumberOfTrips</th>\n",
       "      <th>Passport</th>\n",
       "      <th>PitchSatisfactionScore</th>\n",
       "      <th>OwnCar</th>\n",
       "      <th>NumberOfChildrenVisiting</th>\n",
       "      <th>Designation</th>\n",
       "      <th>MonthlyIncome</th>\n",
       "    </tr>\n",
       "  </thead>\n",
       "  <tbody>\n",
       "    <tr>\n",
       "      <th>0</th>\n",
       "      <td>1</td>\n",
       "      <td>32.0</td>\n",
       "      <td>0</td>\n",
       "      <td>3</td>\n",
       "      <td>9.0</td>\n",
       "      <td>3</td>\n",
       "      <td>1</td>\n",
       "      <td>2</td>\n",
       "      <td>5.0</td>\n",
       "      <td>1</td>\n",
       "      <td>3.0</td>\n",
       "      <td>1</td>\n",
       "      <td>1.0</td>\n",
       "      <td>0</td>\n",
       "      <td>2</td>\n",
       "      <td>0</td>\n",
       "      <td>1.0</td>\n",
       "      <td>2</td>\n",
       "      <td>19668.0</td>\n",
       "    </tr>\n",
       "    <tr>\n",
       "      <th>1</th>\n",
       "      <td>2</td>\n",
       "      <td>46.0</td>\n",
       "      <td>1</td>\n",
       "      <td>2</td>\n",
       "      <td>11.0</td>\n",
       "      <td>3</td>\n",
       "      <td>1</td>\n",
       "      <td>3</td>\n",
       "      <td>4.0</td>\n",
       "      <td>1</td>\n",
       "      <td>4.0</td>\n",
       "      <td>1</td>\n",
       "      <td>1.0</td>\n",
       "      <td>1</td>\n",
       "      <td>5</td>\n",
       "      <td>0</td>\n",
       "      <td>1.0</td>\n",
       "      <td>2</td>\n",
       "      <td>20021.0</td>\n",
       "    </tr>\n",
       "    <tr>\n",
       "      <th>2</th>\n",
       "      <td>3</td>\n",
       "      <td>37.0</td>\n",
       "      <td>1</td>\n",
       "      <td>3</td>\n",
       "      <td>22.0</td>\n",
       "      <td>3</td>\n",
       "      <td>1</td>\n",
       "      <td>3</td>\n",
       "      <td>4.0</td>\n",
       "      <td>1</td>\n",
       "      <td>3.0</td>\n",
       "      <td>1</td>\n",
       "      <td>5.0</td>\n",
       "      <td>0</td>\n",
       "      <td>5</td>\n",
       "      <td>1</td>\n",
       "      <td>0.0</td>\n",
       "      <td>2</td>\n",
       "      <td>21334.0</td>\n",
       "    </tr>\n",
       "    <tr>\n",
       "      <th>3</th>\n",
       "      <td>4</td>\n",
       "      <td>43.0</td>\n",
       "      <td>1</td>\n",
       "      <td>1</td>\n",
       "      <td>36.0</td>\n",
       "      <td>3</td>\n",
       "      <td>1</td>\n",
       "      <td>3</td>\n",
       "      <td>6.0</td>\n",
       "      <td>1</td>\n",
       "      <td>3.0</td>\n",
       "      <td>3</td>\n",
       "      <td>6.0</td>\n",
       "      <td>0</td>\n",
       "      <td>3</td>\n",
       "      <td>1</td>\n",
       "      <td>2.0</td>\n",
       "      <td>2</td>\n",
       "      <td>22950.0</td>\n",
       "    </tr>\n",
       "    <tr>\n",
       "      <th>4</th>\n",
       "      <td>5</td>\n",
       "      <td>25.0</td>\n",
       "      <td>1</td>\n",
       "      <td>3</td>\n",
       "      <td>7.0</td>\n",
       "      <td>1</td>\n",
       "      <td>0</td>\n",
       "      <td>4</td>\n",
       "      <td>4.0</td>\n",
       "      <td>0</td>\n",
       "      <td>4.0</td>\n",
       "      <td>3</td>\n",
       "      <td>3.0</td>\n",
       "      <td>1</td>\n",
       "      <td>4</td>\n",
       "      <td>1</td>\n",
       "      <td>3.0</td>\n",
       "      <td>1</td>\n",
       "      <td>21880.0</td>\n",
       "    </tr>\n",
       "    <tr>\n",
       "      <th>...</th>\n",
       "      <td>...</td>\n",
       "      <td>...</td>\n",
       "      <td>...</td>\n",
       "      <td>...</td>\n",
       "      <td>...</td>\n",
       "      <td>...</td>\n",
       "      <td>...</td>\n",
       "      <td>...</td>\n",
       "      <td>...</td>\n",
       "      <td>...</td>\n",
       "      <td>...</td>\n",
       "      <td>...</td>\n",
       "      <td>...</td>\n",
       "      <td>...</td>\n",
       "      <td>...</td>\n",
       "      <td>...</td>\n",
       "      <td>...</td>\n",
       "      <td>...</td>\n",
       "      <td>...</td>\n",
       "    </tr>\n",
       "    <tr>\n",
       "      <th>2928</th>\n",
       "      <td>2929</td>\n",
       "      <td>54.0</td>\n",
       "      <td>1</td>\n",
       "      <td>1</td>\n",
       "      <td>6.0</td>\n",
       "      <td>3</td>\n",
       "      <td>0</td>\n",
       "      <td>2</td>\n",
       "      <td>3.0</td>\n",
       "      <td>4</td>\n",
       "      <td>3.0</td>\n",
       "      <td>2</td>\n",
       "      <td>7.0</td>\n",
       "      <td>0</td>\n",
       "      <td>4</td>\n",
       "      <td>1</td>\n",
       "      <td>1.0</td>\n",
       "      <td>0</td>\n",
       "      <td>32328.0</td>\n",
       "    </tr>\n",
       "    <tr>\n",
       "      <th>2929</th>\n",
       "      <td>2930</td>\n",
       "      <td>33.0</td>\n",
       "      <td>1</td>\n",
       "      <td>1</td>\n",
       "      <td>9.0</td>\n",
       "      <td>3</td>\n",
       "      <td>0</td>\n",
       "      <td>4</td>\n",
       "      <td>2.0</td>\n",
       "      <td>1</td>\n",
       "      <td>3.0</td>\n",
       "      <td>3</td>\n",
       "      <td>2.0</td>\n",
       "      <td>0</td>\n",
       "      <td>3</td>\n",
       "      <td>0</td>\n",
       "      <td>1.0</td>\n",
       "      <td>2</td>\n",
       "      <td>23733.0</td>\n",
       "    </tr>\n",
       "    <tr>\n",
       "      <th>2930</th>\n",
       "      <td>2931</td>\n",
       "      <td>33.0</td>\n",
       "      <td>0</td>\n",
       "      <td>1</td>\n",
       "      <td>31.0</td>\n",
       "      <td>2</td>\n",
       "      <td>1</td>\n",
       "      <td>4</td>\n",
       "      <td>4.0</td>\n",
       "      <td>1</td>\n",
       "      <td>3.0</td>\n",
       "      <td>0</td>\n",
       "      <td>3.0</td>\n",
       "      <td>0</td>\n",
       "      <td>4</td>\n",
       "      <td>1</td>\n",
       "      <td>1.0</td>\n",
       "      <td>2</td>\n",
       "      <td>23987.0</td>\n",
       "    </tr>\n",
       "    <tr>\n",
       "      <th>2931</th>\n",
       "      <td>2932</td>\n",
       "      <td>26.0</td>\n",
       "      <td>1</td>\n",
       "      <td>1</td>\n",
       "      <td>9.0</td>\n",
       "      <td>3</td>\n",
       "      <td>1</td>\n",
       "      <td>4</td>\n",
       "      <td>2.0</td>\n",
       "      <td>0</td>\n",
       "      <td>5.0</td>\n",
       "      <td>3</td>\n",
       "      <td>2.0</td>\n",
       "      <td>0</td>\n",
       "      <td>2</td>\n",
       "      <td>1</td>\n",
       "      <td>3.0</td>\n",
       "      <td>1</td>\n",
       "      <td>22102.0</td>\n",
       "    </tr>\n",
       "    <tr>\n",
       "      <th>2932</th>\n",
       "      <td>2933</td>\n",
       "      <td>31.0</td>\n",
       "      <td>1</td>\n",
       "      <td>1</td>\n",
       "      <td>9.0</td>\n",
       "      <td>2</td>\n",
       "      <td>1</td>\n",
       "      <td>3</td>\n",
       "      <td>5.0</td>\n",
       "      <td>1</td>\n",
       "      <td>3.0</td>\n",
       "      <td>0</td>\n",
       "      <td>3.0</td>\n",
       "      <td>0</td>\n",
       "      <td>4</td>\n",
       "      <td>1</td>\n",
       "      <td>1.0</td>\n",
       "      <td>2</td>\n",
       "      <td>22830.0</td>\n",
       "    </tr>\n",
       "  </tbody>\n",
       "</table>\n",
       "<p>2933 rows × 19 columns</p>\n",
       "</div>"
      ],
      "text/plain": [
       "        id   Age  TypeofContact  CityTier  DurationOfPitch  Occupation  \\\n",
       "0        1  32.0              0         3              9.0           3   \n",
       "1        2  46.0              1         2             11.0           3   \n",
       "2        3  37.0              1         3             22.0           3   \n",
       "3        4  43.0              1         1             36.0           3   \n",
       "4        5  25.0              1         3              7.0           1   \n",
       "...    ...   ...            ...       ...              ...         ...   \n",
       "2928  2929  54.0              1         1              6.0           3   \n",
       "2929  2930  33.0              1         1              9.0           3   \n",
       "2930  2931  33.0              0         1             31.0           2   \n",
       "2931  2932  26.0              1         1              9.0           3   \n",
       "2932  2933  31.0              1         1              9.0           2   \n",
       "\n",
       "      Gender  NumberOfPersonVisiting  NumberOfFollowups  ProductPitched  \\\n",
       "0          1                       2                5.0               1   \n",
       "1          1                       3                4.0               1   \n",
       "2          1                       3                4.0               1   \n",
       "3          1                       3                6.0               1   \n",
       "4          0                       4                4.0               0   \n",
       "...      ...                     ...                ...             ...   \n",
       "2928       0                       2                3.0               4   \n",
       "2929       0                       4                2.0               1   \n",
       "2930       1                       4                4.0               1   \n",
       "2931       1                       4                2.0               0   \n",
       "2932       1                       3                5.0               1   \n",
       "\n",
       "      PreferredPropertyStar  MaritalStatus  NumberOfTrips  Passport  \\\n",
       "0                       3.0              1            1.0         0   \n",
       "1                       4.0              1            1.0         1   \n",
       "2                       3.0              1            5.0         0   \n",
       "3                       3.0              3            6.0         0   \n",
       "4                       4.0              3            3.0         1   \n",
       "...                     ...            ...            ...       ...   \n",
       "2928                    3.0              2            7.0         0   \n",
       "2929                    3.0              3            2.0         0   \n",
       "2930                    3.0              0            3.0         0   \n",
       "2931                    5.0              3            2.0         0   \n",
       "2932                    3.0              0            3.0         0   \n",
       "\n",
       "      PitchSatisfactionScore  OwnCar  NumberOfChildrenVisiting  Designation  \\\n",
       "0                          2       0                       1.0            2   \n",
       "1                          5       0                       1.0            2   \n",
       "2                          5       1                       0.0            2   \n",
       "3                          3       1                       2.0            2   \n",
       "4                          4       1                       3.0            1   \n",
       "...                      ...     ...                       ...          ...   \n",
       "2928                       4       1                       1.0            0   \n",
       "2929                       3       0                       1.0            2   \n",
       "2930                       4       1                       1.0            2   \n",
       "2931                       2       1                       3.0            1   \n",
       "2932                       4       1                       1.0            2   \n",
       "\n",
       "      MonthlyIncome  \n",
       "0           19668.0  \n",
       "1           20021.0  \n",
       "2           21334.0  \n",
       "3           22950.0  \n",
       "4           21880.0  \n",
       "...             ...  \n",
       "2928        32328.0  \n",
       "2929        23733.0  \n",
       "2930        23987.0  \n",
       "2931        22102.0  \n",
       "2932        22830.0  \n",
       "\n",
       "[2933 rows x 19 columns]"
      ]
     },
     "execution_count": 35,
     "metadata": {},
     "output_type": "execute_result"
    }
   ],
   "source": [
    "# 라벨 인코더\n",
    "## knn임퓨터는 수치형 자료에만 적용 가능 >> 문자형 변수 숫자로 변환\n",
    "\n",
    "from sklearn.preprocessing import LabelEncoder\n",
    "\n",
    "for col in ob:\n",
    "    encoder = LabelEncoder()  # 라벨 인코더\n",
    "    encoder.fit(train_na[col])  # 학습데이터로 학습\n",
    "    test_na[col] = encoder.transform(test_na[col]) # 테스트 데이터 문자형 변수 숫자로 변환\n",
    "    \n",
    "test_na"
   ]
  },
  {
   "cell_type": "markdown",
   "id": "2dc2edb6",
   "metadata": {},
   "source": [
    "### 2. Modeling"
   ]
  },
  {
   "cell_type": "code",
   "execution_count": null,
   "id": "1381bfed",
   "metadata": {},
   "outputs": [],
   "source": [
    "* 모델 별 성능 비교\n",
    "* 하이퍼파라미터 조정"
   ]
  },
  {
   "cell_type": "code",
   "execution_count": null,
   "id": "b622c144",
   "metadata": {},
   "outputs": [],
   "source": [
    "Naives Bayes\n",
    "XGBClassifier"
   ]
  },
  {
   "cell_type": "markdown",
   "id": "72f12f83",
   "metadata": {},
   "source": [
    "### Naives Bayes"
   ]
  },
  {
   "cell_type": "markdown",
   "id": "d15822cc",
   "metadata": {},
   "source": [
    "* BernoulliNB : class가 2개일 때 사용\n",
    "* MultinomialNB : class가 3개 이상일 때 사용\n",
    "* GaussianNB : 나이브 베이즈의 변형 중 하나인 가우시안 나이브 베이즈 모델을 적용"
   ]
  },
  {
   "cell_type": "code",
   "execution_count": 54,
   "id": "78e93a04",
   "metadata": {},
   "outputs": [],
   "source": [
    "from sklearn.datasets import load_iris\n",
    "from sklearn.model_selection import train_test_split\n",
    "from sklearn.naive_bayes import BernoulliNB"
   ]
  },
  {
   "cell_type": "code",
   "execution_count": 75,
   "id": "fded8680",
   "metadata": {},
   "outputs": [],
   "source": [
    "# id 제외\n",
    "train = train_na.drop(columns=['id'])\n",
    "test = test_na.drop(columns=['id'])\n",
    "\n",
    "# 분석 목적: prodTake 여행상품 예측\n",
    "x_train = train.drop(columns=['ProdTaken'])\n",
    "y_train = train[['ProdTaken']]"
   ]
  },
  {
   "cell_type": "code",
   "execution_count": 76,
   "id": "fa659a60",
   "metadata": {},
   "outputs": [],
   "source": [
    "# 전체 데이터셋을 학습용 80%, 테스트용 20%로 분할\n",
    "X_train, X_test, Y_train, Y_test = train_test_split(x_train, y_train, test_size=0.2, random_state=156)"
   ]
  },
  {
   "cell_type": "code",
   "execution_count": 77,
   "id": "ca1d1994",
   "metadata": {},
   "outputs": [
    {
     "name": "stderr",
     "output_type": "stream",
     "text": [
      "C:\\Users\\abab6\\anaconda3\\lib\\site-packages\\sklearn\\utils\\validation.py:1111: DataConversionWarning: A column-vector y was passed when a 1d array was expected. Please change the shape of y to (n_samples, ), for example using ravel().\n",
      "  y = column_or_1d(y, warn=True)\n"
     ]
    },
    {
     "data": {
      "text/html": [
       "<style>#sk-container-id-2 {color: black;background-color: white;}#sk-container-id-2 pre{padding: 0;}#sk-container-id-2 div.sk-toggleable {background-color: white;}#sk-container-id-2 label.sk-toggleable__label {cursor: pointer;display: block;width: 100%;margin-bottom: 0;padding: 0.3em;box-sizing: border-box;text-align: center;}#sk-container-id-2 label.sk-toggleable__label-arrow:before {content: \"▸\";float: left;margin-right: 0.25em;color: #696969;}#sk-container-id-2 label.sk-toggleable__label-arrow:hover:before {color: black;}#sk-container-id-2 div.sk-estimator:hover label.sk-toggleable__label-arrow:before {color: black;}#sk-container-id-2 div.sk-toggleable__content {max-height: 0;max-width: 0;overflow: hidden;text-align: left;background-color: #f0f8ff;}#sk-container-id-2 div.sk-toggleable__content pre {margin: 0.2em;color: black;border-radius: 0.25em;background-color: #f0f8ff;}#sk-container-id-2 input.sk-toggleable__control:checked~div.sk-toggleable__content {max-height: 200px;max-width: 100%;overflow: auto;}#sk-container-id-2 input.sk-toggleable__control:checked~label.sk-toggleable__label-arrow:before {content: \"▾\";}#sk-container-id-2 div.sk-estimator input.sk-toggleable__control:checked~label.sk-toggleable__label {background-color: #d4ebff;}#sk-container-id-2 div.sk-label input.sk-toggleable__control:checked~label.sk-toggleable__label {background-color: #d4ebff;}#sk-container-id-2 input.sk-hidden--visually {border: 0;clip: rect(1px 1px 1px 1px);clip: rect(1px, 1px, 1px, 1px);height: 1px;margin: -1px;overflow: hidden;padding: 0;position: absolute;width: 1px;}#sk-container-id-2 div.sk-estimator {font-family: monospace;background-color: #f0f8ff;border: 1px dotted black;border-radius: 0.25em;box-sizing: border-box;margin-bottom: 0.5em;}#sk-container-id-2 div.sk-estimator:hover {background-color: #d4ebff;}#sk-container-id-2 div.sk-parallel-item::after {content: \"\";width: 100%;border-bottom: 1px solid gray;flex-grow: 1;}#sk-container-id-2 div.sk-label:hover label.sk-toggleable__label {background-color: #d4ebff;}#sk-container-id-2 div.sk-serial::before {content: \"\";position: absolute;border-left: 1px solid gray;box-sizing: border-box;top: 0;bottom: 0;left: 50%;z-index: 0;}#sk-container-id-2 div.sk-serial {display: flex;flex-direction: column;align-items: center;background-color: white;padding-right: 0.2em;padding-left: 0.2em;position: relative;}#sk-container-id-2 div.sk-item {position: relative;z-index: 1;}#sk-container-id-2 div.sk-parallel {display: flex;align-items: stretch;justify-content: center;background-color: white;position: relative;}#sk-container-id-2 div.sk-item::before, #sk-container-id-2 div.sk-parallel-item::before {content: \"\";position: absolute;border-left: 1px solid gray;box-sizing: border-box;top: 0;bottom: 0;left: 50%;z-index: -1;}#sk-container-id-2 div.sk-parallel-item {display: flex;flex-direction: column;z-index: 1;position: relative;background-color: white;}#sk-container-id-2 div.sk-parallel-item:first-child::after {align-self: flex-end;width: 50%;}#sk-container-id-2 div.sk-parallel-item:last-child::after {align-self: flex-start;width: 50%;}#sk-container-id-2 div.sk-parallel-item:only-child::after {width: 0;}#sk-container-id-2 div.sk-dashed-wrapped {border: 1px dashed gray;margin: 0 0.4em 0.5em 0.4em;box-sizing: border-box;padding-bottom: 0.4em;background-color: white;}#sk-container-id-2 div.sk-label label {font-family: monospace;font-weight: bold;display: inline-block;line-height: 1.2em;}#sk-container-id-2 div.sk-label-container {text-align: center;}#sk-container-id-2 div.sk-container {/* jupyter's `normalize.less` sets `[hidden] { display: none; }` but bootstrap.min.css set `[hidden] { display: none !important; }` so we also need the `!important` here to be able to override the default hidden behavior on the sphinx rendered scikit-learn.org. See: https://github.com/scikit-learn/scikit-learn/issues/21755 */display: inline-block !important;position: relative;}#sk-container-id-2 div.sk-text-repr-fallback {display: none;}</style><div id=\"sk-container-id-2\" class=\"sk-top-container\"><div class=\"sk-text-repr-fallback\"><pre>BernoulliNB()</pre><b>In a Jupyter environment, please rerun this cell to show the HTML representation or trust the notebook. <br />On GitHub, the HTML representation is unable to render, please try loading this page with nbviewer.org.</b></div><div class=\"sk-container\" hidden><div class=\"sk-item\"><div class=\"sk-estimator sk-toggleable\"><input class=\"sk-toggleable__control sk-hidden--visually\" id=\"sk-estimator-id-2\" type=\"checkbox\" checked><label for=\"sk-estimator-id-2\" class=\"sk-toggleable__label sk-toggleable__label-arrow\">BernoulliNB</label><div class=\"sk-toggleable__content\"><pre>BernoulliNB()</pre></div></div></div></div></div>"
      ],
      "text/plain": [
       "BernoulliNB()"
      ]
     },
     "execution_count": 77,
     "metadata": {},
     "output_type": "execute_result"
    }
   ],
   "source": [
    "nb = BernoulliNB()\n",
    "nb.fit(X_train,Y_train)"
   ]
  },
  {
   "cell_type": "code",
   "execution_count": 81,
   "id": "b3f2406a",
   "metadata": {},
   "outputs": [
    {
     "name": "stderr",
     "output_type": "stream",
     "text": [
      "C:\\Users\\abab6\\anaconda3\\lib\\site-packages\\sklearn\\utils\\validation.py:1111: DataConversionWarning: A column-vector y was passed when a 1d array was expected. Please change the shape of y to (n_samples, ), for example using ravel().\n",
      "  y = column_or_1d(y, warn=True)\n"
     ]
    }
   ],
   "source": [
    "y_pred = nb.fit(X_train, Y_train).predict(X_test)"
   ]
  },
  {
   "cell_type": "code",
   "execution_count": 82,
   "id": "2b253304",
   "metadata": {},
   "outputs": [
    {
     "name": "stdout",
     "output_type": "stream",
     "text": [
      "정확도: 0.8542199488491049\n"
     ]
    }
   ],
   "source": [
    "# 모델 성능평가\n",
    "\n",
    "from sklearn.metrics import accuracy_score, confusion_matrix\n",
    "\n",
    "print('정확도:', accuracy_score(Y_test, y_pred))"
   ]
  },
  {
   "cell_type": "markdown",
   "id": "1059514d",
   "metadata": {},
   "source": [
    "### XGBClassifier"
   ]
  },
  {
   "cell_type": "markdown",
   "id": "ff8fa00b",
   "metadata": {},
   "source": [
    "* XGB Classifier: 앙상블의 부스팅 기법의 한 종류,\n",
    "    이전 모델의 오류를 순차적으로 보완해나가는 방식"
   ]
  },
  {
   "cell_type": "markdown",
   "id": "3d1894dd",
   "metadata": {},
   "source": [
    "* XGBoost의 주요장점\n",
    "</br>(1) 뛰어난 예측 성능\n",
    "</br>(2) GBM 대비 빠른 수행 시간\n",
    "</br>(3) 과적합 규제(Overfitting Regularization)\n",
    "</br>(4) Tree pruning(트리 가지치기) : 긍정 이득이 없는 분할을 가지치기해서 분할 수를 줄임\n",
    "</br>(5) 자체 내장된 교차 검증\n",
    "\n",
    "</br>반복 수행시마다 내부적으로 교차검증을 수행해 최적회된 반복 수행횟수를 가질 수 있음\n",
    "</br>지정된 반복횟수가 아니라 교차검증을 통해 평가 데이트세트의 평가 값이 최적화되면 반복을 중간에 멈출 수 있는 기능이 있음\n",
    "\n",
    "\n",
    "</br>XGBoost는 독자적인 XGBoost 모듈과 사이킷런 프레임워크 기반의 모듈이 존재합니다.\n",
    "</br>독자적인 모듈은 고유의 API와 하이퍼파라미터를 사용하지만, 사이킷런 기반 모듈에서는 다른 Estimator와 동일한 사용법을 가지고 있습니다."
   ]
  },
  {
   "cell_type": "code",
   "execution_count": 46,
   "id": "eaf0a9d1",
   "metadata": {},
   "outputs": [],
   "source": [
    "from xgboost import XGBClassifier\n",
    "from xgboost import plot_importance\n",
    "from sklearn.model_selection import cross_val_score\n",
    "from sklearn.metrics import confusion_matrix, precision_score, recall_score, f1_score, accuracy_score, roc_auc_score"
   ]
  },
  {
   "cell_type": "code",
   "execution_count": 37,
   "id": "85e0665c",
   "metadata": {},
   "outputs": [
    {
     "name": "stdout",
     "output_type": "stream",
     "text": [
      "Collecting xgboostNote: you may need to restart the kernel to use updated packages.\n",
      "  Downloading xgboost-1.6.2-py3-none-win_amd64.whl (125.4 MB)\n",
      "Requirement already satisfied: numpy in c:\\users\\abab6\\anaconda3\\lib\\site-packages (from xgboost) (1.20.3)\n",
      "Requirement already satisfied: scipy in c:\\users\\abab6\\anaconda3\\lib\\site-packages (from xgboost) (1.7.1)\n",
      "Installing collected packages: xgboost\n",
      "Successfully installed xgboost-1.6.2\n",
      "\n"
     ]
    }
   ],
   "source": [
    "pip install xgboost"
   ]
  },
  {
   "cell_type": "code",
   "execution_count": 64,
   "id": "a5848609",
   "metadata": {},
   "outputs": [],
   "source": [
    "# id 제외\n",
    "train = train_na.drop(columns=['id'])\n",
    "test = test_na.drop(columns=['id'])\n",
    "\n",
    "# 분석 목적: prodTake 여행상품 예측\n",
    "x_train = train.drop(columns=['ProdTaken'])\n",
    "y_train = train[['ProdTaken']]"
   ]
  },
  {
   "cell_type": "code",
   "execution_count": 65,
   "id": "392bcef9",
   "metadata": {},
   "outputs": [],
   "source": [
    "# 전체 데이터셋을 학습용 80%, 테스트용 20%로 분할\n",
    "X_train, X_test, Y_train, Y_test = train_test_split(x_train, y_train, test_size=0.2, random_state=156)"
   ]
  },
  {
   "cell_type": "code",
   "execution_count": 66,
   "id": "0da548c7",
   "metadata": {},
   "outputs": [
    {
     "name": "stderr",
     "output_type": "stream",
     "text": [
      "C:\\Users\\abab6\\anaconda3\\lib\\site-packages\\xgboost\\sklearn.py:793: UserWarning: `eval_metric` in `fit` method is deprecated for better compatibility with scikit-learn, use `eval_metric` in constructor or`set_params` instead.\n",
      "  warnings.warn(\n"
     ]
    }
   ],
   "source": [
    "#모델 정의\n",
    "clf = XGBClassifier(learning_rate =0.1, \n",
    "                   n_estimators=1000,\n",
    "                   use_label_encoder=False,\n",
    "                   random_state=42)\n",
    "\n",
    "#learning_rate: 이전의 결과를 얼마나 반영할 것인가? 일반적으로 0.01~0.2\n",
    "#n_estimator: 나무 개수\n",
    "#use_label_encoder: 라벨 인코더 사용\n",
    "#random_state : seed값 고정\n",
    "\n",
    "clf.fit(X_train, Y_train, eval_metric='logloss')\n",
    "\n",
    "Y_pred= clf.predict(X_test)\n"
   ]
  },
  {
   "cell_type": "code",
   "execution_count": 72,
   "id": "ecb78902",
   "metadata": {},
   "outputs": [],
   "source": [
    "# get_clf_eval function 생성\n",
    "# confusion, accuracy, precision, recall, f1, roc_auc 나타냄\n",
    "\n",
    "def get_clf_eval(y_test, pred):\n",
    "    confusion = confusion_matrix(y_test, pred)\n",
    "    accuracy = accuracy_score(y_test, pred)\n",
    "    precision = precision_score(y_test, pred)\n",
    "    recall = recall_score(y_test, pred)\n",
    "    print('Confusion Matrix')\n",
    "    print(confusion)\n",
    "    print('정확도:{}, 정밀도:{}, 재현율:{}'.format(accuracy, precision, recall))"
   ]
  },
  {
   "cell_type": "code",
   "execution_count": 73,
   "id": "cdebf794",
   "metadata": {},
   "outputs": [
    {
     "name": "stdout",
     "output_type": "stream",
     "text": [
      "Confusion Matrix\n",
      "[[304  14]\n",
      " [ 30  43]]\n",
      "정확도:0.887468030690537, 정밀도:0.7543859649122807, 재현율:0.589041095890411\n"
     ]
    }
   ],
   "source": [
    "# 예측 결과 확인\n",
    "get_clf_eval(Y_test, Y_pred)"
   ]
  },
  {
   "cell_type": "code",
   "execution_count": 47,
   "id": "5c573633",
   "metadata": {},
   "outputs": [
    {
     "data": {
      "text/plain": [
       "<AxesSubplot:title={'center':'Feature importance'}, xlabel='F score', ylabel='Features'>"
      ]
     },
     "execution_count": 47,
     "metadata": {},
     "output_type": "execute_result"
    },
    {
     "data": {
      "image/png": "[encoded data removed]",
      "text/plain": [
       "<Figure size 720x864 with 1 Axes>"
      ]
     },
     "metadata": {
      "needs_background": "light"
     },
     "output_type": "display_data"
    }
   ],
   "source": [
    "# 특성 중요도\n",
    "fig, ax = plt.subplots(figsize=(10,12))\n",
    "plot_importance(clf, ax=ax)"
   ]
  },
  {
   "cell_type": "code",
   "execution_count": null,
   "id": "1413ef64",
   "metadata": {},
   "outputs": [],
   "source": [
    "# 매개변수 (파라미터) 조정"
   ]
  },
  {
   "attachments": {
    "image.png": {
     "image/png": "[encoded data removed]"
    }
   },
   "cell_type": "markdown",
   "id": "7e6097e8",
   "metadata": {},
   "source": [
    "![image.png](attachment:image.png)"
   ]
  },
  {
   "attachments": {
    "image.png": {
     "image/png": "[encoded data removed]"
    }
   },
   "cell_type": "markdown",
   "id": "9cd17f18",
   "metadata": {},
   "source": [
    "![image.png](attachment:image.png)"
   ]
  },
  {
   "cell_type": "code",
   "execution_count": 86,
   "id": "75887764",
   "metadata": {},
   "outputs": [
    {
     "name": "stdout",
     "output_type": "stream",
     "text": [
      "[0]\tvalidation_0-logloss:0.64501\n",
      "[100]\tvalidation_0-logloss:0.35209\n",
      "[200]\tvalidation_0-logloss:0.35794\n",
      "[214]\tvalidation_0-logloss:0.35853\n"
     ]
    }
   ],
   "source": [
    "from xgboost import XGBClassifier\n",
    "\n",
    "# eval set 지정\n",
    "evals = [(X_test, Y_test)] \n",
    "\n",
    "# XGBoost 모델 학습/예측 \n",
    "# 조기중단 수행 : early_stopping_rounds, eval_set, eval_metric 입력\n",
    "xgb_wrapper = XGBClassifier(n_estimators=400, learning_rate=0.1, max_depth=3)\n",
    "xgb_wrapper.fit(X_train , Y_train, early_stopping_rounds=100, eval_set=evals, \n",
    "                eval_metric=\"logloss\",  verbose=100)\n",
    "\n",
    "w_preds = xgb_wrapper.predict(X_test)\n",
    "w_pred_proba = xgb_wrapper.predict_proba(X_test)[:, 1]"
   ]
  },
  {
   "cell_type": "code",
   "execution_count": 87,
   "id": "9889d1f1",
   "metadata": {},
   "outputs": [
    {
     "name": "stdout",
     "output_type": "stream",
     "text": [
      "Confusion Matrix\n",
      "[[313   5]\n",
      " [ 45  28]]\n",
      "정확도:0.8721227621483376, 정밀도:0.8484848484848485, 재현율:0.3835616438356164\n"
     ]
    }
   ],
   "source": [
    "# 예측 결과 확인\n",
    "get_clf_eval(Y_test, w_preds)"
   ]
  },
  {
   "cell_type": "code",
   "execution_count": null,
   "id": "a178e254",
   "metadata": {},
   "outputs": [],
   "source": []
  },
  {
   "cell_type": "code",
   "execution_count": null,
   "id": "436087e2",
   "metadata": {},
   "outputs": [],
   "source": [
    "## 오류"
   ]
  },
  {
   "cell_type": "code",
   "execution_count": 74,
   "id": "25373f7e",
   "metadata": {},
   "outputs": [
    {
     "ename": "NameError",
     "evalue": "name 'C' is not defined",
     "output_type": "error",
     "traceback": [
      "\u001b[1;31m---------------------------------------------------------------------------\u001b[0m",
      "\u001b[1;31mNameError\u001b[0m                                 Traceback (most recent call last)",
      "\u001b[1;32m~\\AppData\\Local\\Temp/ipykernel_10940/337563766.py\u001b[0m in \u001b[0;36m<module>\u001b[1;34m\u001b[0m\n\u001b[0;32m      4\u001b[0m \u001b[1;33m\u001b[0m\u001b[0m\n\u001b[0;32m      5\u001b[0m \u001b[1;31m# 하이퍼파라미터의 후보 딕셔너리를 만든다.\u001b[0m\u001b[1;33m\u001b[0m\u001b[1;33m\u001b[0m\u001b[0m\n\u001b[1;32m----> 6\u001b[1;33m \u001b[0mparameters\u001b[0m \u001b[1;33m=\u001b[0m \u001b[0mdict\u001b[0m\u001b[1;33m(\u001b[0m\u001b[0mC\u001b[0m\u001b[1;33m=\u001b[0m\u001b[0mC\u001b[0m\u001b[1;33m,\u001b[0m \u001b[0mpenalty\u001b[0m\u001b[1;33m=\u001b[0m\u001b[0mpenalty\u001b[0m\u001b[1;33m)\u001b[0m\u001b[1;33m\u001b[0m\u001b[1;33m\u001b[0m\u001b[0m\n\u001b[0m\u001b[0;32m      7\u001b[0m \u001b[1;33m\u001b[0m\u001b[0m\n\u001b[0;32m      8\u001b[0m \u001b[0mGSLR\u001b[0m\u001b[1;33m=\u001b[0m\u001b[0mGridSearchCV\u001b[0m\u001b[1;33m(\u001b[0m\u001b[0mclf\u001b[0m\u001b[1;33m,\u001b[0m\u001b[0mparameters\u001b[0m\u001b[1;33m,\u001b[0m\u001b[0mcv\u001b[0m\u001b[1;33m=\u001b[0m\u001b[1;36m10\u001b[0m\u001b[1;33m,\u001b[0m\u001b[0mn_jobs\u001b[0m\u001b[1;33m=\u001b[0m\u001b[0mn_thread\u001b[0m\u001b[1;33m,\u001b[0m\u001b[0mscoring\u001b[0m\u001b[1;33m=\u001b[0m\u001b[1;34m\"accuracy\"\u001b[0m\u001b[1;33m)\u001b[0m\u001b[1;33m\u001b[0m\u001b[1;33m\u001b[0m\u001b[0m\n",
      "\u001b[1;31mNameError\u001b[0m: name 'C' is not defined"
     ]
    }
   ],
   "source": [
    "# 그리드 서치\n",
    "## 최상의 모델을 찾은 후 훈련 세트 전체를 사용해 최종 모델을 훈련\n",
    "from sklearn.model_selection import GridSearchCV \n",
    "\n",
    "# 하이퍼파라미터의 후보 딕셔너리를 만든다.\n",
    "parameters = dict(C=C, penalty=penalty)\n",
    "\n",
    "GSLR=GridSearchCV(clf,parameters,cv=10,n_jobs=n_thread,scoring=\"accuracy\")\n",
    "GSLR.fit(x_train, y_train)"
   ]
  },
  {
   "cell_type": "code",
   "execution_count": null,
   "id": "e2835b55",
   "metadata": {},
   "outputs": [],
   "source": [
    "# 최적의 파라미터 값 및 정확도 (Accuracy) 출력\n",
    "print('final params', GSLR.best_params_)   \n",
    "print('best score', GSLR.best_score_) "
   ]
  },
  {
   "cell_type": "code",
   "execution_count": null,
   "id": "2e5bf9f6",
   "metadata": {},
   "outputs": [],
   "source": [
    "predictions= clf.predict(test)"
   ]
  }
 ],
 "metadata": {
  "kernelspec": {
   "display_name": "Python 3 (ipykernel)",
   "language": "python",
   "name": "python3"
  },
  "language_info": {
   "codemirror_mode": {
    "name": "ipython",
    "version": 3
   },
   "file_extension": ".py",
   "mimetype": "text/x-python",
   "name": "python",
   "nbconvert_exporter": "python",
   "pygments_lexer": "ipython3",
   "version": "3.9.7"
  }
 },
 "nbformat": 4,
 "nbformat_minor": 5
}
